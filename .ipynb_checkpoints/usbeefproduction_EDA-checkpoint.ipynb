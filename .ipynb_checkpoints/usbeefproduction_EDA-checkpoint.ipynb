{
 "cells": [
  {
   "cell_type": "markdown",
   "metadata": {},
   "source": [
    "# 미국소고기가격\n",
    "## (1).데이터"
   ]
  },
  {
   "cell_type": "markdown",
   "metadata": {},
   "source": [
    "1. Dataset(usbeef) : 미국 소고기가격\n",
    "2. year : 2013~2018년\n",
    "3. month : 1~12월\n",
    "4. price :미국 소고기가격 "
   ]
  },
  {
   "cell_type": "code",
   "execution_count": 81,
   "metadata": {},
   "outputs": [],
   "source": [
    "import pandas as pd\n",
    "import seaborn as sns\n",
    "import os\n",
    "import matplotlib.pyplot as plt\n",
    "import numpy as np\n",
    "\n",
    "from matplotlib import font_manager, rc\n",
    "\n",
    "font_name = font_manager.FontProperties(fname=\"c:/Windows/Fonts/malgun.ttf\").get_name()\n",
    "rc('font', family=font_name)"
   ]
  },
  {
   "cell_type": "code",
   "execution_count": 51,
   "metadata": {},
   "outputs": [],
   "source": [
    "os.chdir(r\"C:\\Users\\a0105\\Desktop\\DSC\\ddd\\data\")"
   ]
  },
  {
   "cell_type": "code",
   "execution_count": 52,
   "metadata": {},
   "outputs": [],
   "source": [
    "usbeef= pd.read_csv(\"08. us_beef_production.csv\")"
   ]
  },
  {
   "cell_type": "code",
   "execution_count": 53,
   "metadata": {
    "scrolled": true
   },
   "outputs": [
    {
     "data": {
      "text/html": [
       "<div>\n",
       "<style scoped>\n",
       "    .dataframe tbody tr th:only-of-type {\n",
       "        vertical-align: middle;\n",
       "    }\n",
       "\n",
       "    .dataframe tbody tr th {\n",
       "        vertical-align: top;\n",
       "    }\n",
       "\n",
       "    .dataframe thead th {\n",
       "        text-align: right;\n",
       "    }\n",
       "</style>\n",
       "<table border=\"1\" class=\"dataframe\">\n",
       "  <thead>\n",
       "    <tr style=\"text-align: right;\">\n",
       "      <th></th>\n",
       "      <th>Unnamed: 0</th>\n",
       "      <th>연도</th>\n",
       "      <th>월</th>\n",
       "      <th>국가</th>\n",
       "      <th>상품</th>\n",
       "      <th>가격($만달러)</th>\n",
       "    </tr>\n",
       "  </thead>\n",
       "  <tbody>\n",
       "    <tr>\n",
       "      <th>0</th>\n",
       "      <td>0</td>\n",
       "      <td>2003</td>\n",
       "      <td>1</td>\n",
       "      <td>US TOTAL</td>\n",
       "      <td>BEEF</td>\n",
       "      <td>229100.0</td>\n",
       "    </tr>\n",
       "    <tr>\n",
       "      <th>1</th>\n",
       "      <td>1</td>\n",
       "      <td>2003</td>\n",
       "      <td>2</td>\n",
       "      <td>US TOTAL</td>\n",
       "      <td>BEEF</td>\n",
       "      <td>194200.0</td>\n",
       "    </tr>\n",
       "    <tr>\n",
       "      <th>2</th>\n",
       "      <td>2</td>\n",
       "      <td>2003</td>\n",
       "      <td>3</td>\n",
       "      <td>US TOTAL</td>\n",
       "      <td>BEEF</td>\n",
       "      <td>204800.0</td>\n",
       "    </tr>\n",
       "    <tr>\n",
       "      <th>3</th>\n",
       "      <td>3</td>\n",
       "      <td>2003</td>\n",
       "      <td>4</td>\n",
       "      <td>US TOTAL</td>\n",
       "      <td>BEEF</td>\n",
       "      <td>215100.0</td>\n",
       "    </tr>\n",
       "    <tr>\n",
       "      <th>4</th>\n",
       "      <td>4</td>\n",
       "      <td>2003</td>\n",
       "      <td>5</td>\n",
       "      <td>US TOTAL</td>\n",
       "      <td>BEEF</td>\n",
       "      <td>236000.0</td>\n",
       "    </tr>\n",
       "  </tbody>\n",
       "</table>\n",
       "</div>"
      ],
      "text/plain": [
       "   Unnamed: 0    연도  월        국가    상품  가격($만달러)\n",
       "0           0  2003  1  US TOTAL  BEEF  229100.0\n",
       "1           1  2003  2  US TOTAL  BEEF  194200.0\n",
       "2           2  2003  3  US TOTAL  BEEF  204800.0\n",
       "3           3  2003  4  US TOTAL  BEEF  215100.0\n",
       "4           4  2003  5  US TOTAL  BEEF  236000.0"
      ]
     },
     "execution_count": 53,
     "metadata": {},
     "output_type": "execute_result"
    }
   ],
   "source": [
    "usbeef.head(5)"
   ]
  },
  {
   "cell_type": "code",
   "execution_count": 54,
   "metadata": {},
   "outputs": [],
   "source": [
    "del usbeef[\"Unnamed: 0\"]"
   ]
  },
  {
   "cell_type": "code",
   "execution_count": 55,
   "metadata": {
    "scrolled": true
   },
   "outputs": [
    {
     "data": {
      "text/html": [
       "<div>\n",
       "<style scoped>\n",
       "    .dataframe tbody tr th:only-of-type {\n",
       "        vertical-align: middle;\n",
       "    }\n",
       "\n",
       "    .dataframe tbody tr th {\n",
       "        vertical-align: top;\n",
       "    }\n",
       "\n",
       "    .dataframe thead th {\n",
       "        text-align: right;\n",
       "    }\n",
       "</style>\n",
       "<table border=\"1\" class=\"dataframe\">\n",
       "  <thead>\n",
       "    <tr style=\"text-align: right;\">\n",
       "      <th></th>\n",
       "      <th>연도</th>\n",
       "      <th>월</th>\n",
       "      <th>국가</th>\n",
       "      <th>상품</th>\n",
       "      <th>가격($만달러)</th>\n",
       "    </tr>\n",
       "  </thead>\n",
       "  <tbody>\n",
       "    <tr>\n",
       "      <th>0</th>\n",
       "      <td>2003</td>\n",
       "      <td>1</td>\n",
       "      <td>US TOTAL</td>\n",
       "      <td>BEEF</td>\n",
       "      <td>229100.0</td>\n",
       "    </tr>\n",
       "    <tr>\n",
       "      <th>1</th>\n",
       "      <td>2003</td>\n",
       "      <td>2</td>\n",
       "      <td>US TOTAL</td>\n",
       "      <td>BEEF</td>\n",
       "      <td>194200.0</td>\n",
       "    </tr>\n",
       "    <tr>\n",
       "      <th>2</th>\n",
       "      <td>2003</td>\n",
       "      <td>3</td>\n",
       "      <td>US TOTAL</td>\n",
       "      <td>BEEF</td>\n",
       "      <td>204800.0</td>\n",
       "    </tr>\n",
       "    <tr>\n",
       "      <th>3</th>\n",
       "      <td>2003</td>\n",
       "      <td>4</td>\n",
       "      <td>US TOTAL</td>\n",
       "      <td>BEEF</td>\n",
       "      <td>215100.0</td>\n",
       "    </tr>\n",
       "    <tr>\n",
       "      <th>4</th>\n",
       "      <td>2003</td>\n",
       "      <td>5</td>\n",
       "      <td>US TOTAL</td>\n",
       "      <td>BEEF</td>\n",
       "      <td>236000.0</td>\n",
       "    </tr>\n",
       "  </tbody>\n",
       "</table>\n",
       "</div>"
      ],
      "text/plain": [
       "     연도  월        국가    상품  가격($만달러)\n",
       "0  2003  1  US TOTAL  BEEF  229100.0\n",
       "1  2003  2  US TOTAL  BEEF  194200.0\n",
       "2  2003  3  US TOTAL  BEEF  204800.0\n",
       "3  2003  4  US TOTAL  BEEF  215100.0\n",
       "4  2003  5  US TOTAL  BEEF  236000.0"
      ]
     },
     "execution_count": 55,
     "metadata": {},
     "output_type": "execute_result"
    }
   ],
   "source": [
    "usbeef.head(5)"
   ]
  },
  {
   "cell_type": "code",
   "execution_count": 56,
   "metadata": {},
   "outputs": [],
   "source": [
    "usbeef=usbeef.rename({\"연도\":\"year\",\"월\":\"month\",\"국가\":\"nation\",\"상품\":\"product\",\"가격($만달러)\":\"price\"},axis='columns')"
   ]
  },
  {
   "cell_type": "code",
   "execution_count": 57,
   "metadata": {},
   "outputs": [
    {
     "data": {
      "text/html": [
       "<div>\n",
       "<style scoped>\n",
       "    .dataframe tbody tr th:only-of-type {\n",
       "        vertical-align: middle;\n",
       "    }\n",
       "\n",
       "    .dataframe tbody tr th {\n",
       "        vertical-align: top;\n",
       "    }\n",
       "\n",
       "    .dataframe thead th {\n",
       "        text-align: right;\n",
       "    }\n",
       "</style>\n",
       "<table border=\"1\" class=\"dataframe\">\n",
       "  <thead>\n",
       "    <tr style=\"text-align: right;\">\n",
       "      <th></th>\n",
       "      <th>year</th>\n",
       "      <th>month</th>\n",
       "      <th>nation</th>\n",
       "      <th>product</th>\n",
       "      <th>price</th>\n",
       "    </tr>\n",
       "  </thead>\n",
       "  <tbody>\n",
       "    <tr>\n",
       "      <th>0</th>\n",
       "      <td>False</td>\n",
       "      <td>False</td>\n",
       "      <td>False</td>\n",
       "      <td>False</td>\n",
       "      <td>False</td>\n",
       "    </tr>\n",
       "    <tr>\n",
       "      <th>1</th>\n",
       "      <td>False</td>\n",
       "      <td>False</td>\n",
       "      <td>False</td>\n",
       "      <td>False</td>\n",
       "      <td>False</td>\n",
       "    </tr>\n",
       "    <tr>\n",
       "      <th>2</th>\n",
       "      <td>False</td>\n",
       "      <td>False</td>\n",
       "      <td>False</td>\n",
       "      <td>False</td>\n",
       "      <td>False</td>\n",
       "    </tr>\n",
       "    <tr>\n",
       "      <th>3</th>\n",
       "      <td>False</td>\n",
       "      <td>False</td>\n",
       "      <td>False</td>\n",
       "      <td>False</td>\n",
       "      <td>False</td>\n",
       "    </tr>\n",
       "    <tr>\n",
       "      <th>4</th>\n",
       "      <td>False</td>\n",
       "      <td>False</td>\n",
       "      <td>False</td>\n",
       "      <td>False</td>\n",
       "      <td>False</td>\n",
       "    </tr>\n",
       "    <tr>\n",
       "      <th>...</th>\n",
       "      <td>...</td>\n",
       "      <td>...</td>\n",
       "      <td>...</td>\n",
       "      <td>...</td>\n",
       "      <td>...</td>\n",
       "    </tr>\n",
       "    <tr>\n",
       "      <th>199</th>\n",
       "      <td>False</td>\n",
       "      <td>False</td>\n",
       "      <td>False</td>\n",
       "      <td>False</td>\n",
       "      <td>False</td>\n",
       "    </tr>\n",
       "    <tr>\n",
       "      <th>200</th>\n",
       "      <td>False</td>\n",
       "      <td>False</td>\n",
       "      <td>False</td>\n",
       "      <td>False</td>\n",
       "      <td>False</td>\n",
       "    </tr>\n",
       "    <tr>\n",
       "      <th>201</th>\n",
       "      <td>False</td>\n",
       "      <td>False</td>\n",
       "      <td>False</td>\n",
       "      <td>False</td>\n",
       "      <td>False</td>\n",
       "    </tr>\n",
       "    <tr>\n",
       "      <th>202</th>\n",
       "      <td>False</td>\n",
       "      <td>False</td>\n",
       "      <td>False</td>\n",
       "      <td>False</td>\n",
       "      <td>False</td>\n",
       "    </tr>\n",
       "    <tr>\n",
       "      <th>203</th>\n",
       "      <td>False</td>\n",
       "      <td>False</td>\n",
       "      <td>False</td>\n",
       "      <td>False</td>\n",
       "      <td>False</td>\n",
       "    </tr>\n",
       "  </tbody>\n",
       "</table>\n",
       "<p>204 rows × 5 columns</p>\n",
       "</div>"
      ],
      "text/plain": [
       "      year  month  nation  product  price\n",
       "0    False  False   False    False  False\n",
       "1    False  False   False    False  False\n",
       "2    False  False   False    False  False\n",
       "3    False  False   False    False  False\n",
       "4    False  False   False    False  False\n",
       "..     ...    ...     ...      ...    ...\n",
       "199  False  False   False    False  False\n",
       "200  False  False   False    False  False\n",
       "201  False  False   False    False  False\n",
       "202  False  False   False    False  False\n",
       "203  False  False   False    False  False\n",
       "\n",
       "[204 rows x 5 columns]"
      ]
     },
     "execution_count": 57,
     "metadata": {},
     "output_type": "execute_result"
    }
   ],
   "source": [
    "pd.isnull(usbeef)"
   ]
  },
  {
   "cell_type": "code",
   "execution_count": 58,
   "metadata": {},
   "outputs": [
    {
     "data": {
      "text/plain": [
       "year       0\n",
       "month      0\n",
       "nation     0\n",
       "product    0\n",
       "price      0\n",
       "dtype: int64"
      ]
     },
     "execution_count": 58,
     "metadata": {},
     "output_type": "execute_result"
    }
   ],
   "source": [
    "#결측치확인 \n",
    "usbeef.isnull().sum()"
   ]
  },
  {
   "cell_type": "code",
   "execution_count": 59,
   "metadata": {
    "scrolled": true
   },
   "outputs": [
    {
     "name": "stdout",
     "output_type": "stream",
     "text": [
      "<class 'pandas.core.frame.DataFrame'>\n",
      "RangeIndex: 204 entries, 0 to 203\n",
      "Data columns (total 5 columns):\n",
      " #   Column   Non-Null Count  Dtype  \n",
      "---  ------   --------------  -----  \n",
      " 0   year     204 non-null    int64  \n",
      " 1   month    204 non-null    int64  \n",
      " 2   nation   204 non-null    object \n",
      " 3   product  204 non-null    object \n",
      " 4   price    204 non-null    float64\n",
      "dtypes: float64(1), int64(2), object(2)\n",
      "memory usage: 8.1+ KB\n"
     ]
    }
   ],
   "source": [
    "usbeef.info()"
   ]
  },
  {
   "cell_type": "code",
   "execution_count": 60,
   "metadata": {
    "scrolled": true
   },
   "outputs": [
    {
     "data": {
      "text/html": [
       "<div>\n",
       "<style scoped>\n",
       "    .dataframe tbody tr th:only-of-type {\n",
       "        vertical-align: middle;\n",
       "    }\n",
       "\n",
       "    .dataframe tbody tr th {\n",
       "        vertical-align: top;\n",
       "    }\n",
       "\n",
       "    .dataframe thead th {\n",
       "        text-align: right;\n",
       "    }\n",
       "</style>\n",
       "<table border=\"1\" class=\"dataframe\">\n",
       "  <thead>\n",
       "    <tr style=\"text-align: right;\">\n",
       "      <th></th>\n",
       "      <th>year</th>\n",
       "      <th>month</th>\n",
       "      <th>nation</th>\n",
       "      <th>product</th>\n",
       "      <th>price</th>\n",
       "    </tr>\n",
       "  </thead>\n",
       "  <tbody>\n",
       "    <tr>\n",
       "      <th>120</th>\n",
       "      <td>2013</td>\n",
       "      <td>1</td>\n",
       "      <td>US TOTAL</td>\n",
       "      <td>BEEF</td>\n",
       "      <td>226130.0</td>\n",
       "    </tr>\n",
       "    <tr>\n",
       "      <th>121</th>\n",
       "      <td>2013</td>\n",
       "      <td>2</td>\n",
       "      <td>US TOTAL</td>\n",
       "      <td>BEEF</td>\n",
       "      <td>187340.0</td>\n",
       "    </tr>\n",
       "    <tr>\n",
       "      <th>122</th>\n",
       "      <td>2013</td>\n",
       "      <td>3</td>\n",
       "      <td>US TOTAL</td>\n",
       "      <td>BEEF</td>\n",
       "      <td>203980.0</td>\n",
       "    </tr>\n",
       "    <tr>\n",
       "      <th>123</th>\n",
       "      <td>2013</td>\n",
       "      <td>4</td>\n",
       "      <td>US TOTAL</td>\n",
       "      <td>BEEF</td>\n",
       "      <td>212860.0</td>\n",
       "    </tr>\n",
       "    <tr>\n",
       "      <th>124</th>\n",
       "      <td>2013</td>\n",
       "      <td>5</td>\n",
       "      <td>US TOTAL</td>\n",
       "      <td>BEEF</td>\n",
       "      <td>222760.0</td>\n",
       "    </tr>\n",
       "    <tr>\n",
       "      <th>...</th>\n",
       "      <td>...</td>\n",
       "      <td>...</td>\n",
       "      <td>...</td>\n",
       "      <td>...</td>\n",
       "      <td>...</td>\n",
       "    </tr>\n",
       "    <tr>\n",
       "      <th>187</th>\n",
       "      <td>2018</td>\n",
       "      <td>8</td>\n",
       "      <td>US TOTAL</td>\n",
       "      <td>BEEF</td>\n",
       "      <td>242960.0</td>\n",
       "    </tr>\n",
       "    <tr>\n",
       "      <th>188</th>\n",
       "      <td>2018</td>\n",
       "      <td>9</td>\n",
       "      <td>US TOTAL</td>\n",
       "      <td>BEEF</td>\n",
       "      <td>215750.0</td>\n",
       "    </tr>\n",
       "    <tr>\n",
       "      <th>189</th>\n",
       "      <td>2018</td>\n",
       "      <td>10</td>\n",
       "      <td>US TOTAL</td>\n",
       "      <td>BEEF</td>\n",
       "      <td>243060.0</td>\n",
       "    </tr>\n",
       "    <tr>\n",
       "      <th>190</th>\n",
       "      <td>2018</td>\n",
       "      <td>11</td>\n",
       "      <td>US TOTAL</td>\n",
       "      <td>BEEF</td>\n",
       "      <td>231510.0</td>\n",
       "    </tr>\n",
       "    <tr>\n",
       "      <th>191</th>\n",
       "      <td>2018</td>\n",
       "      <td>12</td>\n",
       "      <td>US TOTAL</td>\n",
       "      <td>BEEF</td>\n",
       "      <td>211600.0</td>\n",
       "    </tr>\n",
       "  </tbody>\n",
       "</table>\n",
       "<p>72 rows × 5 columns</p>\n",
       "</div>"
      ],
      "text/plain": [
       "     year  month    nation product     price\n",
       "120  2013      1  US TOTAL    BEEF  226130.0\n",
       "121  2013      2  US TOTAL    BEEF  187340.0\n",
       "122  2013      3  US TOTAL    BEEF  203980.0\n",
       "123  2013      4  US TOTAL    BEEF  212860.0\n",
       "124  2013      5  US TOTAL    BEEF  222760.0\n",
       "..    ...    ...       ...     ...       ...\n",
       "187  2018      8  US TOTAL    BEEF  242960.0\n",
       "188  2018      9  US TOTAL    BEEF  215750.0\n",
       "189  2018     10  US TOTAL    BEEF  243060.0\n",
       "190  2018     11  US TOTAL    BEEF  231510.0\n",
       "191  2018     12  US TOTAL    BEEF  211600.0\n",
       "\n",
       "[72 rows x 5 columns]"
      ]
     },
     "execution_count": 60,
     "metadata": {},
     "output_type": "execute_result"
    }
   ],
   "source": [
    "# 데이터 기간 설정 \n",
    "deldata=usbeef[usbeef['year']<2013].index\n",
    "usbeef = usbeef.drop(deldata)\n",
    "deldata2=usbeef[usbeef['year']>2018].index\n",
    "usbeef = usbeef.drop(deldata2)\n",
    "usbeef"
   ]
  },
  {
   "cell_type": "code",
   "execution_count": 61,
   "metadata": {
    "scrolled": true
   },
   "outputs": [
    {
     "data": {
      "image/png": "[encoded data removed]",
      "text/plain": [
       "<Figure size 460.8x403.2 with 1 Axes>"
      ]
     },
     "metadata": {},
     "output_type": "display_data"
    }
   ],
   "source": [
    "usbeef.boxplot(column=['price'],by=[\"year\"])\n",
    "plt.show()"
   ]
  },
  {
   "cell_type": "markdown",
   "metadata": {},
   "source": [
    "## 월별 미국 소의 가격 "
   ]
  },
  {
   "cell_type": "code",
   "execution_count": 12,
   "metadata": {
    "scrolled": false
   },
   "outputs": [
    {
     "data": {
      "image/png": "[encoded data removed]",
      "text/plain": [
       "<Figure size 432x288 with 1 Axes>"
      ]
     },
     "metadata": {
      "needs_background": "dark"
     },
     "output_type": "display_data"
    }
   ],
   "source": [
    "usbeef.boxplot(column=['price'],by=[\"month\"])\n",
    "plt.show()"
   ]
  },
  {
   "cell_type": "code",
   "execution_count": 13,
   "metadata": {},
   "outputs": [
    {
     "data": {
      "image/png": "[encoded data removed]",
      "text/plain": [
       "<Figure size 432x288 with 1 Axes>"
      ]
     },
     "metadata": {
      "needs_background": "dark"
     },
     "output_type": "display_data"
    }
   ],
   "source": [
    "plt.scatter(usbeef['month'],usbeef['price'],c=usbeef['year'])\n",
    "plt.legend(usbeef['year'])\n",
    "plt.show()"
   ]
  },
  {
   "cell_type": "markdown",
   "metadata": {},
   "source": [
    "## (2). 각 연도별 월 미국 소가격 변동 추이 "
   ]
  },
  {
   "cell_type": "code",
   "execution_count": 14,
   "metadata": {
    "scrolled": false
   },
   "outputs": [
    {
     "data": {
      "image/png": "[encoded data removed]",
      "text/plain": [
       "<Figure size 432x288 with 1 Axes>"
      ]
     },
     "metadata": {
      "needs_background": "dark"
     },
     "output_type": "display_data"
    }
   ],
   "source": [
    "usbeef2013 = usbeef[usbeef['year'].isin([2013])]\n",
    "plt.plot(usbeef2013['month'],usbeef2013['price'])\n",
    "plt.show()   \n"
   ]
  },
  {
   "cell_type": "code",
   "execution_count": 15,
   "metadata": {},
   "outputs": [
    {
     "data": {
      "image/png": "[encoded data removed]",
      "text/plain": [
       "<Figure size 432x288 with 1 Axes>"
      ]
     },
     "metadata": {
      "needs_background": "dark"
     },
     "output_type": "display_data"
    }
   ],
   "source": [
    "usbeef2014 = usbeef[usbeef['year'].isin([2014])]\n",
    "plt.plot(usbeef2014['month'],usbeef2014['price'])\n",
    "plt.show()   \n"
   ]
  },
  {
   "cell_type": "code",
   "execution_count": 16,
   "metadata": {},
   "outputs": [
    {
     "data": {
      "image/png": "[encoded data removed]",
      "text/plain": [
       "<Figure size 432x288 with 1 Axes>"
      ]
     },
     "metadata": {
      "needs_background": "dark"
     },
     "output_type": "display_data"
    }
   ],
   "source": [
    "usbeef2015 = usbeef[usbeef['year'].isin([2015])]\n",
    "plt.plot(usbeef2015['month'],usbeef2015['price'])\n",
    "plt.show()   \n"
   ]
  },
  {
   "cell_type": "code",
   "execution_count": 17,
   "metadata": {},
   "outputs": [
    {
     "data": {
      "image/png": "[encoded data removed]",
      "text/plain": [
       "<Figure size 432x288 with 1 Axes>"
      ]
     },
     "metadata": {
      "needs_background": "dark"
     },
     "output_type": "display_data"
    }
   ],
   "source": [
    "usbeef2016 = usbeef[usbeef['year'].isin([2016])]\n",
    "plt.plot(usbeef2016['month'],usbeef2016['price'])\n",
    "plt.show()   \n"
   ]
  },
  {
   "cell_type": "code",
   "execution_count": 18,
   "metadata": {},
   "outputs": [
    {
     "data": {
      "image/png": "[encoded data removed]",
      "text/plain": [
       "<Figure size 432x288 with 1 Axes>"
      ]
     },
     "metadata": {
      "needs_background": "dark"
     },
     "output_type": "display_data"
    }
   ],
   "source": [
    "usbeef2017 = usbeef[usbeef['year'].isin([2017])]\n",
    "plt.plot(usbeef2017['month'],usbeef2017['price'])\n",
    "plt.show()   \n"
   ]
  },
  {
   "cell_type": "code",
   "execution_count": 19,
   "metadata": {},
   "outputs": [
    {
     "data": {
      "image/png": "[encoded data removed]",
      "text/plain": [
       "<Figure size 432x288 with 1 Axes>"
      ]
     },
     "metadata": {
      "needs_background": "dark"
     },
     "output_type": "display_data"
    }
   ],
   "source": [
    "usbeef2018 = usbeef[usbeef['year'].isin([2018])]\n",
    "plt.plot(usbeef2018['month'],usbeef2018['price'])\n",
    "plt.show()   \n"
   ]
  },
  {
   "cell_type": "code",
   "execution_count": 20,
   "metadata": {},
   "outputs": [
    {
     "data": {
      "text/plain": [
       "Text(0.5, 1.0, 'montly price by year(2013~2018)')"
      ]
     },
     "execution_count": 20,
     "metadata": {},
     "output_type": "execute_result"
    },
    {
     "data": {
      "image/png": "[encoded data removed]",
      "text/plain": [
       "<Figure size 432x288 with 1 Axes>"
      ]
     },
     "metadata": {
      "needs_background": "dark"
     },
     "output_type": "display_data"
    }
   ],
   "source": [
    "plt.plot(usbeef2013['month'],usbeef2013['price'], color=\"blue\",linewidth=2.5, linestyle=\"-\",label='2013')\n",
    "plt.plot(usbeef2014['month'],usbeef2014['price'], color=\"red\",linewidth=2.5, linestyle=\"-\",label='2014')\n",
    "plt.plot(usbeef2015['month'],usbeef2015['price'], color=\"orange\",linewidth=2.5, linestyle=\"-\",label='2015')\n",
    "plt.plot(usbeef2016['month'],usbeef2016['price'], color=\"green\",linewidth=2.5, linestyle=\"-\",label='2016')\n",
    "plt.plot(usbeef2017['month'],usbeef2017['price'], color=\"pink\",linewidth=2.5, linestyle=\"-\",label='2017')\n",
    "plt.plot(usbeef2018['month'],usbeef2018['price'], color=\"yellow\",linewidth=2.5, linestyle=\"-\",label='2018')\n",
    "plt.legend(loc='best',ncol=2)\n",
    "plt.xlabel('month')\n",
    "plt.ylabel('price')\n",
    "plt.title(\"montly price by year(2013~2018)\")"
   ]
  },
  {
   "cell_type": "code",
   "execution_count": 21,
   "metadata": {},
   "outputs": [],
   "source": [
    "import pandas_profiling as pp"
   ]
  },
  {
   "cell_type": "code",
   "execution_count": 22,
   "metadata": {},
   "outputs": [
    {
     "data": {
      "application/vnd.jupyter.widget-view+json": {
       "model_id": "2624b72d3ac24c378644d4c0cc04c480",
       "version_major": 2,
       "version_minor": 0
      },
      "text/plain": [
       "HBox(children=(FloatProgress(value=0.0, description='variables', max=6.0, style=ProgressStyle(description_widt…"
      ]
     },
     "metadata": {},
     "output_type": "display_data"
    },
    {
     "name": "stdout",
     "output_type": "stream",
     "text": [
      "\n"
     ]
    },
    {
     "data": {
      "application/vnd.jupyter.widget-view+json": {
       "model_id": "b343b5a817bb4f279c8bec74a892be8c",
       "version_major": 2,
       "version_minor": 0
      },
      "text/plain": [
       "HBox(children=(FloatProgress(value=0.0, description='correlations', max=6.0, style=ProgressStyle(description_w…"
      ]
     },
     "metadata": {},
     "output_type": "display_data"
    },
    {
     "name": "stdout",
     "output_type": "stream",
     "text": [
      "\n"
     ]
    },
    {
     "data": {
      "application/vnd.jupyter.widget-view+json": {
       "model_id": "b7a7e928177f4ffe9228110eac44e529",
       "version_major": 2,
       "version_minor": 0
      },
      "text/plain": [
       "HBox(children=(FloatProgress(value=0.0, description='interactions [continuous]', max=16.0, style=ProgressStyle…"
      ]
     },
     "metadata": {},
     "output_type": "display_data"
    },
    {
     "name": "stdout",
     "output_type": "stream",
     "text": [
      "\n"
     ]
    },
    {
     "data": {
      "application/vnd.jupyter.widget-view+json": {
       "model_id": "52af1a354325470dac06556d8d75fa24",
       "version_major": 2,
       "version_minor": 0
      },
      "text/plain": [
       "HBox(children=(FloatProgress(value=0.0, description='table', max=1.0, style=ProgressStyle(description_width='i…"
      ]
     },
     "metadata": {},
     "output_type": "display_data"
    },
    {
     "name": "stdout",
     "output_type": "stream",
     "text": [
      "\n"
     ]
    },
    {
     "data": {
      "application/vnd.jupyter.widget-view+json": {
       "model_id": "014263c30bf7483491f3a4ff2ad215c8",
       "version_major": 2,
       "version_minor": 0
      },
      "text/plain": [
       "HBox(children=(FloatProgress(value=0.0, description='missing', max=2.0, style=ProgressStyle(description_width=…"
      ]
     },
     "metadata": {},
     "output_type": "display_data"
    },
    {
     "name": "stdout",
     "output_type": "stream",
     "text": [
      "\n"
     ]
    },
    {
     "data": {
      "application/vnd.jupyter.widget-view+json": {
       "model_id": "abd0cb4ab38f4cb495693f62739caed4",
       "version_major": 2,
       "version_minor": 0
      },
      "text/plain": [
       "HBox(children=(FloatProgress(value=0.0, description='warnings', max=3.0, style=ProgressStyle(description_width…"
      ]
     },
     "metadata": {},
     "output_type": "display_data"
    },
    {
     "name": "stdout",
     "output_type": "stream",
     "text": [
      "\n"
     ]
    },
    {
     "data": {
      "application/vnd.jupyter.widget-view+json": {
       "model_id": "e209d15e251240d49e49b012ebcbb059",
       "version_major": 2,
       "version_minor": 0
      },
      "text/plain": [
       "HBox(children=(FloatProgress(value=0.0, description='package', max=1.0, style=ProgressStyle(description_width=…"
      ]
     },
     "metadata": {},
     "output_type": "display_data"
    },
    {
     "name": "stdout",
     "output_type": "stream",
     "text": [
      "\n"
     ]
    },
    {
     "data": {
      "application/vnd.jupyter.widget-view+json": {
       "model_id": "b223b7982ab043589b749dc5c2b7b0c8",
       "version_major": 2,
       "version_minor": 0
      },
      "text/plain": [
       "HBox(children=(FloatProgress(value=0.0, description='build report structure', max=1.0, style=ProgressStyle(des…"
      ]
     },
     "metadata": {},
     "output_type": "display_data"
    },
    {
     "name": "stdout",
     "output_type": "stream",
     "text": [
      "\n"
     ]
    }
   ],
   "source": [
    "pr=usbeef.profile_report()"
   ]
  },
  {
   "cell_type": "code",
   "execution_count": 23,
   "metadata": {},
   "outputs": [],
   "source": [
    "pr.to_file('./pr_report.html')"
   ]
  },
  {
   "cell_type": "markdown",
   "metadata": {},
   "source": [
    "## (3).미국의 소가격과 현재 소가격의 관계비교"
   ]
  },
  {
   "cell_type": "code",
   "execution_count": 24,
   "metadata": {},
   "outputs": [],
   "source": [
    "import pandas as pd \n",
    "from pandas import DataFrame\n",
    "import numpy as np\n",
    "import matplotlib.pyplot as plt \n",
    "from jupyterthemes import jtplot\n",
    "jtplot.style(theme='onedork')\n",
    "%matplotlib inline "
   ]
  },
  {
   "cell_type": "code",
   "execution_count": 25,
   "metadata": {},
   "outputs": [],
   "source": [
    "auctionprice=pd.read_csv(\"C:/Users/jimin/Documents/Jimin/DSCSCH/proceeding_EDA/data/01. 축산물 실시간 경매시황중계정보.csv\",engine='python')"
   ]
  },
  {
   "cell_type": "code",
   "execution_count": 26,
   "metadata": {
    "scrolled": false
   },
   "outputs": [
    {
     "data": {
      "text/html": [
       "<div>\n",
       "<style scoped>\n",
       "    .dataframe tbody tr th:only-of-type {\n",
       "        vertical-align: middle;\n",
       "    }\n",
       "\n",
       "    .dataframe tbody tr th {\n",
       "        vertical-align: top;\n",
       "    }\n",
       "\n",
       "    .dataframe thead th {\n",
       "        text-align: right;\n",
       "    }\n",
       "</style>\n",
       "<table border=\"1\" class=\"dataframe\">\n",
       "  <thead>\n",
       "    <tr style=\"text-align: right;\">\n",
       "      <th></th>\n",
       "      <th>경매시간</th>\n",
       "      <th>경매기준시분초</th>\n",
       "      <th>경매 구분</th>\n",
       "      <th>경매 구분 명</th>\n",
       "      <th>도매시장코드</th>\n",
       "      <th>도매시장명</th>\n",
       "      <th>한우 평균경매 금액</th>\n",
       "      <th>한우 평균경매 금액_상승하강</th>\n",
       "      <th>한우 1B+ 경매단가</th>\n",
       "      <th>한우 3B 경매단가</th>\n",
       "      <th>...</th>\n",
       "      <th>육우 전날 경매금액 차이</th>\n",
       "      <th>육우 경매 예상 두수</th>\n",
       "      <th>육우 경매 두수</th>\n",
       "      <th>돼지 박피 경매 금액</th>\n",
       "      <th>돼지 박피 전날 경매금액 차이</th>\n",
       "      <th>돼지 박피 경매 두수</th>\n",
       "      <th>돼지 탕박 경매 금액</th>\n",
       "      <th>돼지 탕박 전날 경매금액 차이</th>\n",
       "      <th>돼지 탕박 경매 두수</th>\n",
       "      <th>돼지 경매 두수</th>\n",
       "    </tr>\n",
       "  </thead>\n",
       "  <tbody>\n",
       "    <tr>\n",
       "      <th>0</th>\n",
       "      <td>20181007</td>\n",
       "      <td>235916</td>\n",
       "      <td>753003</td>\n",
       "      <td>경매용+지육상장</td>\n",
       "      <td>1201</td>\n",
       "      <td>신흥산업</td>\n",
       "      <td>0</td>\n",
       "      <td>0</td>\n",
       "      <td>0</td>\n",
       "      <td>0</td>\n",
       "      <td>...</td>\n",
       "      <td>0</td>\n",
       "      <td>0</td>\n",
       "      <td>0</td>\n",
       "      <td>0</td>\n",
       "      <td>0</td>\n",
       "      <td>0</td>\n",
       "      <td>0</td>\n",
       "      <td>0</td>\n",
       "      <td>0</td>\n",
       "      <td>0</td>\n",
       "    </tr>\n",
       "    <tr>\n",
       "      <th>1</th>\n",
       "      <td>20181007</td>\n",
       "      <td>235916</td>\n",
       "      <td>753003</td>\n",
       "      <td>경매용+지육상장</td>\n",
       "      <td>905</td>\n",
       "      <td>농협고령</td>\n",
       "      <td>0</td>\n",
       "      <td>0</td>\n",
       "      <td>0</td>\n",
       "      <td>0</td>\n",
       "      <td>...</td>\n",
       "      <td>0</td>\n",
       "      <td>0</td>\n",
       "      <td>0</td>\n",
       "      <td>0</td>\n",
       "      <td>0</td>\n",
       "      <td>0</td>\n",
       "      <td>0</td>\n",
       "      <td>0</td>\n",
       "      <td>0</td>\n",
       "      <td>0</td>\n",
       "    </tr>\n",
       "    <tr>\n",
       "      <th>2</th>\n",
       "      <td>20181007</td>\n",
       "      <td>235916</td>\n",
       "      <td>753003</td>\n",
       "      <td>경매용+지육상장</td>\n",
       "      <td>1005</td>\n",
       "      <td>김해축공</td>\n",
       "      <td>0</td>\n",
       "      <td>0</td>\n",
       "      <td>0</td>\n",
       "      <td>0</td>\n",
       "      <td>...</td>\n",
       "      <td>0</td>\n",
       "      <td>0</td>\n",
       "      <td>0</td>\n",
       "      <td>0</td>\n",
       "      <td>0</td>\n",
       "      <td>0</td>\n",
       "      <td>0</td>\n",
       "      <td>0</td>\n",
       "      <td>0</td>\n",
       "      <td>0</td>\n",
       "    </tr>\n",
       "    <tr>\n",
       "      <th>3</th>\n",
       "      <td>20181007</td>\n",
       "      <td>235916</td>\n",
       "      <td>753003</td>\n",
       "      <td>경매용+지육상장</td>\n",
       "      <td>613</td>\n",
       "      <td>관성(홍성)</td>\n",
       "      <td>0</td>\n",
       "      <td>0</td>\n",
       "      <td>0</td>\n",
       "      <td>0</td>\n",
       "      <td>...</td>\n",
       "      <td>0</td>\n",
       "      <td>0</td>\n",
       "      <td>0</td>\n",
       "      <td>0</td>\n",
       "      <td>0</td>\n",
       "      <td>0</td>\n",
       "      <td>0</td>\n",
       "      <td>0</td>\n",
       "      <td>0</td>\n",
       "      <td>0</td>\n",
       "    </tr>\n",
       "    <tr>\n",
       "      <th>4</th>\n",
       "      <td>20181007</td>\n",
       "      <td>235916</td>\n",
       "      <td>753003</td>\n",
       "      <td>경매용+지육상장</td>\n",
       "      <td>513</td>\n",
       "      <td>농협음성</td>\n",
       "      <td>0</td>\n",
       "      <td>0</td>\n",
       "      <td>0</td>\n",
       "      <td>0</td>\n",
       "      <td>...</td>\n",
       "      <td>0</td>\n",
       "      <td>0</td>\n",
       "      <td>0</td>\n",
       "      <td>0</td>\n",
       "      <td>0</td>\n",
       "      <td>0</td>\n",
       "      <td>0</td>\n",
       "      <td>0</td>\n",
       "      <td>0</td>\n",
       "      <td>0</td>\n",
       "    </tr>\n",
       "  </tbody>\n",
       "</table>\n",
       "<p>5 rows × 23 columns</p>\n",
       "</div>"
      ],
      "text/plain": [
       "       경매시간  경매기준시분초   경매 구분   경매 구분 명 도매시장코드   도매시장명  한우 평균경매 금액  \\\n",
       "0  20181007   235916  753003  경매용+지육상장   1201    신흥산업           0   \n",
       "1  20181007   235916  753003  경매용+지육상장    905    농협고령           0   \n",
       "2  20181007   235916  753003  경매용+지육상장   1005    김해축공           0   \n",
       "3  20181007   235916  753003  경매용+지육상장    613  관성(홍성)           0   \n",
       "4  20181007   235916  753003  경매용+지육상장    513    농협음성           0   \n",
       "\n",
       "   한우 평균경매 금액_상승하강  한우 1B+ 경매단가  한우 3B 경매단가  ...  육우 전날 경매금액 차이  육우 경매 예상 두수  \\\n",
       "0                0            0           0  ...              0            0   \n",
       "1                0            0           0  ...              0            0   \n",
       "2                0            0           0  ...              0            0   \n",
       "3                0            0           0  ...              0            0   \n",
       "4                0            0           0  ...              0            0   \n",
       "\n",
       "   육우 경매 두수  돼지 박피 경매 금액  돼지 박피 전날 경매금액 차이  돼지 박피 경매 두수  돼지 탕박 경매 금액  \\\n",
       "0         0            0                 0            0            0   \n",
       "1         0            0                 0            0            0   \n",
       "2         0            0                 0            0            0   \n",
       "3         0            0                 0            0            0   \n",
       "4         0            0                 0            0            0   \n",
       "\n",
       "   돼지 탕박 전날 경매금액 차이  돼지 탕박 경매 두수  돼지 경매 두수  \n",
       "0                 0            0         0  \n",
       "1                 0            0         0  \n",
       "2                 0            0         0  \n",
       "3                 0            0         0  \n",
       "4                 0            0         0  \n",
       "\n",
       "[5 rows x 23 columns]"
      ]
     },
     "execution_count": 26,
     "metadata": {},
     "output_type": "execute_result"
    }
   ],
   "source": [
    "auctionprice.head(5)"
   ]
  },
  {
   "cell_type": "code",
   "execution_count": 27,
   "metadata": {},
   "outputs": [],
   "source": [
    "cowauction = auctionprice[['경매시간','경매 구분 명','도매시장명','한우 평균경매 금액']]"
   ]
  },
  {
   "cell_type": "code",
   "execution_count": 28,
   "metadata": {},
   "outputs": [
    {
     "data": {
      "text/html": [
       "<div>\n",
       "<style scoped>\n",
       "    .dataframe tbody tr th:only-of-type {\n",
       "        vertical-align: middle;\n",
       "    }\n",
       "\n",
       "    .dataframe tbody tr th {\n",
       "        vertical-align: top;\n",
       "    }\n",
       "\n",
       "    .dataframe thead th {\n",
       "        text-align: right;\n",
       "    }\n",
       "</style>\n",
       "<table border=\"1\" class=\"dataframe\">\n",
       "  <thead>\n",
       "    <tr style=\"text-align: right;\">\n",
       "      <th></th>\n",
       "      <th>경매시간</th>\n",
       "      <th>경매 구분 명</th>\n",
       "      <th>도매시장명</th>\n",
       "      <th>한우 평균경매 금액</th>\n",
       "    </tr>\n",
       "  </thead>\n",
       "  <tbody>\n",
       "    <tr>\n",
       "      <th>0</th>\n",
       "      <td>20181007</td>\n",
       "      <td>경매용+지육상장</td>\n",
       "      <td>신흥산업</td>\n",
       "      <td>0</td>\n",
       "    </tr>\n",
       "    <tr>\n",
       "      <th>1</th>\n",
       "      <td>20181007</td>\n",
       "      <td>경매용+지육상장</td>\n",
       "      <td>농협고령</td>\n",
       "      <td>0</td>\n",
       "    </tr>\n",
       "    <tr>\n",
       "      <th>2</th>\n",
       "      <td>20181007</td>\n",
       "      <td>경매용+지육상장</td>\n",
       "      <td>김해축공</td>\n",
       "      <td>0</td>\n",
       "    </tr>\n",
       "    <tr>\n",
       "      <th>3</th>\n",
       "      <td>20181007</td>\n",
       "      <td>경매용+지육상장</td>\n",
       "      <td>관성(홍성)</td>\n",
       "      <td>0</td>\n",
       "    </tr>\n",
       "    <tr>\n",
       "      <th>4</th>\n",
       "      <td>20181007</td>\n",
       "      <td>경매용+지육상장</td>\n",
       "      <td>농협음성</td>\n",
       "      <td>0</td>\n",
       "    </tr>\n",
       "  </tbody>\n",
       "</table>\n",
       "</div>"
      ],
      "text/plain": [
       "       경매시간   경매 구분 명   도매시장명  한우 평균경매 금액\n",
       "0  20181007  경매용+지육상장    신흥산업           0\n",
       "1  20181007  경매용+지육상장    농협고령           0\n",
       "2  20181007  경매용+지육상장    김해축공           0\n",
       "3  20181007  경매용+지육상장  관성(홍성)           0\n",
       "4  20181007  경매용+지육상장    농협음성           0"
      ]
     },
     "execution_count": 28,
     "metadata": {},
     "output_type": "execute_result"
    }
   ],
   "source": [
    "cowauction.head(5)"
   ]
  },
  {
   "cell_type": "code",
   "execution_count": 29,
   "metadata": {},
   "outputs": [],
   "source": [
    "cowauction=cowauction.rename({'경매시간':'date','경매 구분 명':'auctionSection','도매시장명':'marketName','한우 평균경매 금액':'averageCost'},axis='columns')"
   ]
  },
  {
   "cell_type": "code",
   "execution_count": 30,
   "metadata": {
    "scrolled": true
   },
   "outputs": [
    {
     "data": {
      "text/html": [
       "<div>\n",
       "<style scoped>\n",
       "    .dataframe tbody tr th:only-of-type {\n",
       "        vertical-align: middle;\n",
       "    }\n",
       "\n",
       "    .dataframe tbody tr th {\n",
       "        vertical-align: top;\n",
       "    }\n",
       "\n",
       "    .dataframe thead th {\n",
       "        text-align: right;\n",
       "    }\n",
       "</style>\n",
       "<table border=\"1\" class=\"dataframe\">\n",
       "  <thead>\n",
       "    <tr style=\"text-align: right;\">\n",
       "      <th></th>\n",
       "      <th>date</th>\n",
       "      <th>auctionSection</th>\n",
       "      <th>marketName</th>\n",
       "      <th>averageCost</th>\n",
       "    </tr>\n",
       "  </thead>\n",
       "  <tbody>\n",
       "    <tr>\n",
       "      <th>0</th>\n",
       "      <td>20181007</td>\n",
       "      <td>경매용+지육상장</td>\n",
       "      <td>신흥산업</td>\n",
       "      <td>0</td>\n",
       "    </tr>\n",
       "    <tr>\n",
       "      <th>1</th>\n",
       "      <td>20181007</td>\n",
       "      <td>경매용+지육상장</td>\n",
       "      <td>농협고령</td>\n",
       "      <td>0</td>\n",
       "    </tr>\n",
       "    <tr>\n",
       "      <th>2</th>\n",
       "      <td>20181007</td>\n",
       "      <td>경매용+지육상장</td>\n",
       "      <td>김해축공</td>\n",
       "      <td>0</td>\n",
       "    </tr>\n",
       "    <tr>\n",
       "      <th>3</th>\n",
       "      <td>20181007</td>\n",
       "      <td>경매용+지육상장</td>\n",
       "      <td>관성(홍성)</td>\n",
       "      <td>0</td>\n",
       "    </tr>\n",
       "    <tr>\n",
       "      <th>4</th>\n",
       "      <td>20181007</td>\n",
       "      <td>경매용+지육상장</td>\n",
       "      <td>농협음성</td>\n",
       "      <td>0</td>\n",
       "    </tr>\n",
       "  </tbody>\n",
       "</table>\n",
       "</div>"
      ],
      "text/plain": [
       "       date auctionSection marketName  averageCost\n",
       "0  20181007       경매용+지육상장       신흥산업            0\n",
       "1  20181007       경매용+지육상장       농협고령            0\n",
       "2  20181007       경매용+지육상장       김해축공            0\n",
       "3  20181007       경매용+지육상장     관성(홍성)            0\n",
       "4  20181007       경매용+지육상장       농협음성            0"
      ]
     },
     "execution_count": 30,
     "metadata": {},
     "output_type": "execute_result"
    }
   ],
   "source": [
    "cowauction.head(5)"
   ]
  },
  {
   "cell_type": "code",
   "execution_count": 31,
   "metadata": {
    "scrolled": true
   },
   "outputs": [
    {
     "name": "stdout",
     "output_type": "stream",
     "text": [
      "<class 'pandas.core.frame.DataFrame'>\n",
      "RangeIndex: 34957 entries, 0 to 34956\n",
      "Data columns (total 4 columns):\n",
      " #   Column          Non-Null Count  Dtype \n",
      "---  ------          --------------  ----- \n",
      " 0   date            34957 non-null  int64 \n",
      " 1   auctionSection  34957 non-null  object\n",
      " 2   marketName      34957 non-null  object\n",
      " 3   averageCost     34957 non-null  int64 \n",
      "dtypes: int64(2), object(2)\n",
      "memory usage: 1.1+ MB\n"
     ]
    }
   ],
   "source": [
    "cowauction.info()"
   ]
  },
  {
   "cell_type": "code",
   "execution_count": 32,
   "metadata": {},
   "outputs": [],
   "source": [
    "#marketName이 전국인 경우만 추출 \n",
    "subset1= cowauction['marketName']==\"전국\""
   ]
  },
  {
   "cell_type": "code",
   "execution_count": 33,
   "metadata": {
    "scrolled": true
   },
   "outputs": [
    {
     "data": {
      "text/html": [
       "<div>\n",
       "<style scoped>\n",
       "    .dataframe tbody tr th:only-of-type {\n",
       "        vertical-align: middle;\n",
       "    }\n",
       "\n",
       "    .dataframe tbody tr th {\n",
       "        vertical-align: top;\n",
       "    }\n",
       "\n",
       "    .dataframe thead th {\n",
       "        text-align: right;\n",
       "    }\n",
       "</style>\n",
       "<table border=\"1\" class=\"dataframe\">\n",
       "  <thead>\n",
       "    <tr style=\"text-align: right;\">\n",
       "      <th></th>\n",
       "      <th>date</th>\n",
       "      <th>auctionSection</th>\n",
       "      <th>marketName</th>\n",
       "      <th>averageCost</th>\n",
       "    </tr>\n",
       "  </thead>\n",
       "  <tbody>\n",
       "    <tr>\n",
       "      <th>9</th>\n",
       "      <td>20181007</td>\n",
       "      <td>경매용+지육상장</td>\n",
       "      <td>전국</td>\n",
       "      <td>0</td>\n",
       "    </tr>\n",
       "    <tr>\n",
       "      <th>27</th>\n",
       "      <td>20181003</td>\n",
       "      <td>경매용+지육상장</td>\n",
       "      <td>전국</td>\n",
       "      <td>0</td>\n",
       "    </tr>\n",
       "    <tr>\n",
       "      <th>36</th>\n",
       "      <td>20180929</td>\n",
       "      <td>경매용+지육상장</td>\n",
       "      <td>전국</td>\n",
       "      <td>0</td>\n",
       "    </tr>\n",
       "    <tr>\n",
       "      <th>45</th>\n",
       "      <td>20180925</td>\n",
       "      <td>경매용+지육상장</td>\n",
       "      <td>전국</td>\n",
       "      <td>0</td>\n",
       "    </tr>\n",
       "    <tr>\n",
       "      <th>61</th>\n",
       "      <td>20180921</td>\n",
       "      <td>경매용+지육상장</td>\n",
       "      <td>전국</td>\n",
       "      <td>16612</td>\n",
       "    </tr>\n",
       "    <tr>\n",
       "      <th>...</th>\n",
       "      <td>...</td>\n",
       "      <td>...</td>\n",
       "      <td>...</td>\n",
       "      <td>...</td>\n",
       "    </tr>\n",
       "    <tr>\n",
       "      <th>34882</th>\n",
       "      <td>20130102</td>\n",
       "      <td>지육상장용</td>\n",
       "      <td>전국</td>\n",
       "      <td>0</td>\n",
       "    </tr>\n",
       "    <tr>\n",
       "      <th>34896</th>\n",
       "      <td>20130102</td>\n",
       "      <td>경매용+지육상장</td>\n",
       "      <td>전국</td>\n",
       "      <td>13203</td>\n",
       "    </tr>\n",
       "    <tr>\n",
       "      <th>34918</th>\n",
       "      <td>20130101</td>\n",
       "      <td>경매용</td>\n",
       "      <td>전국</td>\n",
       "      <td>0</td>\n",
       "    </tr>\n",
       "    <tr>\n",
       "      <th>34932</th>\n",
       "      <td>20130101</td>\n",
       "      <td>지육상장용</td>\n",
       "      <td>전국</td>\n",
       "      <td>0</td>\n",
       "    </tr>\n",
       "    <tr>\n",
       "      <th>34946</th>\n",
       "      <td>20130101</td>\n",
       "      <td>경매용+지육상장</td>\n",
       "      <td>전국</td>\n",
       "      <td>0</td>\n",
       "    </tr>\n",
       "  </tbody>\n",
       "</table>\n",
       "<p>2490 rows × 4 columns</p>\n",
       "</div>"
      ],
      "text/plain": [
       "           date auctionSection marketName  averageCost\n",
       "9      20181007       경매용+지육상장         전국            0\n",
       "27     20181003       경매용+지육상장         전국            0\n",
       "36     20180929       경매용+지육상장         전국            0\n",
       "45     20180925       경매용+지육상장         전국            0\n",
       "61     20180921       경매용+지육상장         전국        16612\n",
       "...         ...            ...        ...          ...\n",
       "34882  20130102          지육상장용         전국            0\n",
       "34896  20130102       경매용+지육상장         전국        13203\n",
       "34918  20130101            경매용         전국            0\n",
       "34932  20130101          지육상장용         전국            0\n",
       "34946  20130101       경매용+지육상장         전국            0\n",
       "\n",
       "[2490 rows x 4 columns]"
      ]
     },
     "execution_count": 33,
     "metadata": {},
     "output_type": "execute_result"
    }
   ],
   "source": [
    "cowauction= cowauction[subset1]\n",
    "cowauction"
   ]
  },
  {
   "cell_type": "code",
   "execution_count": 34,
   "metadata": {
    "scrolled": true
   },
   "outputs": [
    {
     "data": {
      "text/html": [
       "<div>\n",
       "<style scoped>\n",
       "    .dataframe tbody tr th:only-of-type {\n",
       "        vertical-align: middle;\n",
       "    }\n",
       "\n",
       "    .dataframe tbody tr th {\n",
       "        vertical-align: top;\n",
       "    }\n",
       "\n",
       "    .dataframe thead th {\n",
       "        text-align: right;\n",
       "    }\n",
       "</style>\n",
       "<table border=\"1\" class=\"dataframe\">\n",
       "  <thead>\n",
       "    <tr style=\"text-align: right;\">\n",
       "      <th></th>\n",
       "      <th>date</th>\n",
       "      <th>auctionSection</th>\n",
       "      <th>marketName</th>\n",
       "      <th>averageCost</th>\n",
       "    </tr>\n",
       "  </thead>\n",
       "  <tbody>\n",
       "    <tr>\n",
       "      <th>9</th>\n",
       "      <td>20181007</td>\n",
       "      <td>경매용+지육상장</td>\n",
       "      <td>전국</td>\n",
       "      <td>0</td>\n",
       "    </tr>\n",
       "    <tr>\n",
       "      <th>27</th>\n",
       "      <td>20181003</td>\n",
       "      <td>경매용+지육상장</td>\n",
       "      <td>전국</td>\n",
       "      <td>0</td>\n",
       "    </tr>\n",
       "    <tr>\n",
       "      <th>36</th>\n",
       "      <td>20180929</td>\n",
       "      <td>경매용+지육상장</td>\n",
       "      <td>전국</td>\n",
       "      <td>0</td>\n",
       "    </tr>\n",
       "    <tr>\n",
       "      <th>45</th>\n",
       "      <td>20180925</td>\n",
       "      <td>경매용+지육상장</td>\n",
       "      <td>전국</td>\n",
       "      <td>0</td>\n",
       "    </tr>\n",
       "    <tr>\n",
       "      <th>61</th>\n",
       "      <td>20180921</td>\n",
       "      <td>경매용+지육상장</td>\n",
       "      <td>전국</td>\n",
       "      <td>16612</td>\n",
       "    </tr>\n",
       "    <tr>\n",
       "      <th>...</th>\n",
       "      <td>...</td>\n",
       "      <td>...</td>\n",
       "      <td>...</td>\n",
       "      <td>...</td>\n",
       "    </tr>\n",
       "    <tr>\n",
       "      <th>34763</th>\n",
       "      <td>20130105</td>\n",
       "      <td>경매용+지육상장</td>\n",
       "      <td>전국</td>\n",
       "      <td>0</td>\n",
       "    </tr>\n",
       "    <tr>\n",
       "      <th>34811</th>\n",
       "      <td>20130104</td>\n",
       "      <td>경매용+지육상장</td>\n",
       "      <td>전국</td>\n",
       "      <td>13945</td>\n",
       "    </tr>\n",
       "    <tr>\n",
       "      <th>34867</th>\n",
       "      <td>20130103</td>\n",
       "      <td>경매용+지육상장</td>\n",
       "      <td>전국</td>\n",
       "      <td>13743</td>\n",
       "    </tr>\n",
       "    <tr>\n",
       "      <th>34896</th>\n",
       "      <td>20130102</td>\n",
       "      <td>경매용+지육상장</td>\n",
       "      <td>전국</td>\n",
       "      <td>13203</td>\n",
       "    </tr>\n",
       "    <tr>\n",
       "      <th>34946</th>\n",
       "      <td>20130101</td>\n",
       "      <td>경매용+지육상장</td>\n",
       "      <td>전국</td>\n",
       "      <td>0</td>\n",
       "    </tr>\n",
       "  </tbody>\n",
       "</table>\n",
       "<p>1030 rows × 4 columns</p>\n",
       "</div>"
      ],
      "text/plain": [
       "           date auctionSection marketName  averageCost\n",
       "9      20181007       경매용+지육상장         전국            0\n",
       "27     20181003       경매용+지육상장         전국            0\n",
       "36     20180929       경매용+지육상장         전국            0\n",
       "45     20180925       경매용+지육상장         전국            0\n",
       "61     20180921       경매용+지육상장         전국        16612\n",
       "...         ...            ...        ...          ...\n",
       "34763  20130105       경매용+지육상장         전국            0\n",
       "34811  20130104       경매용+지육상장         전국        13945\n",
       "34867  20130103       경매용+지육상장         전국        13743\n",
       "34896  20130102       경매용+지육상장         전국        13203\n",
       "34946  20130101       경매용+지육상장         전국            0\n",
       "\n",
       "[1030 rows x 4 columns]"
      ]
     },
     "execution_count": 34,
     "metadata": {},
     "output_type": "execute_result"
    }
   ],
   "source": [
    "subset2=cowauction['auctionSection']=='경매용+지육상장' #경매용+지육상장인 경우만\n",
    "\n",
    "cowauction = cowauction[subset2] \n",
    "cowauction"
   ]
  },
  {
   "cell_type": "code",
   "execution_count": 35,
   "metadata": {},
   "outputs": [
    {
     "data": {
      "text/html": [
       "<div>\n",
       "<style scoped>\n",
       "    .dataframe tbody tr th:only-of-type {\n",
       "        vertical-align: middle;\n",
       "    }\n",
       "\n",
       "    .dataframe tbody tr th {\n",
       "        vertical-align: top;\n",
       "    }\n",
       "\n",
       "    .dataframe thead th {\n",
       "        text-align: right;\n",
       "    }\n",
       "</style>\n",
       "<table border=\"1\" class=\"dataframe\">\n",
       "  <thead>\n",
       "    <tr style=\"text-align: right;\">\n",
       "      <th></th>\n",
       "      <th>date</th>\n",
       "      <th>auctionSection</th>\n",
       "      <th>marketName</th>\n",
       "      <th>averageCost</th>\n",
       "    </tr>\n",
       "  </thead>\n",
       "  <tbody>\n",
       "    <tr>\n",
       "      <th>61</th>\n",
       "      <td>20180921</td>\n",
       "      <td>경매용+지육상장</td>\n",
       "      <td>전국</td>\n",
       "      <td>16612</td>\n",
       "    </tr>\n",
       "    <tr>\n",
       "      <th>85</th>\n",
       "      <td>20180917</td>\n",
       "      <td>경매용+지육상장</td>\n",
       "      <td>전국</td>\n",
       "      <td>17965</td>\n",
       "    </tr>\n",
       "    <tr>\n",
       "      <th>90</th>\n",
       "      <td>20180913</td>\n",
       "      <td>경매용+지육상장</td>\n",
       "      <td>전국</td>\n",
       "      <td>18757</td>\n",
       "    </tr>\n",
       "    <tr>\n",
       "      <th>121</th>\n",
       "      <td>20180905</td>\n",
       "      <td>경매용+지육상장</td>\n",
       "      <td>전국</td>\n",
       "      <td>18369</td>\n",
       "    </tr>\n",
       "    <tr>\n",
       "      <th>136</th>\n",
       "      <td>20180901</td>\n",
       "      <td>경매용+지육상장</td>\n",
       "      <td>전국</td>\n",
       "      <td>17108</td>\n",
       "    </tr>\n",
       "    <tr>\n",
       "      <th>...</th>\n",
       "      <td>...</td>\n",
       "      <td>...</td>\n",
       "      <td>...</td>\n",
       "      <td>...</td>\n",
       "    </tr>\n",
       "    <tr>\n",
       "      <th>34634</th>\n",
       "      <td>20130108</td>\n",
       "      <td>경매용+지육상장</td>\n",
       "      <td>전국</td>\n",
       "      <td>14040</td>\n",
       "    </tr>\n",
       "    <tr>\n",
       "      <th>34666</th>\n",
       "      <td>20130107</td>\n",
       "      <td>경매용+지육상장</td>\n",
       "      <td>전국</td>\n",
       "      <td>13470</td>\n",
       "    </tr>\n",
       "    <tr>\n",
       "      <th>34811</th>\n",
       "      <td>20130104</td>\n",
       "      <td>경매용+지육상장</td>\n",
       "      <td>전국</td>\n",
       "      <td>13945</td>\n",
       "    </tr>\n",
       "    <tr>\n",
       "      <th>34867</th>\n",
       "      <td>20130103</td>\n",
       "      <td>경매용+지육상장</td>\n",
       "      <td>전국</td>\n",
       "      <td>13743</td>\n",
       "    </tr>\n",
       "    <tr>\n",
       "      <th>34896</th>\n",
       "      <td>20130102</td>\n",
       "      <td>경매용+지육상장</td>\n",
       "      <td>전국</td>\n",
       "      <td>13203</td>\n",
       "    </tr>\n",
       "  </tbody>\n",
       "</table>\n",
       "<p>720 rows × 4 columns</p>\n",
       "</div>"
      ],
      "text/plain": [
       "           date auctionSection marketName  averageCost\n",
       "61     20180921       경매용+지육상장         전국        16612\n",
       "85     20180917       경매용+지육상장         전국        17965\n",
       "90     20180913       경매용+지육상장         전국        18757\n",
       "121    20180905       경매용+지육상장         전국        18369\n",
       "136    20180901       경매용+지육상장         전국        17108\n",
       "...         ...            ...        ...          ...\n",
       "34634  20130108       경매용+지육상장         전국        14040\n",
       "34666  20130107       경매용+지육상장         전국        13470\n",
       "34811  20130104       경매용+지육상장         전국        13945\n",
       "34867  20130103       경매용+지육상장         전국        13743\n",
       "34896  20130102       경매용+지육상장         전국        13203\n",
       "\n",
       "[720 rows x 4 columns]"
      ]
     },
     "execution_count": 35,
     "metadata": {},
     "output_type": "execute_result"
    }
   ],
   "source": [
    "cowauction = cowauction[cowauction['averageCost']!=0]\n",
    "cowauction"
   ]
  },
  {
   "cell_type": "code",
   "execution_count": 36,
   "metadata": {},
   "outputs": [
    {
     "name": "stdout",
     "output_type": "stream",
     "text": [
      "<class 'pandas.core.frame.DataFrame'>\n",
      "Int64Index: 720 entries, 61 to 34896\n",
      "Data columns (total 4 columns):\n",
      " #   Column          Non-Null Count  Dtype \n",
      "---  ------          --------------  ----- \n",
      " 0   date            720 non-null    int64 \n",
      " 1   auctionSection  720 non-null    object\n",
      " 2   marketName      720 non-null    object\n",
      " 3   averageCost     720 non-null    int64 \n",
      "dtypes: int64(2), object(2)\n",
      "memory usage: 28.1+ KB\n"
     ]
    }
   ],
   "source": [
    "cowauction.info()"
   ]
  },
  {
   "cell_type": "code",
   "execution_count": 37,
   "metadata": {
    "scrolled": true
   },
   "outputs": [
    {
     "data": {
      "text/html": [
       "<div>\n",
       "<style scoped>\n",
       "    .dataframe tbody tr th:only-of-type {\n",
       "        vertical-align: middle;\n",
       "    }\n",
       "\n",
       "    .dataframe tbody tr th {\n",
       "        vertical-align: top;\n",
       "    }\n",
       "\n",
       "    .dataframe thead th {\n",
       "        text-align: right;\n",
       "    }\n",
       "</style>\n",
       "<table border=\"1\" class=\"dataframe\">\n",
       "  <thead>\n",
       "    <tr style=\"text-align: right;\">\n",
       "      <th></th>\n",
       "      <th>date</th>\n",
       "      <th>auctionSection</th>\n",
       "      <th>marketName</th>\n",
       "      <th>averageCost</th>\n",
       "    </tr>\n",
       "  </thead>\n",
       "  <tbody>\n",
       "    <tr>\n",
       "      <th>61</th>\n",
       "      <td>20180921</td>\n",
       "      <td>경매용+지육상장</td>\n",
       "      <td>전국</td>\n",
       "      <td>16612</td>\n",
       "    </tr>\n",
       "    <tr>\n",
       "      <th>85</th>\n",
       "      <td>20180917</td>\n",
       "      <td>경매용+지육상장</td>\n",
       "      <td>전국</td>\n",
       "      <td>17965</td>\n",
       "    </tr>\n",
       "    <tr>\n",
       "      <th>90</th>\n",
       "      <td>20180913</td>\n",
       "      <td>경매용+지육상장</td>\n",
       "      <td>전국</td>\n",
       "      <td>18757</td>\n",
       "    </tr>\n",
       "    <tr>\n",
       "      <th>121</th>\n",
       "      <td>20180905</td>\n",
       "      <td>경매용+지육상장</td>\n",
       "      <td>전국</td>\n",
       "      <td>18369</td>\n",
       "    </tr>\n",
       "    <tr>\n",
       "      <th>136</th>\n",
       "      <td>20180901</td>\n",
       "      <td>경매용+지육상장</td>\n",
       "      <td>전국</td>\n",
       "      <td>17108</td>\n",
       "    </tr>\n",
       "  </tbody>\n",
       "</table>\n",
       "</div>"
      ],
      "text/plain": [
       "         date auctionSection marketName  averageCost\n",
       "61   20180921       경매용+지육상장         전국        16612\n",
       "85   20180917       경매용+지육상장         전국        17965\n",
       "90   20180913       경매용+지육상장         전국        18757\n",
       "121  20180905       경매용+지육상장         전국        18369\n",
       "136  20180901       경매용+지육상장         전국        17108"
      ]
     },
     "execution_count": 37,
     "metadata": {},
     "output_type": "execute_result"
    }
   ],
   "source": [
    "#date칼럼에서 연월 데이터가 필요해 새로 date만 따로 뽑아 dataframe 생성 \n",
    "cowauction['date'] = cowauction['date'].astype(str)\n",
    "cowauction.head(5)"
   ]
  },
  {
   "cell_type": "code",
   "execution_count": 38,
   "metadata": {
    "scrolled": true
   },
   "outputs": [
    {
     "name": "stdout",
     "output_type": "stream",
     "text": [
      "<class 'pandas.core.frame.DataFrame'>\n",
      "Int64Index: 720 entries, 61 to 34896\n",
      "Data columns (total 4 columns):\n",
      " #   Column          Non-Null Count  Dtype \n",
      "---  ------          --------------  ----- \n",
      " 0   date            720 non-null    object\n",
      " 1   auctionSection  720 non-null    object\n",
      " 2   marketName      720 non-null    object\n",
      " 3   averageCost     720 non-null    int64 \n",
      "dtypes: int64(1), object(3)\n",
      "memory usage: 28.1+ KB\n"
     ]
    }
   ],
   "source": [
    "cowauction.info()"
   ]
  },
  {
   "cell_type": "code",
   "execution_count": 39,
   "metadata": {
    "scrolled": true
   },
   "outputs": [
    {
     "data": {
      "text/html": [
       "<div>\n",
       "<style scoped>\n",
       "    .dataframe tbody tr th:only-of-type {\n",
       "        vertical-align: middle;\n",
       "    }\n",
       "\n",
       "    .dataframe tbody tr th {\n",
       "        vertical-align: top;\n",
       "    }\n",
       "\n",
       "    .dataframe thead th {\n",
       "        text-align: right;\n",
       "    }\n",
       "</style>\n",
       "<table border=\"1\" class=\"dataframe\">\n",
       "  <thead>\n",
       "    <tr style=\"text-align: right;\">\n",
       "      <th></th>\n",
       "      <th>date</th>\n",
       "    </tr>\n",
       "  </thead>\n",
       "  <tbody>\n",
       "    <tr>\n",
       "      <th>61</th>\n",
       "      <td>20180921</td>\n",
       "    </tr>\n",
       "    <tr>\n",
       "      <th>85</th>\n",
       "      <td>20180917</td>\n",
       "    </tr>\n",
       "    <tr>\n",
       "      <th>90</th>\n",
       "      <td>20180913</td>\n",
       "    </tr>\n",
       "    <tr>\n",
       "      <th>121</th>\n",
       "      <td>20180905</td>\n",
       "    </tr>\n",
       "    <tr>\n",
       "      <th>136</th>\n",
       "      <td>20180901</td>\n",
       "    </tr>\n",
       "    <tr>\n",
       "      <th>...</th>\n",
       "      <td>...</td>\n",
       "    </tr>\n",
       "    <tr>\n",
       "      <th>34634</th>\n",
       "      <td>20130108</td>\n",
       "    </tr>\n",
       "    <tr>\n",
       "      <th>34666</th>\n",
       "      <td>20130107</td>\n",
       "    </tr>\n",
       "    <tr>\n",
       "      <th>34811</th>\n",
       "      <td>20130104</td>\n",
       "    </tr>\n",
       "    <tr>\n",
       "      <th>34867</th>\n",
       "      <td>20130103</td>\n",
       "    </tr>\n",
       "    <tr>\n",
       "      <th>34896</th>\n",
       "      <td>20130102</td>\n",
       "    </tr>\n",
       "  </tbody>\n",
       "</table>\n",
       "<p>720 rows × 1 columns</p>\n",
       "</div>"
      ],
      "text/plain": [
       "           date\n",
       "61     20180921\n",
       "85     20180917\n",
       "90     20180913\n",
       "121    20180905\n",
       "136    20180901\n",
       "...         ...\n",
       "34634  20130108\n",
       "34666  20130107\n",
       "34811  20130104\n",
       "34867  20130103\n",
       "34896  20130102\n",
       "\n",
       "[720 rows x 1 columns]"
      ]
     },
     "execution_count": 39,
     "metadata": {},
     "output_type": "execute_result"
    }
   ],
   "source": [
    "yearmonthdate=pd.DataFrame(cowauction.loc[:,'date'])\n",
    "yearmonthdate"
   ]
  },
  {
   "cell_type": "code",
   "execution_count": 40,
   "metadata": {},
   "outputs": [
    {
     "name": "stdout",
     "output_type": "stream",
     "text": [
      "<class 'pandas.core.frame.DataFrame'>\n",
      "RangeIndex: 720 entries, 0 to 719\n",
      "Data columns (total 1 columns):\n",
      " #   Column  Non-Null Count  Dtype \n",
      "---  ------  --------------  ----- \n",
      " 0   date    720 non-null    object\n",
      "dtypes: object(1)\n",
      "memory usage: 5.8+ KB\n"
     ]
    }
   ],
   "source": [
    "yearmonthdate['date'].astype(int)\n",
    "yearmonthdate=yearmonthdate.reset_index()\n",
    "del yearmonthdate['index']\n",
    "\n",
    "yearmonthdate.info()"
   ]
  },
  {
   "cell_type": "code",
   "execution_count": 41,
   "metadata": {},
   "outputs": [
    {
     "data": {
      "text/html": [
       "<div>\n",
       "<style scoped>\n",
       "    .dataframe tbody tr th:only-of-type {\n",
       "        vertical-align: middle;\n",
       "    }\n",
       "\n",
       "    .dataframe tbody tr th {\n",
       "        vertical-align: top;\n",
       "    }\n",
       "\n",
       "    .dataframe thead th {\n",
       "        text-align: right;\n",
       "    }\n",
       "</style>\n",
       "<table border=\"1\" class=\"dataframe\">\n",
       "  <thead>\n",
       "    <tr style=\"text-align: right;\">\n",
       "      <th></th>\n",
       "      <th>year</th>\n",
       "    </tr>\n",
       "  </thead>\n",
       "  <tbody>\n",
       "    <tr>\n",
       "      <th>0</th>\n",
       "      <td>2018</td>\n",
       "    </tr>\n",
       "    <tr>\n",
       "      <th>1</th>\n",
       "      <td>2018</td>\n",
       "    </tr>\n",
       "    <tr>\n",
       "      <th>2</th>\n",
       "      <td>2018</td>\n",
       "    </tr>\n",
       "    <tr>\n",
       "      <th>3</th>\n",
       "      <td>2018</td>\n",
       "    </tr>\n",
       "    <tr>\n",
       "      <th>4</th>\n",
       "      <td>2018</td>\n",
       "    </tr>\n",
       "    <tr>\n",
       "      <th>...</th>\n",
       "      <td>...</td>\n",
       "    </tr>\n",
       "    <tr>\n",
       "      <th>715</th>\n",
       "      <td>2013</td>\n",
       "    </tr>\n",
       "    <tr>\n",
       "      <th>716</th>\n",
       "      <td>2013</td>\n",
       "    </tr>\n",
       "    <tr>\n",
       "      <th>717</th>\n",
       "      <td>2013</td>\n",
       "    </tr>\n",
       "    <tr>\n",
       "      <th>718</th>\n",
       "      <td>2013</td>\n",
       "    </tr>\n",
       "    <tr>\n",
       "      <th>719</th>\n",
       "      <td>2013</td>\n",
       "    </tr>\n",
       "  </tbody>\n",
       "</table>\n",
       "<p>720 rows × 1 columns</p>\n",
       "</div>"
      ],
      "text/plain": [
       "     year\n",
       "0    2018\n",
       "1    2018\n",
       "2    2018\n",
       "3    2018\n",
       "4    2018\n",
       "..    ...\n",
       "715  2013\n",
       "716  2013\n",
       "717  2013\n",
       "718  2013\n",
       "719  2013\n",
       "\n",
       "[720 rows x 1 columns]"
      ]
     },
     "execution_count": 41,
     "metadata": {},
     "output_type": "execute_result"
    }
   ],
   "source": [
    "#빈 데이터 프레임에 year 칼럼 넣기 \n",
    "year = pd.DataFrame(columns=['year'])\n",
    "for i in range(0,720):\n",
    "    date =yearmonthdate['date'][i][0:4]\n",
    "    year=year.append(pd.DataFrame([date],columns = ['year']),ignore_index=True)\n",
    "year"
   ]
  },
  {
   "cell_type": "code",
   "execution_count": 42,
   "metadata": {
    "scrolled": true
   },
   "outputs": [
    {
     "data": {
      "text/html": [
       "<div>\n",
       "<style scoped>\n",
       "    .dataframe tbody tr th:only-of-type {\n",
       "        vertical-align: middle;\n",
       "    }\n",
       "\n",
       "    .dataframe tbody tr th {\n",
       "        vertical-align: top;\n",
       "    }\n",
       "\n",
       "    .dataframe thead th {\n",
       "        text-align: right;\n",
       "    }\n",
       "</style>\n",
       "<table border=\"1\" class=\"dataframe\">\n",
       "  <thead>\n",
       "    <tr style=\"text-align: right;\">\n",
       "      <th></th>\n",
       "      <th>month</th>\n",
       "    </tr>\n",
       "  </thead>\n",
       "  <tbody>\n",
       "    <tr>\n",
       "      <th>0</th>\n",
       "      <td>09</td>\n",
       "    </tr>\n",
       "    <tr>\n",
       "      <th>1</th>\n",
       "      <td>09</td>\n",
       "    </tr>\n",
       "    <tr>\n",
       "      <th>2</th>\n",
       "      <td>09</td>\n",
       "    </tr>\n",
       "    <tr>\n",
       "      <th>3</th>\n",
       "      <td>09</td>\n",
       "    </tr>\n",
       "    <tr>\n",
       "      <th>4</th>\n",
       "      <td>09</td>\n",
       "    </tr>\n",
       "    <tr>\n",
       "      <th>...</th>\n",
       "      <td>...</td>\n",
       "    </tr>\n",
       "    <tr>\n",
       "      <th>715</th>\n",
       "      <td>01</td>\n",
       "    </tr>\n",
       "    <tr>\n",
       "      <th>716</th>\n",
       "      <td>01</td>\n",
       "    </tr>\n",
       "    <tr>\n",
       "      <th>717</th>\n",
       "      <td>01</td>\n",
       "    </tr>\n",
       "    <tr>\n",
       "      <th>718</th>\n",
       "      <td>01</td>\n",
       "    </tr>\n",
       "    <tr>\n",
       "      <th>719</th>\n",
       "      <td>01</td>\n",
       "    </tr>\n",
       "  </tbody>\n",
       "</table>\n",
       "<p>720 rows × 1 columns</p>\n",
       "</div>"
      ],
      "text/plain": [
       "    month\n",
       "0      09\n",
       "1      09\n",
       "2      09\n",
       "3      09\n",
       "4      09\n",
       "..    ...\n",
       "715    01\n",
       "716    01\n",
       "717    01\n",
       "718    01\n",
       "719    01\n",
       "\n",
       "[720 rows x 1 columns]"
      ]
     },
     "execution_count": 42,
     "metadata": {},
     "output_type": "execute_result"
    }
   ],
   "source": [
    "#빈 데이터 프레임에 month 칼럼 넣기 \n",
    "month = pd.DataFrame(columns=['month'])\n",
    "for i in range(0,720):\n",
    "    date =yearmonthdate['date'][i][4:6]\n",
    "    month=month.append(pd.DataFrame([date],columns = ['month']),ignore_index=True)\n",
    "month"
   ]
  },
  {
   "cell_type": "code",
   "execution_count": 43,
   "metadata": {},
   "outputs": [
    {
     "data": {
      "text/html": [
       "<div>\n",
       "<style scoped>\n",
       "    .dataframe tbody tr th:only-of-type {\n",
       "        vertical-align: middle;\n",
       "    }\n",
       "\n",
       "    .dataframe tbody tr th {\n",
       "        vertical-align: top;\n",
       "    }\n",
       "\n",
       "    .dataframe thead th {\n",
       "        text-align: right;\n",
       "    }\n",
       "</style>\n",
       "<table border=\"1\" class=\"dataframe\">\n",
       "  <thead>\n",
       "    <tr style=\"text-align: right;\">\n",
       "      <th></th>\n",
       "      <th>date</th>\n",
       "    </tr>\n",
       "  </thead>\n",
       "  <tbody>\n",
       "    <tr>\n",
       "      <th>0</th>\n",
       "      <td>21</td>\n",
       "    </tr>\n",
       "    <tr>\n",
       "      <th>1</th>\n",
       "      <td>17</td>\n",
       "    </tr>\n",
       "    <tr>\n",
       "      <th>2</th>\n",
       "      <td>13</td>\n",
       "    </tr>\n",
       "    <tr>\n",
       "      <th>3</th>\n",
       "      <td>05</td>\n",
       "    </tr>\n",
       "    <tr>\n",
       "      <th>4</th>\n",
       "      <td>01</td>\n",
       "    </tr>\n",
       "    <tr>\n",
       "      <th>...</th>\n",
       "      <td>...</td>\n",
       "    </tr>\n",
       "    <tr>\n",
       "      <th>715</th>\n",
       "      <td>08</td>\n",
       "    </tr>\n",
       "    <tr>\n",
       "      <th>716</th>\n",
       "      <td>07</td>\n",
       "    </tr>\n",
       "    <tr>\n",
       "      <th>717</th>\n",
       "      <td>04</td>\n",
       "    </tr>\n",
       "    <tr>\n",
       "      <th>718</th>\n",
       "      <td>03</td>\n",
       "    </tr>\n",
       "    <tr>\n",
       "      <th>719</th>\n",
       "      <td>02</td>\n",
       "    </tr>\n",
       "  </tbody>\n",
       "</table>\n",
       "<p>720 rows × 1 columns</p>\n",
       "</div>"
      ],
      "text/plain": [
       "    date\n",
       "0     21\n",
       "1     17\n",
       "2     13\n",
       "3     05\n",
       "4     01\n",
       "..   ...\n",
       "715   08\n",
       "716   07\n",
       "717   04\n",
       "718   03\n",
       "719   02\n",
       "\n",
       "[720 rows x 1 columns]"
      ]
     },
     "execution_count": 43,
     "metadata": {},
     "output_type": "execute_result"
    }
   ],
   "source": [
    " #빈 데이터 프레임에 date 칼럼 넣기 \n",
    "date = pd.DataFrame(columns=['date'])\n",
    "for i in range(0,720):\n",
    "    date1 =yearmonthdate['date'][i][6:8]\n",
    "    date=date.append(pd.DataFrame([date1],columns = ['date']),ignore_index=True)\n",
    "date\n"
   ]
  },
  {
   "cell_type": "code",
   "execution_count": 44,
   "metadata": {
    "scrolled": true
   },
   "outputs": [
    {
     "data": {
      "text/html": [
       "<div>\n",
       "<style scoped>\n",
       "    .dataframe tbody tr th:only-of-type {\n",
       "        vertical-align: middle;\n",
       "    }\n",
       "\n",
       "    .dataframe tbody tr th {\n",
       "        vertical-align: top;\n",
       "    }\n",
       "\n",
       "    .dataframe thead th {\n",
       "        text-align: right;\n",
       "    }\n",
       "</style>\n",
       "<table border=\"1\" class=\"dataframe\">\n",
       "  <thead>\n",
       "    <tr style=\"text-align: right;\">\n",
       "      <th></th>\n",
       "      <th>year</th>\n",
       "      <th>month</th>\n",
       "      <th>date</th>\n",
       "    </tr>\n",
       "  </thead>\n",
       "  <tbody>\n",
       "    <tr>\n",
       "      <th>0</th>\n",
       "      <td>2018</td>\n",
       "      <td>09</td>\n",
       "      <td>21</td>\n",
       "    </tr>\n",
       "    <tr>\n",
       "      <th>1</th>\n",
       "      <td>2018</td>\n",
       "      <td>09</td>\n",
       "      <td>17</td>\n",
       "    </tr>\n",
       "    <tr>\n",
       "      <th>2</th>\n",
       "      <td>2018</td>\n",
       "      <td>09</td>\n",
       "      <td>13</td>\n",
       "    </tr>\n",
       "    <tr>\n",
       "      <th>3</th>\n",
       "      <td>2018</td>\n",
       "      <td>09</td>\n",
       "      <td>05</td>\n",
       "    </tr>\n",
       "    <tr>\n",
       "      <th>4</th>\n",
       "      <td>2018</td>\n",
       "      <td>09</td>\n",
       "      <td>01</td>\n",
       "    </tr>\n",
       "    <tr>\n",
       "      <th>...</th>\n",
       "      <td>...</td>\n",
       "      <td>...</td>\n",
       "      <td>...</td>\n",
       "    </tr>\n",
       "    <tr>\n",
       "      <th>715</th>\n",
       "      <td>2013</td>\n",
       "      <td>01</td>\n",
       "      <td>08</td>\n",
       "    </tr>\n",
       "    <tr>\n",
       "      <th>716</th>\n",
       "      <td>2013</td>\n",
       "      <td>01</td>\n",
       "      <td>07</td>\n",
       "    </tr>\n",
       "    <tr>\n",
       "      <th>717</th>\n",
       "      <td>2013</td>\n",
       "      <td>01</td>\n",
       "      <td>04</td>\n",
       "    </tr>\n",
       "    <tr>\n",
       "      <th>718</th>\n",
       "      <td>2013</td>\n",
       "      <td>01</td>\n",
       "      <td>03</td>\n",
       "    </tr>\n",
       "    <tr>\n",
       "      <th>719</th>\n",
       "      <td>2013</td>\n",
       "      <td>01</td>\n",
       "      <td>02</td>\n",
       "    </tr>\n",
       "  </tbody>\n",
       "</table>\n",
       "<p>720 rows × 3 columns</p>\n",
       "</div>"
      ],
      "text/plain": [
       "     year month date\n",
       "0    2018    09   21\n",
       "1    2018    09   17\n",
       "2    2018    09   13\n",
       "3    2018    09   05\n",
       "4    2018    09   01\n",
       "..    ...   ...  ...\n",
       "715  2013    01   08\n",
       "716  2013    01   07\n",
       "717  2013    01   04\n",
       "718  2013    01   03\n",
       "719  2013    01   02\n",
       "\n",
       "[720 rows x 3 columns]"
      ]
     },
     "execution_count": 44,
     "metadata": {},
     "output_type": "execute_result"
    }
   ],
   "source": [
    "#year,month,date 데이터프레임 합친 새로운 데이터프레임 ymd\n",
    "ymd=pd.concat([year,month,date], axis=1)\n",
    "ymd"
   ]
  },
  {
   "cell_type": "code",
   "execution_count": 45,
   "metadata": {
    "scrolled": true
   },
   "outputs": [
    {
     "data": {
      "text/plain": [
       "61       16612\n",
       "85       17965\n",
       "90       18757\n",
       "121      18369\n",
       "136      17108\n",
       "         ...  \n",
       "34634    14040\n",
       "34666    13470\n",
       "34811    13945\n",
       "34867    13743\n",
       "34896    13203\n",
       "Name: averageCost, Length: 720, dtype: int64"
      ]
     },
     "execution_count": 45,
     "metadata": {},
     "output_type": "execute_result"
    }
   ],
   "source": [
    "subset2 =cowauction['averageCost']\n",
    "subset2"
   ]
  },
  {
   "cell_type": "code",
   "execution_count": 46,
   "metadata": {},
   "outputs": [
    {
     "data": {
      "text/html": [
       "<div>\n",
       "<style scoped>\n",
       "    .dataframe tbody tr th:only-of-type {\n",
       "        vertical-align: middle;\n",
       "    }\n",
       "\n",
       "    .dataframe tbody tr th {\n",
       "        vertical-align: top;\n",
       "    }\n",
       "\n",
       "    .dataframe thead th {\n",
       "        text-align: right;\n",
       "    }\n",
       "</style>\n",
       "<table border=\"1\" class=\"dataframe\">\n",
       "  <thead>\n",
       "    <tr style=\"text-align: right;\">\n",
       "      <th></th>\n",
       "      <th>index</th>\n",
       "      <th>averageCost</th>\n",
       "    </tr>\n",
       "  </thead>\n",
       "  <tbody>\n",
       "    <tr>\n",
       "      <th>0</th>\n",
       "      <td>61</td>\n",
       "      <td>16612</td>\n",
       "    </tr>\n",
       "    <tr>\n",
       "      <th>1</th>\n",
       "      <td>85</td>\n",
       "      <td>17965</td>\n",
       "    </tr>\n",
       "    <tr>\n",
       "      <th>2</th>\n",
       "      <td>90</td>\n",
       "      <td>18757</td>\n",
       "    </tr>\n",
       "    <tr>\n",
       "      <th>3</th>\n",
       "      <td>121</td>\n",
       "      <td>18369</td>\n",
       "    </tr>\n",
       "    <tr>\n",
       "      <th>4</th>\n",
       "      <td>136</td>\n",
       "      <td>17108</td>\n",
       "    </tr>\n",
       "    <tr>\n",
       "      <th>...</th>\n",
       "      <td>...</td>\n",
       "      <td>...</td>\n",
       "    </tr>\n",
       "    <tr>\n",
       "      <th>715</th>\n",
       "      <td>34634</td>\n",
       "      <td>14040</td>\n",
       "    </tr>\n",
       "    <tr>\n",
       "      <th>716</th>\n",
       "      <td>34666</td>\n",
       "      <td>13470</td>\n",
       "    </tr>\n",
       "    <tr>\n",
       "      <th>717</th>\n",
       "      <td>34811</td>\n",
       "      <td>13945</td>\n",
       "    </tr>\n",
       "    <tr>\n",
       "      <th>718</th>\n",
       "      <td>34867</td>\n",
       "      <td>13743</td>\n",
       "    </tr>\n",
       "    <tr>\n",
       "      <th>719</th>\n",
       "      <td>34896</td>\n",
       "      <td>13203</td>\n",
       "    </tr>\n",
       "  </tbody>\n",
       "</table>\n",
       "<p>720 rows × 2 columns</p>\n",
       "</div>"
      ],
      "text/plain": [
       "     index  averageCost\n",
       "0       61        16612\n",
       "1       85        17965\n",
       "2       90        18757\n",
       "3      121        18369\n",
       "4      136        17108\n",
       "..     ...          ...\n",
       "715  34634        14040\n",
       "716  34666        13470\n",
       "717  34811        13945\n",
       "718  34867        13743\n",
       "719  34896        13203\n",
       "\n",
       "[720 rows x 2 columns]"
      ]
     },
     "execution_count": 46,
     "metadata": {},
     "output_type": "execute_result"
    }
   ],
   "source": [
    "subset2=subset2.astype(int).reset_index()\n",
    "subset2"
   ]
  },
  {
   "cell_type": "code",
   "execution_count": 47,
   "metadata": {},
   "outputs": [
    {
     "data": {
      "text/plain": [
       "year       0\n",
       "month      0\n",
       "date       0\n",
       "aversum    0\n",
       "dtype: int64"
      ]
     },
     "execution_count": 47,
     "metadata": {},
     "output_type": "execute_result"
    }
   ],
   "source": [
    "#일별 데이터인 averageCost를 월별로 바꾸어서 ymd데이터프레임에 합치기 \n",
    "ymd['aversum']=subset2['averageCost']\n",
    "ymd.isnull().sum()\n"
   ]
  },
  {
   "cell_type": "code",
   "execution_count": 48,
   "metadata": {},
   "outputs": [
    {
     "data": {
      "text/html": [
       "<div>\n",
       "<style scoped>\n",
       "    .dataframe tbody tr th:only-of-type {\n",
       "        vertical-align: middle;\n",
       "    }\n",
       "\n",
       "    .dataframe tbody tr th {\n",
       "        vertical-align: top;\n",
       "    }\n",
       "\n",
       "    .dataframe thead th {\n",
       "        text-align: right;\n",
       "    }\n",
       "</style>\n",
       "<table border=\"1\" class=\"dataframe\">\n",
       "  <thead>\n",
       "    <tr style=\"text-align: right;\">\n",
       "      <th></th>\n",
       "      <th>year</th>\n",
       "      <th>month</th>\n",
       "      <th>aversum</th>\n",
       "    </tr>\n",
       "  </thead>\n",
       "  <tbody>\n",
       "    <tr>\n",
       "      <th>0</th>\n",
       "      <td>2013</td>\n",
       "      <td>01</td>\n",
       "      <td>314207</td>\n",
       "    </tr>\n",
       "    <tr>\n",
       "      <th>1</th>\n",
       "      <td>2013</td>\n",
       "      <td>02</td>\n",
       "      <td>255389</td>\n",
       "    </tr>\n",
       "    <tr>\n",
       "      <th>2</th>\n",
       "      <td>2013</td>\n",
       "      <td>03</td>\n",
       "      <td>235797</td>\n",
       "    </tr>\n",
       "    <tr>\n",
       "      <th>3</th>\n",
       "      <td>2013</td>\n",
       "      <td>04</td>\n",
       "      <td>258091</td>\n",
       "    </tr>\n",
       "    <tr>\n",
       "      <th>4</th>\n",
       "      <td>2013</td>\n",
       "      <td>05</td>\n",
       "      <td>258268</td>\n",
       "    </tr>\n",
       "    <tr>\n",
       "      <th>...</th>\n",
       "      <td>...</td>\n",
       "      <td>...</td>\n",
       "      <td>...</td>\n",
       "    </tr>\n",
       "    <tr>\n",
       "      <th>57</th>\n",
       "      <td>2018</td>\n",
       "      <td>05</td>\n",
       "      <td>83328</td>\n",
       "    </tr>\n",
       "    <tr>\n",
       "      <th>58</th>\n",
       "      <td>2018</td>\n",
       "      <td>06</td>\n",
       "      <td>102774</td>\n",
       "    </tr>\n",
       "    <tr>\n",
       "      <th>59</th>\n",
       "      <td>2018</td>\n",
       "      <td>07</td>\n",
       "      <td>102461</td>\n",
       "    </tr>\n",
       "    <tr>\n",
       "      <th>60</th>\n",
       "      <td>2018</td>\n",
       "      <td>08</td>\n",
       "      <td>88062</td>\n",
       "    </tr>\n",
       "    <tr>\n",
       "      <th>61</th>\n",
       "      <td>2018</td>\n",
       "      <td>09</td>\n",
       "      <td>88811</td>\n",
       "    </tr>\n",
       "  </tbody>\n",
       "</table>\n",
       "<p>62 rows × 3 columns</p>\n",
       "</div>"
      ],
      "text/plain": [
       "    year month  aversum\n",
       "0   2013    01   314207\n",
       "1   2013    02   255389\n",
       "2   2013    03   235797\n",
       "3   2013    04   258091\n",
       "4   2013    05   258268\n",
       "..   ...   ...      ...\n",
       "57  2018    05    83328\n",
       "58  2018    06   102774\n",
       "59  2018    07   102461\n",
       "60  2018    08    88062\n",
       "61  2018    09    88811\n",
       "\n",
       "[62 rows x 3 columns]"
      ]
     },
     "execution_count": 48,
     "metadata": {},
     "output_type": "execute_result"
    }
   ],
   "source": [
    "ymd_group = ymd['aversum'].groupby([ymd['year'],ymd['month']]).sum()\n",
    "ymd_group=ymd_group.reset_index()\n",
    "ymd_group\n",
    "#2018년은 마지막 데이터가 10월까지임."
   ]
  },
  {
   "cell_type": "code",
   "execution_count": 49,
   "metadata": {},
   "outputs": [
    {
     "name": "stdout",
     "output_type": "stream",
     "text": [
      "<class 'pandas.core.frame.DataFrame'>\n",
      "RangeIndex: 62 entries, 0 to 61\n",
      "Data columns (total 3 columns):\n",
      " #   Column   Non-Null Count  Dtype\n",
      "---  ------   --------------  -----\n",
      " 0   year     62 non-null     int32\n",
      " 1   month    62 non-null     int32\n",
      " 2   aversum  62 non-null     int32\n",
      "dtypes: int32(3)\n",
      "memory usage: 872.0 bytes\n"
     ]
    }
   ],
   "source": [
    "ymd_group['year']=ymd_group['year'].astype(int)\n",
    "ymd_group['month']=ymd_group['month'].astype(int)\n",
    "ymd_group.info()"
   ]
  },
  {
   "cell_type": "code",
   "execution_count": 50,
   "metadata": {},
   "outputs": [
    {
     "data": {
      "image/png": "[encoded data removed]",
      "text/plain": [
       "<Figure size 432x288 with 1 Axes>"
      ]
     },
     "metadata": {
      "needs_background": "dark"
     },
     "output_type": "display_data"
    }
   ],
   "source": [
    "ymd2013 =ymd_group[ymd_group['year'].isin([2013])]\n",
    "plt.plot (ymd2013['month'],ymd2013['aversum'])\n",
    "plt.xlabel(\"month(2013)\")\n",
    "plt.ylabel(\"averagesum\")\n",
    "plt.title(\"averagesum data of auction cost in 2013\")\n",
    "plt.show()"
   ]
  },
  {
   "cell_type": "code",
   "execution_count": 51,
   "metadata": {},
   "outputs": [
    {
     "data": {
      "image/png": "[encoded data removed]",
      "text/plain": [
       "<Figure size 432x288 with 1 Axes>"
      ]
     },
     "metadata": {
      "needs_background": "dark"
     },
     "output_type": "display_data"
    }
   ],
   "source": [
    "ymd2014 =ymd_group[ymd_group['year'].isin([2014])]\n",
    "plt.plot (ymd2014['month'],ymd2014['aversum'])\n",
    "plt.xlabel(\"month(2014)\")\n",
    "plt.ylabel(\"averagesum\")\n",
    "plt.title(\"averagesum data of auction cost in 2014\")\n",
    "plt.show()"
   ]
  },
  {
   "cell_type": "code",
   "execution_count": 52,
   "metadata": {},
   "outputs": [
    {
     "data": {
      "image/png": "[encoded data removed]",
      "text/plain": [
       "<Figure size 432x288 with 1 Axes>"
      ]
     },
     "metadata": {
      "needs_background": "dark"
     },
     "output_type": "display_data"
    }
   ],
   "source": [
    "ymd2015 =ymd_group[ymd_group['year'].isin([2015])]\n",
    "plt.plot (ymd2015['month'],ymd2015['aversum'])\n",
    "plt.xlabel(\"month(2015)\")\n",
    "plt.ylabel(\"averagesum\")\n",
    "plt.title(\"averagesum data of auction cost in 2015\")\n",
    "plt.show()"
   ]
  },
  {
   "cell_type": "code",
   "execution_count": 53,
   "metadata": {},
   "outputs": [
    {
     "data": {
      "image/png": "[encoded data removed]",
      "text/plain": [
       "<Figure size 432x288 with 1 Axes>"
      ]
     },
     "metadata": {
      "needs_background": "dark"
     },
     "output_type": "display_data"
    }
   ],
   "source": [
    "ymd2016 =ymd_group[ymd_group['year'].isin([2016])]\n",
    "plt.plot (ymd2016['month'],ymd2016['aversum'])\n",
    "plt.xlabel(\"month(2016)\")\n",
    "plt.ylabel(\"averagesum\")\n",
    "plt.title(\"averagesum data of auction cost in 2016\")\n",
    "plt.show()"
   ]
  },
  {
   "cell_type": "code",
   "execution_count": 54,
   "metadata": {},
   "outputs": [
    {
     "data": {
      "image/png": "[encoded data removed]",
      "text/plain": [
       "<Figure size 432x288 with 1 Axes>"
      ]
     },
     "metadata": {
      "needs_background": "dark"
     },
     "output_type": "display_data"
    }
   ],
   "source": [
    "ymd2017=ymd_group[ymd_group['year'].isin([2017])]\n",
    "plt.plot (ymd2017['month'],ymd2017['aversum'])\n",
    "plt.xlabel(\"month(2017)\")\n",
    "plt.ylabel(\"averagesum\")\n",
    "plt.title(\"averagesum data of auction cost in 2017\")\n",
    "plt.show()"
   ]
  },
  {
   "cell_type": "code",
   "execution_count": 55,
   "metadata": {},
   "outputs": [
    {
     "data": {
      "image/png": "[encoded data removed]",
      "text/plain": [
       "<Figure size 432x288 with 1 Axes>"
      ]
     },
     "metadata": {
      "needs_background": "dark"
     },
     "output_type": "display_data"
    }
   ],
   "source": [
    "ymd2018 =ymd_group[ymd_group['year'].isin([2018])]\n",
    "plt.plot (ymd2018['month'],ymd2018['aversum'])\n",
    "plt.xlabel(\"month(2018)\")\n",
    "plt.ylabel(\"averagesum\")\n",
    "plt.title(\"averagesum data of auction cost in 2018\")\n",
    "plt.show()"
   ]
  },
  {
   "cell_type": "markdown",
   "metadata": {},
   "source": [
    "## (4). 연도별 미국 소 가격과 우리나라 소 경매가격"
   ]
  },
  {
   "cell_type": "code",
   "execution_count": 56,
   "metadata": {},
   "outputs": [
    {
     "data": {
      "image/png": "[encoded data removed]",
      "text/plain": [
       "<Figure size 432x288 with 1 Axes>"
      ]
     },
     "metadata": {
      "needs_background": "dark"
     },
     "output_type": "display_data"
    }
   ],
   "source": [
    "#2013년\n",
    "plt.plot(usbeef2013['month'],usbeef2013['price'],label=\"usbeef\")\n",
    "plt.plot(ymd2013['month'],ymd2013['aversum'],label=\"auctionprice\")\n",
    "\n",
    "plt.title(\"usbeef and auctionprice in 2013\")\n",
    "plt.xlabel('month')\n",
    "plt.ylabel('price')\n",
    "plt.legend()\n",
    "plt.show()"
   ]
  },
  {
   "cell_type": "code",
   "execution_count": 76,
   "metadata": {},
   "outputs": [
    {
     "data": {
      "image/png": "[encoded data removed]",
      "text/plain": [
       "<Figure size 432x288 with 1 Axes>"
      ]
     },
     "metadata": {
      "needs_background": "dark"
     },
     "output_type": "display_data"
    }
   ],
   "source": [
    "plt.scatter(usbeef2013['month'],usbeef2013['price'],label=\"usbeef\")\n",
    "plt.scatter(ymd2013['month'],ymd2013['aversum'],label=\"auctionprice\")\n",
    "\n",
    "plt.title(\"usbeef and auctionprice in 2013\")\n",
    "plt.xlabel('month')\n",
    "plt.ylabel('price')\n",
    "plt.legend()\n",
    "plt.show()"
   ]
  },
  {
   "cell_type": "code",
   "execution_count": 57,
   "metadata": {},
   "outputs": [
    {
     "data": {
      "image/png": "[encoded data removed]",
      "text/plain": [
       "<Figure size 432x288 with 1 Axes>"
      ]
     },
     "metadata": {
      "needs_background": "dark"
     },
     "output_type": "display_data"
    }
   ],
   "source": [
    "#2014년\n",
    "plt.plot(usbeef2014['month'],usbeef2014['price'],label=\"usbeef\")\n",
    "plt.plot(ymd2014['month'],ymd2014['aversum'],label=\"auctionprice\")\n",
    "\n",
    "plt.title(\"usbeef and auctionprice in 2014\")\n",
    "plt.xlabel('month')\n",
    "plt.ylabel('price')\n",
    "plt.legend()\n",
    "plt.show()"
   ]
  },
  {
   "cell_type": "code",
   "execution_count": null,
   "metadata": {},
   "outputs": [],
   "source": [
    "#2014년\n",
    "plt.plot(usbeef2014['month'],usbeef2014['price'],label=\"usbeef\")\n",
    "plt.plot(ymd2014['month'],ymd2014['aversum'],label=\"auctionprice\")\n",
    "\n",
    "plt.title(\"usbeef and auctionprice in 2014\")\n",
    "plt.xlabel('month')\n",
    "plt.ylabel('price')\n",
    "plt.legend()\n",
    "plt.show()"
   ]
  },
  {
   "cell_type": "code",
   "execution_count": 77,
   "metadata": {},
   "outputs": [
    {
     "data": {
      "image/png": "[encoded data removed]",
      "text/plain": [
       "<Figure size 432x288 with 1 Axes>"
      ]
     },
     "metadata": {
      "needs_background": "dark"
     },
     "output_type": "display_data"
    }
   ],
   "source": [
    "#2014년\n",
    "plt.scatter(usbeef2014['month'],usbeef2014['price'],label=\"usbeef\")\n",
    "plt.scatter(ymd2014['month'],ymd2014['aversum'],label=\"auctionprice\")\n",
    "\n",
    "plt.title(\"usbeef and auctionprice in 2014\")\n",
    "plt.xlabel('month')\n",
    "plt.ylabel('price')\n",
    "plt.legend()\n",
    "plt.show()"
   ]
  },
  {
   "cell_type": "code",
   "execution_count": 58,
   "metadata": {},
   "outputs": [
    {
     "data": {
      "image/png": "[encoded data removed]",
      "text/plain": [
       "<Figure size 432x288 with 1 Axes>"
      ]
     },
     "metadata": {
      "needs_background": "dark"
     },
     "output_type": "display_data"
    }
   ],
   "source": [
    "#2015년\n",
    "plt.plot(usbeef2015['month'],usbeef2015['price'],label=\"usbeef\")\n",
    "plt.plot(ymd2015['month'],ymd2015['aversum'],label=\"auctionprice\")\n",
    "\n",
    "plt.title(\"usbeef and auctionprice in 2015\")\n",
    "plt.xlabel('month')\n",
    "plt.ylabel('price')\n",
    "plt.legend()\n",
    "plt.show()"
   ]
  },
  {
   "cell_type": "code",
   "execution_count": 78,
   "metadata": {},
   "outputs": [
    {
     "data": {
      "image/png": "[encoded data removed]",
      "text/plain": [
       "<Figure size 432x288 with 1 Axes>"
      ]
     },
     "metadata": {
      "needs_background": "dark"
     },
     "output_type": "display_data"
    }
   ],
   "source": [
    "#2015년\n",
    "plt.scatter(usbeef2015['month'],usbeef2015['price'],label=\"usbeef\")\n",
    "plt.scatter(ymd2015['month'],ymd2015['aversum'],label=\"auctionprice\")\n",
    "\n",
    "plt.title(\"usbeef and auctionprice in 2015\")\n",
    "plt.xlabel('month')\n",
    "plt.ylabel('price')\n",
    "plt.legend()\n",
    "plt.show()"
   ]
  },
  {
   "cell_type": "code",
   "execution_count": 59,
   "metadata": {},
   "outputs": [
    {
     "data": {
      "image/png": "[encoded data removed]",
      "text/plain": [
       "<Figure size 432x288 with 1 Axes>"
      ]
     },
     "metadata": {
      "needs_background": "dark"
     },
     "output_type": "display_data"
    }
   ],
   "source": [
    "#2016년\n",
    "plt.plot(usbeef2016['month'],usbeef2016['price'],label=\"usbeef\")\n",
    "plt.plot(ymd2016['month'],ymd2016['aversum'],label=\"auctionprice\")\n",
    "\n",
    "plt.title(\"usbeef and auctionprice in 2016\")\n",
    "plt.xlabel('month')\n",
    "plt.ylabel('price')\n",
    "plt.legend()\n",
    "plt.show()"
   ]
  },
  {
   "cell_type": "code",
   "execution_count": 79,
   "metadata": {},
   "outputs": [
    {
     "data": {
      "image/png": "[encoded data removed]",
      "text/plain": [
       "<Figure size 432x288 with 1 Axes>"
      ]
     },
     "metadata": {
      "needs_background": "dark"
     },
     "output_type": "display_data"
    }
   ],
   "source": [
    "#2015년\n",
    "plt.scatter(usbeef2015['month'],usbeef2015['price'],label=\"usbeef\")\n",
    "plt.scatter(ymd2015['month'],ymd2015['aversum'],label=\"auctionprice\")\n",
    "\n",
    "plt.title(\"usbeef and auctionprice in 2015\")\n",
    "plt.xlabel('month')\n",
    "plt.ylabel('price')\n",
    "plt.legend()\n",
    "plt.show()"
   ]
  },
  {
   "cell_type": "code",
   "execution_count": 60,
   "metadata": {},
   "outputs": [
    {
     "data": {
      "image/png": "[encoded data removed]",
      "text/plain": [
       "<Figure size 432x288 with 1 Axes>"
      ]
     },
     "metadata": {
      "needs_background": "dark"
     },
     "output_type": "display_data"
    }
   ],
   "source": [
    "#2017년 \n",
    "plt.plot(usbeef2017['month'],usbeef2017['price'],label=\"usbeef\")\n",
    "plt.plot(ymd2017['month'],ymd2017['aversum'],label=\"auctionprice\")\n",
    "\n",
    "plt.title(\"usbeef and auctionprice in 2017\")\n",
    "plt.xlabel('month')\n",
    "plt.ylabel('price')\n",
    "plt.legend()\n",
    "plt.show()\n",
    "\n",
    "# 2017년은 데이터가 20170704부터 시작함. 이유에 대해서는 조사가 필요함 "
   ]
  },
  {
   "cell_type": "code",
   "execution_count": 80,
   "metadata": {},
   "outputs": [
    {
     "data": {
      "image/png": "[encoded data removed]",
      "text/plain": [
       "<Figure size 432x288 with 1 Axes>"
      ]
     },
     "metadata": {
      "needs_background": "dark"
     },
     "output_type": "display_data"
    }
   ],
   "source": [
    "plt.scatter(usbeef2017['month'],usbeef2017['price'],label=\"usbeef\")\n",
    "plt.scatter(ymd2017['month'],ymd2017['aversum'],label=\"auctionprice\")\n",
    "\n",
    "plt.title(\"usbeef and auctionprice in 2017\")\n",
    "plt.xlabel('month')\n",
    "plt.ylabel('price')\n",
    "plt.legend()\n",
    "plt.show()"
   ]
  },
  {
   "cell_type": "code",
   "execution_count": 61,
   "metadata": {},
   "outputs": [
    {
     "data": {
      "image/png": "[encoded data removed]",
      "text/plain": [
       "<Figure size 432x288 with 1 Axes>"
      ]
     },
     "metadata": {
      "needs_background": "dark"
     },
     "output_type": "display_data"
    }
   ],
   "source": [
    "#2018년\n",
    "plt.plot(usbeef2018['month'],usbeef2018['price'],label=\"usbeef\")\n",
    "plt.plot(ymd2018['month'],ymd2018['aversum'],label=\"auctionprice\")\n",
    "\n",
    "plt.title(\"usbeef and auctionprice in 2018\")\n",
    "plt.xlabel('month')\n",
    "plt.ylabel('price')\n",
    "plt.legend()\n",
    "plt.show()"
   ]
  },
  {
   "cell_type": "code",
   "execution_count": 81,
   "metadata": {},
   "outputs": [
    {
     "data": {
      "image/png": "[encoded data removed]",
      "text/plain": [
       "<Figure size 432x288 with 1 Axes>"
      ]
     },
     "metadata": {
      "needs_background": "dark"
     },
     "output_type": "display_data"
    }
   ],
   "source": [
    "#2018년\n",
    "plt.scatter(usbeef2018['month'],usbeef2018['price'],label=\"usbeef\")\n",
    "plt.scatter(ymd2018['month'],ymd2018['aversum'],label=\"auctionprice\")\n",
    "\n",
    "plt.title(\"usbeef and auctionprice in 2018\")\n",
    "plt.xlabel('month')\n",
    "plt.ylabel('price')\n",
    "plt.legend()\n",
    "plt.show()"
   ]
  },
  {
   "cell_type": "code",
   "execution_count": 62,
   "metadata": {},
   "outputs": [
    {
     "data": {
      "image/png": "[encoded data removed]",
      "text/plain": [
       "<Figure size 432x288 with 1 Axes>"
      ]
     },
     "metadata": {
      "needs_background": "dark"
     },
     "output_type": "display_data"
    }
   ],
   "source": [
    "#이상치 관측 \n",
    "plt.boxplot(ymd2013['aversum'])\n",
    "plt.show()"
   ]
  },
  {
   "cell_type": "code",
   "execution_count": 63,
   "metadata": {},
   "outputs": [
    {
     "data": {
      "image/png": "[encoded data removed]",
      "text/plain": [
       "<Figure size 432x288 with 1 Axes>"
      ]
     },
     "metadata": {
      "needs_background": "dark"
     },
     "output_type": "display_data"
    }
   ],
   "source": [
    "plt.boxplot(ymd2014['aversum'])\n",
    "plt.show()"
   ]
  },
  {
   "cell_type": "code",
   "execution_count": 64,
   "metadata": {},
   "outputs": [
    {
     "data": {
      "image/png": "[encoded data removed]",
      "text/plain": [
       "<Figure size 432x288 with 1 Axes>"
      ]
     },
     "metadata": {
      "needs_background": "dark"
     },
     "output_type": "display_data"
    }
   ],
   "source": [
    "plt.boxplot(ymd2015['aversum'],sym='r')\n",
    "plt.xticks([1],['aversum'])\n",
    "plt.show()\n"
   ]
  },
  {
   "cell_type": "markdown",
   "metadata": {},
   "source": [
    "이상치 보통 어떻게 처리하는지?    \n",
    "구글링 해보니까 무작정 지우면 또 안된다고 하는데..그냥 두면 분석하는데 잘못 해석할 여지가 있지 않을까 싶어서요. 보통 다들 어떻게 하시나요?\n"
   ]
  },
  {
   "cell_type": "code",
   "execution_count": 65,
   "metadata": {},
   "outputs": [
    {
     "data": {
      "image/png": "[encoded data removed]",
      "text/plain": [
       "<Figure size 432x288 with 1 Axes>"
      ]
     },
     "metadata": {
      "needs_background": "dark"
     },
     "output_type": "display_data"
    }
   ],
   "source": [
    "plt.boxplot(ymd2016['aversum'])\n",
    "plt.show()"
   ]
  },
  {
   "cell_type": "code",
   "execution_count": 66,
   "metadata": {},
   "outputs": [
    {
     "data": {
      "image/png": "[encoded data removed]",
      "text/plain": [
       "<Figure size 432x288 with 1 Axes>"
      ]
     },
     "metadata": {
      "needs_background": "dark"
     },
     "output_type": "display_data"
    }
   ],
   "source": [
    "plt.boxplot(ymd2017['aversum'])\n",
    "plt.show()"
   ]
  },
  {
   "cell_type": "code",
   "execution_count": 67,
   "metadata": {},
   "outputs": [
    {
     "data": {
      "image/png": "[encoded data removed]",
      "text/plain": [
       "<Figure size 432x288 with 1 Axes>"
      ]
     },
     "metadata": {
      "needs_background": "dark"
     },
     "output_type": "display_data"
    }
   ],
   "source": [
    "plt.boxplot(ymd2018['aversum'])\n",
    "plt.show()\n",
    "#데이터가 너무 적음. "
   ]
  },
  {
   "cell_type": "markdown",
   "metadata": {},
   "source": [
    "## (5). 상관관계분석\n",
    "### 미국 고기의 가격이랑 한국의 소 경매 가격 사이의 상관관계 "
   ]
  },
  {
   "cell_type": "code",
   "execution_count": 68,
   "metadata": {},
   "outputs": [
    {
     "name": "stdout",
     "output_type": "stream",
     "text": [
      "     year  month     price\n",
      "120  2013      1  226130.0\n",
      "121  2013      2  187340.0\n",
      "122  2013      3  203980.0\n",
      "123  2013      4  212860.0\n",
      "124  2013      5  222760.0\n",
      "..    ...    ...       ...\n",
      "187  2018      8  242960.0\n",
      "188  2018      9  215750.0\n",
      "189  2018     10  243060.0\n",
      "190  2018     11  231510.0\n",
      "191  2018     12  211600.0\n",
      "\n",
      "[72 rows x 3 columns]\n",
      "    year  month  aversum\n",
      "0   2013      1   314207\n",
      "1   2013      2   255389\n",
      "2   2013      3   235797\n",
      "3   2013      4   258091\n",
      "4   2013      5   258268\n",
      "..   ...    ...      ...\n",
      "57  2018      5    83328\n",
      "58  2018      6   102774\n",
      "59  2018      7   102461\n",
      "60  2018      8    88062\n",
      "61  2018      9    88811\n",
      "\n",
      "[62 rows x 3 columns]\n"
     ]
    }
   ],
   "source": [
    "usbeef = usbeef[[\"year\",\"month\",\"price\"]]\n",
    "usbeef.head(5).reset_index()\n",
    "print(usbeef)\n",
    "print(ymd_group)\n"
   ]
  },
  {
   "cell_type": "code",
   "execution_count": 62,
   "metadata": {},
   "outputs": [],
   "source": [
    "price = pd.read_pickle(r'C:\\Users\\a0105\\Desktop\\DSC\\ddd\\preprocessing\\축산물_시계열 데이터로 변환(전국).pkl')\n",
    "merge_df = pd.merge(price, usbeef, how = 'left', on = ['year','month'])"
   ]
  },
  {
   "cell_type": "code",
   "execution_count": 64,
   "metadata": {},
   "outputs": [],
   "source": [
    "merge_df = merge_df.drop(['돼지 탕박 경매 금액_주간평균','year','month','nation','product'],axis=1)"
   ]
  },
  {
   "cell_type": "code",
   "execution_count": 66,
   "metadata": {
    "scrolled": true
   },
   "outputs": [],
   "source": [
    "merge_df.to_pickle('usbeer_merge.pkl')"
   ]
  },
  {
   "cell_type": "code",
   "execution_count": 67,
   "metadata": {},
   "outputs": [],
   "source": [
    "merge_df.columns = [['date','avgsum','price']]"
   ]
  },
  {
   "cell_type": "code",
   "execution_count": 79,
   "metadata": {},
   "outputs": [],
   "source": [
    "import seaborn as sns"
   ]
  },
  {
   "cell_type": "code",
   "execution_count": 80,
   "metadata": {},
   "outputs": [
    {
     "data": {
      "text/plain": [
       "<matplotlib.axes._subplots.AxesSubplot at 0x13c2ee73a08>"
      ]
     },
     "execution_count": 80,
     "metadata": {},
     "output_type": "execute_result"
    },
    {
     "data": {
      "image/png": "[encoded data removed]",
      "text/plain": [
       "<Figure size 576x360 with 2 Axes>"
      ]
     },
     "metadata": {},
     "output_type": "display_data"
    }
   ],
   "source": [
    "plt.figure(figsize=(8,5))\n",
    "sns.heatmap(data=merge_df.corr(), annot=True,\n",
    "           fmt='.2f',linewidths=.5,cmap=\"Reds\")"
   ]
  },
  {
   "cell_type": "code",
   "execution_count": 73,
   "metadata": {},
   "outputs": [
    {
     "data": {
      "text/plain": [
       "-0.17643711987327618"
      ]
     },
     "execution_count": 73,
     "metadata": {},
     "output_type": "execute_result"
    }
   ],
   "source": [
    "usAuction_corr[\"price\"].corr(usAuction_corr['aversum'])\n",
    "#미국수입고기와 경매가격은 서로 '약한 음(-)의 상관관계'를 가지고 있음 "
   ]
  },
  {
   "cell_type": "code",
   "execution_count": 74,
   "metadata": {},
   "outputs": [
    {
     "data": {
      "application/vnd.jupyter.widget-view+json": {
       "model_id": "0223edc86d7a4297a982357c14ea6b5a",
       "version_major": 2,
       "version_minor": 0
      },
      "text/plain": [
       "HBox(children=(FloatProgress(value=0.0, description='variables', max=4.0, style=ProgressStyle(description_widt…"
      ]
     },
     "metadata": {},
     "output_type": "display_data"
    },
    {
     "name": "stdout",
     "output_type": "stream",
     "text": [
      "\n"
     ]
    },
    {
     "data": {
      "application/vnd.jupyter.widget-view+json": {
       "model_id": "a0289a4d2ff3458084110baed58a69c0",
       "version_major": 2,
       "version_minor": 0
      },
      "text/plain": [
       "HBox(children=(FloatProgress(value=0.0, description='correlations', max=6.0, style=ProgressStyle(description_w…"
      ]
     },
     "metadata": {},
     "output_type": "display_data"
    },
    {
     "name": "stdout",
     "output_type": "stream",
     "text": [
      "\n"
     ]
    },
    {
     "data": {
      "application/vnd.jupyter.widget-view+json": {
       "model_id": "c7bb589bc1584030bed8e7fc90aac32b",
       "version_major": 2,
       "version_minor": 0
      },
      "text/plain": [
       "HBox(children=(FloatProgress(value=0.0, description='interactions [continuous]', max=16.0, style=ProgressStyle…"
      ]
     },
     "metadata": {},
     "output_type": "display_data"
    },
    {
     "name": "stdout",
     "output_type": "stream",
     "text": [
      "\n"
     ]
    },
    {
     "data": {
      "application/vnd.jupyter.widget-view+json": {
       "model_id": "3f2b550284514cfa8b71162af57f073c",
       "version_major": 2,
       "version_minor": 0
      },
      "text/plain": [
       "HBox(children=(FloatProgress(value=0.0, description='table', max=1.0, style=ProgressStyle(description_width='i…"
      ]
     },
     "metadata": {},
     "output_type": "display_data"
    },
    {
     "name": "stdout",
     "output_type": "stream",
     "text": [
      "\n"
     ]
    },
    {
     "data": {
      "application/vnd.jupyter.widget-view+json": {
       "model_id": "6ab0b6cf4d69441c90ea65ec0b3e193f",
       "version_major": 2,
       "version_minor": 0
      },
      "text/plain": [
       "HBox(children=(FloatProgress(value=0.0, description='missing', max=2.0, style=ProgressStyle(description_width=…"
      ]
     },
     "metadata": {},
     "output_type": "display_data"
    },
    {
     "name": "stdout",
     "output_type": "stream",
     "text": [
      "\n"
     ]
    },
    {
     "data": {
      "application/vnd.jupyter.widget-view+json": {
       "model_id": "12a4d8d52c1848ce96321c4c594d98dc",
       "version_major": 2,
       "version_minor": 0
      },
      "text/plain": [
       "HBox(children=(FloatProgress(value=0.0, description='warnings', max=3.0, style=ProgressStyle(description_width…"
      ]
     },
     "metadata": {},
     "output_type": "display_data"
    },
    {
     "name": "stdout",
     "output_type": "stream",
     "text": [
      "\n"
     ]
    },
    {
     "data": {
      "application/vnd.jupyter.widget-view+json": {
       "model_id": "5298bbf2c244485ab15b8f1788fcb0c9",
       "version_major": 2,
       "version_minor": 0
      },
      "text/plain": [
       "HBox(children=(FloatProgress(value=0.0, description='package', max=1.0, style=ProgressStyle(description_width=…"
      ]
     },
     "metadata": {},
     "output_type": "display_data"
    },
    {
     "name": "stdout",
     "output_type": "stream",
     "text": [
      "\n"
     ]
    },
    {
     "data": {
      "application/vnd.jupyter.widget-view+json": {
       "model_id": "4f6f0a2196f84aa99a5711ff29275bb0",
       "version_major": 2,
       "version_minor": 0
      },
      "text/plain": [
       "HBox(children=(FloatProgress(value=0.0, description='build report structure', max=1.0, style=ProgressStyle(des…"
      ]
     },
     "metadata": {},
     "output_type": "display_data"
    },
    {
     "name": "stdout",
     "output_type": "stream",
     "text": [
      "\n"
     ]
    }
   ],
   "source": [
    "#import pandas_profiling as pp\n",
    "#pr=usbeef.profile_report()\n",
    "#pr.to_file('./cowauction_report.html')\n"
   ]
  }
 ],
 "metadata": {
  "kernelspec": {
   "display_name": "Python 3",
   "language": "python",
   "name": "python3"
  },
  "language_info": {
   "codemirror_mode": {
    "name": "ipython",
    "version": 3
   },
   "file_extension": ".py",
   "mimetype": "text/x-python",
   "name": "python",
   "nbconvert_exporter": "python",
   "pygments_lexer": "ipython3",
   "version": "3.7.6"
  },
  "widgets": {
   "application/vnd.jupyter.widget-state+json": {
    "state": {
     "02c85b0bd8e643258c9434194ea5504c": {
      "model_module": "@jupyter-widgets/controls",
      "model_module_version": "1.5.0",
      "model_name": "HBoxModel",
      "state": {
       "children": [
        "IPY_MODEL_d9370dd196fb403389669613297c942e",
        "IPY_MODEL_16103241608b422a86f889b91ef9305c"
       ],
       "layout": "IPY_MODEL_ee92ba4b1f0940d1ba66cf75baa0d35c"
      }
     },
     "05efb7a060bb4556bf806e4a6289f3ae": {
      "model_module": "@jupyter-widgets/controls",
      "model_module_version": "1.5.0",
      "model_name": "ProgressStyleModel",
      "state": {
       "description_width": "initial"
      }
     },
     "067a3052f0a6451383d96091631c1cd1": {
      "model_module": "@jupyter-widgets/controls",
      "model_module_version": "1.5.0",
      "model_name": "DescriptionStyleModel",
      "state": {
       "description_width": ""
      }
     },
     "07698a993a4f41dd8f2b5b077c48d535": {
      "model_module": "@jupyter-widgets/controls",
      "model_module_version": "1.5.0",
      "model_name": "HBoxModel",
      "state": {
       "children": [
        "IPY_MODEL_99d936b9fd5e4662afd8b7941385ce93",
        "IPY_MODEL_536fa92bf2a041be8b12f25cb6f9bec9"
       ],
       "layout": "IPY_MODEL_309a591c912943e8b1175004b47e058c"
      }
     },
     "0d89facf49984557be480c906319e569": {
      "model_module": "@jupyter-widgets/base",
      "model_module_version": "1.2.0",
      "model_name": "LayoutModel",
      "state": {}
     },
     "16103241608b422a86f889b91ef9305c": {
      "model_module": "@jupyter-widgets/controls",
      "model_module_version": "1.5.0",
      "model_name": "HTMLModel",
      "state": {
       "layout": "IPY_MODEL_6180068a84e748b9a44f0d797126ab03",
       "style": "IPY_MODEL_c18887eab2624bf28ec8a1d1278f56c3",
       "value": " 2/2 [00:03&lt;00:00,  1.96s/it]"
      }
     },
     "1e83bd8b0d354c60a3dc766bae2ab1e0": {
      "model_module": "@jupyter-widgets/controls",
      "model_module_version": "1.5.0",
      "model_name": "HBoxModel",
      "state": {
       "children": [
        "IPY_MODEL_970dc20c0dc84aa6bac178dd68c99626",
        "IPY_MODEL_897e2d180f1040f4b0350ca339b95bc8"
       ],
       "layout": "IPY_MODEL_f3faca9aaba7410ab8f3166e3d42fc30"
      }
     },
     "1f444f89eaa8436aa46403330fd57d98": {
      "model_module": "@jupyter-widgets/controls",
      "model_module_version": "1.5.0",
      "model_name": "HBoxModel",
      "state": {
       "children": [
        "IPY_MODEL_6640bbea298f4cd8a20c8587c4328930",
        "IPY_MODEL_dd284f2c7fa749089becf1862f6b9469"
       ],
       "layout": "IPY_MODEL_79aaf5cb7b374a5bb1b4a780edc4786b"
      }
     },
     "2943cb88b5064924a6d4dd29c083cb17": {
      "model_module": "@jupyter-widgets/base",
      "model_module_version": "1.2.0",
      "model_name": "LayoutModel",
      "state": {}
     },
     "29fd0beaedec4a08b321fb8d12ed88f1": {
      "model_module": "@jupyter-widgets/controls",
      "model_module_version": "1.5.0",
      "model_name": "HBoxModel",
      "state": {
       "children": [
        "IPY_MODEL_51114bd9de1c467ebccfdee0ff601bc0",
        "IPY_MODEL_4c2b33e358234814abd3d14d7befea15"
       ],
       "layout": "IPY_MODEL_a7727e18d4a34fa9af9e9dad484f1326"
      }
     },
     "309a591c912943e8b1175004b47e058c": {
      "model_module": "@jupyter-widgets/base",
      "model_module_version": "1.2.0",
      "model_name": "LayoutModel",
      "state": {}
     },
     "336cf3bb4f2c454f9c9934db7a270801": {
      "model_module": "@jupyter-widgets/base",
      "model_module_version": "1.2.0",
      "model_name": "LayoutModel",
      "state": {}
     },
     "3452209883094beeb4292d9a284eef1b": {
      "model_module": "@jupyter-widgets/base",
      "model_module_version": "1.2.0",
      "model_name": "LayoutModel",
      "state": {}
     },
     "387ee15b9c8245b1932fa654e5fae0fb": {
      "model_module": "@jupyter-widgets/controls",
      "model_module_version": "1.5.0",
      "model_name": "FloatProgressModel",
      "state": {
       "bar_style": "success",
       "description": "build report structure: 100%",
       "layout": "IPY_MODEL_c62277b5aa4844768fbfdc0e7883900b",
       "max": 1,
       "style": "IPY_MODEL_5c42582cf9824846babc4ff2c8d9cc6d",
       "value": 1
      }
     },
     "3b7c29528d59474ba0fddac270af6752": {
      "model_module": "@jupyter-widgets/controls",
      "model_module_version": "1.5.0",
      "model_name": "DescriptionStyleModel",
      "state": {
       "description_width": ""
      }
     },
     "3ef40db726234819b210ee03658bd335": {
      "model_module": "@jupyter-widgets/base",
      "model_module_version": "1.2.0",
      "model_name": "LayoutModel",
      "state": {}
     },
     "421f0091205544b6b496d8a3ce9159c2": {
      "model_module": "@jupyter-widgets/controls",
      "model_module_version": "1.5.0",
      "model_name": "ProgressStyleModel",
      "state": {
       "description_width": "initial"
      }
     },
     "44fa445dc7fe4c5a96834ceb8d66bf17": {
      "model_module": "@jupyter-widgets/controls",
      "model_module_version": "1.5.0",
      "model_name": "HTMLModel",
      "state": {
       "layout": "IPY_MODEL_0d89facf49984557be480c906319e569",
       "style": "IPY_MODEL_3b7c29528d59474ba0fddac270af6752",
       "value": " 6/6 [00:20&lt;00:00,  3.49s/it]"
      }
     },
     "455cc014332144a9806956763a7c7458": {
      "model_module": "@jupyter-widgets/controls",
      "model_module_version": "1.5.0",
      "model_name": "ProgressStyleModel",
      "state": {
       "description_width": "initial"
      }
     },
     "4584fb411e804351b542ba88fe3a928d": {
      "model_module": "@jupyter-widgets/controls",
      "model_module_version": "1.5.0",
      "model_name": "DescriptionStyleModel",
      "state": {
       "description_width": ""
      }
     },
     "4772dc0a9a9a44d786dec1e4bff8a724": {
      "model_module": "@jupyter-widgets/controls",
      "model_module_version": "1.5.0",
      "model_name": "ProgressStyleModel",
      "state": {
       "description_width": "initial"
      }
     },
     "483a7559217f4c7d85ac0c3731db9be7": {
      "model_module": "@jupyter-widgets/controls",
      "model_module_version": "1.5.0",
      "model_name": "DescriptionStyleModel",
      "state": {
       "description_width": ""
      }
     },
     "4999fa78bb1043e4bf3a1d40a3bc5d9f": {
      "model_module": "@jupyter-widgets/base",
      "model_module_version": "1.2.0",
      "model_name": "LayoutModel",
      "state": {}
     },
     "4c2b33e358234814abd3d14d7befea15": {
      "model_module": "@jupyter-widgets/controls",
      "model_module_version": "1.5.0",
      "model_name": "HTMLModel",
      "state": {
       "layout": "IPY_MODEL_a6acd209bae74ea5a510bef7c5b2d273",
       "style": "IPY_MODEL_067a3052f0a6451383d96091631c1cd1",
       "value": " 1/1 [00:00&lt;00:00,  1.77it/s]"
      }
     },
     "4d39c14c042642a39ad88dc43612634d": {
      "model_module": "@jupyter-widgets/base",
      "model_module_version": "1.2.0",
      "model_name": "LayoutModel",
      "state": {}
     },
     "51114bd9de1c467ebccfdee0ff601bc0": {
      "model_module": "@jupyter-widgets/controls",
      "model_module_version": "1.5.0",
      "model_name": "FloatProgressModel",
      "state": {
       "bar_style": "success",
       "description": "package: 100%",
       "layout": "IPY_MODEL_784966e5e0a14fbda2b11835baa3c592",
       "max": 1,
       "style": "IPY_MODEL_fee0c9c88ff24681b327ea67844c9d71",
       "value": 1
      }
     },
     "52fd97b9bef542bc92464253291f6f23": {
      "model_module": "@jupyter-widgets/controls",
      "model_module_version": "1.5.0",
      "model_name": "HBoxModel",
      "state": {
       "children": [
        "IPY_MODEL_fc7e710397994703a171e71dc4fcd0a9",
        "IPY_MODEL_44fa445dc7fe4c5a96834ceb8d66bf17"
       ],
       "layout": "IPY_MODEL_2943cb88b5064924a6d4dd29c083cb17"
      }
     },
     "536fa92bf2a041be8b12f25cb6f9bec9": {
      "model_module": "@jupyter-widgets/controls",
      "model_module_version": "1.5.0",
      "model_name": "HTMLModel",
      "state": {
       "layout": "IPY_MODEL_4d39c14c042642a39ad88dc43612634d",
       "style": "IPY_MODEL_8cdd1d92088c4b82bf18540099115cb6",
       "value": " 16/16 [00:07&lt;00:00,  2.05it/s]"
      }
     },
     "5c42582cf9824846babc4ff2c8d9cc6d": {
      "model_module": "@jupyter-widgets/controls",
      "model_module_version": "1.5.0",
      "model_name": "ProgressStyleModel",
      "state": {
       "description_width": "initial"
      }
     },
     "6180068a84e748b9a44f0d797126ab03": {
      "model_module": "@jupyter-widgets/base",
      "model_module_version": "1.2.0",
      "model_name": "LayoutModel",
      "state": {}
     },
     "6192b94e51a7491e831030071330453f": {
      "model_module": "@jupyter-widgets/controls",
      "model_module_version": "1.5.0",
      "model_name": "ProgressStyleModel",
      "state": {
       "description_width": "initial"
      }
     },
     "6640bbea298f4cd8a20c8587c4328930": {
      "model_module": "@jupyter-widgets/controls",
      "model_module_version": "1.5.0",
      "model_name": "FloatProgressModel",
      "state": {
       "bar_style": "success",
       "description": "warnings [correlations]: 100%",
       "layout": "IPY_MODEL_3ef40db726234819b210ee03658bd335",
       "max": 3,
       "style": "IPY_MODEL_455cc014332144a9806956763a7c7458",
       "value": 3
      }
     },
     "784966e5e0a14fbda2b11835baa3c592": {
      "model_module": "@jupyter-widgets/base",
      "model_module_version": "1.2.0",
      "model_name": "LayoutModel",
      "state": {}
     },
     "79aaf5cb7b374a5bb1b4a780edc4786b": {
      "model_module": "@jupyter-widgets/base",
      "model_module_version": "1.2.0",
      "model_name": "LayoutModel",
      "state": {}
     },
     "7ad62b080b2d418c90a23d77a5b25fbd": {
      "model_module": "@jupyter-widgets/base",
      "model_module_version": "1.2.0",
      "model_name": "LayoutModel",
      "state": {}
     },
     "80f7054055224b0a96affcbcded458da": {
      "model_module": "@jupyter-widgets/controls",
      "model_module_version": "1.5.0",
      "model_name": "DescriptionStyleModel",
      "state": {
       "description_width": ""
      }
     },
     "892dc2a4a1d342678a12406d46b76e16": {
      "model_module": "@jupyter-widgets/controls",
      "model_module_version": "1.5.0",
      "model_name": "HTMLModel",
      "state": {
       "layout": "IPY_MODEL_a3e1ffc8d5ee420baede5516890b3e6d",
       "style": "IPY_MODEL_483a7559217f4c7d85ac0c3731db9be7",
       "value": " 6/6 [00:19&lt;00:00,  3.30s/it]"
      }
     },
     "897e2d180f1040f4b0350ca339b95bc8": {
      "model_module": "@jupyter-widgets/controls",
      "model_module_version": "1.5.0",
      "model_name": "HTMLModel",
      "state": {
       "layout": "IPY_MODEL_e338461e25f545308af4de9e55cbdcfa",
       "style": "IPY_MODEL_80f7054055224b0a96affcbcded458da",
       "value": " 1/1 [00:03&lt;00:00,  3.98s/it]"
      }
     },
     "8a9c238adb9d4441926d6a5cd777d0dd": {
      "model_module": "@jupyter-widgets/base",
      "model_module_version": "1.2.0",
      "model_name": "LayoutModel",
      "state": {}
     },
     "8b31dee6216547ffb555ba9e6cf57b5f": {
      "model_module": "@jupyter-widgets/base",
      "model_module_version": "1.2.0",
      "model_name": "LayoutModel",
      "state": {}
     },
     "8cdd1d92088c4b82bf18540099115cb6": {
      "model_module": "@jupyter-widgets/controls",
      "model_module_version": "1.5.0",
      "model_name": "DescriptionStyleModel",
      "state": {
       "description_width": ""
      }
     },
     "970dc20c0dc84aa6bac178dd68c99626": {
      "model_module": "@jupyter-widgets/controls",
      "model_module_version": "1.5.0",
      "model_name": "FloatProgressModel",
      "state": {
       "bar_style": "success",
       "description": "table: 100%",
       "layout": "IPY_MODEL_8a9c238adb9d4441926d6a5cd777d0dd",
       "max": 1,
       "style": "IPY_MODEL_6192b94e51a7491e831030071330453f",
       "value": 1
      }
     },
     "99d936b9fd5e4662afd8b7941385ce93": {
      "model_module": "@jupyter-widgets/controls",
      "model_module_version": "1.5.0",
      "model_name": "FloatProgressModel",
      "state": {
       "bar_style": "success",
       "description": "interactions [continuous]: 100%",
       "layout": "IPY_MODEL_9ef9f6fe9c074fe0a541311e4c9070b3",
       "max": 16,
       "style": "IPY_MODEL_421f0091205544b6b496d8a3ce9159c2",
       "value": 16
      }
     },
     "9ef9f6fe9c074fe0a541311e4c9070b3": {
      "model_module": "@jupyter-widgets/base",
      "model_module_version": "1.2.0",
      "model_name": "LayoutModel",
      "state": {}
     },
     "a3e1ffc8d5ee420baede5516890b3e6d": {
      "model_module": "@jupyter-widgets/base",
      "model_module_version": "1.2.0",
      "model_name": "LayoutModel",
      "state": {}
     },
     "a6acd209bae74ea5a510bef7c5b2d273": {
      "model_module": "@jupyter-widgets/base",
      "model_module_version": "1.2.0",
      "model_name": "LayoutModel",
      "state": {}
     },
     "a7727e18d4a34fa9af9e9dad484f1326": {
      "model_module": "@jupyter-widgets/base",
      "model_module_version": "1.2.0",
      "model_name": "LayoutModel",
      "state": {}
     },
     "b2119982e2864af39f26612e468307a5": {
      "model_module": "@jupyter-widgets/controls",
      "model_module_version": "1.5.0",
      "model_name": "FloatProgressModel",
      "state": {
       "bar_style": "success",
       "description": "correlations [recoded]: 100%",
       "layout": "IPY_MODEL_8b31dee6216547ffb555ba9e6cf57b5f",
       "max": 6,
       "style": "IPY_MODEL_4772dc0a9a9a44d786dec1e4bff8a724",
       "value": 6
      }
     },
     "b35f646fc39349e0828c9563ff70a338": {
      "model_module": "@jupyter-widgets/base",
      "model_module_version": "1.2.0",
      "model_name": "LayoutModel",
      "state": {}
     },
     "b79c948772334484b73ae1c0033e1f90": {
      "model_module": "@jupyter-widgets/controls",
      "model_module_version": "1.5.0",
      "model_name": "HBoxModel",
      "state": {
       "children": [
        "IPY_MODEL_387ee15b9c8245b1932fa654e5fae0fb",
        "IPY_MODEL_da04ad3bcb5f44ecaab3dce68d78c358"
       ],
       "layout": "IPY_MODEL_3452209883094beeb4292d9a284eef1b"
      }
     },
     "c18887eab2624bf28ec8a1d1278f56c3": {
      "model_module": "@jupyter-widgets/controls",
      "model_module_version": "1.5.0",
      "model_name": "DescriptionStyleModel",
      "state": {
       "description_width": ""
      }
     },
     "c62277b5aa4844768fbfdc0e7883900b": {
      "model_module": "@jupyter-widgets/base",
      "model_module_version": "1.2.0",
      "model_name": "LayoutModel",
      "state": {}
     },
     "cdce05415dd748e6a1fa27ba079658cb": {
      "model_module": "@jupyter-widgets/controls",
      "model_module_version": "1.5.0",
      "model_name": "ProgressStyleModel",
      "state": {
       "description_width": "initial"
      }
     },
     "d522ad7788f44eca9f44d898ec2f36c3": {
      "model_module": "@jupyter-widgets/controls",
      "model_module_version": "1.5.0",
      "model_name": "HBoxModel",
      "state": {
       "children": [
        "IPY_MODEL_b2119982e2864af39f26612e468307a5",
        "IPY_MODEL_892dc2a4a1d342678a12406d46b76e16"
       ],
       "layout": "IPY_MODEL_336cf3bb4f2c454f9c9934db7a270801"
      }
     },
     "d9370dd196fb403389669613297c942e": {
      "model_module": "@jupyter-widgets/controls",
      "model_module_version": "1.5.0",
      "model_name": "FloatProgressModel",
      "state": {
       "bar_style": "success",
       "description": "missing [matrix]: 100%",
       "layout": "IPY_MODEL_eb53168adbff49c487f324ea60929b46",
       "max": 2,
       "style": "IPY_MODEL_cdce05415dd748e6a1fa27ba079658cb",
       "value": 2
      }
     },
     "d9553cd9c3f14f27900270ef07b103a2": {
      "model_module": "@jupyter-widgets/controls",
      "model_module_version": "1.5.0",
      "model_name": "DescriptionStyleModel",
      "state": {
       "description_width": ""
      }
     },
     "da04ad3bcb5f44ecaab3dce68d78c358": {
      "model_module": "@jupyter-widgets/controls",
      "model_module_version": "1.5.0",
      "model_name": "HTMLModel",
      "state": {
       "layout": "IPY_MODEL_7ad62b080b2d418c90a23d77a5b25fbd",
       "style": "IPY_MODEL_4584fb411e804351b542ba88fe3a928d",
       "value": " 1/1 [07:52&lt;00:00, 472.95s/it]"
      }
     },
     "dd284f2c7fa749089becf1862f6b9469": {
      "model_module": "@jupyter-widgets/controls",
      "model_module_version": "1.5.0",
      "model_name": "HTMLModel",
      "state": {
       "layout": "IPY_MODEL_b35f646fc39349e0828c9563ff70a338",
       "style": "IPY_MODEL_d9553cd9c3f14f27900270ef07b103a2",
       "value": " 3/3 [00:00&lt;00:00, 23.50it/s]"
      }
     },
     "e338461e25f545308af4de9e55cbdcfa": {
      "model_module": "@jupyter-widgets/base",
      "model_module_version": "1.2.0",
      "model_name": "LayoutModel",
      "state": {}
     },
     "eb53168adbff49c487f324ea60929b46": {
      "model_module": "@jupyter-widgets/base",
      "model_module_version": "1.2.0",
      "model_name": "LayoutModel",
      "state": {}
     },
     "ee92ba4b1f0940d1ba66cf75baa0d35c": {
      "model_module": "@jupyter-widgets/base",
      "model_module_version": "1.2.0",
      "model_name": "LayoutModel",
      "state": {}
     },
     "f3faca9aaba7410ab8f3166e3d42fc30": {
      "model_module": "@jupyter-widgets/base",
      "model_module_version": "1.2.0",
      "model_name": "LayoutModel",
      "state": {}
     },
     "fc7e710397994703a171e71dc4fcd0a9": {
      "model_module": "@jupyter-widgets/controls",
      "model_module_version": "1.5.0",
      "model_name": "FloatProgressModel",
      "state": {
       "bar_style": "success",
       "description": "variables: 100%",
       "layout": "IPY_MODEL_4999fa78bb1043e4bf3a1d40a3bc5d9f",
       "max": 6,
       "style": "IPY_MODEL_05efb7a060bb4556bf806e4a6289f3ae",
       "value": 6
      }
     },
     "fee0c9c88ff24681b327ea67844c9d71": {
      "model_module": "@jupyter-widgets/controls",
      "model_module_version": "1.5.0",
      "model_name": "ProgressStyleModel",
      "state": {
       "description_width": "initial"
      }
     }
    },
    "version_major": 2,
    "version_minor": 0
   }
  }
 },
 "nbformat": 4,
 "nbformat_minor": 2
}

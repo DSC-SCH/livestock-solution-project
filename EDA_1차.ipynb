{
 "cells": [
  {
   "cell_type": "code",
   "execution_count": 27,
   "metadata": {},
   "outputs": [],
   "source": [
    "import pandas as pd\n",
    "import seaborn as sns\n",
    "import os\n",
    "import matplotlib.pyplot as plt\n",
    "\n",
    "from matplotlib import font_manager, rc\n",
    "font_name = font_manager.FontProperties(fname=\"c:/Windows/Fonts/malgun.ttf\").get_name()\n",
    "rc('font', family=font_name)"
   ]
  },
  {
   "cell_type": "code",
   "execution_count": 3,
   "metadata": {},
   "outputs": [],
   "source": [
    "os.chdir(r\"C:\\Users\\a0105\\Desktop\\DSC\\ddd\\data\")"
   ]
  },
  {
   "cell_type": "markdown",
   "metadata": {},
   "source": [
    "# 가축질병발생정보 "
   ]
  },
  {
   "cell_type": "code",
   "execution_count": 39,
   "metadata": {},
   "outputs": [],
   "source": [
    "disease = pd.read_excel(\"가축질병발생정보.xlsx\")"
   ]
  },
  {
   "cell_type": "code",
   "execution_count": 40,
   "metadata": {},
   "outputs": [
    {
     "data": {
      "text/html": [
       "<div>\n",
       "<style scoped>\n",
       "    .dataframe tbody tr th:only-of-type {\n",
       "        vertical-align: middle;\n",
       "    }\n",
       "\n",
       "    .dataframe tbody tr th {\n",
       "        vertical-align: top;\n",
       "    }\n",
       "\n",
       "    .dataframe thead th {\n",
       "        text-align: right;\n",
       "    }\n",
       "</style>\n",
       "<table border=\"1\" class=\"dataframe\">\n",
       "  <thead>\n",
       "    <tr style=\"text-align: right;\">\n",
       "      <th></th>\n",
       "      <th>전염병발생번호</th>\n",
       "      <th>가축전염병명</th>\n",
       "      <th>농장명(농장주)</th>\n",
       "      <th>농장소재지 법정동 코드</th>\n",
       "      <th>농장소재지</th>\n",
       "      <th>발생일자(잔단일)</th>\n",
       "      <th>축품종 코드</th>\n",
       "      <th>축종(품종)</th>\n",
       "      <th>발생두수(마리)</th>\n",
       "      <th>진단기관코드</th>\n",
       "      <th>진단기관</th>\n",
       "      <th>종식일</th>\n",
       "    </tr>\n",
       "  </thead>\n",
       "  <tbody>\n",
       "    <tr>\n",
       "      <th>0</th>\n",
       "      <td>166059</td>\n",
       "      <td>결핵병</td>\n",
       "      <td>박택상</td>\n",
       "      <td>4790039021</td>\n",
       "      <td>경상북도 예천군 개포면 금리</td>\n",
       "      <td>21071030</td>\n",
       "      <td>412002</td>\n",
       "      <td>소-한우</td>\n",
       "      <td>1</td>\n",
       "      <td>6430838</td>\n",
       "      <td>충북 중부지소</td>\n",
       "      <td></td>\n",
       "    </tr>\n",
       "    <tr>\n",
       "      <th>1</th>\n",
       "      <td>54842</td>\n",
       "      <td>낭충봉아부패병</td>\n",
       "      <td>이선우</td>\n",
       "      <td>4682033031</td>\n",
       "      <td>전라남도 해남군 현산면 조산리</td>\n",
       "      <td>20200408</td>\n",
       "      <td>418600</td>\n",
       "      <td>벌-재래종</td>\n",
       "      <td>90</td>\n",
       "      <td>6460950</td>\n",
       "      <td>전남 동물위생시험소</td>\n",
       "      <td></td>\n",
       "    </tr>\n",
       "    <tr>\n",
       "      <th>2</th>\n",
       "      <td>214807</td>\n",
       "      <td>결핵병</td>\n",
       "      <td>이천호</td>\n",
       "      <td>4148011200</td>\n",
       "      <td>경기도 파주시 산남동</td>\n",
       "      <td>20200403</td>\n",
       "      <td>412004</td>\n",
       "      <td>소-젖소</td>\n",
       "      <td>5</td>\n",
       "      <td>6412103</td>\n",
       "      <td>경기 북부 동물위생시험소</td>\n",
       "      <td></td>\n",
       "    </tr>\n",
       "    <tr>\n",
       "      <th>3</th>\n",
       "      <td>54811</td>\n",
       "      <td>낭충봉아부패병</td>\n",
       "      <td>이칠성</td>\n",
       "      <td>4615037021</td>\n",
       "      <td>전라남도 순천시 외서면 신덕리</td>\n",
       "      <td>20200403</td>\n",
       "      <td>418600</td>\n",
       "      <td>벌-재래종</td>\n",
       "      <td>17</td>\n",
       "      <td>6460950</td>\n",
       "      <td>전남 동물위생시험소</td>\n",
       "      <td></td>\n",
       "    </tr>\n",
       "    <tr>\n",
       "      <th>4</th>\n",
       "      <td>214689</td>\n",
       "      <td>결핵병</td>\n",
       "      <td>내구</td>\n",
       "      <td>4167034026</td>\n",
       "      <td>경기도 여주시 능서면 용은리</td>\n",
       "      <td>20200402</td>\n",
       "      <td>412003</td>\n",
       "      <td>소-육우</td>\n",
       "      <td>1</td>\n",
       "      <td>6412106</td>\n",
       "      <td>경기 동부지소</td>\n",
       "      <td></td>\n",
       "    </tr>\n",
       "  </tbody>\n",
       "</table>\n",
       "</div>"
      ],
      "text/plain": [
       "   전염병발생번호   가축전염병명 농장명(농장주)  농장소재지 법정동 코드             농장소재지  발생일자(잔단일)  \\\n",
       "0   166059      결핵병      박택상    4790039021   경상북도 예천군 개포면 금리   21071030   \n",
       "1    54842  낭충봉아부패병      이선우    4682033031  전라남도 해남군 현산면 조산리   20200408   \n",
       "2   214807      결핵병      이천호    4148011200       경기도 파주시 산남동   20200403   \n",
       "3    54811  낭충봉아부패병      이칠성    4615037021  전라남도 순천시 외서면 신덕리   20200403   \n",
       "4   214689      결핵병       내구    4167034026   경기도 여주시 능서면 용은리   20200402   \n",
       "\n",
       "   축품종 코드 축종(품종)  발생두수(마리)   진단기관코드           진단기관 종식일  \n",
       "0  412002   소-한우         1  6430838        충북 중부지소      \n",
       "1  418600  벌-재래종        90  6460950     전남 동물위생시험소      \n",
       "2  412004   소-젖소         5  6412103  경기 북부 동물위생시험소      \n",
       "3  418600  벌-재래종        17  6460950     전남 동물위생시험소      \n",
       "4  412003   소-육우         1  6412106        경기 동부지소      "
      ]
     },
     "execution_count": 40,
     "metadata": {},
     "output_type": "execute_result"
    }
   ],
   "source": [
    "disease.head()"
   ]
  },
  {
   "cell_type": "code",
   "execution_count": 82,
   "metadata": {},
   "outputs": [
    {
     "name": "stdout",
     "output_type": "stream",
     "text": [
      "<class 'pandas.core.frame.DataFrame'>\n",
      "RangeIndex: 41024 entries, 0 to 41023\n",
      "Data columns (total 12 columns):\n",
      " #   Column        Non-Null Count  Dtype \n",
      "---  ------        --------------  ----- \n",
      " 0   전염병발생번호       41024 non-null  int64 \n",
      " 1   가축전염병명        41024 non-null  object\n",
      " 2   농장명(농장주)      41024 non-null  object\n",
      " 3   농장소재지 법정동 코드  41024 non-null  int64 \n",
      " 4   농장소재지         41024 non-null  object\n",
      " 5   발생일자(잔단일)     41024 non-null  int64 \n",
      " 6   축품종 코드        41024 non-null  int64 \n",
      " 7   축종(품종)        41024 non-null  object\n",
      " 8   발생두수(마리)      41024 non-null  int64 \n",
      " 9   진단기관코드        41024 non-null  object\n",
      " 10  진단기관          41024 non-null  object\n",
      " 11  종식일           41024 non-null  object\n",
      "dtypes: int64(5), object(7)\n",
      "memory usage: 3.8+ MB\n"
     ]
    }
   ],
   "source": [
    "disease.info()"
   ]
  },
  {
   "cell_type": "code",
   "execution_count": 112,
   "metadata": {},
   "outputs": [],
   "source": [
    "disease['발생일자(잔단일)'] = disease['발생일자(잔단일)'].astype('str')"
   ]
  },
  {
   "cell_type": "code",
   "execution_count": 113,
   "metadata": {},
   "outputs": [
    {
     "data": {
      "text/plain": [
       "전염병발생번호         0\n",
       "가축전염병명          0\n",
       "농장명(농장주)        0\n",
       "농장소재지 법정동 코드    0\n",
       "농장소재지           0\n",
       "발생일자(잔단일)       0\n",
       "축품종 코드          0\n",
       "축종(품종)          0\n",
       "발생두수(마리)        0\n",
       "진단기관코드          0\n",
       "진단기관            0\n",
       "종식일             0\n",
       "dtype: int64"
      ]
     },
     "execution_count": 113,
     "metadata": {},
     "output_type": "execute_result"
    }
   ],
   "source": [
    "disease.isnull().sum()"
   ]
  },
  {
   "cell_type": "code",
   "execution_count": 114,
   "metadata": {},
   "outputs": [],
   "source": [
    "disease2 = disease[['가축전염병명','농장명(농장주)','농장소재지','발생일자(잔단일)','축종(품종)','발생두수(마리)']]"
   ]
  },
  {
   "cell_type": "code",
   "execution_count": 115,
   "metadata": {},
   "outputs": [
    {
     "data": {
      "text/plain": [
       "소-한우       26845\n",
       "소-젖소        4643\n",
       "돼지-육성돈      1392\n",
       "소-육우        1272\n",
       "벌-재래종       1115\n",
       "닭-육계        1033\n",
       "돼지           677\n",
       "닭-산란계        571\n",
       "사슴-엘크        496\n",
       "오리-육용오리      409\n",
       "닭            297\n",
       "소            253\n",
       "돼지-비분류       207\n",
       "닭-토종닭        173\n",
       "벌-개량종        156\n",
       "돼지-비육돈       123\n",
       "닭-기타         120\n",
       "오리-종오리       107\n",
       "돼지-종돈        102\n",
       "돼지-자돈         98\n",
       "사슴-비분류        89\n",
       "돼지-기타         87\n",
       "돼지-일반         86\n",
       "돼지-삼원교잡       82\n",
       "닭-삼계          65\n",
       "사슴-꽃사슴        60\n",
       "닭-종계          59\n",
       "              52\n",
       "사슴            50\n",
       "벌-비분류         42\n",
       "사슴-기타         34\n",
       "돼지-모돈         31\n",
       "돼지-이유자돈       20\n",
       "닭-원종계         16\n",
       "돼지-유산태아       16\n",
       "소-비분류         13\n",
       "닭-비분류         12\n",
       "오리-기타         12\n",
       "메추리-비분류       11\n",
       "닭-일괄          10\n",
       "오리             9\n",
       "돼지-포유자돈        9\n",
       "돼지-일괄          8\n",
       "사슴-레드디어        8\n",
       "오리-산란오리        8\n",
       "메추리            7\n",
       "닭-백세미          7\n",
       "돼지-후보돈         6\n",
       "벌-기타벌          5\n",
       "소-기타           4\n",
       "거위-비분류         4\n",
       "산양-기타          3\n",
       "돼지-임신모돈        2\n",
       "오리-비분류         2\n",
       "소-교잡우          1\n",
       "돼지-흑돼지         1\n",
       "소-유산태아         1\n",
       "돼지-멧돼지         1\n",
       "산양             1\n",
       "칠면조            1\n",
       "Name: 축종(품종), dtype: int64"
      ]
     },
     "execution_count": 115,
     "metadata": {},
     "output_type": "execute_result"
    }
   ],
   "source": [
    "disease2['축종(품종)'].value_counts()"
   ]
  },
  {
   "cell_type": "code",
   "execution_count": 116,
   "metadata": {},
   "outputs": [],
   "source": [
    "disease2 = disease2[disease2['축종(품종)'].str.contains('|'.join(['소','돼지']))==True]"
   ]
  },
  {
   "cell_type": "code",
   "execution_count": 117,
   "metadata": {},
   "outputs": [
    {
     "data": {
      "text/plain": [
       "소-한우       26845\n",
       "소-젖소        4643\n",
       "돼지-육성돈      1392\n",
       "소-육우        1272\n",
       "돼지           677\n",
       "소            253\n",
       "돼지-비분류       207\n",
       "돼지-비육돈       123\n",
       "돼지-종돈        102\n",
       "돼지-자돈         98\n",
       "돼지-기타         87\n",
       "돼지-일반         86\n",
       "돼지-삼원교잡       82\n",
       "돼지-모돈         31\n",
       "돼지-이유자돈       20\n",
       "돼지-유산태아       16\n",
       "소-비분류         13\n",
       "돼지-포유자돈        9\n",
       "돼지-일괄          8\n",
       "돼지-후보돈         6\n",
       "소-기타           4\n",
       "돼지-임신모돈        2\n",
       "돼지-멧돼지         1\n",
       "소-유산태아         1\n",
       "돼지-흑돼지         1\n",
       "소-교잡우          1\n",
       "Name: 축종(품종), dtype: int64"
      ]
     },
     "execution_count": 117,
     "metadata": {},
     "output_type": "execute_result"
    }
   ],
   "source": [
    "disease2['축종(품종)'].value_counts()"
   ]
  },
  {
   "cell_type": "code",
   "execution_count": 118,
   "metadata": {},
   "outputs": [],
   "source": [
    "disease2 = disease2.reset_index()\n",
    "del disease2['index']"
   ]
  },
  {
   "cell_type": "code",
   "execution_count": 119,
   "metadata": {},
   "outputs": [
    {
     "data": {
      "text/html": [
       "<div>\n",
       "<style scoped>\n",
       "    .dataframe tbody tr th:only-of-type {\n",
       "        vertical-align: middle;\n",
       "    }\n",
       "\n",
       "    .dataframe tbody tr th {\n",
       "        vertical-align: top;\n",
       "    }\n",
       "\n",
       "    .dataframe thead th {\n",
       "        text-align: right;\n",
       "    }\n",
       "</style>\n",
       "<table border=\"1\" class=\"dataframe\">\n",
       "  <thead>\n",
       "    <tr style=\"text-align: right;\">\n",
       "      <th></th>\n",
       "      <th>가축전염병명</th>\n",
       "      <th>농장명(농장주)</th>\n",
       "      <th>농장소재지</th>\n",
       "      <th>발생일자(잔단일)</th>\n",
       "      <th>축종(품종)</th>\n",
       "      <th>발생두수(마리)</th>\n",
       "    </tr>\n",
       "  </thead>\n",
       "  <tbody>\n",
       "    <tr>\n",
       "      <th>0</th>\n",
       "      <td>결핵병</td>\n",
       "      <td>박택상</td>\n",
       "      <td>경상북도 예천군 개포면 금리</td>\n",
       "      <td>21071030</td>\n",
       "      <td>소-한우</td>\n",
       "      <td>1</td>\n",
       "    </tr>\n",
       "    <tr>\n",
       "      <th>1</th>\n",
       "      <td>결핵병</td>\n",
       "      <td>이천호</td>\n",
       "      <td>경기도 파주시 산남동</td>\n",
       "      <td>20200403</td>\n",
       "      <td>소-젖소</td>\n",
       "      <td>5</td>\n",
       "    </tr>\n",
       "    <tr>\n",
       "      <th>2</th>\n",
       "      <td>결핵병</td>\n",
       "      <td>내구</td>\n",
       "      <td>경기도 여주시 능서면 용은리</td>\n",
       "      <td>20200402</td>\n",
       "      <td>소-육우</td>\n",
       "      <td>1</td>\n",
       "    </tr>\n",
       "    <tr>\n",
       "      <th>3</th>\n",
       "      <td>결핵병</td>\n",
       "      <td>박영훈</td>\n",
       "      <td>경기도 파주시 법원읍 가야리</td>\n",
       "      <td>20200402</td>\n",
       "      <td>소-젖소</td>\n",
       "      <td>1</td>\n",
       "    </tr>\n",
       "    <tr>\n",
       "      <th>4</th>\n",
       "      <td>결핵병</td>\n",
       "      <td>대도축산</td>\n",
       "      <td>전라남도 장성군 삼서면 대도리</td>\n",
       "      <td>20200331</td>\n",
       "      <td>소-한우</td>\n",
       "      <td>1</td>\n",
       "    </tr>\n",
       "    <tr>\n",
       "      <th>...</th>\n",
       "      <td>...</td>\n",
       "      <td>...</td>\n",
       "      <td>...</td>\n",
       "      <td>...</td>\n",
       "      <td>...</td>\n",
       "      <td>...</td>\n",
       "    </tr>\n",
       "    <tr>\n",
       "      <th>35975</th>\n",
       "      <td>돼지오제스키병</td>\n",
       "      <td>정태윤</td>\n",
       "      <td>충청남도 홍성군 홍북면 신경리</td>\n",
       "      <td>19960422</td>\n",
       "      <td>돼지-육성돈</td>\n",
       "      <td>132</td>\n",
       "    </tr>\n",
       "    <tr>\n",
       "      <th>35976</th>\n",
       "      <td>돼지오제스키병</td>\n",
       "      <td>정태윤</td>\n",
       "      <td>충청남도 홍성군 홍북면 신경리</td>\n",
       "      <td>19960412</td>\n",
       "      <td>돼지-육성돈</td>\n",
       "      <td>31</td>\n",
       "    </tr>\n",
       "    <tr>\n",
       "      <th>35977</th>\n",
       "      <td>돼지오제스키병</td>\n",
       "      <td>조인수</td>\n",
       "      <td>경기도 용인시 처인구 백암면</td>\n",
       "      <td>19960206</td>\n",
       "      <td>돼지</td>\n",
       "      <td>10</td>\n",
       "    </tr>\n",
       "    <tr>\n",
       "      <th>35978</th>\n",
       "      <td>돼지오제스키병</td>\n",
       "      <td>조인수</td>\n",
       "      <td>경기도 용인시 처인구 백암면</td>\n",
       "      <td>19950724</td>\n",
       "      <td>돼지</td>\n",
       "      <td>12</td>\n",
       "    </tr>\n",
       "    <tr>\n",
       "      <th>35979</th>\n",
       "      <td>돼지오제스키병</td>\n",
       "      <td>조인수</td>\n",
       "      <td>경기도 용인시 처인구 백암면</td>\n",
       "      <td>19950622</td>\n",
       "      <td>돼지</td>\n",
       "      <td>47</td>\n",
       "    </tr>\n",
       "  </tbody>\n",
       "</table>\n",
       "<p>35980 rows × 6 columns</p>\n",
       "</div>"
      ],
      "text/plain": [
       "        가축전염병명 농장명(농장주)             농장소재지 발생일자(잔단일)  축종(품종)  발생두수(마리)\n",
       "0          결핵병      박택상   경상북도 예천군 개포면 금리  21071030    소-한우         1\n",
       "1          결핵병      이천호       경기도 파주시 산남동  20200403    소-젖소         5\n",
       "2          결핵병       내구   경기도 여주시 능서면 용은리  20200402    소-육우         1\n",
       "3          결핵병      박영훈   경기도 파주시 법원읍 가야리  20200402    소-젖소         1\n",
       "4          결핵병     대도축산  전라남도 장성군 삼서면 대도리  20200331    소-한우         1\n",
       "...        ...      ...               ...       ...     ...       ...\n",
       "35975  돼지오제스키병      정태윤  충청남도 홍성군 홍북면 신경리  19960422  돼지-육성돈       132\n",
       "35976  돼지오제스키병      정태윤  충청남도 홍성군 홍북면 신경리  19960412  돼지-육성돈        31\n",
       "35977  돼지오제스키병      조인수   경기도 용인시 처인구 백암면  19960206      돼지        10\n",
       "35978  돼지오제스키병      조인수   경기도 용인시 처인구 백암면  19950724      돼지        12\n",
       "35979  돼지오제스키병      조인수   경기도 용인시 처인구 백암면  19950622      돼지        47\n",
       "\n",
       "[35980 rows x 6 columns]"
      ]
     },
     "execution_count": 119,
     "metadata": {},
     "output_type": "execute_result"
    }
   ],
   "source": [
    "disease2"
   ]
  },
  {
   "cell_type": "code",
   "execution_count": 120,
   "metadata": {},
   "outputs": [
    {
     "data": {
      "text/plain": [
       "브루셀라병               23604\n",
       "결핵병                  9282\n",
       "돼지오제스키병              1429\n",
       "돼지생식기호흡기증후군          1096\n",
       "구제역                   427\n",
       "돼지열병                  128\n",
       "돼지생식기호흡기증후군-생식기형       11\n",
       "낭충봉아부패병                 2\n",
       "고병원성 조류인플루엔자            1\n",
       "Name: 가축전염병명, dtype: int64"
      ]
     },
     "execution_count": 120,
     "metadata": {},
     "output_type": "execute_result"
    }
   ],
   "source": [
    "disease2['가축전염병명'].value_counts()"
   ]
  },
  {
   "cell_type": "markdown",
   "metadata": {},
   "source": [
    "* 위 질병에 관한 정보 파악 후 data engineering 필요"
   ]
  },
  {
   "cell_type": "code",
   "execution_count": 125,
   "metadata": {},
   "outputs": [],
   "source": [
    "disease2 = disease2.assign(year = disease2['발생일자(잔단일)'].str.slice(0, 4) )\n",
    "disease2 = disease2.assign(month = disease2['발생일자(잔단일)'].str.slice(4, 6) )\n",
    "disease2 = disease2.assign(day = disease2['발생일자(잔단일)'].str.slice(6, 8) )"
   ]
  },
  {
   "cell_type": "code",
   "execution_count": null,
   "metadata": {},
   "outputs": [],
   "source": [
    "disease2['year'].value_counts()"
   ]
  },
  {
   "cell_type": "code",
   "execution_count": 137,
   "metadata": {},
   "outputs": [],
   "source": [
    "disease2['year'] = disease2['year'].replace(\"2107\",\"2017\")\n",
    "disease2['year'] = disease2['year'].astype('int64')\n",
    "\n",
    "disease2 = disease2[(disease2.year>=2003) & (disease2.year<=2019)]"
   ]
  },
  {
   "cell_type": "code",
   "execution_count": 138,
   "metadata": {},
   "outputs": [
    {
     "data": {
      "text/plain": [
       "2006    6807\n",
       "2005    4651\n",
       "2007    3877\n",
       "2008    2846\n",
       "2009    2230\n",
       "2010    1687\n",
       "2011    1385\n",
       "2004    1279\n",
       "2012    1072\n",
       "2014    1072\n",
       "2017    1059\n",
       "2019    1009\n",
       "2018     965\n",
       "2015     947\n",
       "2013     934\n",
       "2016     857\n",
       "2003     621\n",
       "Name: year, dtype: int64"
      ]
     },
     "execution_count": 138,
     "metadata": {},
     "output_type": "execute_result"
    }
   ],
   "source": [
    "disease2['year'].value_counts()"
   ]
  },
  {
   "cell_type": "code",
   "execution_count": 182,
   "metadata": {},
   "outputs": [
    {
     "name": "stderr",
     "output_type": "stream",
     "text": [
      "C:\\Users\\a0105\\anaconda3\\lib\\site-packages\\ipykernel_launcher.py:1: SettingWithCopyWarning: \n",
      "A value is trying to be set on a copy of a slice from a DataFrame.\n",
      "Try using .loc[row_indexer,col_indexer] = value instead\n",
      "\n",
      "See the caveats in the documentation: https://pandas.pydata.org/pandas-docs/stable/user_guide/indexing.html#returning-a-view-versus-a-copy\n",
      "  \"\"\"Entry point for launching an IPython kernel.\n",
      "C:\\Users\\a0105\\anaconda3\\lib\\site-packages\\ipykernel_launcher.py:2: SettingWithCopyWarning: \n",
      "A value is trying to be set on a copy of a slice from a DataFrame.\n",
      "Try using .loc[row_indexer,col_indexer] = value instead\n",
      "\n",
      "See the caveats in the documentation: https://pandas.pydata.org/pandas-docs/stable/user_guide/indexing.html#returning-a-view-versus-a-copy\n",
      "  \n"
     ]
    }
   ],
   "source": [
    "disease_cow = disease2[disease2['축종(품종)'].str.contains(\"소\")==True]\n",
    "disease_pig = disease2[disease2['축종(품종)'].str.contains(\"돼지\")==True]\n",
    "\n",
    "disease_cow['kind'] = \"소\"\n",
    "disease_pig['kind'] = \"돼지\"\n",
    "\n",
    "data = pd.concat([disease_cow,disease_pig])"
   ]
  },
  {
   "cell_type": "code",
   "execution_count": 184,
   "metadata": {},
   "outputs": [],
   "source": [
    "data = data.groupby(['kind','month'])['발생두수(마리)'].sum().unstack(level=0)"
   ]
  },
  {
   "cell_type": "code",
   "execution_count": 187,
   "metadata": {},
   "outputs": [
    {
     "data": {
      "text/plain": [
       "<matplotlib.axes._subplots.AxesSubplot at 0x17389596388>"
      ]
     },
     "execution_count": 187,
     "metadata": {},
     "output_type": "execute_result"
    },
    {
     "data": {
      "image/png": "[encoded data removed]",
      "text/plain": [
       "<Figure size 432x288 with 1 Axes>"
      ]
     },
     "metadata": {
      "needs_background": "light"
     },
     "output_type": "display_data"
    }
   ],
   "source": [
    "plt.rc(\"font\",family=\"MalGun Gothic\")\n",
    "data.plot(kind = 'bar')"
   ]
  },
  {
   "cell_type": "code",
   "execution_count": 198,
   "metadata": {},
   "outputs": [
    {
     "data": {
      "text/plain": [
       "<matplotlib.axes._subplots.AxesSubplot at 0x1738cbfce88>"
      ]
     },
     "execution_count": 198,
     "metadata": {},
     "output_type": "execute_result"
    },
    {
     "data": {
      "image/png": "[encoded data removed]",
      "text/plain": [
       "<Figure size 432x288 with 1 Axes>"
      ]
     },
     "metadata": {
      "needs_background": "light"
     },
     "output_type": "display_data"
    }
   ],
   "source": [
    "disease_pig_group = disease_pig.groupby(['kind','month'])['발생두수(마리)'].sum().unstack(level=0)\n",
    "disease_pig_group.plot(kind = 'bar')"
   ]
  },
  {
   "cell_type": "code",
   "execution_count": 199,
   "metadata": {},
   "outputs": [
    {
     "data": {
      "text/plain": [
       "<matplotlib.axes._subplots.AxesSubplot at 0x1738cb9c6c8>"
      ]
     },
     "execution_count": 199,
     "metadata": {},
     "output_type": "execute_result"
    },
    {
     "data": {
      "image/png": "[encoded data removed]",
      "text/plain": [
       "<Figure size 432x288 with 1 Axes>"
      ]
     },
     "metadata": {
      "needs_background": "light"
     },
     "output_type": "display_data"
    }
   ],
   "source": [
    "disease_cow_group = disease_cow.groupby(['kind','month'])['발생두수(마리)'].sum().unstack(level=0)\n",
    "disease_cow_group.plot(kind = 'bar',color=\"orange\")"
   ]
  },
  {
   "cell_type": "code",
   "execution_count": 167,
   "metadata": {},
   "outputs": [
    {
     "data": {
      "text/plain": [
       "소-한우       26724\n",
       "소-젖소        4232\n",
       "소-육우         624\n",
       "돼지-육성돈       519\n",
       "돼지           269\n",
       "돼지-비분류       207\n",
       "돼지-비육돈       123\n",
       "돼지-종돈        102\n",
       "돼지-자돈         98\n",
       "돼지-기타         87\n",
       "돼지-일반         86\n",
       "돼지-삼원교잡       82\n",
       "소             34\n",
       "돼지-모돈         31\n",
       "돼지-이유자돈       19\n",
       "돼지-유산태아       16\n",
       "소-비분류         13\n",
       "돼지-포유자돈        8\n",
       "돼지-일괄          8\n",
       "돼지-후보돈         6\n",
       "소-기타           4\n",
       "돼지-임신모돈        2\n",
       "돼지-멧돼지         1\n",
       "소-유산태아         1\n",
       "돼지-흑돼지         1\n",
       "소-교잡우          1\n",
       "Name: 축종(품종), dtype: int64"
      ]
     },
     "execution_count": 167,
     "metadata": {},
     "output_type": "execute_result"
    }
   ],
   "source": [
    "disease2['축종(품종)'].value_counts()"
   ]
  },
  {
   "cell_type": "markdown",
   "metadata": {},
   "source": [
    "* 위 해당 품종들에 해당하는 행을 모두 사용할 것인가 고려"
   ]
  },
  {
   "cell_type": "code",
   "execution_count": 192,
   "metadata": {},
   "outputs": [],
   "source": [
    "#sns.countplot(x=\"month\", data=disease_pig)\n",
    "#plt.title('월별 가축 질병 발생 수(돼지)', weight='bold').set_fontsize('18')"
   ]
  },
  {
   "cell_type": "markdown",
   "metadata": {},
   "source": [
    "* 돼지의 그래프는 유독 8월에 적음.   \n",
    "* 소의 경우 봄철이 겨울철에 비해 발생 수가 더 많은 반면 돼지는 여름철에 더 적음\n",
    "    * 질병마다 특징이 달라서 그럴 것이라고 추정됨."
   ]
  },
  {
   "cell_type": "markdown",
   "metadata": {},
   "source": [
    "# 가축사육현황_한국유통수출협회"
   ]
  },
  {
   "cell_type": "code",
   "execution_count": 201,
   "metadata": {},
   "outputs": [],
   "source": [
    "cow = pd.read_csv(\"가축사육현황_한국유통수출협회.csv\",engine='python')"
   ]
  },
  {
   "cell_type": "code",
   "execution_count": 202,
   "metadata": {},
   "outputs": [
    {
     "data": {
      "text/html": [
       "<div>\n",
       "<style scoped>\n",
       "    .dataframe tbody tr th:only-of-type {\n",
       "        vertical-align: middle;\n",
       "    }\n",
       "\n",
       "    .dataframe tbody tr th {\n",
       "        vertical-align: top;\n",
       "    }\n",
       "\n",
       "    .dataframe thead th {\n",
       "        text-align: right;\n",
       "    }\n",
       "</style>\n",
       "<table border=\"1\" class=\"dataframe\">\n",
       "  <thead>\n",
       "    <tr style=\"text-align: right;\">\n",
       "      <th></th>\n",
       "      <th>Unnamed: 0</th>\n",
       "      <th>연도</th>\n",
       "      <th>월</th>\n",
       "      <th>마리수</th>\n",
       "      <th>번식우</th>\n",
       "      <th>1세미만(암)</th>\n",
       "      <th>1세미만(수)</th>\n",
       "      <th>1~2세(암)</th>\n",
       "      <th>1~2세(수)</th>\n",
       "      <th>2세이상(암)</th>\n",
       "      <th>2세이상(수)</th>\n",
       "    </tr>\n",
       "  </thead>\n",
       "  <tbody>\n",
       "    <tr>\n",
       "      <th>0</th>\n",
       "      <td>2</td>\n",
       "      <td>2000</td>\n",
       "      <td>3</td>\n",
       "      <td>1,819</td>\n",
       "      <td>1,142</td>\n",
       "      <td>262</td>\n",
       "      <td>384</td>\n",
       "      <td>239</td>\n",
       "      <td>222</td>\n",
       "      <td>690</td>\n",
       "      <td>22</td>\n",
       "    </tr>\n",
       "    <tr>\n",
       "      <th>1</th>\n",
       "      <td>3</td>\n",
       "      <td>2000</td>\n",
       "      <td>6</td>\n",
       "      <td>1,801</td>\n",
       "      <td>1,118</td>\n",
       "      <td>271</td>\n",
       "      <td>395</td>\n",
       "      <td>215</td>\n",
       "      <td>219</td>\n",
       "      <td>678</td>\n",
       "      <td>23</td>\n",
       "    </tr>\n",
       "    <tr>\n",
       "      <th>2</th>\n",
       "      <td>4</td>\n",
       "      <td>2000</td>\n",
       "      <td>9</td>\n",
       "      <td>1,713</td>\n",
       "      <td>1,051</td>\n",
       "      <td>258</td>\n",
       "      <td>384</td>\n",
       "      <td>199</td>\n",
       "      <td>213</td>\n",
       "      <td>639</td>\n",
       "      <td>20</td>\n",
       "    </tr>\n",
       "    <tr>\n",
       "      <th>3</th>\n",
       "      <td>5</td>\n",
       "      <td>2000</td>\n",
       "      <td>12</td>\n",
       "      <td>1,590</td>\n",
       "      <td>973</td>\n",
       "      <td>237</td>\n",
       "      <td>352</td>\n",
       "      <td>188</td>\n",
       "      <td>202</td>\n",
       "      <td>593</td>\n",
       "      <td>18</td>\n",
       "    </tr>\n",
       "    <tr>\n",
       "      <th>4</th>\n",
       "      <td>6</td>\n",
       "      <td>2001</td>\n",
       "      <td>3</td>\n",
       "      <td>1,476</td>\n",
       "      <td>899</td>\n",
       "      <td>211</td>\n",
       "      <td>329</td>\n",
       "      <td>172</td>\n",
       "      <td>189</td>\n",
       "      <td>556</td>\n",
       "      <td>19</td>\n",
       "    </tr>\n",
       "  </tbody>\n",
       "</table>\n",
       "</div>"
      ],
      "text/plain": [
       "   Unnamed: 0    연도   월    마리수    번식우  1세미만(암)  1세미만(수)  1~2세(암)  1~2세(수)  \\\n",
       "0           2  2000   3  1,819  1,142      262      384      239      222   \n",
       "1           3  2000   6  1,801  1,118      271      395      215      219   \n",
       "2           4  2000   9  1,713  1,051      258      384      199      213   \n",
       "3           5  2000  12  1,590    973      237      352      188      202   \n",
       "4           6  2001   3  1,476    899      211      329      172      189   \n",
       "\n",
       "  2세이상(암)  2세이상(수)  \n",
       "0     690       22  \n",
       "1     678       23  \n",
       "2     639       20  \n",
       "3     593       18  \n",
       "4     556       19  "
      ]
     },
     "execution_count": 202,
     "metadata": {},
     "output_type": "execute_result"
    }
   ],
   "source": [
    "cow.head()"
   ]
  },
  {
   "cell_type": "code",
   "execution_count": 203,
   "metadata": {},
   "outputs": [],
   "source": [
    "del cow['Unnamed: 0']"
   ]
  },
  {
   "cell_type": "code",
   "execution_count": 204,
   "metadata": {},
   "outputs": [
    {
     "data": {
      "text/plain": [
       "연도         0\n",
       "월          0\n",
       "마리수        0\n",
       "번식우        0\n",
       "1세미만(암)    0\n",
       "1세미만(수)    0\n",
       "1~2세(암)    0\n",
       "1~2세(수)    0\n",
       "2세이상(암)    0\n",
       "2세이상(수)    0\n",
       "dtype: int64"
      ]
     },
     "execution_count": 204,
     "metadata": {},
     "output_type": "execute_result"
    }
   ],
   "source": [
    "cow.isnull().sum()"
   ]
  },
  {
   "cell_type": "code",
   "execution_count": 217,
   "metadata": {},
   "outputs": [
    {
     "data": {
      "text/plain": [
       "2015    4\n",
       "2014    4\n",
       "2017    4\n",
       "2018    4\n",
       "2019    4\n",
       "2000    4\n",
       "2001    4\n",
       "2002    4\n",
       "2003    4\n",
       "2004    4\n",
       "2005    4\n",
       "2006    4\n",
       "2007    4\n",
       "2008    4\n",
       "2009    4\n",
       "2010    4\n",
       "2011    4\n",
       "2012    4\n",
       "2013    4\n",
       "2016    4\n",
       "Name: 연도, dtype: int64"
      ]
     },
     "execution_count": 217,
     "metadata": {},
     "output_type": "execute_result"
    }
   ],
   "source": [
    "cow['연도'].value_counts()"
   ]
  },
  {
   "cell_type": "code",
   "execution_count": 218,
   "metadata": {},
   "outputs": [
    {
     "data": {
      "text/plain": [
       "6     20\n",
       "12    20\n",
       "3     20\n",
       "9     20\n",
       "Name: 월, dtype: int64"
      ]
     },
     "execution_count": 218,
     "metadata": {},
     "output_type": "execute_result"
    }
   ],
   "source": [
    "cow['월'].value_counts()"
   ]
  },
  {
   "cell_type": "code",
   "execution_count": 205,
   "metadata": {},
   "outputs": [
    {
     "name": "stdout",
     "output_type": "stream",
     "text": [
      "<class 'pandas.core.frame.DataFrame'>\n",
      "RangeIndex: 80 entries, 0 to 79\n",
      "Data columns (total 10 columns):\n",
      " #   Column   Non-Null Count  Dtype \n",
      "---  ------   --------------  ----- \n",
      " 0   연도       80 non-null     int64 \n",
      " 1   월        80 non-null     int64 \n",
      " 2   마리수      80 non-null     object\n",
      " 3   번식우      80 non-null     object\n",
      " 4   1세미만(암)  80 non-null     int64 \n",
      " 5   1세미만(수)  80 non-null     int64 \n",
      " 6   1~2세(암)  80 non-null     int64 \n",
      " 7   1~2세(수)  80 non-null     int64 \n",
      " 8   2세이상(암)  80 non-null     object\n",
      " 9   2세이상(수)  80 non-null     int64 \n",
      "dtypes: int64(7), object(3)\n",
      "memory usage: 6.4+ KB\n"
     ]
    }
   ],
   "source": [
    "cow.info()"
   ]
  },
  {
   "cell_type": "code",
   "execution_count": 212,
   "metadata": {},
   "outputs": [],
   "source": [
    "cow['연도'] = cow['연도'].astype('object')\n",
    "cow['월'] = cow['월'].astype('object')"
   ]
  },
  {
   "cell_type": "code",
   "execution_count": 213,
   "metadata": {},
   "outputs": [],
   "source": [
    "cow['마리수'] = cow['마리수'].replace(',','',regex=True)\n",
    "cow['번식우'] = cow['번식우'].replace(',','',regex=True)"
   ]
  },
  {
   "cell_type": "code",
   "execution_count": 214,
   "metadata": {},
   "outputs": [
    {
     "data": {
      "text/plain": [
       "[<matplotlib.lines.Line2D at 0x1738c512e08>]"
      ]
     },
     "execution_count": 214,
     "metadata": {},
     "output_type": "execute_result"
    },
    {
     "data": {
      "image/png": "[encoded data removed]",
      "text/plain": [
       "<Figure size 432x288 with 1 Axes>"
      ]
     },
     "metadata": {
      "needs_background": "light"
     },
     "output_type": "display_data"
    }
   ],
   "source": [
    "a = cow['마리수'].groupby(cow['연도']).sum()\n",
    "plt.plot(a)"
   ]
  },
  {
   "cell_type": "code",
   "execution_count": 211,
   "metadata": {},
   "outputs": [
    {
     "data": {
      "text/plain": [
       "[<matplotlib.lines.Line2D at 0x1738c65c9c8>]"
      ]
     },
     "execution_count": 211,
     "metadata": {},
     "output_type": "execute_result"
    },
    {
     "data": {
      "image/png": "[encoded data removed]",
      "text/plain": [
       "<Figure size 432x288 with 1 Axes>"
      ]
     },
     "metadata": {
      "needs_background": "light"
     },
     "output_type": "display_data"
    }
   ],
   "source": [
    "a = cow['마리수'].groupby(cow['연도']).mean()\n",
    "plt.plot(a)"
   ]
  },
  {
   "cell_type": "code",
   "execution_count": 216,
   "metadata": {},
   "outputs": [
    {
     "data": {
      "text/plain": [
       "[<matplotlib.lines.Line2D at 0x17388e35488>]"
      ]
     },
     "execution_count": 216,
     "metadata": {},
     "output_type": "execute_result"
    },
    {
     "data": {
      "image/png": "[encoded data removed]",
      "text/plain": [
       "<Figure size 432x288 with 1 Axes>"
      ]
     },
     "metadata": {
      "needs_background": "light"
     },
     "output_type": "display_data"
    }
   ],
   "source": [
    "a = cow['번식우'].groupby(cow['연도']).mean()\n",
    "plt.plot(a)"
   ]
  },
  {
   "cell_type": "code",
   "execution_count": 225,
   "metadata": {},
   "outputs": [
    {
     "data": {
      "text/plain": [
       "[<matplotlib.lines.Line2D at 0x173820f5ac8>]"
      ]
     },
     "execution_count": 225,
     "metadata": {},
     "output_type": "execute_result"
    },
    {
     "data": {
      "image/png": "[encoded data removed]",
      "text/plain": [
       "<Figure size 432x288 with 1 Axes>"
      ]
     },
     "metadata": {
      "needs_background": "light"
     },
     "output_type": "display_data"
    }
   ],
   "source": [
    "a = cow['마리수'].groupby(cow['월']).mean()\n",
    "plt.plot(a)"
   ]
  },
  {
   "cell_type": "code",
   "execution_count": 224,
   "metadata": {},
   "outputs": [
    {
     "data": {
      "text/plain": [
       "[<matplotlib.lines.Line2D at 0x17387bef7c8>]"
      ]
     },
     "execution_count": 224,
     "metadata": {},
     "output_type": "execute_result"
    },
    {
     "data": {
      "image/png": "[encoded data removed]",
      "text/plain": [
       "<Figure size 432x288 with 1 Axes>"
      ]
     },
     "metadata": {
      "needs_background": "light"
     },
     "output_type": "display_data"
    }
   ],
   "source": [
    "a = cow['번식우'].groupby(cow['월']).mean()\n",
    "plt.plot(a)"
   ]
  },
  {
   "cell_type": "markdown",
   "metadata": {},
   "source": [
    "* 평균적으로 9월에 소 사육현황이 가장 높고 겨울철에 낮음. "
   ]
  },
  {
   "cell_type": "markdown",
   "metadata": {},
   "source": [
    "# 전세계 수입 현황 "
   ]
  },
  {
   "cell_type": "code",
   "execution_count": 4,
   "metadata": {},
   "outputs": [],
   "source": [
    "cow_import = pd.read_csv(\"전세계 수입현황.csv\",engine='python')"
   ]
  },
  {
   "cell_type": "code",
   "execution_count": 6,
   "metadata": {},
   "outputs": [],
   "source": [
    "del cow_import['Unnamed: 0']"
   ]
  },
  {
   "cell_type": "code",
   "execution_count": 11,
   "metadata": {},
   "outputs": [
    {
     "data": {
      "text/html": [
       "<div>\n",
       "<style scoped>\n",
       "    .dataframe tbody tr th:only-of-type {\n",
       "        vertical-align: middle;\n",
       "    }\n",
       "\n",
       "    .dataframe tbody tr th {\n",
       "        vertical-align: top;\n",
       "    }\n",
       "\n",
       "    .dataframe thead th {\n",
       "        text-align: right;\n",
       "    }\n",
       "</style>\n",
       "<table border=\"1\" class=\"dataframe\">\n",
       "  <thead>\n",
       "    <tr style=\"text-align: right;\">\n",
       "      <th></th>\n",
       "      <th>year</th>\n",
       "      <th>month</th>\n",
       "      <th>냉동</th>\n",
       "      <th>냉장</th>\n",
       "      <th>계</th>\n",
       "    </tr>\n",
       "  </thead>\n",
       "  <tbody>\n",
       "    <tr>\n",
       "      <th>0</th>\n",
       "      <td>2004</td>\n",
       "      <td>1</td>\n",
       "      <td>7,568</td>\n",
       "      <td>589</td>\n",
       "      <td>8,157</td>\n",
       "    </tr>\n",
       "    <tr>\n",
       "      <th>1</th>\n",
       "      <td>2004</td>\n",
       "      <td>2</td>\n",
       "      <td>6,846</td>\n",
       "      <td>507</td>\n",
       "      <td>7,353</td>\n",
       "    </tr>\n",
       "    <tr>\n",
       "      <th>2</th>\n",
       "      <td>2004</td>\n",
       "      <td>3</td>\n",
       "      <td>11,792</td>\n",
       "      <td>665</td>\n",
       "      <td>12,457</td>\n",
       "    </tr>\n",
       "    <tr>\n",
       "      <th>3</th>\n",
       "      <td>2004</td>\n",
       "      <td>4</td>\n",
       "      <td>12,453</td>\n",
       "      <td>852</td>\n",
       "      <td>13,305</td>\n",
       "    </tr>\n",
       "    <tr>\n",
       "      <th>4</th>\n",
       "      <td>2004</td>\n",
       "      <td>5</td>\n",
       "      <td>16,395</td>\n",
       "      <td>1,044</td>\n",
       "      <td>17,439</td>\n",
       "    </tr>\n",
       "  </tbody>\n",
       "</table>\n",
       "</div>"
      ],
      "text/plain": [
       "   year  month      냉동     냉장       계\n",
       "0  2004      1   7,568    589   8,157\n",
       "1  2004      2   6,846    507   7,353\n",
       "2  2004      3  11,792    665  12,457\n",
       "3  2004      4  12,453    852  13,305\n",
       "4  2004      5  16,395  1,044  17,439"
      ]
     },
     "execution_count": 11,
     "metadata": {},
     "output_type": "execute_result"
    }
   ],
   "source": [
    "cow_import.head()"
   ]
  },
  {
   "cell_type": "code",
   "execution_count": 12,
   "metadata": {},
   "outputs": [
    {
     "name": "stdout",
     "output_type": "stream",
     "text": [
      "<class 'pandas.core.frame.DataFrame'>\n",
      "RangeIndex: 192 entries, 0 to 191\n",
      "Data columns (total 5 columns):\n",
      " #   Column  Non-Null Count  Dtype \n",
      "---  ------  --------------  ----- \n",
      " 0   year    192 non-null    int64 \n",
      " 1   month   192 non-null    int64 \n",
      " 2   냉동      192 non-null    object\n",
      " 3   냉장      192 non-null    object\n",
      " 4   계       192 non-null    object\n",
      "dtypes: int64(2), object(3)\n",
      "memory usage: 7.6+ KB\n"
     ]
    }
   ],
   "source": [
    "cow_import.info()"
   ]
  },
  {
   "cell_type": "code",
   "execution_count": 13,
   "metadata": {},
   "outputs": [],
   "source": [
    "cow_import['냉동'] = cow_import['냉동'].replace(',','',regex=True)\n",
    "cow_import['냉장'] = cow_import['냉장'].replace(',','',regex=True)\n",
    "\n",
    "cow_import['냉동'] = cow_import['냉동'].astype('int64')\n",
    "cow_import['냉장'] = cow_import['냉장'].astype('int64')"
   ]
  },
  {
   "cell_type": "code",
   "execution_count": 15,
   "metadata": {},
   "outputs": [
    {
     "data": {
      "text/plain": [
       "year     0\n",
       "month    0\n",
       "냉동       0\n",
       "냉장       0\n",
       "계        0\n",
       "dtype: int64"
      ]
     },
     "execution_count": 15,
     "metadata": {},
     "output_type": "execute_result"
    }
   ],
   "source": [
    "cow_import.isnull().sum()"
   ]
  },
  {
   "cell_type": "code",
   "execution_count": 14,
   "metadata": {},
   "outputs": [
    {
     "data": {
      "text/plain": [
       "month\n",
       "1     18162.0000\n",
       "2     14878.5625\n",
       "3     19300.0000\n",
       "4     17821.8125\n",
       "5     17150.0625\n",
       "6     18361.7500\n",
       "7     19715.6250\n",
       "8     19446.2500\n",
       "9     17328.3125\n",
       "10    18914.6875\n",
       "11    17855.2500\n",
       "12    20221.3750\n",
       "Name: 냉동, dtype: float64"
      ]
     },
     "execution_count": 14,
     "metadata": {},
     "output_type": "execute_result"
    }
   ],
   "source": [
    "cow_import['냉동'].groupby(cow_import['month']).mean()"
   ]
  },
  {
   "cell_type": "code",
   "execution_count": 16,
   "metadata": {},
   "outputs": [
    {
     "data": {
      "text/plain": [
       "month\n",
       "1     3767.7500\n",
       "2     2926.3125\n",
       "3     3744.0000\n",
       "4     3677.0625\n",
       "5     3844.1250\n",
       "6     3627.1250\n",
       "7     3833.3125\n",
       "8     4262.3750\n",
       "9     4288.0625\n",
       "10    4057.8125\n",
       "11    3931.9375\n",
       "12    4469.2500\n",
       "Name: 냉장, dtype: float64"
      ]
     },
     "execution_count": 16,
     "metadata": {},
     "output_type": "execute_result"
    }
   ],
   "source": [
    "cow_import['냉장'].groupby(cow_import['month']).mean()"
   ]
  },
  {
   "cell_type": "code",
   "execution_count": 36,
   "metadata": {},
   "outputs": [
    {
     "data": {
      "image/png": "[encoded data removed]",
      "text/plain": [
       "<Figure size 432x288 with 1 Axes>"
      ]
     },
     "metadata": {
      "needs_background": "light"
     },
     "output_type": "display_data"
    }
   ],
   "source": [
    "sns.boxplot(x=\"month\", y=\"냉장\", data=cow_import)\n",
    "plt.title('월 별 냉장 수입량', weight='bold').set_fontsize('18')"
   ]
  },
  {
   "cell_type": "code",
   "execution_count": 37,
   "metadata": {},
   "outputs": [
    {
     "data": {
      "image/png": "[encoded data removed]",
      "text/plain": [
       "<Figure size 432x288 with 1 Axes>"
      ]
     },
     "metadata": {
      "needs_background": "light"
     },
     "output_type": "display_data"
    }
   ],
   "source": [
    "sns.boxplot(x=\"month\", y=\"냉동\", data=cow_import)\n",
    "plt.title('월 별 냉동 수입량', weight='bold').set_fontsize('18')"
   ]
  },
  {
   "cell_type": "code",
   "execution_count": null,
   "metadata": {},
   "outputs": [],
   "source": []
  }
 ],
 "metadata": {
  "kernelspec": {
   "display_name": "Python 3",
   "language": "python",
   "name": "python3"
  },
  "language_info": {
   "codemirror_mode": {
    "name": "ipython",
    "version": 3
   },
   "file_extension": ".py",
   "mimetype": "text/x-python",
   "name": "python",
   "nbconvert_exporter": "python",
   "pygments_lexer": "ipython3",
   "version": "3.7.6"
  }
 },
 "nbformat": 4,
 "nbformat_minor": 4
}

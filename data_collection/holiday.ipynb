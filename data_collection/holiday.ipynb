{
 "cells": [
  {
   "cell_type": "markdown",
   "metadata": {},
   "source": [
    "# 특일 정보 데이터 수집\n",
    "---"
   ]
  },
  {
   "cell_type": "code",
   "execution_count": 2,
   "metadata": {},
   "outputs": [],
   "source": [
    "from lxml import etree\n",
    "import xml.etree.ElementTree as ElementTree\n",
    "import pandas as pd\n",
    "\n",
    "from urllib.request import urlopen\n",
    "from urllib.parse import urlencode, unquote, quote_plus\n",
    "import urllib\n",
    "\n",
    "import time\n",
    "import seaborn as sns\n"
   ]
  },
  {
   "cell_type": "code",
   "execution_count": 3,
   "metadata": {},
   "outputs": [],
   "source": [
    "b = []\n",
    "c = []\n",
    "d = []\n",
    "\n",
    "for year_ in range(2007,2019):\n",
    "    request = urllib.request.Request(\"http://apis.data.go.kr/B090041/openapi/service/SpcdeInfoService/getRestDeInfo?serviceKey=서비스키를 입력하세요Year=\"+str(year_)+\"&numOfRows=30\")\n",
    "        \n",
    "    request.get_method = lambda: 'GET'\n",
    "    response_body = urlopen(request).read()\n",
    "        \n",
    "    tree = etree.fromstring(response_body)\n",
    "    \n",
    "    for media in tree.getiterator('item'):\n",
    "        b.append(media.findtext(\"dateName\"))\n",
    "        c.append(media.findtext(\"isHoliday\"))\n",
    "        d.append(media.findtext(\"locdate\"))"
   ]
  },
  {
   "cell_type": "code",
   "execution_count": 4,
   "metadata": {},
   "outputs": [],
   "source": [
    "df2 = pd.DataFrame(b,columns=['공휴일명'])\n",
    "df3 = pd.DataFrame(c,columns=['공휴일여부'])\n",
    "df4 = pd.DataFrame(d,columns=['공휴일날짜'])"
   ]
  },
  {
   "cell_type": "code",
   "execution_count": 5,
   "metadata": {},
   "outputs": [],
   "source": [
    "total = pd.concat([df2,df3,df4],axis=1)"
   ]
  },
  {
   "cell_type": "code",
   "execution_count": 6,
   "metadata": {},
   "outputs": [
    {
     "data": {
      "text/html": [
       "<div>\n",
       "<style scoped>\n",
       "    .dataframe tbody tr th:only-of-type {\n",
       "        vertical-align: middle;\n",
       "    }\n",
       "\n",
       "    .dataframe tbody tr th {\n",
       "        vertical-align: top;\n",
       "    }\n",
       "\n",
       "    .dataframe thead th {\n",
       "        text-align: right;\n",
       "    }\n",
       "</style>\n",
       "<table border=\"1\" class=\"dataframe\">\n",
       "  <thead>\n",
       "    <tr style=\"text-align: right;\">\n",
       "      <th></th>\n",
       "      <th>공휴일명</th>\n",
       "      <th>공휴일여부</th>\n",
       "      <th>공휴일날짜</th>\n",
       "    </tr>\n",
       "  </thead>\n",
       "  <tbody>\n",
       "    <tr>\n",
       "      <th>0</th>\n",
       "      <td>신정</td>\n",
       "      <td>Y</td>\n",
       "      <td>20150101</td>\n",
       "    </tr>\n",
       "    <tr>\n",
       "      <th>1</th>\n",
       "      <td>설날</td>\n",
       "      <td>Y</td>\n",
       "      <td>20150218</td>\n",
       "    </tr>\n",
       "    <tr>\n",
       "      <th>2</th>\n",
       "      <td>설날</td>\n",
       "      <td>Y</td>\n",
       "      <td>20150219</td>\n",
       "    </tr>\n",
       "    <tr>\n",
       "      <th>3</th>\n",
       "      <td>설날</td>\n",
       "      <td>Y</td>\n",
       "      <td>20150220</td>\n",
       "    </tr>\n",
       "    <tr>\n",
       "      <th>4</th>\n",
       "      <td>삼일절</td>\n",
       "      <td>Y</td>\n",
       "      <td>20150301</td>\n",
       "    </tr>\n",
       "    <tr>\n",
       "      <th>...</th>\n",
       "      <td>...</td>\n",
       "      <td>...</td>\n",
       "      <td>...</td>\n",
       "    </tr>\n",
       "    <tr>\n",
       "      <th>65</th>\n",
       "      <td>추석</td>\n",
       "      <td>Y</td>\n",
       "      <td>20180925</td>\n",
       "    </tr>\n",
       "    <tr>\n",
       "      <th>66</th>\n",
       "      <td>대체휴무일</td>\n",
       "      <td>Y</td>\n",
       "      <td>20180926</td>\n",
       "    </tr>\n",
       "    <tr>\n",
       "      <th>67</th>\n",
       "      <td>개천절</td>\n",
       "      <td>Y</td>\n",
       "      <td>20181003</td>\n",
       "    </tr>\n",
       "    <tr>\n",
       "      <th>68</th>\n",
       "      <td>한글날</td>\n",
       "      <td>Y</td>\n",
       "      <td>20181009</td>\n",
       "    </tr>\n",
       "    <tr>\n",
       "      <th>69</th>\n",
       "      <td>기독탄신일</td>\n",
       "      <td>Y</td>\n",
       "      <td>20181225</td>\n",
       "    </tr>\n",
       "  </tbody>\n",
       "</table>\n",
       "<p>70 rows × 3 columns</p>\n",
       "</div>"
      ],
      "text/plain": [
       "     공휴일명 공휴일여부     공휴일날짜\n",
       "0      신정     Y  20150101\n",
       "1      설날     Y  20150218\n",
       "2      설날     Y  20150219\n",
       "3      설날     Y  20150220\n",
       "4     삼일절     Y  20150301\n",
       "..    ...   ...       ...\n",
       "65     추석     Y  20180925\n",
       "66  대체휴무일     Y  20180926\n",
       "67    개천절     Y  20181003\n",
       "68    한글날     Y  20181009\n",
       "69  기독탄신일     Y  20181225\n",
       "\n",
       "[70 rows x 3 columns]"
      ]
     },
     "execution_count": 6,
     "metadata": {},
     "output_type": "execute_result"
    }
   ],
   "source": [
    "total"
   ]
  },
  {
   "cell_type": "code",
   "execution_count": 7,
   "metadata": {},
   "outputs": [],
   "source": [
    "total.to_csv('공휴일정보.csv',encoding='utf-8-sig')"
   ]
  }
 ],
 "metadata": {
  "kernelspec": {
   "display_name": "Python 3",
   "language": "python",
   "name": "python3"
  },
  "language_info": {
   "codemirror_mode": {
    "name": "ipython",
    "version": 3
   },
   "file_extension": ".py",
   "mimetype": "text/x-python",
   "name": "python",
   "nbconvert_exporter": "python",
   "pygments_lexer": "ipython3",
   "version": "3.7.6"
  }
 },
 "nbformat": 4,
 "nbformat_minor": 4
}

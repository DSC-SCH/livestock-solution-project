{
 "cells": [
  {
   "cell_type": "code",
   "execution_count": 1,
   "metadata": {},
   "outputs": [],
   "source": [
    "import pandas as pd \n",
    "from pandas import DataFrame\n",
    "import numpy as np\n",
    "import matplotlib.pyplot as plt \n",
    "\n",
    "%matplotlib inline "
   ]
  },
  {
   "cell_type": "code",
   "execution_count": 2,
   "metadata": {},
   "outputs": [],
   "source": [
    "usbeef= pd.read_csv(\"C:/Users/jimin/Desktop/EDA/us_beef_production.csv\")"
   ]
  },
  {
   "cell_type": "code",
   "execution_count": 3,
   "metadata": {
    "scrolled": true
   },
   "outputs": [
    {
     "data": {
      "text/html": [
       "<div>\n",
       "<style scoped>\n",
       "    .dataframe tbody tr th:only-of-type {\n",
       "        vertical-align: middle;\n",
       "    }\n",
       "\n",
       "    .dataframe tbody tr th {\n",
       "        vertical-align: top;\n",
       "    }\n",
       "\n",
       "    .dataframe thead th {\n",
       "        text-align: right;\n",
       "    }\n",
       "</style>\n",
       "<table border=\"1\" class=\"dataframe\">\n",
       "  <thead>\n",
       "    <tr style=\"text-align: right;\">\n",
       "      <th></th>\n",
       "      <th>Unnamed: 0</th>\n",
       "      <th>연도</th>\n",
       "      <th>월</th>\n",
       "      <th>국가</th>\n",
       "      <th>상품</th>\n",
       "      <th>가격($만달러)</th>\n",
       "    </tr>\n",
       "  </thead>\n",
       "  <tbody>\n",
       "    <tr>\n",
       "      <th>0</th>\n",
       "      <td>0</td>\n",
       "      <td>2003</td>\n",
       "      <td>1</td>\n",
       "      <td>US TOTAL</td>\n",
       "      <td>BEEF</td>\n",
       "      <td>229100.0</td>\n",
       "    </tr>\n",
       "    <tr>\n",
       "      <th>1</th>\n",
       "      <td>1</td>\n",
       "      <td>2003</td>\n",
       "      <td>2</td>\n",
       "      <td>US TOTAL</td>\n",
       "      <td>BEEF</td>\n",
       "      <td>194200.0</td>\n",
       "    </tr>\n",
       "    <tr>\n",
       "      <th>2</th>\n",
       "      <td>2</td>\n",
       "      <td>2003</td>\n",
       "      <td>3</td>\n",
       "      <td>US TOTAL</td>\n",
       "      <td>BEEF</td>\n",
       "      <td>204800.0</td>\n",
       "    </tr>\n",
       "    <tr>\n",
       "      <th>3</th>\n",
       "      <td>3</td>\n",
       "      <td>2003</td>\n",
       "      <td>4</td>\n",
       "      <td>US TOTAL</td>\n",
       "      <td>BEEF</td>\n",
       "      <td>215100.0</td>\n",
       "    </tr>\n",
       "    <tr>\n",
       "      <th>4</th>\n",
       "      <td>4</td>\n",
       "      <td>2003</td>\n",
       "      <td>5</td>\n",
       "      <td>US TOTAL</td>\n",
       "      <td>BEEF</td>\n",
       "      <td>236000.0</td>\n",
       "    </tr>\n",
       "  </tbody>\n",
       "</table>\n",
       "</div>"
      ],
      "text/plain": [
       "   Unnamed: 0    연도  월        국가    상품  가격($만달러)\n",
       "0           0  2003  1  US TOTAL  BEEF  229100.0\n",
       "1           1  2003  2  US TOTAL  BEEF  194200.0\n",
       "2           2  2003  3  US TOTAL  BEEF  204800.0\n",
       "3           3  2003  4  US TOTAL  BEEF  215100.0\n",
       "4           4  2003  5  US TOTAL  BEEF  236000.0"
      ]
     },
     "execution_count": 3,
     "metadata": {},
     "output_type": "execute_result"
    }
   ],
   "source": [
    "usbeef.head(5)"
   ]
  },
  {
   "cell_type": "code",
   "execution_count": 4,
   "metadata": {},
   "outputs": [],
   "source": [
    "del usbeef[\"Unnamed: 0\"]"
   ]
  },
  {
   "cell_type": "code",
   "execution_count": 5,
   "metadata": {
    "scrolled": true
   },
   "outputs": [
    {
     "data": {
      "text/html": [
       "<div>\n",
       "<style scoped>\n",
       "    .dataframe tbody tr th:only-of-type {\n",
       "        vertical-align: middle;\n",
       "    }\n",
       "\n",
       "    .dataframe tbody tr th {\n",
       "        vertical-align: top;\n",
       "    }\n",
       "\n",
       "    .dataframe thead th {\n",
       "        text-align: right;\n",
       "    }\n",
       "</style>\n",
       "<table border=\"1\" class=\"dataframe\">\n",
       "  <thead>\n",
       "    <tr style=\"text-align: right;\">\n",
       "      <th></th>\n",
       "      <th>연도</th>\n",
       "      <th>월</th>\n",
       "      <th>국가</th>\n",
       "      <th>상품</th>\n",
       "      <th>가격($만달러)</th>\n",
       "    </tr>\n",
       "  </thead>\n",
       "  <tbody>\n",
       "    <tr>\n",
       "      <th>0</th>\n",
       "      <td>2003</td>\n",
       "      <td>1</td>\n",
       "      <td>US TOTAL</td>\n",
       "      <td>BEEF</td>\n",
       "      <td>229100.0</td>\n",
       "    </tr>\n",
       "    <tr>\n",
       "      <th>1</th>\n",
       "      <td>2003</td>\n",
       "      <td>2</td>\n",
       "      <td>US TOTAL</td>\n",
       "      <td>BEEF</td>\n",
       "      <td>194200.0</td>\n",
       "    </tr>\n",
       "    <tr>\n",
       "      <th>2</th>\n",
       "      <td>2003</td>\n",
       "      <td>3</td>\n",
       "      <td>US TOTAL</td>\n",
       "      <td>BEEF</td>\n",
       "      <td>204800.0</td>\n",
       "    </tr>\n",
       "    <tr>\n",
       "      <th>3</th>\n",
       "      <td>2003</td>\n",
       "      <td>4</td>\n",
       "      <td>US TOTAL</td>\n",
       "      <td>BEEF</td>\n",
       "      <td>215100.0</td>\n",
       "    </tr>\n",
       "    <tr>\n",
       "      <th>4</th>\n",
       "      <td>2003</td>\n",
       "      <td>5</td>\n",
       "      <td>US TOTAL</td>\n",
       "      <td>BEEF</td>\n",
       "      <td>236000.0</td>\n",
       "    </tr>\n",
       "  </tbody>\n",
       "</table>\n",
       "</div>"
      ],
      "text/plain": [
       "     연도  월        국가    상품  가격($만달러)\n",
       "0  2003  1  US TOTAL  BEEF  229100.0\n",
       "1  2003  2  US TOTAL  BEEF  194200.0\n",
       "2  2003  3  US TOTAL  BEEF  204800.0\n",
       "3  2003  4  US TOTAL  BEEF  215100.0\n",
       "4  2003  5  US TOTAL  BEEF  236000.0"
      ]
     },
     "execution_count": 5,
     "metadata": {},
     "output_type": "execute_result"
    }
   ],
   "source": [
    "usbeef.head(5)"
   ]
  },
  {
   "cell_type": "code",
   "execution_count": 6,
   "metadata": {},
   "outputs": [],
   "source": [
    "usbeef=usbeef.rename({\"연도\":\"year\",\"월\":\"month\",\"국가\":\"nation\",\"상품\":\"product\",\"가격($만달러)\":\"price\"},axis='columns')"
   ]
  },
  {
   "cell_type": "code",
   "execution_count": 7,
   "metadata": {},
   "outputs": [
    {
     "data": {
      "text/html": [
       "<div>\n",
       "<style scoped>\n",
       "    .dataframe tbody tr th:only-of-type {\n",
       "        vertical-align: middle;\n",
       "    }\n",
       "\n",
       "    .dataframe tbody tr th {\n",
       "        vertical-align: top;\n",
       "    }\n",
       "\n",
       "    .dataframe thead th {\n",
       "        text-align: right;\n",
       "    }\n",
       "</style>\n",
       "<table border=\"1\" class=\"dataframe\">\n",
       "  <thead>\n",
       "    <tr style=\"text-align: right;\">\n",
       "      <th></th>\n",
       "      <th>year</th>\n",
       "      <th>month</th>\n",
       "      <th>nation</th>\n",
       "      <th>product</th>\n",
       "      <th>price</th>\n",
       "    </tr>\n",
       "  </thead>\n",
       "  <tbody>\n",
       "    <tr>\n",
       "      <th>0</th>\n",
       "      <td>False</td>\n",
       "      <td>False</td>\n",
       "      <td>False</td>\n",
       "      <td>False</td>\n",
       "      <td>False</td>\n",
       "    </tr>\n",
       "    <tr>\n",
       "      <th>1</th>\n",
       "      <td>False</td>\n",
       "      <td>False</td>\n",
       "      <td>False</td>\n",
       "      <td>False</td>\n",
       "      <td>False</td>\n",
       "    </tr>\n",
       "    <tr>\n",
       "      <th>2</th>\n",
       "      <td>False</td>\n",
       "      <td>False</td>\n",
       "      <td>False</td>\n",
       "      <td>False</td>\n",
       "      <td>False</td>\n",
       "    </tr>\n",
       "    <tr>\n",
       "      <th>3</th>\n",
       "      <td>False</td>\n",
       "      <td>False</td>\n",
       "      <td>False</td>\n",
       "      <td>False</td>\n",
       "      <td>False</td>\n",
       "    </tr>\n",
       "    <tr>\n",
       "      <th>4</th>\n",
       "      <td>False</td>\n",
       "      <td>False</td>\n",
       "      <td>False</td>\n",
       "      <td>False</td>\n",
       "      <td>False</td>\n",
       "    </tr>\n",
       "    <tr>\n",
       "      <th>...</th>\n",
       "      <td>...</td>\n",
       "      <td>...</td>\n",
       "      <td>...</td>\n",
       "      <td>...</td>\n",
       "      <td>...</td>\n",
       "    </tr>\n",
       "    <tr>\n",
       "      <th>199</th>\n",
       "      <td>False</td>\n",
       "      <td>False</td>\n",
       "      <td>False</td>\n",
       "      <td>False</td>\n",
       "      <td>False</td>\n",
       "    </tr>\n",
       "    <tr>\n",
       "      <th>200</th>\n",
       "      <td>False</td>\n",
       "      <td>False</td>\n",
       "      <td>False</td>\n",
       "      <td>False</td>\n",
       "      <td>False</td>\n",
       "    </tr>\n",
       "    <tr>\n",
       "      <th>201</th>\n",
       "      <td>False</td>\n",
       "      <td>False</td>\n",
       "      <td>False</td>\n",
       "      <td>False</td>\n",
       "      <td>False</td>\n",
       "    </tr>\n",
       "    <tr>\n",
       "      <th>202</th>\n",
       "      <td>False</td>\n",
       "      <td>False</td>\n",
       "      <td>False</td>\n",
       "      <td>False</td>\n",
       "      <td>False</td>\n",
       "    </tr>\n",
       "    <tr>\n",
       "      <th>203</th>\n",
       "      <td>False</td>\n",
       "      <td>False</td>\n",
       "      <td>False</td>\n",
       "      <td>False</td>\n",
       "      <td>False</td>\n",
       "    </tr>\n",
       "  </tbody>\n",
       "</table>\n",
       "<p>204 rows × 5 columns</p>\n",
       "</div>"
      ],
      "text/plain": [
       "      year  month  nation  product  price\n",
       "0    False  False   False    False  False\n",
       "1    False  False   False    False  False\n",
       "2    False  False   False    False  False\n",
       "3    False  False   False    False  False\n",
       "4    False  False   False    False  False\n",
       "..     ...    ...     ...      ...    ...\n",
       "199  False  False   False    False  False\n",
       "200  False  False   False    False  False\n",
       "201  False  False   False    False  False\n",
       "202  False  False   False    False  False\n",
       "203  False  False   False    False  False\n",
       "\n",
       "[204 rows x 5 columns]"
      ]
     },
     "execution_count": 7,
     "metadata": {},
     "output_type": "execute_result"
    }
   ],
   "source": [
    "pd.isnull(usbeef)"
   ]
  },
  {
   "cell_type": "markdown",
   "metadata": {},
   "source": [
    "## 결측치 확인 "
   ]
  },
  {
   "cell_type": "code",
   "execution_count": 8,
   "metadata": {},
   "outputs": [
    {
     "data": {
      "text/plain": [
       "year       0\n",
       "month      0\n",
       "nation     0\n",
       "product    0\n",
       "price      0\n",
       "dtype: int64"
      ]
     },
     "execution_count": 8,
     "metadata": {},
     "output_type": "execute_result"
    }
   ],
   "source": [
    "usbeef.isnull().sum()"
   ]
  },
  {
   "cell_type": "markdown",
   "metadata": {},
   "source": [
    "데이터타입 확인 "
   ]
  },
  {
   "cell_type": "code",
   "execution_count": 30,
   "metadata": {
    "scrolled": true
   },
   "outputs": [
    {
     "name": "stdout",
     "output_type": "stream",
     "text": [
      "<class 'pandas.core.frame.DataFrame'>\n",
      "Int64Index: 204 entries, 0 to 203\n",
      "Data columns (total 5 columns):\n",
      "year       204 non-null int64\n",
      "month      204 non-null int64\n",
      "nation     204 non-null object\n",
      "product    204 non-null object\n",
      "price      204 non-null float64\n",
      "dtypes: float64(1), int64(2), object(2)\n",
      "memory usage: 9.6+ KB\n"
     ]
    }
   ],
   "source": [
    "usbeef.info()"
   ]
  },
  {
   "cell_type": "code",
   "execution_count": 36,
   "metadata": {
    "scrolled": true
   },
   "outputs": [
    {
     "data": {
      "text/html": [
       "<div>\n",
       "<style scoped>\n",
       "    .dataframe tbody tr th:only-of-type {\n",
       "        vertical-align: middle;\n",
       "    }\n",
       "\n",
       "    .dataframe tbody tr th {\n",
       "        vertical-align: top;\n",
       "    }\n",
       "\n",
       "    .dataframe thead th {\n",
       "        text-align: right;\n",
       "    }\n",
       "</style>\n",
       "<table border=\"1\" class=\"dataframe\">\n",
       "  <thead>\n",
       "    <tr style=\"text-align: right;\">\n",
       "      <th></th>\n",
       "      <th>year</th>\n",
       "      <th>month</th>\n",
       "      <th>nation</th>\n",
       "      <th>product</th>\n",
       "      <th>price</th>\n",
       "    </tr>\n",
       "  </thead>\n",
       "  <tbody>\n",
       "    <tr>\n",
       "      <th>120</th>\n",
       "      <td>2013</td>\n",
       "      <td>1</td>\n",
       "      <td>US TOTAL</td>\n",
       "      <td>BEEF</td>\n",
       "      <td>226130.0</td>\n",
       "    </tr>\n",
       "    <tr>\n",
       "      <th>121</th>\n",
       "      <td>2013</td>\n",
       "      <td>2</td>\n",
       "      <td>US TOTAL</td>\n",
       "      <td>BEEF</td>\n",
       "      <td>187340.0</td>\n",
       "    </tr>\n",
       "    <tr>\n",
       "      <th>122</th>\n",
       "      <td>2013</td>\n",
       "      <td>3</td>\n",
       "      <td>US TOTAL</td>\n",
       "      <td>BEEF</td>\n",
       "      <td>203980.0</td>\n",
       "    </tr>\n",
       "    <tr>\n",
       "      <th>123</th>\n",
       "      <td>2013</td>\n",
       "      <td>4</td>\n",
       "      <td>US TOTAL</td>\n",
       "      <td>BEEF</td>\n",
       "      <td>212860.0</td>\n",
       "    </tr>\n",
       "    <tr>\n",
       "      <th>124</th>\n",
       "      <td>2013</td>\n",
       "      <td>5</td>\n",
       "      <td>US TOTAL</td>\n",
       "      <td>BEEF</td>\n",
       "      <td>222760.0</td>\n",
       "    </tr>\n",
       "    <tr>\n",
       "      <th>125</th>\n",
       "      <td>2013</td>\n",
       "      <td>6</td>\n",
       "      <td>US TOTAL</td>\n",
       "      <td>BEEF</td>\n",
       "      <td>215700.0</td>\n",
       "    </tr>\n",
       "    <tr>\n",
       "      <th>126</th>\n",
       "      <td>2013</td>\n",
       "      <td>7</td>\n",
       "      <td>US TOTAL</td>\n",
       "      <td>BEEF</td>\n",
       "      <td>229410.0</td>\n",
       "    </tr>\n",
       "    <tr>\n",
       "      <th>127</th>\n",
       "      <td>2013</td>\n",
       "      <td>8</td>\n",
       "      <td>US TOTAL</td>\n",
       "      <td>BEEF</td>\n",
       "      <td>224120.0</td>\n",
       "    </tr>\n",
       "    <tr>\n",
       "      <th>128</th>\n",
       "      <td>2013</td>\n",
       "      <td>9</td>\n",
       "      <td>US TOTAL</td>\n",
       "      <td>BEEF</td>\n",
       "      <td>207380.0</td>\n",
       "    </tr>\n",
       "    <tr>\n",
       "      <th>129</th>\n",
       "      <td>2013</td>\n",
       "      <td>10</td>\n",
       "      <td>US TOTAL</td>\n",
       "      <td>BEEF</td>\n",
       "      <td>231820.0</td>\n",
       "    </tr>\n",
       "    <tr>\n",
       "      <th>130</th>\n",
       "      <td>2013</td>\n",
       "      <td>11</td>\n",
       "      <td>US TOTAL</td>\n",
       "      <td>BEEF</td>\n",
       "      <td>205760.0</td>\n",
       "    </tr>\n",
       "    <tr>\n",
       "      <th>131</th>\n",
       "      <td>2013</td>\n",
       "      <td>12</td>\n",
       "      <td>US TOTAL</td>\n",
       "      <td>BEEF</td>\n",
       "      <td>204730.0</td>\n",
       "    </tr>\n",
       "    <tr>\n",
       "      <th>132</th>\n",
       "      <td>2014</td>\n",
       "      <td>1</td>\n",
       "      <td>US TOTAL</td>\n",
       "      <td>BEEF</td>\n",
       "      <td>214090.0</td>\n",
       "    </tr>\n",
       "    <tr>\n",
       "      <th>133</th>\n",
       "      <td>2014</td>\n",
       "      <td>2</td>\n",
       "      <td>US TOTAL</td>\n",
       "      <td>BEEF</td>\n",
       "      <td>178840.0</td>\n",
       "    </tr>\n",
       "    <tr>\n",
       "      <th>134</th>\n",
       "      <td>2014</td>\n",
       "      <td>3</td>\n",
       "      <td>US TOTAL</td>\n",
       "      <td>BEEF</td>\n",
       "      <td>193700.0</td>\n",
       "    </tr>\n",
       "    <tr>\n",
       "      <th>135</th>\n",
       "      <td>2014</td>\n",
       "      <td>4</td>\n",
       "      <td>US TOTAL</td>\n",
       "      <td>BEEF</td>\n",
       "      <td>204310.0</td>\n",
       "    </tr>\n",
       "    <tr>\n",
       "      <th>136</th>\n",
       "      <td>2014</td>\n",
       "      <td>5</td>\n",
       "      <td>US TOTAL</td>\n",
       "      <td>BEEF</td>\n",
       "      <td>207170.0</td>\n",
       "    </tr>\n",
       "    <tr>\n",
       "      <th>137</th>\n",
       "      <td>2014</td>\n",
       "      <td>6</td>\n",
       "      <td>US TOTAL</td>\n",
       "      <td>BEEF</td>\n",
       "      <td>206900.0</td>\n",
       "    </tr>\n",
       "    <tr>\n",
       "      <th>138</th>\n",
       "      <td>2014</td>\n",
       "      <td>7</td>\n",
       "      <td>US TOTAL</td>\n",
       "      <td>BEEF</td>\n",
       "      <td>208740.0</td>\n",
       "    </tr>\n",
       "    <tr>\n",
       "      <th>139</th>\n",
       "      <td>2014</td>\n",
       "      <td>8</td>\n",
       "      <td>US TOTAL</td>\n",
       "      <td>BEEF</td>\n",
       "      <td>202350.0</td>\n",
       "    </tr>\n",
       "    <tr>\n",
       "      <th>140</th>\n",
       "      <td>2014</td>\n",
       "      <td>9</td>\n",
       "      <td>US TOTAL</td>\n",
       "      <td>BEEF</td>\n",
       "      <td>206840.0</td>\n",
       "    </tr>\n",
       "    <tr>\n",
       "      <th>141</th>\n",
       "      <td>2014</td>\n",
       "      <td>10</td>\n",
       "      <td>US TOTAL</td>\n",
       "      <td>BEEF</td>\n",
       "      <td>217110.0</td>\n",
       "    </tr>\n",
       "    <tr>\n",
       "      <th>142</th>\n",
       "      <td>2014</td>\n",
       "      <td>11</td>\n",
       "      <td>US TOTAL</td>\n",
       "      <td>BEEF</td>\n",
       "      <td>184950.0</td>\n",
       "    </tr>\n",
       "    <tr>\n",
       "      <th>143</th>\n",
       "      <td>2014</td>\n",
       "      <td>12</td>\n",
       "      <td>US TOTAL</td>\n",
       "      <td>BEEF</td>\n",
       "      <td>200020.0</td>\n",
       "    </tr>\n",
       "    <tr>\n",
       "      <th>144</th>\n",
       "      <td>2015</td>\n",
       "      <td>1</td>\n",
       "      <td>US TOTAL</td>\n",
       "      <td>BEEF</td>\n",
       "      <td>196350.0</td>\n",
       "    </tr>\n",
       "    <tr>\n",
       "      <th>145</th>\n",
       "      <td>2015</td>\n",
       "      <td>2</td>\n",
       "      <td>US TOTAL</td>\n",
       "      <td>BEEF</td>\n",
       "      <td>176810.0</td>\n",
       "    </tr>\n",
       "    <tr>\n",
       "      <th>146</th>\n",
       "      <td>2015</td>\n",
       "      <td>3</td>\n",
       "      <td>US TOTAL</td>\n",
       "      <td>BEEF</td>\n",
       "      <td>193330.0</td>\n",
       "    </tr>\n",
       "    <tr>\n",
       "      <th>147</th>\n",
       "      <td>2015</td>\n",
       "      <td>4</td>\n",
       "      <td>US TOTAL</td>\n",
       "      <td>BEEF</td>\n",
       "      <td>192880.0</td>\n",
       "    </tr>\n",
       "    <tr>\n",
       "      <th>148</th>\n",
       "      <td>2015</td>\n",
       "      <td>5</td>\n",
       "      <td>US TOTAL</td>\n",
       "      <td>BEEF</td>\n",
       "      <td>192550.0</td>\n",
       "    </tr>\n",
       "    <tr>\n",
       "      <th>149</th>\n",
       "      <td>2015</td>\n",
       "      <td>6</td>\n",
       "      <td>US TOTAL</td>\n",
       "      <td>BEEF</td>\n",
       "      <td>200160.0</td>\n",
       "    </tr>\n",
       "    <tr>\n",
       "      <th>...</th>\n",
       "      <td>...</td>\n",
       "      <td>...</td>\n",
       "      <td>...</td>\n",
       "      <td>...</td>\n",
       "      <td>...</td>\n",
       "    </tr>\n",
       "    <tr>\n",
       "      <th>162</th>\n",
       "      <td>2016</td>\n",
       "      <td>7</td>\n",
       "      <td>US TOTAL</td>\n",
       "      <td>BEEF</td>\n",
       "      <td>202420.0</td>\n",
       "    </tr>\n",
       "    <tr>\n",
       "      <th>163</th>\n",
       "      <td>2016</td>\n",
       "      <td>8</td>\n",
       "      <td>US TOTAL</td>\n",
       "      <td>BEEF</td>\n",
       "      <td>226580.0</td>\n",
       "    </tr>\n",
       "    <tr>\n",
       "      <th>164</th>\n",
       "      <td>2016</td>\n",
       "      <td>9</td>\n",
       "      <td>US TOTAL</td>\n",
       "      <td>BEEF</td>\n",
       "      <td>218150.0</td>\n",
       "    </tr>\n",
       "    <tr>\n",
       "      <th>165</th>\n",
       "      <td>2016</td>\n",
       "      <td>10</td>\n",
       "      <td>US TOTAL</td>\n",
       "      <td>BEEF</td>\n",
       "      <td>221120.0</td>\n",
       "    </tr>\n",
       "    <tr>\n",
       "      <th>166</th>\n",
       "      <td>2016</td>\n",
       "      <td>11</td>\n",
       "      <td>US TOTAL</td>\n",
       "      <td>BEEF</td>\n",
       "      <td>224020.0</td>\n",
       "    </tr>\n",
       "    <tr>\n",
       "      <th>167</th>\n",
       "      <td>2016</td>\n",
       "      <td>12</td>\n",
       "      <td>US TOTAL</td>\n",
       "      <td>BEEF</td>\n",
       "      <td>217330.0</td>\n",
       "    </tr>\n",
       "    <tr>\n",
       "      <th>168</th>\n",
       "      <td>2017</td>\n",
       "      <td>1</td>\n",
       "      <td>US TOTAL</td>\n",
       "      <td>BEEF</td>\n",
       "      <td>211930.0</td>\n",
       "    </tr>\n",
       "    <tr>\n",
       "      <th>169</th>\n",
       "      <td>2017</td>\n",
       "      <td>2</td>\n",
       "      <td>US TOTAL</td>\n",
       "      <td>BEEF</td>\n",
       "      <td>193390.0</td>\n",
       "    </tr>\n",
       "    <tr>\n",
       "      <th>170</th>\n",
       "      <td>2017</td>\n",
       "      <td>3</td>\n",
       "      <td>US TOTAL</td>\n",
       "      <td>BEEF</td>\n",
       "      <td>224970.0</td>\n",
       "    </tr>\n",
       "    <tr>\n",
       "      <th>171</th>\n",
       "      <td>2017</td>\n",
       "      <td>4</td>\n",
       "      <td>US TOTAL</td>\n",
       "      <td>BEEF</td>\n",
       "      <td>196310.0</td>\n",
       "    </tr>\n",
       "    <tr>\n",
       "      <th>172</th>\n",
       "      <td>2017</td>\n",
       "      <td>5</td>\n",
       "      <td>US TOTAL</td>\n",
       "      <td>BEEF</td>\n",
       "      <td>216340.0</td>\n",
       "    </tr>\n",
       "    <tr>\n",
       "      <th>173</th>\n",
       "      <td>2017</td>\n",
       "      <td>6</td>\n",
       "      <td>US TOTAL</td>\n",
       "      <td>BEEF</td>\n",
       "      <td>228030.0</td>\n",
       "    </tr>\n",
       "    <tr>\n",
       "      <th>174</th>\n",
       "      <td>2017</td>\n",
       "      <td>7</td>\n",
       "      <td>US TOTAL</td>\n",
       "      <td>BEEF</td>\n",
       "      <td>210790.0</td>\n",
       "    </tr>\n",
       "    <tr>\n",
       "      <th>175</th>\n",
       "      <td>2017</td>\n",
       "      <td>8</td>\n",
       "      <td>US TOTAL</td>\n",
       "      <td>BEEF</td>\n",
       "      <td>240210.0</td>\n",
       "    </tr>\n",
       "    <tr>\n",
       "      <th>176</th>\n",
       "      <td>2017</td>\n",
       "      <td>9</td>\n",
       "      <td>US TOTAL</td>\n",
       "      <td>BEEF</td>\n",
       "      <td>222560.0</td>\n",
       "    </tr>\n",
       "    <tr>\n",
       "      <th>177</th>\n",
       "      <td>2017</td>\n",
       "      <td>10</td>\n",
       "      <td>US TOTAL</td>\n",
       "      <td>BEEF</td>\n",
       "      <td>230300.0</td>\n",
       "    </tr>\n",
       "    <tr>\n",
       "      <th>178</th>\n",
       "      <td>2017</td>\n",
       "      <td>11</td>\n",
       "      <td>US TOTAL</td>\n",
       "      <td>BEEF</td>\n",
       "      <td>229060.0</td>\n",
       "    </tr>\n",
       "    <tr>\n",
       "      <th>179</th>\n",
       "      <td>2017</td>\n",
       "      <td>12</td>\n",
       "      <td>US TOTAL</td>\n",
       "      <td>BEEF</td>\n",
       "      <td>214840.0</td>\n",
       "    </tr>\n",
       "    <tr>\n",
       "      <th>180</th>\n",
       "      <td>2018</td>\n",
       "      <td>1</td>\n",
       "      <td>US TOTAL</td>\n",
       "      <td>BEEF</td>\n",
       "      <td>227900.0</td>\n",
       "    </tr>\n",
       "    <tr>\n",
       "      <th>181</th>\n",
       "      <td>2018</td>\n",
       "      <td>2</td>\n",
       "      <td>US TOTAL</td>\n",
       "      <td>BEEF</td>\n",
       "      <td>198390.0</td>\n",
       "    </tr>\n",
       "    <tr>\n",
       "      <th>182</th>\n",
       "      <td>2018</td>\n",
       "      <td>3</td>\n",
       "      <td>US TOTAL</td>\n",
       "      <td>BEEF</td>\n",
       "      <td>220350.0</td>\n",
       "    </tr>\n",
       "    <tr>\n",
       "      <th>183</th>\n",
       "      <td>2018</td>\n",
       "      <td>4</td>\n",
       "      <td>US TOTAL</td>\n",
       "      <td>BEEF</td>\n",
       "      <td>211770.0</td>\n",
       "    </tr>\n",
       "    <tr>\n",
       "      <th>184</th>\n",
       "      <td>2018</td>\n",
       "      <td>5</td>\n",
       "      <td>US TOTAL</td>\n",
       "      <td>BEEF</td>\n",
       "      <td>230700.0</td>\n",
       "    </tr>\n",
       "    <tr>\n",
       "      <th>185</th>\n",
       "      <td>2018</td>\n",
       "      <td>6</td>\n",
       "      <td>US TOTAL</td>\n",
       "      <td>BEEF</td>\n",
       "      <td>230090.0</td>\n",
       "    </tr>\n",
       "    <tr>\n",
       "      <th>186</th>\n",
       "      <td>2018</td>\n",
       "      <td>7</td>\n",
       "      <td>US TOTAL</td>\n",
       "      <td>BEEF</td>\n",
       "      <td>223160.0</td>\n",
       "    </tr>\n",
       "    <tr>\n",
       "      <th>187</th>\n",
       "      <td>2018</td>\n",
       "      <td>8</td>\n",
       "      <td>US TOTAL</td>\n",
       "      <td>BEEF</td>\n",
       "      <td>242960.0</td>\n",
       "    </tr>\n",
       "    <tr>\n",
       "      <th>188</th>\n",
       "      <td>2018</td>\n",
       "      <td>9</td>\n",
       "      <td>US TOTAL</td>\n",
       "      <td>BEEF</td>\n",
       "      <td>215750.0</td>\n",
       "    </tr>\n",
       "    <tr>\n",
       "      <th>189</th>\n",
       "      <td>2018</td>\n",
       "      <td>10</td>\n",
       "      <td>US TOTAL</td>\n",
       "      <td>BEEF</td>\n",
       "      <td>243060.0</td>\n",
       "    </tr>\n",
       "    <tr>\n",
       "      <th>190</th>\n",
       "      <td>2018</td>\n",
       "      <td>11</td>\n",
       "      <td>US TOTAL</td>\n",
       "      <td>BEEF</td>\n",
       "      <td>231510.0</td>\n",
       "    </tr>\n",
       "    <tr>\n",
       "      <th>191</th>\n",
       "      <td>2018</td>\n",
       "      <td>12</td>\n",
       "      <td>US TOTAL</td>\n",
       "      <td>BEEF</td>\n",
       "      <td>211600.0</td>\n",
       "    </tr>\n",
       "  </tbody>\n",
       "</table>\n",
       "<p>72 rows × 5 columns</p>\n",
       "</div>"
      ],
      "text/plain": [
       "     year  month    nation product     price\n",
       "120  2013      1  US TOTAL    BEEF  226130.0\n",
       "121  2013      2  US TOTAL    BEEF  187340.0\n",
       "122  2013      3  US TOTAL    BEEF  203980.0\n",
       "123  2013      4  US TOTAL    BEEF  212860.0\n",
       "124  2013      5  US TOTAL    BEEF  222760.0\n",
       "125  2013      6  US TOTAL    BEEF  215700.0\n",
       "126  2013      7  US TOTAL    BEEF  229410.0\n",
       "127  2013      8  US TOTAL    BEEF  224120.0\n",
       "128  2013      9  US TOTAL    BEEF  207380.0\n",
       "129  2013     10  US TOTAL    BEEF  231820.0\n",
       "130  2013     11  US TOTAL    BEEF  205760.0\n",
       "131  2013     12  US TOTAL    BEEF  204730.0\n",
       "132  2014      1  US TOTAL    BEEF  214090.0\n",
       "133  2014      2  US TOTAL    BEEF  178840.0\n",
       "134  2014      3  US TOTAL    BEEF  193700.0\n",
       "135  2014      4  US TOTAL    BEEF  204310.0\n",
       "136  2014      5  US TOTAL    BEEF  207170.0\n",
       "137  2014      6  US TOTAL    BEEF  206900.0\n",
       "138  2014      7  US TOTAL    BEEF  208740.0\n",
       "139  2014      8  US TOTAL    BEEF  202350.0\n",
       "140  2014      9  US TOTAL    BEEF  206840.0\n",
       "141  2014     10  US TOTAL    BEEF  217110.0\n",
       "142  2014     11  US TOTAL    BEEF  184950.0\n",
       "143  2014     12  US TOTAL    BEEF  200020.0\n",
       "144  2015      1  US TOTAL    BEEF  196350.0\n",
       "145  2015      2  US TOTAL    BEEF  176810.0\n",
       "146  2015      3  US TOTAL    BEEF  193330.0\n",
       "147  2015      4  US TOTAL    BEEF  192880.0\n",
       "148  2015      5  US TOTAL    BEEF  192550.0\n",
       "149  2015      6  US TOTAL    BEEF  200160.0\n",
       "..    ...    ...       ...     ...       ...\n",
       "162  2016      7  US TOTAL    BEEF  202420.0\n",
       "163  2016      8  US TOTAL    BEEF  226580.0\n",
       "164  2016      9  US TOTAL    BEEF  218150.0\n",
       "165  2016     10  US TOTAL    BEEF  221120.0\n",
       "166  2016     11  US TOTAL    BEEF  224020.0\n",
       "167  2016     12  US TOTAL    BEEF  217330.0\n",
       "168  2017      1  US TOTAL    BEEF  211930.0\n",
       "169  2017      2  US TOTAL    BEEF  193390.0\n",
       "170  2017      3  US TOTAL    BEEF  224970.0\n",
       "171  2017      4  US TOTAL    BEEF  196310.0\n",
       "172  2017      5  US TOTAL    BEEF  216340.0\n",
       "173  2017      6  US TOTAL    BEEF  228030.0\n",
       "174  2017      7  US TOTAL    BEEF  210790.0\n",
       "175  2017      8  US TOTAL    BEEF  240210.0\n",
       "176  2017      9  US TOTAL    BEEF  222560.0\n",
       "177  2017     10  US TOTAL    BEEF  230300.0\n",
       "178  2017     11  US TOTAL    BEEF  229060.0\n",
       "179  2017     12  US TOTAL    BEEF  214840.0\n",
       "180  2018      1  US TOTAL    BEEF  227900.0\n",
       "181  2018      2  US TOTAL    BEEF  198390.0\n",
       "182  2018      3  US TOTAL    BEEF  220350.0\n",
       "183  2018      4  US TOTAL    BEEF  211770.0\n",
       "184  2018      5  US TOTAL    BEEF  230700.0\n",
       "185  2018      6  US TOTAL    BEEF  230090.0\n",
       "186  2018      7  US TOTAL    BEEF  223160.0\n",
       "187  2018      8  US TOTAL    BEEF  242960.0\n",
       "188  2018      9  US TOTAL    BEEF  215750.0\n",
       "189  2018     10  US TOTAL    BEEF  243060.0\n",
       "190  2018     11  US TOTAL    BEEF  231510.0\n",
       "191  2018     12  US TOTAL    BEEF  211600.0\n",
       "\n",
       "[72 rows x 5 columns]"
      ]
     },
     "execution_count": 36,
     "metadata": {},
     "output_type": "execute_result"
    }
   ],
   "source": [
    "deldata=usbeef[usbeef['year']<2013].index\n",
    "usbeef = usbeef.drop(deldata)\n",
    "deldata2=usbeef[usbeef['year']>2018].index\n",
    "usbeef = usbeef.drop(deldata2)\n",
    "usbeef"
   ]
  },
  {
   "cell_type": "code",
   "execution_count": 44,
   "metadata": {
    "scrolled": true
   },
   "outputs": [
    {
     "data": {
      "image/png": "[encoded data removed]",
      "text/plain": [
       "<Figure size 432x288 with 1 Axes>"
      ]
     },
     "metadata": {
      "needs_background": "light"
     },
     "output_type": "display_data"
    }
   ],
   "source": [
    "usbeef.boxplot(column=['price'],by=[\"year\"])\n",
    "plt.show()"
   ]
  },
  {
   "cell_type": "markdown",
   "metadata": {},
   "source": [
    "## 월별 미국 소의 가격 "
   ]
  },
  {
   "cell_type": "code",
   "execution_count": 41,
   "metadata": {
    "scrolled": false
   },
   "outputs": [
    {
     "data": {
      "image/png": "[encoded data removed]",
      "text/plain": [
       "<Figure size 432x288 with 1 Axes>"
      ]
     },
     "metadata": {
      "needs_background": "light"
     },
     "output_type": "display_data"
    }
   ],
   "source": [
    "usbeef.boxplot(column=['price'],by=[\"month\"])\n",
    "plt.show()"
   ]
  },
  {
   "cell_type": "code",
   "execution_count": 65,
   "metadata": {},
   "outputs": [
    {
     "data": {
      "image/png": "[encoded data removed]",
      "text/plain": [
       "<Figure size 432x288 with 1 Axes>"
      ]
     },
     "metadata": {
      "needs_background": "light"
     },
     "output_type": "display_data"
    }
   ],
   "source": [
    "plt.scatter(usbeef['month'],usbeef['price'],c=usbeef['year'])\n",
    "plt.legend(usbeef['year'])\n",
    "plt.show()"
   ]
  },
  {
   "cell_type": "markdown",
   "metadata": {},
   "source": [
    "## 각 연도별 월 미국 소가격 변동 추이 "
   ]
  },
  {
   "cell_type": "code",
   "execution_count": 79,
   "metadata": {
    "scrolled": false
   },
   "outputs": [
    {
     "data": {
      "image/png": "[encoded data removed]",
      "text/plain": [
       "<Figure size 432x288 with 1 Axes>"
      ]
     },
     "metadata": {
      "needs_background": "light"
     },
     "output_type": "display_data"
    }
   ],
   "source": [
    "usbeef2013 = usbeef[usbeef['year'].isin([2013])]\n",
    "plt.plot(usbeef2013['month'],usbeef2013['price'])\n",
    "plt.show()   \n"
   ]
  },
  {
   "cell_type": "code",
   "execution_count": 80,
   "metadata": {},
   "outputs": [
    {
     "data": {
      "image/png": "[encoded data removed]",
      "text/plain": [
       "<Figure size 432x288 with 1 Axes>"
      ]
     },
     "metadata": {
      "needs_background": "light"
     },
     "output_type": "display_data"
    }
   ],
   "source": [
    "usbeef2014 = usbeef[usbeef['year'].isin([2014])]\n",
    "plt.plot(usbeef2014['month'],usbeef2014['price'])\n",
    "plt.show()   \n"
   ]
  },
  {
   "cell_type": "code",
   "execution_count": 81,
   "metadata": {},
   "outputs": [
    {
     "data": {
      "image/png": "[encoded data removed]",
      "text/plain": [
       "<Figure size 432x288 with 1 Axes>"
      ]
     },
     "metadata": {
      "needs_background": "light"
     },
     "output_type": "display_data"
    }
   ],
   "source": [
    "usbeef2015 = usbeef[usbeef['year'].isin([2015])]\n",
    "plt.plot(usbeef2015['month'],usbeef2015['price'])\n",
    "plt.show()   \n"
   ]
  },
  {
   "cell_type": "code",
   "execution_count": 82,
   "metadata": {},
   "outputs": [
    {
     "data": {
      "image/png": "[encoded data removed]",
      "text/plain": [
       "<Figure size 432x288 with 1 Axes>"
      ]
     },
     "metadata": {
      "needs_background": "light"
     },
     "output_type": "display_data"
    }
   ],
   "source": [
    "usbeef2016 = usbeef[usbeef['year'].isin([2016])]\n",
    "plt.plot(usbeef2016['month'],usbeef2016['price'])\n",
    "plt.show()   \n"
   ]
  },
  {
   "cell_type": "code",
   "execution_count": 83,
   "metadata": {},
   "outputs": [
    {
     "data": {
      "image/png": "[encoded data removed]",
      "text/plain": [
       "<Figure size 432x288 with 1 Axes>"
      ]
     },
     "metadata": {
      "needs_background": "light"
     },
     "output_type": "display_data"
    }
   ],
   "source": [
    "usbeef2017 = usbeef[usbeef['year'].isin([2017])]\n",
    "plt.plot(usbeef2017['month'],usbeef2017['price'])\n",
    "plt.show()   \n"
   ]
  },
  {
   "cell_type": "code",
   "execution_count": 84,
   "metadata": {},
   "outputs": [
    {
     "data": {
      "image/png": "[encoded data removed]",
      "text/plain": [
       "<Figure size 432x288 with 1 Axes>"
      ]
     },
     "metadata": {
      "needs_background": "light"
     },
     "output_type": "display_data"
    }
   ],
   "source": [
    "usbeef2018 = usbeef[usbeef['year'].isin([2018])]\n",
    "plt.plot(usbeef2018['month'],usbeef2018['price'])\n",
    "plt.show()   \n"
   ]
  },
  {
   "cell_type": "code",
   "execution_count": 101,
   "metadata": {},
   "outputs": [
    {
     "data": {
      "text/plain": [
       "Text(0.5, 1.0, 'montly price by year(2013~2018)')"
      ]
     },
     "execution_count": 101,
     "metadata": {},
     "output_type": "execute_result"
    },
    {
     "data": {
      "image/png": "[encoded data removed]",
      "text/plain": [
       "<Figure size 432x288 with 1 Axes>"
      ]
     },
     "metadata": {
      "needs_background": "light"
     },
     "output_type": "display_data"
    }
   ],
   "source": [
    "plt.plot(usbeef2013['month'],usbeef2013['price'], color=\"blue\",linewidth=2.5, linestyle=\"-\",label='2013')\n",
    "plt.plot(usbeef2014['month'],usbeef2014['price'], color=\"red\",linewidth=2.5, linestyle=\"-\",label='2014')\n",
    "plt.plot(usbeef2015['month'],usbeef2015['price'], color=\"orange\",linewidth=2.5, linestyle=\"-\",label='2015')\n",
    "plt.plot(usbeef2016['month'],usbeef2016['price'], color=\"green\",linewidth=2.5, linestyle=\"-\",label='2016')\n",
    "plt.plot(usbeef2017['month'],usbeef2017['price'], color=\"pink\",linewidth=2.5, linestyle=\"-\",label='2017')\n",
    "plt.plot(usbeef2018['month'],usbeef2018['price'], color=\"yellow\",linewidth=2.5, linestyle=\"-\",label='2018')\n",
    "plt.legend(loc='best',ncol=2)\n",
    "plt.xlabel('month')\n",
    "plt.ylabel('price')\n",
    "plt.title(\"montly price by year(2013~2018)\")"
   ]
  },
  {
   "cell_type": "code",
   "execution_count": 9,
   "metadata": {},
   "outputs": [],
   "source": [
    "import pandas_profiling as pp"
   ]
  },
  {
   "cell_type": "code",
   "execution_count": 10,
   "metadata": {},
   "outputs": [
    {
     "data": {
      "application/vnd.jupyter.widget-view+json": {
       "model_id": "16675bca6e1d47b09122c77c3c19d616",
       "version_major": 2,
       "version_minor": 0
      },
      "text/plain": [
       "HBox(children=(FloatProgress(value=0.0, description='variables', max=5.0, style=ProgressStyle(description_widt…"
      ]
     },
     "metadata": {},
     "output_type": "display_data"
    },
    {
     "name": "stdout",
     "output_type": "stream",
     "text": [
      "\n"
     ]
    },
    {
     "data": {
      "application/vnd.jupyter.widget-view+json": {
       "model_id": "dd15b6d8d38d421197a21d5fcb241e48",
       "version_major": 2,
       "version_minor": 0
      },
      "text/plain": [
       "HBox(children=(FloatProgress(value=0.0, description='correlations', max=6.0, style=ProgressStyle(description_w…"
      ]
     },
     "metadata": {},
     "output_type": "display_data"
    },
    {
     "name": "stdout",
     "output_type": "stream",
     "text": [
      "\n"
     ]
    },
    {
     "data": {
      "application/vnd.jupyter.widget-view+json": {
       "model_id": "97a0f7ee14cd4bcfa0ae1ddac294eeab",
       "version_major": 2,
       "version_minor": 0
      },
      "text/plain": [
       "HBox(children=(FloatProgress(value=0.0, description='interactions [continuous]', max=9.0, style=ProgressStyle(…"
      ]
     },
     "metadata": {},
     "output_type": "display_data"
    },
    {
     "name": "stdout",
     "output_type": "stream",
     "text": [
      "\n"
     ]
    },
    {
     "data": {
      "application/vnd.jupyter.widget-view+json": {
       "model_id": "c60e2bfa30e142b2867e090edc8d00c6",
       "version_major": 2,
       "version_minor": 0
      },
      "text/plain": [
       "HBox(children=(FloatProgress(value=0.0, description='table', max=1.0, style=ProgressStyle(description_width='i…"
      ]
     },
     "metadata": {},
     "output_type": "display_data"
    },
    {
     "name": "stdout",
     "output_type": "stream",
     "text": [
      "\n"
     ]
    },
    {
     "data": {
      "application/vnd.jupyter.widget-view+json": {
       "model_id": "8778f8b3230449d7b46bbe026486d06b",
       "version_major": 2,
       "version_minor": 0
      },
      "text/plain": [
       "HBox(children=(FloatProgress(value=0.0, description='missing', max=2.0, style=ProgressStyle(description_width=…"
      ]
     },
     "metadata": {},
     "output_type": "display_data"
    },
    {
     "name": "stdout",
     "output_type": "stream",
     "text": [
      "\n"
     ]
    },
    {
     "data": {
      "application/vnd.jupyter.widget-view+json": {
       "model_id": "10e8f3e8fbba412da7b05ad2ba543784",
       "version_major": 2,
       "version_minor": 0
      },
      "text/plain": [
       "HBox(children=(FloatProgress(value=0.0, description='warnings', max=3.0, style=ProgressStyle(description_width…"
      ]
     },
     "metadata": {},
     "output_type": "display_data"
    },
    {
     "name": "stdout",
     "output_type": "stream",
     "text": [
      "\n"
     ]
    },
    {
     "data": {
      "application/vnd.jupyter.widget-view+json": {
       "model_id": "ffb8db6dde7d466ab0e2e8361889d6fe",
       "version_major": 2,
       "version_minor": 0
      },
      "text/plain": [
       "HBox(children=(FloatProgress(value=0.0, description='package', max=1.0, style=ProgressStyle(description_width=…"
      ]
     },
     "metadata": {},
     "output_type": "display_data"
    },
    {
     "name": "stdout",
     "output_type": "stream",
     "text": [
      "\n"
     ]
    },
    {
     "data": {
      "application/vnd.jupyter.widget-view+json": {
       "model_id": "cd19d45a1bcb48d78558978bbefebf1d",
       "version_major": 2,
       "version_minor": 0
      },
      "text/plain": [
       "HBox(children=(FloatProgress(value=0.0, description='build report structure', max=1.0, style=ProgressStyle(des…"
      ]
     },
     "metadata": {},
     "output_type": "display_data"
    },
    {
     "name": "stdout",
     "output_type": "stream",
     "text": [
      "\n"
     ]
    }
   ],
   "source": [
    "pr=usbeef.profile_report()"
   ]
  },
  {
   "cell_type": "code",
   "execution_count": 11,
   "metadata": {},
   "outputs": [],
   "source": [
    "pr.to_file('./pr_report.html')"
   ]
  },
  {
   "cell_type": "code",
   "execution_count": null,
   "metadata": {},
   "outputs": [],
   "source": []
  },
  {
   "cell_type": "code",
   "execution_count": null,
   "metadata": {},
   "outputs": [],
   "source": []
  },
  {
   "cell_type": "code",
   "execution_count": null,
   "metadata": {},
   "outputs": [],
   "source": []
  },
  {
   "cell_type": "code",
   "execution_count": null,
   "metadata": {},
   "outputs": [],
   "source": []
  }
 ],
 "metadata": {
  "kernelspec": {
   "display_name": "Python 3",
   "language": "python",
   "name": "python3"
  },
  "language_info": {
   "codemirror_mode": {
    "name": "ipython",
    "version": 3
   },
   "file_extension": ".py",
   "mimetype": "text/x-python",
   "name": "python",
   "nbconvert_exporter": "python",
   "pygments_lexer": "ipython3",
   "version": "3.7.3"
  }
 },
 "nbformat": 4,
 "nbformat_minor": 2
}

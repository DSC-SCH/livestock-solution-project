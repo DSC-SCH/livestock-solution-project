{
 "cells": [
  {
   "cell_type": "markdown",
   "metadata": {},
   "source": [
    "### 가축사육현황 EDA\n",
    "---\n",
    "\n",
    "\n",
    "데이터분석 목적\n",
    "\n",
    "- “분기별 가축사육현황”\n",
    "- ‘마리수-번식우’, ‘번식우’,‘마리수’,’번식우가 아닌 소 중 1세 미만(암,수) 제외’에 해당하는 값을 사용할 예정.\n",
    "- 번식우: 기르기 위한 소이기 때문에 제외한 값도 확인해보고자함\n",
    "- 1세 미만(암,수)는 출하 월령에 미치지 못하기 때문.\n",
    "- ‘마리수-번식우’,’마리수’ 각각 y값과 EDA\n",
    "\n",
    "\n",
    "데이터 셋 분석 기간\n",
    "- 2013.01.01 ~ 2018.12.31"
   ]
  },
  {
   "cell_type": "code",
   "execution_count": 55,
   "metadata": {
    "pycharm": {
     "is_executing": false
    }
   },
   "outputs": [],
   "source": [
    "import pandas as pd\n",
    "import numpy as np\n",
    "from pandas_profiling import ProfileReport"
   ]
  },
  {
   "cell_type": "code",
   "execution_count": 56,
   "metadata": {
    "pycharm": {
     "is_executing": false,
     "name": "#%%\n"
    },
    "scrolled": true
   },
   "outputs": [
    {
     "name": "stdout",
     "output_type": "stream",
     "text": [
      "Breeding status Columns \n",
      "  Index(['Unnamed: 0', '연도', '월', '마리수', '번식우', '1세미만(암)', '1세미만(수)', '1~2세(암)',\n",
      "       '1~2세(수)', '2세이상(암)', '2세이상(수)'],\n",
      "      dtype='object')\n",
      "\n",
      "Target data columns \n",
      " Index(['경매시간', '경매기준시분초', '경매 구분', '경매 구분 명', '도매시장코드', '도매시장명', '한우 평균경매 금액',\n",
      "       '한우 평균경매 금액_상승하강', '한우 1B+ 경매단가', '한우 3B 경매단가', '한우 경매 예상 두수',\n",
      "       '한우 경매 낙찰 두수', '육우 경매 금액', '육우 전날 경매금액 차이', '육우 경매 예상 두수', '육우 경매 두수',\n",
      "       '돼지 박피 경매 금액', '돼지 박피 전날 경매금액 차이', '돼지 박피 경매 두수', '돼지 탕박 경매 금액',\n",
      "       '돼지 탕박 전날 경매금액 차이', '돼지 탕박 경매 두수', '돼지 경매 두수'],\n",
      "      dtype='object')\n"
     ]
    }
   ],
   "source": [
    "breeding_status_data = pd.read_csv(\"./data/02. 가축사육현황.csv\", encoding=\"cp949\")\n",
    "target_data = pd.read_csv(\"./data/01. 축산물 실시간 경매시황중계정보.csv\", encoding=\"cp949\")\n",
    "\n",
    "print(f\"Breeding status Columns \\n  {breeding_status_data.columns}\")\n",
    "print()\n",
    "print(f\"Target data columns \\n {target_data.columns}\")"
   ]
  },
  {
   "cell_type": "code",
   "execution_count": 60,
   "metadata": {},
   "outputs": [],
   "source": [
    "# Create Data Profile Report\n",
    "breeding_data_profile = status_df.profile_report()\n",
    "breeding_data_profile.to_file(\"./data/breeding_status_report.html\")\n",
    "\n",
    "target_data_profile = target_data.profile_report()\n",
    "target_data_profile.to_file(\"./data/축산물_실시간_경매시황중계정보.html\")"
   ]
  },
  {
   "cell_type": "code",
   "execution_count": 53,
   "metadata": {},
   "outputs": [
    {
     "name": "stdout",
     "output_type": "stream",
     "text": [
      "Target Data shape : (34957, 2)\n"
     ]
    },
    {
     "data": {
      "text/html": [
       "<div>\n",
       "<style scoped>\n",
       "    .dataframe tbody tr th:only-of-type {\n",
       "        vertical-align: middle;\n",
       "    }\n",
       "\n",
       "    .dataframe tbody tr th {\n",
       "        vertical-align: top;\n",
       "    }\n",
       "\n",
       "    .dataframe thead th {\n",
       "        text-align: right;\n",
       "    }\n",
       "</style>\n",
       "<table border=\"1\" class=\"dataframe\">\n",
       "  <thead>\n",
       "    <tr style=\"text-align: right;\">\n",
       "      <th></th>\n",
       "      <th>경매시간</th>\n",
       "      <th>한우 평균경매 금액</th>\n",
       "    </tr>\n",
       "  </thead>\n",
       "  <tbody>\n",
       "    <tr>\n",
       "      <th>0</th>\n",
       "      <td>20181007</td>\n",
       "      <td>0</td>\n",
       "    </tr>\n",
       "    <tr>\n",
       "      <th>1</th>\n",
       "      <td>20181007</td>\n",
       "      <td>0</td>\n",
       "    </tr>\n",
       "    <tr>\n",
       "      <th>2</th>\n",
       "      <td>20181007</td>\n",
       "      <td>0</td>\n",
       "    </tr>\n",
       "    <tr>\n",
       "      <th>3</th>\n",
       "      <td>20181007</td>\n",
       "      <td>0</td>\n",
       "    </tr>\n",
       "    <tr>\n",
       "      <th>4</th>\n",
       "      <td>20181007</td>\n",
       "      <td>0</td>\n",
       "    </tr>\n",
       "  </tbody>\n",
       "</table>\n",
       "</div>"
      ],
      "text/plain": [
       "       경매시간  한우 평균경매 금액\n",
       "0  20181007           0\n",
       "1  20181007           0\n",
       "2  20181007           0\n",
       "3  20181007           0\n",
       "4  20181007           0"
      ]
     },
     "execution_count": 53,
     "metadata": {},
     "output_type": "execute_result"
    }
   ],
   "source": [
    "target_data = target_data[[\"경매시간\", \"한우 평균경매 금액\"]]\n",
    "print(f\"Target Data shape : {target_data.shape}\")\n",
    "target_data.head()"
   ]
  },
  {
   "cell_type": "code",
   "execution_count": 54,
   "metadata": {},
   "outputs": [
    {
     "name": "stdout",
     "output_type": "stream",
     "text": [
      "Target Data Statistics Summary\n"
     ]
    },
    {
     "data": {
      "text/html": [
       "<div>\n",
       "<style scoped>\n",
       "    .dataframe tbody tr th:only-of-type {\n",
       "        vertical-align: middle;\n",
       "    }\n",
       "\n",
       "    .dataframe tbody tr th {\n",
       "        vertical-align: top;\n",
       "    }\n",
       "\n",
       "    .dataframe thead th {\n",
       "        text-align: right;\n",
       "    }\n",
       "</style>\n",
       "<table border=\"1\" class=\"dataframe\">\n",
       "  <thead>\n",
       "    <tr style=\"text-align: right;\">\n",
       "      <th></th>\n",
       "      <th>경매시간</th>\n",
       "      <th>한우 평균경매 금액</th>\n",
       "    </tr>\n",
       "  </thead>\n",
       "  <tbody>\n",
       "    <tr>\n",
       "      <th>count</th>\n",
       "      <td>3.495700e+04</td>\n",
       "      <td>34957.000000</td>\n",
       "    </tr>\n",
       "    <tr>\n",
       "      <th>mean</th>\n",
       "      <td>2.013907e+07</td>\n",
       "      <td>5533.391853</td>\n",
       "    </tr>\n",
       "    <tr>\n",
       "      <th>std</th>\n",
       "      <td>1.102310e+04</td>\n",
       "      <td>6828.696050</td>\n",
       "    </tr>\n",
       "    <tr>\n",
       "      <th>min</th>\n",
       "      <td>2.013010e+07</td>\n",
       "      <td>0.000000</td>\n",
       "    </tr>\n",
       "    <tr>\n",
       "      <th>25%</th>\n",
       "      <td>2.013073e+07</td>\n",
       "      <td>0.000000</td>\n",
       "    </tr>\n",
       "    <tr>\n",
       "      <th>50%</th>\n",
       "      <td>2.014022e+07</td>\n",
       "      <td>0.000000</td>\n",
       "    </tr>\n",
       "    <tr>\n",
       "      <th>75%</th>\n",
       "      <td>2.014092e+07</td>\n",
       "      <td>13190.000000</td>\n",
       "    </tr>\n",
       "    <tr>\n",
       "      <th>max</th>\n",
       "      <td>2.018101e+07</td>\n",
       "      <td>23111.000000</td>\n",
       "    </tr>\n",
       "  </tbody>\n",
       "</table>\n",
       "</div>"
      ],
      "text/plain": [
       "               경매시간    한우 평균경매 금액\n",
       "count  3.495700e+04  34957.000000\n",
       "mean   2.013907e+07   5533.391853\n",
       "std    1.102310e+04   6828.696050\n",
       "min    2.013010e+07      0.000000\n",
       "25%    2.013073e+07      0.000000\n",
       "50%    2.014022e+07      0.000000\n",
       "75%    2.014092e+07  13190.000000\n",
       "max    2.018101e+07  23111.000000"
      ]
     },
     "execution_count": 54,
     "metadata": {},
     "output_type": "execute_result"
    }
   ],
   "source": [
    "print(\"Target Data Statistics Summary\")\n",
    "target_data.describe()"
   ]
  },
  {
   "cell_type": "code",
   "execution_count": 36,
   "metadata": {
    "pycharm": {
     "is_executing": false
    }
   },
   "outputs": [],
   "source": [
    "# Drop Unnamed field\n",
    "status_df = breeding_status_data[['연도', '월', '마리수', '번식우', '1세미만(암)', '1세미만(수)', '1~2세(암)',\n",
    "       '1~2세(수)', '2세이상(암)', '2세이상(수)']]"
   ]
  },
  {
   "cell_type": "code",
   "execution_count": null,
   "metadata": {},
   "outputs": [],
   "source": [
    "# Simple Data Profile Report\n",
    "breeding_data_profile = status_df.profile_report()\n",
    "bredding_data_profile.to_file(\"./data/breeding_status_report.html\")\n",
    "target_data_profile"
   ]
  },
  {
   "cell_type": "code",
   "execution_count": 37,
   "metadata": {
    "pycharm": {
     "is_executing": false
    },
    "scrolled": true
   },
   "outputs": [
    {
     "name": "stdout",
     "output_type": "stream",
     "text": [
      "Data Shape : (80, 10)\n"
     ]
    },
    {
     "data": {
      "text/html": [
       "<div>\n",
       "<style scoped>\n",
       "    .dataframe tbody tr th:only-of-type {\n",
       "        vertical-align: middle;\n",
       "    }\n",
       "\n",
       "    .dataframe tbody tr th {\n",
       "        vertical-align: top;\n",
       "    }\n",
       "\n",
       "    .dataframe thead th {\n",
       "        text-align: right;\n",
       "    }\n",
       "</style>\n",
       "<table border=\"1\" class=\"dataframe\">\n",
       "  <thead>\n",
       "    <tr style=\"text-align: right;\">\n",
       "      <th></th>\n",
       "      <th>연도</th>\n",
       "      <th>월</th>\n",
       "      <th>마리수</th>\n",
       "      <th>번식우</th>\n",
       "      <th>1세미만(암)</th>\n",
       "      <th>1세미만(수)</th>\n",
       "      <th>1~2세(암)</th>\n",
       "      <th>1~2세(수)</th>\n",
       "      <th>2세이상(암)</th>\n",
       "      <th>2세이상(수)</th>\n",
       "    </tr>\n",
       "  </thead>\n",
       "  <tbody>\n",
       "    <tr>\n",
       "      <th>0</th>\n",
       "      <td>2000</td>\n",
       "      <td>3</td>\n",
       "      <td>1,819</td>\n",
       "      <td>1,142</td>\n",
       "      <td>262</td>\n",
       "      <td>384</td>\n",
       "      <td>239</td>\n",
       "      <td>222</td>\n",
       "      <td>690</td>\n",
       "      <td>22</td>\n",
       "    </tr>\n",
       "    <tr>\n",
       "      <th>1</th>\n",
       "      <td>2000</td>\n",
       "      <td>6</td>\n",
       "      <td>1,801</td>\n",
       "      <td>1,118</td>\n",
       "      <td>271</td>\n",
       "      <td>395</td>\n",
       "      <td>215</td>\n",
       "      <td>219</td>\n",
       "      <td>678</td>\n",
       "      <td>23</td>\n",
       "    </tr>\n",
       "    <tr>\n",
       "      <th>2</th>\n",
       "      <td>2000</td>\n",
       "      <td>9</td>\n",
       "      <td>1,713</td>\n",
       "      <td>1,051</td>\n",
       "      <td>258</td>\n",
       "      <td>384</td>\n",
       "      <td>199</td>\n",
       "      <td>213</td>\n",
       "      <td>639</td>\n",
       "      <td>20</td>\n",
       "    </tr>\n",
       "    <tr>\n",
       "      <th>3</th>\n",
       "      <td>2000</td>\n",
       "      <td>12</td>\n",
       "      <td>1,590</td>\n",
       "      <td>973</td>\n",
       "      <td>237</td>\n",
       "      <td>352</td>\n",
       "      <td>188</td>\n",
       "      <td>202</td>\n",
       "      <td>593</td>\n",
       "      <td>18</td>\n",
       "    </tr>\n",
       "    <tr>\n",
       "      <th>4</th>\n",
       "      <td>2001</td>\n",
       "      <td>3</td>\n",
       "      <td>1,476</td>\n",
       "      <td>899</td>\n",
       "      <td>211</td>\n",
       "      <td>329</td>\n",
       "      <td>172</td>\n",
       "      <td>189</td>\n",
       "      <td>556</td>\n",
       "      <td>19</td>\n",
       "    </tr>\n",
       "  </tbody>\n",
       "</table>\n",
       "</div>"
      ],
      "text/plain": [
       "     연도   월    마리수    번식우  1세미만(암)  1세미만(수)  1~2세(암)  1~2세(수) 2세이상(암)  2세이상(수)\n",
       "0  2000   3  1,819  1,142      262      384      239      222     690       22\n",
       "1  2000   6  1,801  1,118      271      395      215      219     678       23\n",
       "2  2000   9  1,713  1,051      258      384      199      213     639       20\n",
       "3  2000  12  1,590    973      237      352      188      202     593       18\n",
       "4  2001   3  1,476    899      211      329      172      189     556       19"
      ]
     },
     "execution_count": 37,
     "metadata": {},
     "output_type": "execute_result"
    }
   ],
   "source": [
    "print(f\"Data Shape : {status_df.shape}\")\n",
    "status_df.head()"
   ]
  },
  {
   "cell_type": "code",
   "execution_count": 38,
   "metadata": {
    "scrolled": true
   },
   "outputs": [
    {
     "name": "stderr",
     "output_type": "stream",
     "text": [
      "/Users/hongnadan/opt/anaconda3/envs/livestock-solution-project/lib/python3.7/site-packages/ipykernel_launcher.py:3: SettingWithCopyWarning: \n",
      "A value is trying to be set on a copy of a slice from a DataFrame.\n",
      "Try using .loc[row_indexer,col_indexer] = value instead\n",
      "\n",
      "See the caveats in the documentation: https://pandas.pydata.org/pandas-docs/stable/user_guide/indexing.html#returning-a-view-versus-a-copy\n",
      "  This is separate from the ipykernel package so we can avoid doing imports until\n",
      "/Users/hongnadan/opt/anaconda3/envs/livestock-solution-project/lib/python3.7/site-packages/ipykernel_launcher.py:4: SettingWithCopyWarning: \n",
      "A value is trying to be set on a copy of a slice from a DataFrame.\n",
      "Try using .loc[row_indexer,col_indexer] = value instead\n",
      "\n",
      "See the caveats in the documentation: https://pandas.pydata.org/pandas-docs/stable/user_guide/indexing.html#returning-a-view-versus-a-copy\n",
      "  after removing the cwd from sys.path.\n"
     ]
    }
   ],
   "source": [
    "# convert string value to interger\n",
    "\n",
    "status_df[\"마리수\"] = status_df[\"마리수\"].apply(lambda x : int(x.replace(\",\", \"\")))\n",
    "status_df[\"번식우\"] = status_df[\"번식우\"].apply(lambda x : int(x.replace(\",\", \"\")))"
   ]
  },
  {
   "cell_type": "code",
   "execution_count": 39,
   "metadata": {},
   "outputs": [
    {
     "data": {
      "text/html": [
       "<div>\n",
       "<style scoped>\n",
       "    .dataframe tbody tr th:only-of-type {\n",
       "        vertical-align: middle;\n",
       "    }\n",
       "\n",
       "    .dataframe tbody tr th {\n",
       "        vertical-align: top;\n",
       "    }\n",
       "\n",
       "    .dataframe thead th {\n",
       "        text-align: right;\n",
       "    }\n",
       "</style>\n",
       "<table border=\"1\" class=\"dataframe\">\n",
       "  <thead>\n",
       "    <tr style=\"text-align: right;\">\n",
       "      <th></th>\n",
       "      <th>연도</th>\n",
       "      <th>월</th>\n",
       "      <th>마리수</th>\n",
       "      <th>번식우</th>\n",
       "      <th>1세미만(암)</th>\n",
       "      <th>1세미만(수)</th>\n",
       "      <th>1~2세(암)</th>\n",
       "      <th>1~2세(수)</th>\n",
       "      <th>2세이상(암)</th>\n",
       "      <th>2세이상(수)</th>\n",
       "    </tr>\n",
       "  </thead>\n",
       "  <tbody>\n",
       "    <tr>\n",
       "      <th>0</th>\n",
       "      <td>2000</td>\n",
       "      <td>3</td>\n",
       "      <td>1819</td>\n",
       "      <td>1142</td>\n",
       "      <td>262</td>\n",
       "      <td>384</td>\n",
       "      <td>239</td>\n",
       "      <td>222</td>\n",
       "      <td>690</td>\n",
       "      <td>22</td>\n",
       "    </tr>\n",
       "    <tr>\n",
       "      <th>1</th>\n",
       "      <td>2000</td>\n",
       "      <td>6</td>\n",
       "      <td>1801</td>\n",
       "      <td>1118</td>\n",
       "      <td>271</td>\n",
       "      <td>395</td>\n",
       "      <td>215</td>\n",
       "      <td>219</td>\n",
       "      <td>678</td>\n",
       "      <td>23</td>\n",
       "    </tr>\n",
       "    <tr>\n",
       "      <th>2</th>\n",
       "      <td>2000</td>\n",
       "      <td>9</td>\n",
       "      <td>1713</td>\n",
       "      <td>1051</td>\n",
       "      <td>258</td>\n",
       "      <td>384</td>\n",
       "      <td>199</td>\n",
       "      <td>213</td>\n",
       "      <td>639</td>\n",
       "      <td>20</td>\n",
       "    </tr>\n",
       "    <tr>\n",
       "      <th>3</th>\n",
       "      <td>2000</td>\n",
       "      <td>12</td>\n",
       "      <td>1590</td>\n",
       "      <td>973</td>\n",
       "      <td>237</td>\n",
       "      <td>352</td>\n",
       "      <td>188</td>\n",
       "      <td>202</td>\n",
       "      <td>593</td>\n",
       "      <td>18</td>\n",
       "    </tr>\n",
       "    <tr>\n",
       "      <th>4</th>\n",
       "      <td>2001</td>\n",
       "      <td>3</td>\n",
       "      <td>1476</td>\n",
       "      <td>899</td>\n",
       "      <td>211</td>\n",
       "      <td>329</td>\n",
       "      <td>172</td>\n",
       "      <td>189</td>\n",
       "      <td>556</td>\n",
       "      <td>19</td>\n",
       "    </tr>\n",
       "  </tbody>\n",
       "</table>\n",
       "</div>"
      ],
      "text/plain": [
       "     연도   월   마리수   번식우  1세미만(암)  1세미만(수)  1~2세(암)  1~2세(수) 2세이상(암)  2세이상(수)\n",
       "0  2000   3  1819  1142      262      384      239      222     690       22\n",
       "1  2000   6  1801  1118      271      395      215      219     678       23\n",
       "2  2000   9  1713  1051      258      384      199      213     639       20\n",
       "3  2000  12  1590   973      237      352      188      202     593       18\n",
       "4  2001   3  1476   899      211      329      172      189     556       19"
      ]
     },
     "execution_count": 39,
     "metadata": {},
     "output_type": "execute_result"
    }
   ],
   "source": [
    "status_df.head()"
   ]
  },
  {
   "cell_type": "code",
   "execution_count": 40,
   "metadata": {
    "pycharm": {
     "is_executing": false,
     "name": "#%%\n"
    }
   },
   "outputs": [
    {
     "name": "stdout",
     "output_type": "stream",
     "text": [
      "Data Statistics Summary\n"
     ]
    },
    {
     "data": {
      "text/html": [
       "<div>\n",
       "<style scoped>\n",
       "    .dataframe tbody tr th:only-of-type {\n",
       "        vertical-align: middle;\n",
       "    }\n",
       "\n",
       "    .dataframe tbody tr th {\n",
       "        vertical-align: top;\n",
       "    }\n",
       "\n",
       "    .dataframe thead th {\n",
       "        text-align: right;\n",
       "    }\n",
       "</style>\n",
       "<table border=\"1\" class=\"dataframe\">\n",
       "  <thead>\n",
       "    <tr style=\"text-align: right;\">\n",
       "      <th></th>\n",
       "      <th>연도</th>\n",
       "      <th>월</th>\n",
       "      <th>마리수</th>\n",
       "      <th>번식우</th>\n",
       "      <th>1세미만(암)</th>\n",
       "      <th>1세미만(수)</th>\n",
       "      <th>1~2세(암)</th>\n",
       "      <th>1~2세(수)</th>\n",
       "      <th>2세이상(수)</th>\n",
       "    </tr>\n",
       "  </thead>\n",
       "  <tbody>\n",
       "    <tr>\n",
       "      <th>count</th>\n",
       "      <td>80.000000</td>\n",
       "      <td>80.000000</td>\n",
       "      <td>80.000000</td>\n",
       "      <td>80.000000</td>\n",
       "      <td>80.000000</td>\n",
       "      <td>80.000000</td>\n",
       "      <td>80.000000</td>\n",
       "      <td>80.00000</td>\n",
       "      <td>80.000000</td>\n",
       "    </tr>\n",
       "    <tr>\n",
       "      <th>mean</th>\n",
       "      <td>2009.500000</td>\n",
       "      <td>7.500000</td>\n",
       "      <td>2436.087500</td>\n",
       "      <td>1378.537500</td>\n",
       "      <td>334.312500</td>\n",
       "      <td>433.162500</td>\n",
       "      <td>298.825000</td>\n",
       "      <td>356.32500</td>\n",
       "      <td>146.750000</td>\n",
       "    </tr>\n",
       "    <tr>\n",
       "      <th>std</th>\n",
       "      <td>5.802662</td>\n",
       "      <td>3.375264</td>\n",
       "      <td>655.862331</td>\n",
       "      <td>320.929502</td>\n",
       "      <td>79.383797</td>\n",
       "      <td>65.102343</td>\n",
       "      <td>100.259382</td>\n",
       "      <td>113.42301</td>\n",
       "      <td>103.296121</td>\n",
       "    </tr>\n",
       "    <tr>\n",
       "      <th>min</th>\n",
       "      <td>2000.000000</td>\n",
       "      <td>3.000000</td>\n",
       "      <td>1337.000000</td>\n",
       "      <td>788.000000</td>\n",
       "      <td>177.000000</td>\n",
       "      <td>305.000000</td>\n",
       "      <td>141.000000</td>\n",
       "      <td>178.00000</td>\n",
       "      <td>17.000000</td>\n",
       "    </tr>\n",
       "    <tr>\n",
       "      <th>25%</th>\n",
       "      <td>2004.750000</td>\n",
       "      <td>5.250000</td>\n",
       "      <td>1790.000000</td>\n",
       "      <td>1102.500000</td>\n",
       "      <td>264.250000</td>\n",
       "      <td>382.500000</td>\n",
       "      <td>198.750000</td>\n",
       "      <td>236.50000</td>\n",
       "      <td>32.000000</td>\n",
       "    </tr>\n",
       "    <tr>\n",
       "      <th>50%</th>\n",
       "      <td>2009.500000</td>\n",
       "      <td>7.500000</td>\n",
       "      <td>2673.500000</td>\n",
       "      <td>1469.500000</td>\n",
       "      <td>368.000000</td>\n",
       "      <td>449.500000</td>\n",
       "      <td>329.000000</td>\n",
       "      <td>391.50000</td>\n",
       "      <td>168.500000</td>\n",
       "    </tr>\n",
       "    <tr>\n",
       "      <th>75%</th>\n",
       "      <td>2014.250000</td>\n",
       "      <td>9.750000</td>\n",
       "      <td>3022.000000</td>\n",
       "      <td>1670.000000</td>\n",
       "      <td>400.250000</td>\n",
       "      <td>474.250000</td>\n",
       "      <td>395.000000</td>\n",
       "      <td>466.25000</td>\n",
       "      <td>236.000000</td>\n",
       "    </tr>\n",
       "    <tr>\n",
       "      <th>max</th>\n",
       "      <td>2019.000000</td>\n",
       "      <td>12.000000</td>\n",
       "      <td>3269.000000</td>\n",
       "      <td>1843.000000</td>\n",
       "      <td>441.000000</td>\n",
       "      <td>537.000000</td>\n",
       "      <td>442.000000</td>\n",
       "      <td>514.00000</td>\n",
       "      <td>344.000000</td>\n",
       "    </tr>\n",
       "  </tbody>\n",
       "</table>\n",
       "</div>"
      ],
      "text/plain": [
       "                연도          월          마리수  ...     1~2세(암)    1~2세(수)     2세이상(수)\n",
       "count    80.000000  80.000000    80.000000  ...   80.000000   80.00000   80.000000\n",
       "mean   2009.500000   7.500000  2436.087500  ...  298.825000  356.32500  146.750000\n",
       "std       5.802662   3.375264   655.862331  ...  100.259382  113.42301  103.296121\n",
       "min    2000.000000   3.000000  1337.000000  ...  141.000000  178.00000   17.000000\n",
       "25%    2004.750000   5.250000  1790.000000  ...  198.750000  236.50000   32.000000\n",
       "50%    2009.500000   7.500000  2673.500000  ...  329.000000  391.50000  168.500000\n",
       "75%    2014.250000   9.750000  3022.000000  ...  395.000000  466.25000  236.000000\n",
       "max    2019.000000  12.000000  3269.000000  ...  442.000000  514.00000  344.000000\n",
       "\n",
       "[8 rows x 9 columns]"
      ]
     },
     "execution_count": 40,
     "metadata": {},
     "output_type": "execute_result"
    }
   ],
   "source": [
    "print(\"Data Statistics Summary\")\n",
    "status_df.describe()"
   ]
  },
  {
   "cell_type": "code",
   "execution_count": 41,
   "metadata": {
    "pycharm": {
     "is_executing": false
    },
    "scrolled": true
   },
   "outputs": [
    {
     "name": "stdout",
     "output_type": "stream",
     "text": [
      "===Check Data Missing Values=====\n"
     ]
    },
    {
     "data": {
      "text/plain": [
       "연도         False\n",
       "월          False\n",
       "마리수        False\n",
       "번식우        False\n",
       "1세미만(암)    False\n",
       "1세미만(수)    False\n",
       "1~2세(암)    False\n",
       "1~2세(수)    False\n",
       "2세이상(암)    False\n",
       "2세이상(수)    False\n",
       "dtype: bool"
      ]
     },
     "execution_count": 41,
     "metadata": {},
     "output_type": "execute_result"
    }
   ],
   "source": [
    "print(\"===Check Data Missing Values=====\")\n",
    "status_df.isna().any()"
   ]
  },
  {
   "cell_type": "markdown",
   "metadata": {},
   "source": [
    "결측치 존재 x"
   ]
  },
  {
   "cell_type": "markdown",
   "metadata": {},
   "source": [
    "### To Do \n",
    "---\n",
    "\n",
    "1. Y & 가축현황 Date 별로 맞춰서 DataSet 만들기\n",
    "2. Correlation 분석 \n",
    "3. Visualization으로 정리."
   ]
  },
  {
   "cell_type": "code",
   "execution_count": null,
   "metadata": {},
   "outputs": [],
   "source": []
  }
 ],
 "metadata": {
  "kernelspec": {
   "display_name": "Python 3",
   "language": "python",
   "name": "python3"
  },
  "language_info": {
   "codemirror_mode": {
    "name": "ipython",
    "version": 3
   },
   "file_extension": ".py",
   "mimetype": "text/x-python",
   "name": "python",
   "nbconvert_exporter": "python",
   "pygments_lexer": "ipython3",
   "version": "3.7.7"
  },
  "pycharm": {
   "stem_cell": {
    "cell_type": "raw",
    "metadata": {
     "collapsed": false
    },
    "source": []
   }
  }
 },
 "nbformat": 4,
 "nbformat_minor": 1
}

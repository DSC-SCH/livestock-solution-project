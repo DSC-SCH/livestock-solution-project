{
 "cells": [
  {
   "cell_type": "code",
   "execution_count": 1,
   "metadata": {},
   "outputs": [],
   "source": [
    "import numpy as np\n",
    "import pandas as pd"
   ]
  },
  {
   "cell_type": "code",
   "execution_count": 2,
   "metadata": {},
   "outputs": [],
   "source": [
    "import pickle\n",
    "import os"
   ]
  },
  {
   "cell_type": "code",
   "execution_count": 3,
   "metadata": {},
   "outputs": [
    {
     "name": "stdout",
     "output_type": "stream",
     "text": [
      "['feed.rds', 'usbeer_merge.pkl', '가축사육현황merge.pkl', '경제성장률merge.pkl', '관측정보_merge.pkl', '수입현황merge.pkl', '축산물_공휴일.pkl', '축산물_시계열 데이터로 변환(전국).pkl']\n"
     ]
    }
   ],
   "source": [
    "data_dir = r'C:\\Users\\a0105\\Desktop\\DSC\\ddd\\preprocessing/'\n",
    "\n",
    "filenames = os.listdir(data_dir)\n",
    "print(filenames)"
   ]
  },
  {
   "cell_type": "code",
   "execution_count": 45,
   "metadata": {},
   "outputs": [],
   "source": [
    "with open(data_dir+'usbeer_merge.pkl', 'rb') as f:\n",
    "    usbeef = pickle.load(f)\n",
    "\n",
    "with open(data_dir+'가축사육현황merge.pkl', 'rb') as f:\n",
    "    livestock = pickle.load(f)\n",
    "    \n",
    "with open(data_dir+'경제성장률merge.pkl', 'rb') as f:\n",
    "    economic = pickle.load(f)\n",
    "    \n",
    "with open(data_dir+'관측정보_merge.pkl', 'rb') as f:\n",
    "    weather = pickle.load(f)\n",
    "\n",
    "with open(data_dir+'수입현황merge.pkl', 'rb') as f:\n",
    "    import_df = pickle.load(f)\n",
    "    \n",
    "with open(data_dir+'축산물_공휴일.pkl', 'rb') as f:\n",
    "    holiday = pickle.load(f)\n",
    "    \n",
    "with open(data_dir+'축산물_시계열 데이터로 변환(전국).pkl', 'rb') as f:\n",
    "    price_ts = pickle.load(f)"
   ]
  },
  {
   "cell_type": "code",
   "execution_count": 46,
   "metadata": {},
   "outputs": [
    {
     "name": "stdout",
     "output_type": "stream",
     "text": [
      "(298, 3)\n",
      "(298, 21)\n",
      "(298, 16)\n",
      "(298, 11)\n",
      "(298, 8)\n",
      "(298, 7)\n",
      "(298, 5)\n"
     ]
    }
   ],
   "source": [
    "print(usbeef.shape)\n",
    "print(livestock.shape)\n",
    "print(economic.shape)\n",
    "print(weather.shape)\n",
    "print(import_df.shape)\n",
    "print(holiday.shape)\n",
    "print(price_ts.shape)"
   ]
  },
  {
   "cell_type": "code",
   "execution_count": 47,
   "metadata": {},
   "outputs": [],
   "source": [
    "# livestock 주간날짜 칼럼 -> datetime형태로 바꿔주기\n",
    "livestock['주간날짜'] = pd.to_datetime(livestock['주간날짜'])"
   ]
  },
  {
   "cell_type": "markdown",
   "metadata": {},
   "source": [
    "### usbeef 가격 데이터+ 한우가격(y값)"
   ]
  },
  {
   "cell_type": "code",
   "execution_count": 48,
   "metadata": {},
   "outputs": [
    {
     "name": "stdout",
     "output_type": "stream",
     "text": [
      "Index(['주간날짜', '한우 평균경매 금액_주간평균', 'price'], dtype='object')\n"
     ]
    }
   ],
   "source": [
    "usbeef.head\n",
    "print(usbeef.columns)"
   ]
  },
  {
   "cell_type": "code",
   "execution_count": 49,
   "metadata": {},
   "outputs": [],
   "source": [
    "# price -> 생산량_주간평균으로 대체\n",
    "usbeef = usbeef.rename(columns={'price':'미국소_생산량(가격화한값)'})"
   ]
  },
  {
   "cell_type": "code",
   "execution_count": 50,
   "metadata": {},
   "outputs": [],
   "source": [
    "del usbeef['한우 평균경매 금액_주간평균']"
   ]
  },
  {
   "cell_type": "code",
   "execution_count": 51,
   "metadata": {},
   "outputs": [
    {
     "data": {
      "text/html": [
       "<div>\n",
       "<style scoped>\n",
       "    .dataframe tbody tr th:only-of-type {\n",
       "        vertical-align: middle;\n",
       "    }\n",
       "\n",
       "    .dataframe tbody tr th {\n",
       "        vertical-align: top;\n",
       "    }\n",
       "\n",
       "    .dataframe thead th {\n",
       "        text-align: right;\n",
       "    }\n",
       "</style>\n",
       "<table border=\"1\" class=\"dataframe\">\n",
       "  <thead>\n",
       "    <tr style=\"text-align: right;\">\n",
       "      <th></th>\n",
       "      <th>주간날짜</th>\n",
       "      <th>미국소_생산량(가격화한값)</th>\n",
       "    </tr>\n",
       "  </thead>\n",
       "  <tbody>\n",
       "    <tr>\n",
       "      <th>0</th>\n",
       "      <td>2013-01-06</td>\n",
       "      <td>226130.0</td>\n",
       "    </tr>\n",
       "    <tr>\n",
       "      <th>1</th>\n",
       "      <td>2013-01-13</td>\n",
       "      <td>226130.0</td>\n",
       "    </tr>\n",
       "  </tbody>\n",
       "</table>\n",
       "</div>"
      ],
      "text/plain": [
       "        주간날짜  미국소_생산량(가격화한값)\n",
       "0 2013-01-06        226130.0\n",
       "1 2013-01-13        226130.0"
      ]
     },
     "execution_count": 51,
     "metadata": {},
     "output_type": "execute_result"
    }
   ],
   "source": [
    "# 한우 평균경매금액_주간평균 소숫점 2째자리까지만 남기기\n",
    "usbeef_df = usbeef.copy()\n",
    "usbeef_df.head(2)"
   ]
  },
  {
   "cell_type": "markdown",
   "metadata": {},
   "source": [
    "### livestock(가축사육현황) 데이터 + 한우가격(y값)"
   ]
  },
  {
   "cell_type": "code",
   "execution_count": 58,
   "metadata": {},
   "outputs": [
    {
     "data": {
      "text/html": [
       "<div>\n",
       "<style scoped>\n",
       "    .dataframe tbody tr th:only-of-type {\n",
       "        vertical-align: middle;\n",
       "    }\n",
       "\n",
       "    .dataframe tbody tr th {\n",
       "        vertical-align: top;\n",
       "    }\n",
       "\n",
       "    .dataframe thead th {\n",
       "        text-align: right;\n",
       "    }\n",
       "</style>\n",
       "<table border=\"1\" class=\"dataframe\">\n",
       "  <thead>\n",
       "    <tr style=\"text-align: right;\">\n",
       "      <th></th>\n",
       "      <th>연도</th>\n",
       "      <th>월</th>\n",
       "      <th>마리수</th>\n",
       "      <th>번식우</th>\n",
       "      <th>1세미만(암)</th>\n",
       "      <th>1세미만(수)</th>\n",
       "      <th>1~2세(암)</th>\n",
       "      <th>1~2세(수)</th>\n",
       "      <th>2세이상(암)</th>\n",
       "      <th>2세이상(수)</th>\n",
       "      <th>날짜</th>\n",
       "      <th>번식우 아닌 소</th>\n",
       "      <th>마리 수 중 1세 미만(암,수) 제외</th>\n",
       "      <th>번식우 아닌 소 중 1세 미만(암,수) 제외</th>\n",
       "      <th>1~2세(모든 소)</th>\n",
       "      <th>분기</th>\n",
       "      <th>주간날짜</th>\n",
       "      <th>한우 평균경매 금액_주간평균</th>\n",
       "      <th>돼지 탕박 경매 금액_주간평균</th>\n",
       "      <th>year</th>\n",
       "      <th>month</th>\n",
       "    </tr>\n",
       "  </thead>\n",
       "  <tbody>\n",
       "    <tr>\n",
       "      <th>0</th>\n",
       "      <td>2013</td>\n",
       "      <td>3</td>\n",
       "      <td>2966</td>\n",
       "      <td>1580</td>\n",
       "      <td>396</td>\n",
       "      <td>470</td>\n",
       "      <td>409</td>\n",
       "      <td>479</td>\n",
       "      <td>996</td>\n",
       "      <td>216</td>\n",
       "      <td>2013-3</td>\n",
       "      <td>1386</td>\n",
       "      <td>2100</td>\n",
       "      <td>520</td>\n",
       "      <td>888</td>\n",
       "      <td>1</td>\n",
       "      <td>2013-01-06</td>\n",
       "      <td>13875.600000</td>\n",
       "      <td>3044.800000</td>\n",
       "      <td>2013</td>\n",
       "      <td>1</td>\n",
       "    </tr>\n",
       "    <tr>\n",
       "      <th>1</th>\n",
       "      <td>2013</td>\n",
       "      <td>3</td>\n",
       "      <td>2966</td>\n",
       "      <td>1580</td>\n",
       "      <td>396</td>\n",
       "      <td>470</td>\n",
       "      <td>409</td>\n",
       "      <td>479</td>\n",
       "      <td>996</td>\n",
       "      <td>216</td>\n",
       "      <td>2013-3</td>\n",
       "      <td>1386</td>\n",
       "      <td>2100</td>\n",
       "      <td>520</td>\n",
       "      <td>888</td>\n",
       "      <td>1</td>\n",
       "      <td>2013-01-13</td>\n",
       "      <td>13213.333333</td>\n",
       "      <td>2984.000000</td>\n",
       "      <td>2013</td>\n",
       "      <td>1</td>\n",
       "    </tr>\n",
       "    <tr>\n",
       "      <th>2</th>\n",
       "      <td>2013</td>\n",
       "      <td>3</td>\n",
       "      <td>2966</td>\n",
       "      <td>1580</td>\n",
       "      <td>396</td>\n",
       "      <td>470</td>\n",
       "      <td>409</td>\n",
       "      <td>479</td>\n",
       "      <td>996</td>\n",
       "      <td>216</td>\n",
       "      <td>2013-3</td>\n",
       "      <td>1386</td>\n",
       "      <td>2100</td>\n",
       "      <td>520</td>\n",
       "      <td>888</td>\n",
       "      <td>1</td>\n",
       "      <td>2013-01-20</td>\n",
       "      <td>12588.833333</td>\n",
       "      <td>2904.000000</td>\n",
       "      <td>2013</td>\n",
       "      <td>1</td>\n",
       "    </tr>\n",
       "    <tr>\n",
       "      <th>3</th>\n",
       "      <td>2013</td>\n",
       "      <td>3</td>\n",
       "      <td>2966</td>\n",
       "      <td>1580</td>\n",
       "      <td>396</td>\n",
       "      <td>470</td>\n",
       "      <td>409</td>\n",
       "      <td>479</td>\n",
       "      <td>996</td>\n",
       "      <td>216</td>\n",
       "      <td>2013-3</td>\n",
       "      <td>1386</td>\n",
       "      <td>2100</td>\n",
       "      <td>520</td>\n",
       "      <td>888</td>\n",
       "      <td>1</td>\n",
       "      <td>2013-01-27</td>\n",
       "      <td>12323.833333</td>\n",
       "      <td>2959.666667</td>\n",
       "      <td>2013</td>\n",
       "      <td>1</td>\n",
       "    </tr>\n",
       "    <tr>\n",
       "      <th>4</th>\n",
       "      <td>2013</td>\n",
       "      <td>3</td>\n",
       "      <td>2966</td>\n",
       "      <td>1580</td>\n",
       "      <td>396</td>\n",
       "      <td>470</td>\n",
       "      <td>409</td>\n",
       "      <td>479</td>\n",
       "      <td>996</td>\n",
       "      <td>216</td>\n",
       "      <td>2013-3</td>\n",
       "      <td>1386</td>\n",
       "      <td>2100</td>\n",
       "      <td>520</td>\n",
       "      <td>888</td>\n",
       "      <td>1</td>\n",
       "      <td>2013-02-03</td>\n",
       "      <td>12325.166667</td>\n",
       "      <td>2862.833333</td>\n",
       "      <td>2013</td>\n",
       "      <td>2</td>\n",
       "    </tr>\n",
       "  </tbody>\n",
       "</table>\n",
       "</div>"
      ],
      "text/plain": [
       "     연도  월   마리수   번식우  1세미만(암)  1세미만(수)  1~2세(암)  1~2세(수)  2세이상(암)  2세이상(수)  \\\n",
       "0  2013  3  2966  1580      396      470      409      479      996      216   \n",
       "1  2013  3  2966  1580      396      470      409      479      996      216   \n",
       "2  2013  3  2966  1580      396      470      409      479      996      216   \n",
       "3  2013  3  2966  1580      396      470      409      479      996      216   \n",
       "4  2013  3  2966  1580      396      470      409      479      996      216   \n",
       "\n",
       "       날짜  번식우 아닌 소  마리 수 중 1세 미만(암,수) 제외  번식우 아닌 소 중 1세 미만(암,수) 제외  \\\n",
       "0  2013-3      1386                  2100                       520   \n",
       "1  2013-3      1386                  2100                       520   \n",
       "2  2013-3      1386                  2100                       520   \n",
       "3  2013-3      1386                  2100                       520   \n",
       "4  2013-3      1386                  2100                       520   \n",
       "\n",
       "   1~2세(모든 소)  분기       주간날짜  한우 평균경매 금액_주간평균  돼지 탕박 경매 금액_주간평균  year  month  \n",
       "0         888   1 2013-01-06     13875.600000       3044.800000  2013      1  \n",
       "1         888   1 2013-01-13     13213.333333       2984.000000  2013      1  \n",
       "2         888   1 2013-01-20     12588.833333       2904.000000  2013      1  \n",
       "3         888   1 2013-01-27     12323.833333       2959.666667  2013      1  \n",
       "4         888   1 2013-02-03     12325.166667       2862.833333  2013      2  "
      ]
     },
     "execution_count": 58,
     "metadata": {},
     "output_type": "execute_result"
    }
   ],
   "source": [
    "# 모든 칼럼 다 보기\n",
    "pd.options.display.max_columns = 22\n",
    "livestock.head()"
   ]
  },
  {
   "cell_type": "code",
   "execution_count": 56,
   "metadata": {},
   "outputs": [
    {
     "name": "stderr",
     "output_type": "stream",
     "text": [
      "C:\\Users\\a0105\\anaconda3\\lib\\site-packages\\ipykernel_launcher.py:6: SettingWithCopyWarning: \n",
      "A value is trying to be set on a copy of a slice from a DataFrame.\n",
      "Try using .loc[row_indexer,col_indexer] = value instead\n",
      "\n",
      "See the caveats in the documentation: https://pandas.pydata.org/pandas-docs/stable/user_guide/indexing.html#returning-a-view-versus-a-copy\n",
      "  \n",
      "C:\\Users\\a0105\\anaconda3\\lib\\site-packages\\ipykernel_launcher.py:7: SettingWithCopyWarning: \n",
      "A value is trying to be set on a copy of a slice from a DataFrame.\n",
      "Try using .loc[row_indexer,col_indexer] = value instead\n",
      "\n",
      "See the caveats in the documentation: https://pandas.pydata.org/pandas-docs/stable/user_guide/indexing.html#returning-a-view-versus-a-copy\n",
      "  import sys\n"
     ]
    }
   ],
   "source": [
    "# 필요한 칼럼\n",
    "columns = ['주간날짜','번식우 아닌 소 중 1세 미만(암,수) 제외','1~2세(모든 소)',\n",
    "          '한우 평균경매 금액_주간평균','돼지 탕박 경매 금액_주간평균']\n",
    "\n",
    "livestock_df = livestock[columns]\n",
    "livestock_df['한우 평균경매 금액_주간평균'] = livestock_df['한우 평균경매 금액_주간평균'].round(2)\n",
    "livestock_df['돼지 탕박 경매 금액_주간평균'] = livestock_df['돼지 탕박 경매 금액_주간평균'].round(2)\n"
   ]
  },
  {
   "cell_type": "code",
   "execution_count": 57,
   "metadata": {},
   "outputs": [
    {
     "data": {
      "text/html": [
       "<div>\n",
       "<style scoped>\n",
       "    .dataframe tbody tr th:only-of-type {\n",
       "        vertical-align: middle;\n",
       "    }\n",
       "\n",
       "    .dataframe tbody tr th {\n",
       "        vertical-align: top;\n",
       "    }\n",
       "\n",
       "    .dataframe thead th {\n",
       "        text-align: right;\n",
       "    }\n",
       "</style>\n",
       "<table border=\"1\" class=\"dataframe\">\n",
       "  <thead>\n",
       "    <tr style=\"text-align: right;\">\n",
       "      <th></th>\n",
       "      <th>주간날짜</th>\n",
       "      <th>번식우 아닌 소 중 1세 미만(암,수) 제외</th>\n",
       "      <th>1~2세(모든 소)</th>\n",
       "      <th>한우 평균경매 금액_주간평균</th>\n",
       "      <th>돼지 탕박 경매 금액_주간평균</th>\n",
       "    </tr>\n",
       "  </thead>\n",
       "  <tbody>\n",
       "    <tr>\n",
       "      <th>0</th>\n",
       "      <td>2013-01-06</td>\n",
       "      <td>520</td>\n",
       "      <td>888</td>\n",
       "      <td>13875.60</td>\n",
       "      <td>3044.80</td>\n",
       "    </tr>\n",
       "    <tr>\n",
       "      <th>1</th>\n",
       "      <td>2013-01-13</td>\n",
       "      <td>520</td>\n",
       "      <td>888</td>\n",
       "      <td>13213.33</td>\n",
       "      <td>2984.00</td>\n",
       "    </tr>\n",
       "    <tr>\n",
       "      <th>2</th>\n",
       "      <td>2013-01-20</td>\n",
       "      <td>520</td>\n",
       "      <td>888</td>\n",
       "      <td>12588.83</td>\n",
       "      <td>2904.00</td>\n",
       "    </tr>\n",
       "    <tr>\n",
       "      <th>3</th>\n",
       "      <td>2013-01-27</td>\n",
       "      <td>520</td>\n",
       "      <td>888</td>\n",
       "      <td>12323.83</td>\n",
       "      <td>2959.67</td>\n",
       "    </tr>\n",
       "    <tr>\n",
       "      <th>4</th>\n",
       "      <td>2013-02-03</td>\n",
       "      <td>520</td>\n",
       "      <td>888</td>\n",
       "      <td>12325.17</td>\n",
       "      <td>2862.83</td>\n",
       "    </tr>\n",
       "  </tbody>\n",
       "</table>\n",
       "</div>"
      ],
      "text/plain": [
       "        주간날짜  번식우 아닌 소 중 1세 미만(암,수) 제외  1~2세(모든 소)  한우 평균경매 금액_주간평균  \\\n",
       "0 2013-01-06                       520         888         13875.60   \n",
       "1 2013-01-13                       520         888         13213.33   \n",
       "2 2013-01-20                       520         888         12588.83   \n",
       "3 2013-01-27                       520         888         12323.83   \n",
       "4 2013-02-03                       520         888         12325.17   \n",
       "\n",
       "   돼지 탕박 경매 금액_주간평균  \n",
       "0           3044.80  \n",
       "1           2984.00  \n",
       "2           2904.00  \n",
       "3           2959.67  \n",
       "4           2862.83  "
      ]
     },
     "execution_count": 57,
     "metadata": {},
     "output_type": "execute_result"
    }
   ],
   "source": [
    "livestock_df.head()"
   ]
  },
  {
   "cell_type": "markdown",
   "metadata": {},
   "source": [
    "### economic(경제성장률) 데이터 + 한우가격(y값)"
   ]
  },
  {
   "cell_type": "code",
   "execution_count": 59,
   "metadata": {},
   "outputs": [
    {
     "data": {
      "text/html": [
       "<div>\n",
       "<style scoped>\n",
       "    .dataframe tbody tr th:only-of-type {\n",
       "        vertical-align: middle;\n",
       "    }\n",
       "\n",
       "    .dataframe tbody tr th {\n",
       "        vertical-align: top;\n",
       "    }\n",
       "\n",
       "    .dataframe thead th {\n",
       "        text-align: right;\n",
       "    }\n",
       "</style>\n",
       "<table border=\"1\" class=\"dataframe\">\n",
       "  <thead>\n",
       "    <tr style=\"text-align: right;\">\n",
       "      <th></th>\n",
       "      <th>연도</th>\n",
       "      <th>국내총생산(GDP)(당해년 가격) (10억US$)</th>\n",
       "      <th>1인당 GDP(당해년 가격) (달러)</th>\n",
       "      <th>GDP 성장률 (%)</th>\n",
       "      <th>수출 (100만달러)</th>\n",
       "      <th>수입 (100만달러)</th>\n",
       "      <th>총인구 (천명)</th>\n",
       "      <th>실업률 (%)</th>\n",
       "      <th>소비자물가지수 (2010=100)</th>\n",
       "      <th>조강생산량 (1000M/T)</th>\n",
       "      <th>인터넷 이용률 (%)</th>\n",
       "      <th>주간날짜</th>\n",
       "      <th>한우 평균경매 금액_주간평균</th>\n",
       "      <th>돼지 탕박 경매 금액_주간평균</th>\n",
       "      <th>year</th>\n",
       "      <th>month</th>\n",
       "    </tr>\n",
       "  </thead>\n",
       "  <tbody>\n",
       "    <tr>\n",
       "      <th>0</th>\n",
       "      <td>2013.0</td>\n",
       "      <td>1370</td>\n",
       "      <td>27178</td>\n",
       "      <td>3</td>\n",
       "      <td>559632</td>\n",
       "      <td>515586</td>\n",
       "      <td>50429</td>\n",
       "      <td>3</td>\n",
       "      <td>98</td>\n",
       "      <td>66061</td>\n",
       "      <td>84</td>\n",
       "      <td>2013-01-06</td>\n",
       "      <td>13875.600000</td>\n",
       "      <td>3044.800000</td>\n",
       "      <td>2013</td>\n",
       "      <td>1</td>\n",
       "    </tr>\n",
       "    <tr>\n",
       "      <th>1</th>\n",
       "      <td>2013.0</td>\n",
       "      <td>1370</td>\n",
       "      <td>27178</td>\n",
       "      <td>3</td>\n",
       "      <td>559632</td>\n",
       "      <td>515586</td>\n",
       "      <td>50429</td>\n",
       "      <td>3</td>\n",
       "      <td>98</td>\n",
       "      <td>66061</td>\n",
       "      <td>84</td>\n",
       "      <td>2013-01-13</td>\n",
       "      <td>13213.333333</td>\n",
       "      <td>2984.000000</td>\n",
       "      <td>2013</td>\n",
       "      <td>1</td>\n",
       "    </tr>\n",
       "    <tr>\n",
       "      <th>2</th>\n",
       "      <td>2013.0</td>\n",
       "      <td>1370</td>\n",
       "      <td>27178</td>\n",
       "      <td>3</td>\n",
       "      <td>559632</td>\n",
       "      <td>515586</td>\n",
       "      <td>50429</td>\n",
       "      <td>3</td>\n",
       "      <td>98</td>\n",
       "      <td>66061</td>\n",
       "      <td>84</td>\n",
       "      <td>2013-01-20</td>\n",
       "      <td>12588.833333</td>\n",
       "      <td>2904.000000</td>\n",
       "      <td>2013</td>\n",
       "      <td>1</td>\n",
       "    </tr>\n",
       "    <tr>\n",
       "      <th>3</th>\n",
       "      <td>2013.0</td>\n",
       "      <td>1370</td>\n",
       "      <td>27178</td>\n",
       "      <td>3</td>\n",
       "      <td>559632</td>\n",
       "      <td>515586</td>\n",
       "      <td>50429</td>\n",
       "      <td>3</td>\n",
       "      <td>98</td>\n",
       "      <td>66061</td>\n",
       "      <td>84</td>\n",
       "      <td>2013-01-27</td>\n",
       "      <td>12323.833333</td>\n",
       "      <td>2959.666667</td>\n",
       "      <td>2013</td>\n",
       "      <td>1</td>\n",
       "    </tr>\n",
       "    <tr>\n",
       "      <th>4</th>\n",
       "      <td>2013.0</td>\n",
       "      <td>1370</td>\n",
       "      <td>27178</td>\n",
       "      <td>3</td>\n",
       "      <td>559632</td>\n",
       "      <td>515586</td>\n",
       "      <td>50429</td>\n",
       "      <td>3</td>\n",
       "      <td>98</td>\n",
       "      <td>66061</td>\n",
       "      <td>84</td>\n",
       "      <td>2013-02-03</td>\n",
       "      <td>12325.166667</td>\n",
       "      <td>2862.833333</td>\n",
       "      <td>2013</td>\n",
       "      <td>2</td>\n",
       "    </tr>\n",
       "  </tbody>\n",
       "</table>\n",
       "</div>"
      ],
      "text/plain": [
       "       연도  국내총생산(GDP)(당해년 가격) (10억US$)  1인당 GDP(당해년 가격) (달러)  GDP 성장률 (%)  \\\n",
       "0  2013.0                         1370                 27178            3   \n",
       "1  2013.0                         1370                 27178            3   \n",
       "2  2013.0                         1370                 27178            3   \n",
       "3  2013.0                         1370                 27178            3   \n",
       "4  2013.0                         1370                 27178            3   \n",
       "\n",
       "   수출 (100만달러)  수입 (100만달러)  총인구 (천명)  실업률 (%)  소비자물가지수 (2010=100)  \\\n",
       "0       559632       515586     50429        3                  98   \n",
       "1       559632       515586     50429        3                  98   \n",
       "2       559632       515586     50429        3                  98   \n",
       "3       559632       515586     50429        3                  98   \n",
       "4       559632       515586     50429        3                  98   \n",
       "\n",
       "   조강생산량 (1000M/T)  인터넷 이용률 (%)       주간날짜  한우 평균경매 금액_주간평균  돼지 탕박 경매 금액_주간평균  \\\n",
       "0            66061           84 2013-01-06     13875.600000       3044.800000   \n",
       "1            66061           84 2013-01-13     13213.333333       2984.000000   \n",
       "2            66061           84 2013-01-20     12588.833333       2904.000000   \n",
       "3            66061           84 2013-01-27     12323.833333       2959.666667   \n",
       "4            66061           84 2013-02-03     12325.166667       2862.833333   \n",
       "\n",
       "   year  month  \n",
       "0  2013      1  \n",
       "1  2013      1  \n",
       "2  2013      1  \n",
       "3  2013      1  \n",
       "4  2013      2  "
      ]
     },
     "execution_count": 59,
     "metadata": {},
     "output_type": "execute_result"
    }
   ],
   "source": [
    "economic.head()"
   ]
  },
  {
   "cell_type": "markdown",
   "metadata": {},
   "source": [
    "- <소>\n",
    "    - [양의 상관관계]\n",
    "        * 국내총생산 0.58 \n",
    "        * 1인당 gdp 0.55  \n",
    "        * 총인구 0.79 \n",
    "        * 소비자물가지수 0.71  \n",
    "        * 인터넷이용률 0.77  \n",
    "        * 돼지탕박가격 0.46\n",
    "\n",
    "    - [음의 상관관계]\n",
    "        * gdp성장률 -0.59  \n",
    "        * 수입 -0.53  \n",
    "\n",
    "\n",
    "- <돼지>- 소와의 가격관계\n",
    "    - [양의 상관관계]\n",
    "        * 한우가격 0.46"
   ]
  },
  {
   "cell_type": "code",
   "execution_count": 60,
   "metadata": {},
   "outputs": [
    {
     "data": {
      "text/html": [
       "<div>\n",
       "<style scoped>\n",
       "    .dataframe tbody tr th:only-of-type {\n",
       "        vertical-align: middle;\n",
       "    }\n",
       "\n",
       "    .dataframe tbody tr th {\n",
       "        vertical-align: top;\n",
       "    }\n",
       "\n",
       "    .dataframe thead th {\n",
       "        text-align: right;\n",
       "    }\n",
       "</style>\n",
       "<table border=\"1\" class=\"dataframe\">\n",
       "  <thead>\n",
       "    <tr style=\"text-align: right;\">\n",
       "      <th></th>\n",
       "      <th>주간날짜</th>\n",
       "      <th>수출 (100만달러)</th>\n",
       "      <th>수입 (100만달러)</th>\n",
       "      <th>소비자물가지수 (2010=100)</th>\n",
       "    </tr>\n",
       "  </thead>\n",
       "  <tbody>\n",
       "    <tr>\n",
       "      <th>0</th>\n",
       "      <td>2013-01-06</td>\n",
       "      <td>559632</td>\n",
       "      <td>515586</td>\n",
       "      <td>98</td>\n",
       "    </tr>\n",
       "    <tr>\n",
       "      <th>1</th>\n",
       "      <td>2013-01-13</td>\n",
       "      <td>559632</td>\n",
       "      <td>515586</td>\n",
       "      <td>98</td>\n",
       "    </tr>\n",
       "  </tbody>\n",
       "</table>\n",
       "</div>"
      ],
      "text/plain": [
       "        주간날짜  수출 (100만달러)  수입 (100만달러)  소비자물가지수 (2010=100)\n",
       "0 2013-01-06       559632       515586                  98\n",
       "1 2013-01-13       559632       515586                  98"
      ]
     },
     "execution_count": 60,
     "metadata": {},
     "output_type": "execute_result"
    }
   ],
   "source": [
    "# 필요한 칼럼 \n",
    "columns = ['주간날짜','수출 (100만달러)','수입 (100만달러)','소비자물가지수 (2010=100)']\n",
    "\n",
    "economic_df = economic[columns]\n",
    "economic_df.head(2)"
   ]
  },
  {
   "cell_type": "markdown",
   "metadata": {},
   "source": [
    "### import_df(수입소고기 수입현황) 데이터 + 한우가격(y값)"
   ]
  },
  {
   "cell_type": "code",
   "execution_count": 61,
   "metadata": {},
   "outputs": [
    {
     "data": {
      "text/plain": [
       "Index(['주간날짜', '한우 평균경매 금액_주간평균', '돼지 탕박 경매 금액_주간평균', 'year', 'month',\n",
       "       'frozen', 'refrigeration', 'total'],\n",
       "      dtype='object')"
      ]
     },
     "execution_count": 61,
     "metadata": {},
     "output_type": "execute_result"
    }
   ],
   "source": [
    "import_df.columns"
   ]
  },
  {
   "cell_type": "code",
   "execution_count": 62,
   "metadata": {},
   "outputs": [
    {
     "data": {
      "text/html": [
       "<div>\n",
       "<style scoped>\n",
       "    .dataframe tbody tr th:only-of-type {\n",
       "        vertical-align: middle;\n",
       "    }\n",
       "\n",
       "    .dataframe tbody tr th {\n",
       "        vertical-align: top;\n",
       "    }\n",
       "\n",
       "    .dataframe thead th {\n",
       "        text-align: right;\n",
       "    }\n",
       "</style>\n",
       "<table border=\"1\" class=\"dataframe\">\n",
       "  <thead>\n",
       "    <tr style=\"text-align: right;\">\n",
       "      <th></th>\n",
       "      <th>주간날짜</th>\n",
       "      <th>total</th>\n",
       "    </tr>\n",
       "  </thead>\n",
       "  <tbody>\n",
       "    <tr>\n",
       "      <th>0</th>\n",
       "      <td>2013-01-06</td>\n",
       "      <td>28623</td>\n",
       "    </tr>\n",
       "    <tr>\n",
       "      <th>1</th>\n",
       "      <td>2013-01-13</td>\n",
       "      <td>28623</td>\n",
       "    </tr>\n",
       "  </tbody>\n",
       "</table>\n",
       "</div>"
      ],
      "text/plain": [
       "        주간날짜  total\n",
       "0 2013-01-06  28623\n",
       "1 2013-01-13  28623"
      ]
     },
     "execution_count": 62,
     "metadata": {},
     "output_type": "execute_result"
    }
   ],
   "source": [
    "# 필요한 칼럼 \n",
    "columns = ['주간날짜','total']\n",
    "\n",
    "import_df = import_df[columns]\n",
    "import_df.head(2)"
   ]
  },
  {
   "cell_type": "code",
   "execution_count": 63,
   "metadata": {},
   "outputs": [
    {
     "data": {
      "text/html": [
       "<div>\n",
       "<style scoped>\n",
       "    .dataframe tbody tr th:only-of-type {\n",
       "        vertical-align: middle;\n",
       "    }\n",
       "\n",
       "    .dataframe tbody tr th {\n",
       "        vertical-align: top;\n",
       "    }\n",
       "\n",
       "    .dataframe thead th {\n",
       "        text-align: right;\n",
       "    }\n",
       "</style>\n",
       "<table border=\"1\" class=\"dataframe\">\n",
       "  <thead>\n",
       "    <tr style=\"text-align: right;\">\n",
       "      <th></th>\n",
       "      <th>주간날짜</th>\n",
       "      <th>수입소고기_총량</th>\n",
       "    </tr>\n",
       "  </thead>\n",
       "  <tbody>\n",
       "    <tr>\n",
       "      <th>0</th>\n",
       "      <td>2013-01-06</td>\n",
       "      <td>28623</td>\n",
       "    </tr>\n",
       "    <tr>\n",
       "      <th>1</th>\n",
       "      <td>2013-01-13</td>\n",
       "      <td>28623</td>\n",
       "    </tr>\n",
       "  </tbody>\n",
       "</table>\n",
       "</div>"
      ],
      "text/plain": [
       "        주간날짜  수입소고기_총량\n",
       "0 2013-01-06     28623\n",
       "1 2013-01-13     28623"
      ]
     },
     "execution_count": 63,
     "metadata": {},
     "output_type": "execute_result"
    }
   ],
   "source": [
    "# total 칼럼명 바꾸기\n",
    "import_df = import_df.rename(columns={'total':'수입소고기_총량'})\n",
    "import_df.head(2)"
   ]
  },
  {
   "cell_type": "markdown",
   "metadata": {},
   "source": [
    "### holiday(축산물 공휴일) 데이터+한우가격(y값)"
   ]
  },
  {
   "cell_type": "code",
   "execution_count": 64,
   "metadata": {},
   "outputs": [
    {
     "data": {
      "text/plain": [
       "Index(['주간날짜', '한우 평균경매 금액_주간평균', '돼지 탕박 경매 금액_주간평균', 'year', 'month', '날짜',\n",
       "       '명절유무'],\n",
       "      dtype='object')"
      ]
     },
     "execution_count": 64,
     "metadata": {},
     "output_type": "execute_result"
    }
   ],
   "source": [
    "holiday.columns"
   ]
  },
  {
   "cell_type": "code",
   "execution_count": 65,
   "metadata": {},
   "outputs": [
    {
     "data": {
      "text/html": [
       "<div>\n",
       "<style scoped>\n",
       "    .dataframe tbody tr th:only-of-type {\n",
       "        vertical-align: middle;\n",
       "    }\n",
       "\n",
       "    .dataframe tbody tr th {\n",
       "        vertical-align: top;\n",
       "    }\n",
       "\n",
       "    .dataframe thead th {\n",
       "        text-align: right;\n",
       "    }\n",
       "</style>\n",
       "<table border=\"1\" class=\"dataframe\">\n",
       "  <thead>\n",
       "    <tr style=\"text-align: right;\">\n",
       "      <th></th>\n",
       "      <th>주간날짜</th>\n",
       "      <th>명절유무</th>\n",
       "    </tr>\n",
       "  </thead>\n",
       "  <tbody>\n",
       "    <tr>\n",
       "      <th>0</th>\n",
       "      <td>2013-01-06</td>\n",
       "      <td>0</td>\n",
       "    </tr>\n",
       "    <tr>\n",
       "      <th>1</th>\n",
       "      <td>2013-01-13</td>\n",
       "      <td>0</td>\n",
       "    </tr>\n",
       "  </tbody>\n",
       "</table>\n",
       "</div>"
      ],
      "text/plain": [
       "        주간날짜  명절유무\n",
       "0 2013-01-06     0\n",
       "1 2013-01-13     0"
      ]
     },
     "execution_count": 65,
     "metadata": {},
     "output_type": "execute_result"
    }
   ],
   "source": [
    "# 필요없는 칼럼들 : year, month, 날짜\n",
    "columns = ['주간날짜','명절유무']\n",
    "\n",
    "holiday_df = holiday[columns]\n",
    "holiday_df.head(2)"
   ]
  },
  {
   "cell_type": "markdown",
   "metadata": {},
   "source": [
    "---"
   ]
  },
  {
   "cell_type": "markdown",
   "metadata": {},
   "source": [
    "### weather(날씨 관측 데이터) - EDA 더 필요!?"
   ]
  },
  {
   "cell_type": "code",
   "execution_count": 37,
   "metadata": {},
   "outputs": [
    {
     "data": {
      "text/html": [
       "<div>\n",
       "<style scoped>\n",
       "    .dataframe tbody tr th:only-of-type {\n",
       "        vertical-align: middle;\n",
       "    }\n",
       "\n",
       "    .dataframe tbody tr th {\n",
       "        vertical-align: top;\n",
       "    }\n",
       "\n",
       "    .dataframe thead th {\n",
       "        text-align: right;\n",
       "    }\n",
       "</style>\n",
       "<table border=\"1\" class=\"dataframe\">\n",
       "  <thead>\n",
       "    <tr style=\"text-align: right;\">\n",
       "      <th></th>\n",
       "      <th>주간날짜</th>\n",
       "      <th>한우 평균경매 금액_주간평균</th>\n",
       "      <th>돼지 탕박 경매 금액_주간평균</th>\n",
       "      <th>평균기온</th>\n",
       "      <th>최저기온</th>\n",
       "      <th>최고기온</th>\n",
       "      <th>평균지면온도</th>\n",
       "      <th>최소상대습도(%)</th>\n",
       "      <th>평균상대습도(%)</th>\n",
       "    </tr>\n",
       "  </thead>\n",
       "  <tbody>\n",
       "    <tr>\n",
       "      <th>0</th>\n",
       "      <td>2013-01-06</td>\n",
       "      <td>13875.600000</td>\n",
       "      <td>3044.8</td>\n",
       "      <td>-0.3</td>\n",
       "      <td>-4.6</td>\n",
       "      <td>5.4</td>\n",
       "      <td>-2.5</td>\n",
       "      <td>16.0</td>\n",
       "      <td>29.6</td>\n",
       "    </tr>\n",
       "    <tr>\n",
       "      <th>1</th>\n",
       "      <td>2013-01-13</td>\n",
       "      <td>13213.333333</td>\n",
       "      <td>2984.0</td>\n",
       "      <td>1.4</td>\n",
       "      <td>-2.2</td>\n",
       "      <td>6.1</td>\n",
       "      <td>0.0</td>\n",
       "      <td>30.0</td>\n",
       "      <td>49.6</td>\n",
       "    </tr>\n",
       "  </tbody>\n",
       "</table>\n",
       "</div>"
      ],
      "text/plain": [
       "        주간날짜  한우 평균경매 금액_주간평균  돼지 탕박 경매 금액_주간평균  평균기온  최저기온  최고기온  평균지면온도  \\\n",
       "0 2013-01-06     13875.600000            3044.8  -0.3  -4.6   5.4    -2.5   \n",
       "1 2013-01-13     13213.333333            2984.0   1.4  -2.2   6.1     0.0   \n",
       "\n",
       "   최소상대습도(%)  평균상대습도(%)  \n",
       "0       16.0       29.6  \n",
       "1       30.0       49.6  "
      ]
     },
     "execution_count": 37,
     "metadata": {},
     "output_type": "execute_result"
    }
   ],
   "source": [
    "# year, month 칼럼제거\n",
    "weather_df = weather.drop(['year','month'], axis=1)\n",
    "weather_df.head(2)"
   ]
  },
  {
   "cell_type": "code",
   "execution_count": 38,
   "metadata": {},
   "outputs": [
    {
     "data": {
      "text/html": [
       "<div>\n",
       "<style scoped>\n",
       "    .dataframe tbody tr th:only-of-type {\n",
       "        vertical-align: middle;\n",
       "    }\n",
       "\n",
       "    .dataframe tbody tr th {\n",
       "        vertical-align: top;\n",
       "    }\n",
       "\n",
       "    .dataframe thead th {\n",
       "        text-align: right;\n",
       "    }\n",
       "</style>\n",
       "<table border=\"1\" class=\"dataframe\">\n",
       "  <thead>\n",
       "    <tr style=\"text-align: right;\">\n",
       "      <th></th>\n",
       "      <th>주간날짜</th>\n",
       "      <th>한우 평균경매 금액_주간평균</th>\n",
       "      <th>돼지 탕박 경매 금액_주간평균</th>\n",
       "      <th>평균기온</th>\n",
       "      <th>최저기온</th>\n",
       "      <th>최고기온</th>\n",
       "      <th>평균지면온도</th>\n",
       "      <th>최소상대습도(%)</th>\n",
       "      <th>평균상대습도(%)</th>\n",
       "    </tr>\n",
       "  </thead>\n",
       "  <tbody>\n",
       "    <tr>\n",
       "      <th>0</th>\n",
       "      <td>2013-01-06</td>\n",
       "      <td>13875.60</td>\n",
       "      <td>3044.8</td>\n",
       "      <td>-0.3</td>\n",
       "      <td>-4.6</td>\n",
       "      <td>5.4</td>\n",
       "      <td>-2.5</td>\n",
       "      <td>16.0</td>\n",
       "      <td>29.6</td>\n",
       "    </tr>\n",
       "    <tr>\n",
       "      <th>1</th>\n",
       "      <td>2013-01-13</td>\n",
       "      <td>13213.33</td>\n",
       "      <td>2984.0</td>\n",
       "      <td>1.4</td>\n",
       "      <td>-2.2</td>\n",
       "      <td>6.1</td>\n",
       "      <td>0.0</td>\n",
       "      <td>30.0</td>\n",
       "      <td>49.6</td>\n",
       "    </tr>\n",
       "  </tbody>\n",
       "</table>\n",
       "</div>"
      ],
      "text/plain": [
       "        주간날짜  한우 평균경매 금액_주간평균  돼지 탕박 경매 금액_주간평균  평균기온  최저기온  최고기온  평균지면온도  \\\n",
       "0 2013-01-06         13875.60            3044.8  -0.3  -4.6   5.4    -2.5   \n",
       "1 2013-01-13         13213.33            2984.0   1.4  -2.2   6.1     0.0   \n",
       "\n",
       "   최소상대습도(%)  평균상대습도(%)  \n",
       "0       16.0       29.6  \n",
       "1       30.0       49.6  "
      ]
     },
     "execution_count": 38,
     "metadata": {},
     "output_type": "execute_result"
    }
   ],
   "source": [
    "weather_df[['한우 평균경매 금액_주간평균', '돼지 탕박 경매 금액_주간평균']] = weather_df[['한우 평균경매 금액_주간평균', '돼지 탕박 경매 금액_주간평균']].round(2)\n",
    "weather_df.head(2)"
   ]
  },
  {
   "cell_type": "markdown",
   "metadata": {},
   "source": [
    "---"
   ]
  },
  {
   "cell_type": "markdown",
   "metadata": {},
   "source": [
    "## 데이터 병합\n",
    "\n",
    "- 우선 더 EDA가 진행되지 않은 관측데이터(weather_df변수)인 상태에서 병합해봄\n",
    "- 향후 관측데아터의 추가적인 EDA 실시 후 feature selection 필요"
   ]
  },
  {
   "cell_type": "code",
   "execution_count": 97,
   "metadata": {},
   "outputs": [],
   "source": [
    "from functools import reduce"
   ]
  },
  {
   "cell_type": "code",
   "execution_count": 98,
   "metadata": {},
   "outputs": [],
   "source": [
    "dfs = [usbeef_df, livestock_df, economic_df, import_df,holiday_df]\n",
    "\n",
    "df_final = reduce(lambda left, right: pd.merge(left, right, on='주간날짜'), dfs)"
   ]
  },
  {
   "cell_type": "code",
   "execution_count": 262,
   "metadata": {},
   "outputs": [
    {
     "data": {
      "text/html": [
       "<div>\n",
       "<style scoped>\n",
       "    .dataframe tbody tr th:only-of-type {\n",
       "        vertical-align: middle;\n",
       "    }\n",
       "\n",
       "    .dataframe tbody tr th {\n",
       "        vertical-align: top;\n",
       "    }\n",
       "\n",
       "    .dataframe thead th {\n",
       "        text-align: right;\n",
       "    }\n",
       "</style>\n",
       "<table border=\"1\" class=\"dataframe\">\n",
       "  <thead>\n",
       "    <tr style=\"text-align: right;\">\n",
       "      <th></th>\n",
       "      <th>주간날짜</th>\n",
       "      <th>미국소_생산량(가격화한값)</th>\n",
       "      <th>번식우 아닌 소 중 1세 미만(암,수) 제외</th>\n",
       "      <th>1~2세(모든 소)</th>\n",
       "      <th>한우 평균경매 금액_주간평균</th>\n",
       "      <th>돼지 탕박 경매 금액_주간평균</th>\n",
       "      <th>수출 (100만달러)</th>\n",
       "      <th>수입 (100만달러)</th>\n",
       "      <th>소비자물가지수 (2010=100)</th>\n",
       "      <th>수입소고기_총량</th>\n",
       "      <th>명절유무</th>\n",
       "    </tr>\n",
       "  </thead>\n",
       "  <tbody>\n",
       "    <tr>\n",
       "      <th>0</th>\n",
       "      <td>2013-01-06</td>\n",
       "      <td>226130.0</td>\n",
       "      <td>520</td>\n",
       "      <td>888</td>\n",
       "      <td>13875.60</td>\n",
       "      <td>3044.80</td>\n",
       "      <td>559632</td>\n",
       "      <td>515586</td>\n",
       "      <td>98</td>\n",
       "      <td>28623</td>\n",
       "      <td>0</td>\n",
       "    </tr>\n",
       "    <tr>\n",
       "      <th>1</th>\n",
       "      <td>2013-01-13</td>\n",
       "      <td>226130.0</td>\n",
       "      <td>520</td>\n",
       "      <td>888</td>\n",
       "      <td>13213.33</td>\n",
       "      <td>2984.00</td>\n",
       "      <td>559632</td>\n",
       "      <td>515586</td>\n",
       "      <td>98</td>\n",
       "      <td>28623</td>\n",
       "      <td>0</td>\n",
       "    </tr>\n",
       "    <tr>\n",
       "      <th>2</th>\n",
       "      <td>2013-01-20</td>\n",
       "      <td>226130.0</td>\n",
       "      <td>520</td>\n",
       "      <td>888</td>\n",
       "      <td>12588.83</td>\n",
       "      <td>2904.00</td>\n",
       "      <td>559632</td>\n",
       "      <td>515586</td>\n",
       "      <td>98</td>\n",
       "      <td>28623</td>\n",
       "      <td>0</td>\n",
       "    </tr>\n",
       "    <tr>\n",
       "      <th>3</th>\n",
       "      <td>2013-01-27</td>\n",
       "      <td>226130.0</td>\n",
       "      <td>520</td>\n",
       "      <td>888</td>\n",
       "      <td>12323.83</td>\n",
       "      <td>2959.67</td>\n",
       "      <td>559632</td>\n",
       "      <td>515586</td>\n",
       "      <td>98</td>\n",
       "      <td>28623</td>\n",
       "      <td>1</td>\n",
       "    </tr>\n",
       "    <tr>\n",
       "      <th>4</th>\n",
       "      <td>2013-02-03</td>\n",
       "      <td>187340.0</td>\n",
       "      <td>520</td>\n",
       "      <td>888</td>\n",
       "      <td>12325.17</td>\n",
       "      <td>2862.83</td>\n",
       "      <td>559632</td>\n",
       "      <td>515586</td>\n",
       "      <td>98</td>\n",
       "      <td>18241</td>\n",
       "      <td>1</td>\n",
       "    </tr>\n",
       "  </tbody>\n",
       "</table>\n",
       "</div>"
      ],
      "text/plain": [
       "        주간날짜  미국소_생산량(가격화한값)  번식우 아닌 소 중 1세 미만(암,수) 제외  1~2세(모든 소)  \\\n",
       "0 2013-01-06        226130.0                       520         888   \n",
       "1 2013-01-13        226130.0                       520         888   \n",
       "2 2013-01-20        226130.0                       520         888   \n",
       "3 2013-01-27        226130.0                       520         888   \n",
       "4 2013-02-03        187340.0                       520         888   \n",
       "\n",
       "   한우 평균경매 금액_주간평균  돼지 탕박 경매 금액_주간평균  수출 (100만달러)  수입 (100만달러)  \\\n",
       "0         13875.60           3044.80       559632       515586   \n",
       "1         13213.33           2984.00       559632       515586   \n",
       "2         12588.83           2904.00       559632       515586   \n",
       "3         12323.83           2959.67       559632       515586   \n",
       "4         12325.17           2862.83       559632       515586   \n",
       "\n",
       "   소비자물가지수 (2010=100)  수입소고기_총량  명절유무  \n",
       "0                  98     28623     0  \n",
       "1                  98     28623     0  \n",
       "2                  98     28623     0  \n",
       "3                  98     28623     1  \n",
       "4                  98     18241     1  "
      ]
     },
     "execution_count": 262,
     "metadata": {},
     "output_type": "execute_result"
    }
   ],
   "source": [
    "df_final.head()"
   ]
  },
  {
   "cell_type": "markdown",
   "metadata": {},
   "source": [
    "# 상관관계"
   ]
  },
  {
   "cell_type": "code",
   "execution_count": 268,
   "metadata": {},
   "outputs": [
    {
     "name": "stderr",
     "output_type": "stream",
     "text": [
      "C:\\Users\\a0105\\anaconda3\\lib\\site-packages\\matplotlib\\backends\\backend_agg.py:211: RuntimeWarning: Glyph 8722 missing from current font.\n",
      "  font.set_text(s, 0.0, flags=flags)\n",
      "C:\\Users\\a0105\\anaconda3\\lib\\site-packages\\matplotlib\\backends\\backend_agg.py:180: RuntimeWarning: Glyph 8722 missing from current font.\n",
      "  font.set_text(s, 0, flags=flags)\n"
     ]
    },
    {
     "data": {
      "text/plain": [
       "<matplotlib.axes._subplots.AxesSubplot at 0x128ae69d8c8>"
      ]
     },
     "execution_count": 268,
     "metadata": {},
     "output_type": "execute_result"
    },
    {
     "data": {
      "image/png": "[encoded data removed]",
      "text/plain": [
       "<Figure size 504x360 with 2 Axes>"
      ]
     },
     "metadata": {
      "needs_background": "light"
     },
     "output_type": "display_data"
    }
   ],
   "source": [
    "\n",
    "import matplotlib.pyplot as plt\n",
    "import seaborn as sns\n",
    "\n",
    "from matplotlib import font_manager, rc\n",
    "font_name = font_manager.FontProperties(fname=\"c:/Windows/Fonts/malgun.ttf\").get_name()\n",
    "rc('font', family=font_name)\n",
    "\n",
    "corr_data = df_final.drop([\"주간날짜\"], axis=1)\n",
    "corr = corr_data.corr()\n",
    "\n",
    "plt.figure(figsize=(7,5))\n",
    "\n",
    "sns.heatmap(data = corr, annot=True, fmt = '.2f', linewidths=.5, cmap='Blues')"
   ]
  },
  {
   "cell_type": "code",
   "execution_count": 277,
   "metadata": {},
   "outputs": [],
   "source": [
    "df_final.to_pickle('전체merge.pkl')"
   ]
  }
 ],
 "metadata": {
  "kernelspec": {
   "display_name": "Python 3",
   "language": "python",
   "name": "python3"
  },
  "language_info": {
   "codemirror_mode": {
    "name": "ipython",
    "version": 3
   },
   "file_extension": ".py",
   "mimetype": "text/x-python",
   "name": "python",
   "nbconvert_exporter": "python",
   "pygments_lexer": "ipython3",
   "version": "3.7.6"
  },
  "toc": {
   "base_numbering": 1,
   "nav_menu": {},
   "number_sections": true,
   "sideBar": true,
   "skip_h1_title": false,
   "title_cell": "Table of Contents",
   "title_sidebar": "Contents",
   "toc_cell": false,
   "toc_position": {},
   "toc_section_display": true,
   "toc_window_display": false
  },
  "varInspector": {
   "cols": {
    "lenName": 16,
    "lenType": 16,
    "lenVar": 40
   },
   "kernels_config": {
    "python": {
     "delete_cmd_postfix": "",
     "delete_cmd_prefix": "del ",
     "library": "var_list.py",
     "varRefreshCmd": "print(var_dic_list())"
    },
    "r": {
     "delete_cmd_postfix": ") ",
     "delete_cmd_prefix": "rm(",
     "library": "var_list.r",
     "varRefreshCmd": "cat(var_dic_list()) "
    }
   },
   "types_to_exclude": [
    "module",
    "function",
    "builtin_function_or_method",
    "instance",
    "_Feature"
   ],
   "window_display": false
  }
 },
 "nbformat": 4,
 "nbformat_minor": 4
}

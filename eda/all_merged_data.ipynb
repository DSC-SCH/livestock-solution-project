{
 "cells": [
  {
   "cell_type": "code",
   "execution_count": 2,
   "metadata": {},
   "outputs": [],
   "source": [
    "import numpy as np\n",
    "import pandas as pd\n",
    "import matplotlib.pyplot as plt\n",
    "\n",
    "from matplotlib import font_manager, rc\n",
    "font_name = font_manager.FontProperties(fname=\"c:/Windows/Fonts/malgun.ttf\").get_name()\n",
    "rc('font', family=font_name)"
   ]
  },
  {
   "cell_type": "code",
   "execution_count": 3,
   "metadata": {},
   "outputs": [],
   "source": [
    "import pickle\n",
    "import os"
   ]
  },
  {
   "cell_type": "code",
   "execution_count": 4,
   "metadata": {},
   "outputs": [
    {
     "name": "stdout",
     "output_type": "stream",
     "text": [
      "['feed.rds', 'usbeer_merge.pkl', '가축사육현황merge.pkl', '경제성장률merge.pkl', '관측정보_merge.pkl', '수입현황merge.pkl', '축산물_공휴일.pkl', '축산물_시계열 데이터로 변환(전국).pkl']\n"
     ]
    }
   ],
   "source": [
    "data_dir = r'C:\\Users\\a0105\\Desktop\\DSC\\ddd\\preprocessing/'\n",
    "\n",
    "filenames = os.listdir(data_dir)\n",
    "print(filenames)"
   ]
  },
  {
   "cell_type": "code",
   "execution_count": 5,
   "metadata": {},
   "outputs": [],
   "source": [
    "with open(data_dir+'usbeer_merge.pkl', 'rb') as f:\n",
    "    usbeef = pickle.load(f)\n",
    "\n",
    "with open(data_dir+'가축사육현황merge.pkl', 'rb') as f:\n",
    "    livestock = pickle.load(f)\n",
    "    \n",
    "with open(data_dir+'경제성장률merge.pkl', 'rb') as f:\n",
    "    economic = pickle.load(f)\n",
    "    \n",
    "with open(data_dir+'관측정보_merge.pkl', 'rb') as f:\n",
    "    weather = pickle.load(f)\n",
    "\n",
    "with open(data_dir+'수입현황merge.pkl', 'rb') as f:\n",
    "    import_df = pickle.load(f)\n",
    "    \n",
    "with open(data_dir+'축산물_공휴일.pkl', 'rb') as f:\n",
    "    holiday = pickle.load(f)\n",
    "    \n",
    "with open(data_dir+'축산물_시계열 데이터로 변환(전국).pkl', 'rb') as f:\n",
    "    price_ts = pickle.load(f)"
   ]
  },
  {
   "cell_type": "code",
   "execution_count": 6,
   "metadata": {},
   "outputs": [
    {
     "name": "stdout",
     "output_type": "stream",
     "text": [
      "(298, 3)\n",
      "(298, 21)\n",
      "(298, 16)\n",
      "(298, 11)\n",
      "(298, 8)\n",
      "(298, 7)\n",
      "(298, 5)\n"
     ]
    }
   ],
   "source": [
    "print(usbeef.shape)\n",
    "print(livestock.shape)\n",
    "print(economic.shape)\n",
    "print(weather.shape)\n",
    "print(import_df.shape)\n",
    "print(holiday.shape)\n",
    "print(price_ts.shape)"
   ]
  },
  {
   "cell_type": "code",
   "execution_count": 7,
   "metadata": {},
   "outputs": [],
   "source": [
    "# livestock 주간날짜 칼럼 -> datetime형태로 바꿔주기\n",
    "livestock['주간날짜'] = pd.to_datetime(livestock['주간날짜'])"
   ]
  },
  {
   "cell_type": "markdown",
   "metadata": {},
   "source": [
    "### usbeef 가격 데이터+ 한우가격(y값)"
   ]
  },
  {
   "cell_type": "code",
   "execution_count": 8,
   "metadata": {},
   "outputs": [
    {
     "name": "stdout",
     "output_type": "stream",
     "text": [
      "Index(['주간날짜', '한우 평균경매 금액_주간평균', 'price'], dtype='object')\n"
     ]
    }
   ],
   "source": [
    "usbeef.head\n",
    "print(usbeef.columns)"
   ]
  },
  {
   "cell_type": "code",
   "execution_count": 9,
   "metadata": {},
   "outputs": [],
   "source": [
    "# price -> 생산량_주간평균으로 대체\n",
    "usbeef = usbeef.rename(columns={'price':'미국소_생산량(가격화한값)'})"
   ]
  },
  {
   "cell_type": "code",
   "execution_count": 10,
   "metadata": {},
   "outputs": [],
   "source": [
    "del usbeef['한우 평균경매 금액_주간평균']"
   ]
  },
  {
   "cell_type": "code",
   "execution_count": 11,
   "metadata": {},
   "outputs": [
    {
     "data": {
      "text/html": [
       "<div>\n",
       "<style scoped>\n",
       "    .dataframe tbody tr th:only-of-type {\n",
       "        vertical-align: middle;\n",
       "    }\n",
       "\n",
       "    .dataframe tbody tr th {\n",
       "        vertical-align: top;\n",
       "    }\n",
       "\n",
       "    .dataframe thead th {\n",
       "        text-align: right;\n",
       "    }\n",
       "</style>\n",
       "<table border=\"1\" class=\"dataframe\">\n",
       "  <thead>\n",
       "    <tr style=\"text-align: right;\">\n",
       "      <th></th>\n",
       "      <th>주간날짜</th>\n",
       "      <th>미국소_생산량(가격화한값)</th>\n",
       "    </tr>\n",
       "  </thead>\n",
       "  <tbody>\n",
       "    <tr>\n",
       "      <th>0</th>\n",
       "      <td>2013-01-06</td>\n",
       "      <td>226130.0</td>\n",
       "    </tr>\n",
       "    <tr>\n",
       "      <th>1</th>\n",
       "      <td>2013-01-13</td>\n",
       "      <td>226130.0</td>\n",
       "    </tr>\n",
       "  </tbody>\n",
       "</table>\n",
       "</div>"
      ],
      "text/plain": [
       "        주간날짜  미국소_생산량(가격화한값)\n",
       "0 2013-01-06        226130.0\n",
       "1 2013-01-13        226130.0"
      ]
     },
     "execution_count": 11,
     "metadata": {},
     "output_type": "execute_result"
    }
   ],
   "source": [
    "# 한우 평균경매금액_주간평균 소숫점 2째자리까지만 남기기\n",
    "usbeef_df = usbeef.copy()\n",
    "usbeef_df.head(2)"
   ]
  },
  {
   "cell_type": "markdown",
   "metadata": {},
   "source": [
    "### livestock(가축사육현황) 데이터 + 한우가격(y값)"
   ]
  },
  {
   "cell_type": "code",
   "execution_count": 12,
   "metadata": {},
   "outputs": [
    {
     "data": {
      "text/html": [
       "<div>\n",
       "<style scoped>\n",
       "    .dataframe tbody tr th:only-of-type {\n",
       "        vertical-align: middle;\n",
       "    }\n",
       "\n",
       "    .dataframe tbody tr th {\n",
       "        vertical-align: top;\n",
       "    }\n",
       "\n",
       "    .dataframe thead th {\n",
       "        text-align: right;\n",
       "    }\n",
       "</style>\n",
       "<table border=\"1\" class=\"dataframe\">\n",
       "  <thead>\n",
       "    <tr style=\"text-align: right;\">\n",
       "      <th></th>\n",
       "      <th>연도</th>\n",
       "      <th>월</th>\n",
       "      <th>마리수</th>\n",
       "      <th>번식우</th>\n",
       "      <th>1세미만(암)</th>\n",
       "      <th>1세미만(수)</th>\n",
       "      <th>1~2세(암)</th>\n",
       "      <th>1~2세(수)</th>\n",
       "      <th>2세이상(암)</th>\n",
       "      <th>2세이상(수)</th>\n",
       "      <th>날짜</th>\n",
       "      <th>번식우 아닌 소</th>\n",
       "      <th>마리 수 중 1세 미만(암,수) 제외</th>\n",
       "      <th>번식우 아닌 소 중 1세 미만(암,수) 제외</th>\n",
       "      <th>1~2세(모든 소)</th>\n",
       "      <th>분기</th>\n",
       "      <th>주간날짜</th>\n",
       "      <th>한우 평균경매 금액_주간평균</th>\n",
       "      <th>돼지 탕박 경매 금액_주간평균</th>\n",
       "      <th>year</th>\n",
       "      <th>month</th>\n",
       "    </tr>\n",
       "  </thead>\n",
       "  <tbody>\n",
       "    <tr>\n",
       "      <th>0</th>\n",
       "      <td>2013</td>\n",
       "      <td>3</td>\n",
       "      <td>2966</td>\n",
       "      <td>1580</td>\n",
       "      <td>396</td>\n",
       "      <td>470</td>\n",
       "      <td>409</td>\n",
       "      <td>479</td>\n",
       "      <td>996</td>\n",
       "      <td>216</td>\n",
       "      <td>2013-3</td>\n",
       "      <td>1386</td>\n",
       "      <td>2100</td>\n",
       "      <td>520</td>\n",
       "      <td>888</td>\n",
       "      <td>1</td>\n",
       "      <td>2013-01-06</td>\n",
       "      <td>13875.600000</td>\n",
       "      <td>3044.800000</td>\n",
       "      <td>2013</td>\n",
       "      <td>1</td>\n",
       "    </tr>\n",
       "    <tr>\n",
       "      <th>1</th>\n",
       "      <td>2013</td>\n",
       "      <td>3</td>\n",
       "      <td>2966</td>\n",
       "      <td>1580</td>\n",
       "      <td>396</td>\n",
       "      <td>470</td>\n",
       "      <td>409</td>\n",
       "      <td>479</td>\n",
       "      <td>996</td>\n",
       "      <td>216</td>\n",
       "      <td>2013-3</td>\n",
       "      <td>1386</td>\n",
       "      <td>2100</td>\n",
       "      <td>520</td>\n",
       "      <td>888</td>\n",
       "      <td>1</td>\n",
       "      <td>2013-01-13</td>\n",
       "      <td>13213.333333</td>\n",
       "      <td>2984.000000</td>\n",
       "      <td>2013</td>\n",
       "      <td>1</td>\n",
       "    </tr>\n",
       "    <tr>\n",
       "      <th>2</th>\n",
       "      <td>2013</td>\n",
       "      <td>3</td>\n",
       "      <td>2966</td>\n",
       "      <td>1580</td>\n",
       "      <td>396</td>\n",
       "      <td>470</td>\n",
       "      <td>409</td>\n",
       "      <td>479</td>\n",
       "      <td>996</td>\n",
       "      <td>216</td>\n",
       "      <td>2013-3</td>\n",
       "      <td>1386</td>\n",
       "      <td>2100</td>\n",
       "      <td>520</td>\n",
       "      <td>888</td>\n",
       "      <td>1</td>\n",
       "      <td>2013-01-20</td>\n",
       "      <td>12588.833333</td>\n",
       "      <td>2904.000000</td>\n",
       "      <td>2013</td>\n",
       "      <td>1</td>\n",
       "    </tr>\n",
       "    <tr>\n",
       "      <th>3</th>\n",
       "      <td>2013</td>\n",
       "      <td>3</td>\n",
       "      <td>2966</td>\n",
       "      <td>1580</td>\n",
       "      <td>396</td>\n",
       "      <td>470</td>\n",
       "      <td>409</td>\n",
       "      <td>479</td>\n",
       "      <td>996</td>\n",
       "      <td>216</td>\n",
       "      <td>2013-3</td>\n",
       "      <td>1386</td>\n",
       "      <td>2100</td>\n",
       "      <td>520</td>\n",
       "      <td>888</td>\n",
       "      <td>1</td>\n",
       "      <td>2013-01-27</td>\n",
       "      <td>12323.833333</td>\n",
       "      <td>2959.666667</td>\n",
       "      <td>2013</td>\n",
       "      <td>1</td>\n",
       "    </tr>\n",
       "    <tr>\n",
       "      <th>4</th>\n",
       "      <td>2013</td>\n",
       "      <td>3</td>\n",
       "      <td>2966</td>\n",
       "      <td>1580</td>\n",
       "      <td>396</td>\n",
       "      <td>470</td>\n",
       "      <td>409</td>\n",
       "      <td>479</td>\n",
       "      <td>996</td>\n",
       "      <td>216</td>\n",
       "      <td>2013-3</td>\n",
       "      <td>1386</td>\n",
       "      <td>2100</td>\n",
       "      <td>520</td>\n",
       "      <td>888</td>\n",
       "      <td>1</td>\n",
       "      <td>2013-02-03</td>\n",
       "      <td>12325.166667</td>\n",
       "      <td>2862.833333</td>\n",
       "      <td>2013</td>\n",
       "      <td>2</td>\n",
       "    </tr>\n",
       "  </tbody>\n",
       "</table>\n",
       "</div>"
      ],
      "text/plain": [
       "     연도  월   마리수   번식우  1세미만(암)  1세미만(수)  1~2세(암)  1~2세(수)  2세이상(암)  2세이상(수)  \\\n",
       "0  2013  3  2966  1580      396      470      409      479      996      216   \n",
       "1  2013  3  2966  1580      396      470      409      479      996      216   \n",
       "2  2013  3  2966  1580      396      470      409      479      996      216   \n",
       "3  2013  3  2966  1580      396      470      409      479      996      216   \n",
       "4  2013  3  2966  1580      396      470      409      479      996      216   \n",
       "\n",
       "       날짜  번식우 아닌 소  마리 수 중 1세 미만(암,수) 제외  번식우 아닌 소 중 1세 미만(암,수) 제외  \\\n",
       "0  2013-3      1386                  2100                       520   \n",
       "1  2013-3      1386                  2100                       520   \n",
       "2  2013-3      1386                  2100                       520   \n",
       "3  2013-3      1386                  2100                       520   \n",
       "4  2013-3      1386                  2100                       520   \n",
       "\n",
       "   1~2세(모든 소)  분기       주간날짜  한우 평균경매 금액_주간평균  돼지 탕박 경매 금액_주간평균  year  month  \n",
       "0         888   1 2013-01-06     13875.600000       3044.800000  2013      1  \n",
       "1         888   1 2013-01-13     13213.333333       2984.000000  2013      1  \n",
       "2         888   1 2013-01-20     12588.833333       2904.000000  2013      1  \n",
       "3         888   1 2013-01-27     12323.833333       2959.666667  2013      1  \n",
       "4         888   1 2013-02-03     12325.166667       2862.833333  2013      2  "
      ]
     },
     "execution_count": 12,
     "metadata": {},
     "output_type": "execute_result"
    }
   ],
   "source": [
    "# 모든 칼럼 다 보기\n",
    "pd.options.display.max_columns = 22\n",
    "livestock.head()"
   ]
  },
  {
   "cell_type": "code",
   "execution_count": 13,
   "metadata": {},
   "outputs": [
    {
     "name": "stderr",
     "output_type": "stream",
     "text": [
      "C:\\Users\\a0105\\anaconda3\\lib\\site-packages\\ipykernel_launcher.py:6: SettingWithCopyWarning: \n",
      "A value is trying to be set on a copy of a slice from a DataFrame.\n",
      "Try using .loc[row_indexer,col_indexer] = value instead\n",
      "\n",
      "See the caveats in the documentation: https://pandas.pydata.org/pandas-docs/stable/user_guide/indexing.html#returning-a-view-versus-a-copy\n",
      "  \n",
      "C:\\Users\\a0105\\anaconda3\\lib\\site-packages\\ipykernel_launcher.py:7: SettingWithCopyWarning: \n",
      "A value is trying to be set on a copy of a slice from a DataFrame.\n",
      "Try using .loc[row_indexer,col_indexer] = value instead\n",
      "\n",
      "See the caveats in the documentation: https://pandas.pydata.org/pandas-docs/stable/user_guide/indexing.html#returning-a-view-versus-a-copy\n",
      "  import sys\n"
     ]
    }
   ],
   "source": [
    "# 필요한 칼럼\n",
    "columns = ['주간날짜','번식우 아닌 소 중 1세 미만(암,수) 제외','1~2세(모든 소)',\n",
    "          '한우 평균경매 금액_주간평균','돼지 탕박 경매 금액_주간평균']\n",
    "\n",
    "livestock_df = livestock[columns]\n",
    "livestock_df['한우 평균경매 금액_주간평균'] = livestock_df['한우 평균경매 금액_주간평균'].round(2)\n",
    "livestock_df['돼지 탕박 경매 금액_주간평균'] = livestock_df['돼지 탕박 경매 금액_주간평균'].round(2)\n"
   ]
  },
  {
   "cell_type": "code",
   "execution_count": 14,
   "metadata": {},
   "outputs": [
    {
     "data": {
      "text/html": [
       "<div>\n",
       "<style scoped>\n",
       "    .dataframe tbody tr th:only-of-type {\n",
       "        vertical-align: middle;\n",
       "    }\n",
       "\n",
       "    .dataframe tbody tr th {\n",
       "        vertical-align: top;\n",
       "    }\n",
       "\n",
       "    .dataframe thead th {\n",
       "        text-align: right;\n",
       "    }\n",
       "</style>\n",
       "<table border=\"1\" class=\"dataframe\">\n",
       "  <thead>\n",
       "    <tr style=\"text-align: right;\">\n",
       "      <th></th>\n",
       "      <th>주간날짜</th>\n",
       "      <th>번식우 아닌 소 중 1세 미만(암,수) 제외</th>\n",
       "      <th>1~2세(모든 소)</th>\n",
       "      <th>한우 평균경매 금액_주간평균</th>\n",
       "      <th>돼지 탕박 경매 금액_주간평균</th>\n",
       "    </tr>\n",
       "  </thead>\n",
       "  <tbody>\n",
       "    <tr>\n",
       "      <th>0</th>\n",
       "      <td>2013-01-06</td>\n",
       "      <td>520</td>\n",
       "      <td>888</td>\n",
       "      <td>13875.60</td>\n",
       "      <td>3044.80</td>\n",
       "    </tr>\n",
       "    <tr>\n",
       "      <th>1</th>\n",
       "      <td>2013-01-13</td>\n",
       "      <td>520</td>\n",
       "      <td>888</td>\n",
       "      <td>13213.33</td>\n",
       "      <td>2984.00</td>\n",
       "    </tr>\n",
       "    <tr>\n",
       "      <th>2</th>\n",
       "      <td>2013-01-20</td>\n",
       "      <td>520</td>\n",
       "      <td>888</td>\n",
       "      <td>12588.83</td>\n",
       "      <td>2904.00</td>\n",
       "    </tr>\n",
       "    <tr>\n",
       "      <th>3</th>\n",
       "      <td>2013-01-27</td>\n",
       "      <td>520</td>\n",
       "      <td>888</td>\n",
       "      <td>12323.83</td>\n",
       "      <td>2959.67</td>\n",
       "    </tr>\n",
       "    <tr>\n",
       "      <th>4</th>\n",
       "      <td>2013-02-03</td>\n",
       "      <td>520</td>\n",
       "      <td>888</td>\n",
       "      <td>12325.17</td>\n",
       "      <td>2862.83</td>\n",
       "    </tr>\n",
       "  </tbody>\n",
       "</table>\n",
       "</div>"
      ],
      "text/plain": [
       "        주간날짜  번식우 아닌 소 중 1세 미만(암,수) 제외  1~2세(모든 소)  한우 평균경매 금액_주간평균  \\\n",
       "0 2013-01-06                       520         888         13875.60   \n",
       "1 2013-01-13                       520         888         13213.33   \n",
       "2 2013-01-20                       520         888         12588.83   \n",
       "3 2013-01-27                       520         888         12323.83   \n",
       "4 2013-02-03                       520         888         12325.17   \n",
       "\n",
       "   돼지 탕박 경매 금액_주간평균  \n",
       "0           3044.80  \n",
       "1           2984.00  \n",
       "2           2904.00  \n",
       "3           2959.67  \n",
       "4           2862.83  "
      ]
     },
     "execution_count": 14,
     "metadata": {},
     "output_type": "execute_result"
    }
   ],
   "source": [
    "livestock_df.head()"
   ]
  },
  {
   "cell_type": "markdown",
   "metadata": {},
   "source": [
    "### economic(경제성장률) 데이터 + 한우가격(y값)"
   ]
  },
  {
   "cell_type": "code",
   "execution_count": 15,
   "metadata": {},
   "outputs": [
    {
     "data": {
      "text/html": [
       "<div>\n",
       "<style scoped>\n",
       "    .dataframe tbody tr th:only-of-type {\n",
       "        vertical-align: middle;\n",
       "    }\n",
       "\n",
       "    .dataframe tbody tr th {\n",
       "        vertical-align: top;\n",
       "    }\n",
       "\n",
       "    .dataframe thead th {\n",
       "        text-align: right;\n",
       "    }\n",
       "</style>\n",
       "<table border=\"1\" class=\"dataframe\">\n",
       "  <thead>\n",
       "    <tr style=\"text-align: right;\">\n",
       "      <th></th>\n",
       "      <th>연도</th>\n",
       "      <th>국내총생산(GDP)(당해년 가격) (10억US$)</th>\n",
       "      <th>1인당 GDP(당해년 가격) (달러)</th>\n",
       "      <th>GDP 성장률 (%)</th>\n",
       "      <th>수출 (100만달러)</th>\n",
       "      <th>수입 (100만달러)</th>\n",
       "      <th>총인구 (천명)</th>\n",
       "      <th>실업률 (%)</th>\n",
       "      <th>소비자물가지수 (2010=100)</th>\n",
       "      <th>조강생산량 (1000M/T)</th>\n",
       "      <th>인터넷 이용률 (%)</th>\n",
       "      <th>주간날짜</th>\n",
       "      <th>한우 평균경매 금액_주간평균</th>\n",
       "      <th>돼지 탕박 경매 금액_주간평균</th>\n",
       "      <th>year</th>\n",
       "      <th>month</th>\n",
       "    </tr>\n",
       "  </thead>\n",
       "  <tbody>\n",
       "    <tr>\n",
       "      <th>0</th>\n",
       "      <td>2013.0</td>\n",
       "      <td>1370</td>\n",
       "      <td>27178</td>\n",
       "      <td>3</td>\n",
       "      <td>559632</td>\n",
       "      <td>515586</td>\n",
       "      <td>50429</td>\n",
       "      <td>3</td>\n",
       "      <td>98</td>\n",
       "      <td>66061</td>\n",
       "      <td>84</td>\n",
       "      <td>2013-01-06</td>\n",
       "      <td>13875.600000</td>\n",
       "      <td>3044.800000</td>\n",
       "      <td>2013</td>\n",
       "      <td>1</td>\n",
       "    </tr>\n",
       "    <tr>\n",
       "      <th>1</th>\n",
       "      <td>2013.0</td>\n",
       "      <td>1370</td>\n",
       "      <td>27178</td>\n",
       "      <td>3</td>\n",
       "      <td>559632</td>\n",
       "      <td>515586</td>\n",
       "      <td>50429</td>\n",
       "      <td>3</td>\n",
       "      <td>98</td>\n",
       "      <td>66061</td>\n",
       "      <td>84</td>\n",
       "      <td>2013-01-13</td>\n",
       "      <td>13213.333333</td>\n",
       "      <td>2984.000000</td>\n",
       "      <td>2013</td>\n",
       "      <td>1</td>\n",
       "    </tr>\n",
       "    <tr>\n",
       "      <th>2</th>\n",
       "      <td>2013.0</td>\n",
       "      <td>1370</td>\n",
       "      <td>27178</td>\n",
       "      <td>3</td>\n",
       "      <td>559632</td>\n",
       "      <td>515586</td>\n",
       "      <td>50429</td>\n",
       "      <td>3</td>\n",
       "      <td>98</td>\n",
       "      <td>66061</td>\n",
       "      <td>84</td>\n",
       "      <td>2013-01-20</td>\n",
       "      <td>12588.833333</td>\n",
       "      <td>2904.000000</td>\n",
       "      <td>2013</td>\n",
       "      <td>1</td>\n",
       "    </tr>\n",
       "    <tr>\n",
       "      <th>3</th>\n",
       "      <td>2013.0</td>\n",
       "      <td>1370</td>\n",
       "      <td>27178</td>\n",
       "      <td>3</td>\n",
       "      <td>559632</td>\n",
       "      <td>515586</td>\n",
       "      <td>50429</td>\n",
       "      <td>3</td>\n",
       "      <td>98</td>\n",
       "      <td>66061</td>\n",
       "      <td>84</td>\n",
       "      <td>2013-01-27</td>\n",
       "      <td>12323.833333</td>\n",
       "      <td>2959.666667</td>\n",
       "      <td>2013</td>\n",
       "      <td>1</td>\n",
       "    </tr>\n",
       "    <tr>\n",
       "      <th>4</th>\n",
       "      <td>2013.0</td>\n",
       "      <td>1370</td>\n",
       "      <td>27178</td>\n",
       "      <td>3</td>\n",
       "      <td>559632</td>\n",
       "      <td>515586</td>\n",
       "      <td>50429</td>\n",
       "      <td>3</td>\n",
       "      <td>98</td>\n",
       "      <td>66061</td>\n",
       "      <td>84</td>\n",
       "      <td>2013-02-03</td>\n",
       "      <td>12325.166667</td>\n",
       "      <td>2862.833333</td>\n",
       "      <td>2013</td>\n",
       "      <td>2</td>\n",
       "    </tr>\n",
       "  </tbody>\n",
       "</table>\n",
       "</div>"
      ],
      "text/plain": [
       "       연도  국내총생산(GDP)(당해년 가격) (10억US$)  1인당 GDP(당해년 가격) (달러)  GDP 성장률 (%)  \\\n",
       "0  2013.0                         1370                 27178            3   \n",
       "1  2013.0                         1370                 27178            3   \n",
       "2  2013.0                         1370                 27178            3   \n",
       "3  2013.0                         1370                 27178            3   \n",
       "4  2013.0                         1370                 27178            3   \n",
       "\n",
       "   수출 (100만달러)  수입 (100만달러)  총인구 (천명)  실업률 (%)  소비자물가지수 (2010=100)  \\\n",
       "0       559632       515586     50429        3                  98   \n",
       "1       559632       515586     50429        3                  98   \n",
       "2       559632       515586     50429        3                  98   \n",
       "3       559632       515586     50429        3                  98   \n",
       "4       559632       515586     50429        3                  98   \n",
       "\n",
       "   조강생산량 (1000M/T)  인터넷 이용률 (%)       주간날짜  한우 평균경매 금액_주간평균  돼지 탕박 경매 금액_주간평균  \\\n",
       "0            66061           84 2013-01-06     13875.600000       3044.800000   \n",
       "1            66061           84 2013-01-13     13213.333333       2984.000000   \n",
       "2            66061           84 2013-01-20     12588.833333       2904.000000   \n",
       "3            66061           84 2013-01-27     12323.833333       2959.666667   \n",
       "4            66061           84 2013-02-03     12325.166667       2862.833333   \n",
       "\n",
       "   year  month  \n",
       "0  2013      1  \n",
       "1  2013      1  \n",
       "2  2013      1  \n",
       "3  2013      1  \n",
       "4  2013      2  "
      ]
     },
     "execution_count": 15,
     "metadata": {},
     "output_type": "execute_result"
    }
   ],
   "source": [
    "economic.head()"
   ]
  },
  {
   "cell_type": "markdown",
   "metadata": {},
   "source": [
    "- <소>\n",
    "    - [양의 상관관계]\n",
    "        * 국내총생산 0.58 \n",
    "        * 1인당 gdp 0.55  \n",
    "        * 총인구 0.79 \n",
    "        * 소비자물가지수 0.71  \n",
    "        * 인터넷이용률 0.77  \n",
    "        * 돼지탕박가격 0.46\n",
    "\n",
    "    - [음의 상관관계]\n",
    "        * gdp성장률 -0.59  \n",
    "        * 수입 -0.53  \n",
    "\n",
    "\n",
    "- <돼지>- 소와의 가격관계\n",
    "    - [양의 상관관계]\n",
    "        * 한우가격 0.46"
   ]
  },
  {
   "cell_type": "code",
   "execution_count": 16,
   "metadata": {},
   "outputs": [
    {
     "data": {
      "text/html": [
       "<div>\n",
       "<style scoped>\n",
       "    .dataframe tbody tr th:only-of-type {\n",
       "        vertical-align: middle;\n",
       "    }\n",
       "\n",
       "    .dataframe tbody tr th {\n",
       "        vertical-align: top;\n",
       "    }\n",
       "\n",
       "    .dataframe thead th {\n",
       "        text-align: right;\n",
       "    }\n",
       "</style>\n",
       "<table border=\"1\" class=\"dataframe\">\n",
       "  <thead>\n",
       "    <tr style=\"text-align: right;\">\n",
       "      <th></th>\n",
       "      <th>주간날짜</th>\n",
       "      <th>수출 (100만달러)</th>\n",
       "      <th>수입 (100만달러)</th>\n",
       "      <th>소비자물가지수 (2010=100)</th>\n",
       "    </tr>\n",
       "  </thead>\n",
       "  <tbody>\n",
       "    <tr>\n",
       "      <th>0</th>\n",
       "      <td>2013-01-06</td>\n",
       "      <td>559632</td>\n",
       "      <td>515586</td>\n",
       "      <td>98</td>\n",
       "    </tr>\n",
       "    <tr>\n",
       "      <th>1</th>\n",
       "      <td>2013-01-13</td>\n",
       "      <td>559632</td>\n",
       "      <td>515586</td>\n",
       "      <td>98</td>\n",
       "    </tr>\n",
       "  </tbody>\n",
       "</table>\n",
       "</div>"
      ],
      "text/plain": [
       "        주간날짜  수출 (100만달러)  수입 (100만달러)  소비자물가지수 (2010=100)\n",
       "0 2013-01-06       559632       515586                  98\n",
       "1 2013-01-13       559632       515586                  98"
      ]
     },
     "execution_count": 16,
     "metadata": {},
     "output_type": "execute_result"
    }
   ],
   "source": [
    "# 필요한 칼럼 \n",
    "columns = ['주간날짜','수출 (100만달러)','수입 (100만달러)','소비자물가지수 (2010=100)']\n",
    "\n",
    "economic_df = economic[columns]\n",
    "economic_df.head(2)"
   ]
  },
  {
   "cell_type": "markdown",
   "metadata": {},
   "source": [
    "### import_df(수입소고기 수입현황) 데이터 + 한우가격(y값)"
   ]
  },
  {
   "cell_type": "code",
   "execution_count": 17,
   "metadata": {},
   "outputs": [
    {
     "data": {
      "text/plain": [
       "Index(['주간날짜', '한우 평균경매 금액_주간평균', '돼지 탕박 경매 금액_주간평균', 'year', 'month',\n",
       "       'frozen', 'refrigeration', 'total'],\n",
       "      dtype='object')"
      ]
     },
     "execution_count": 17,
     "metadata": {},
     "output_type": "execute_result"
    }
   ],
   "source": [
    "import_df.columns"
   ]
  },
  {
   "cell_type": "code",
   "execution_count": 18,
   "metadata": {},
   "outputs": [
    {
     "data": {
      "text/html": [
       "<div>\n",
       "<style scoped>\n",
       "    .dataframe tbody tr th:only-of-type {\n",
       "        vertical-align: middle;\n",
       "    }\n",
       "\n",
       "    .dataframe tbody tr th {\n",
       "        vertical-align: top;\n",
       "    }\n",
       "\n",
       "    .dataframe thead th {\n",
       "        text-align: right;\n",
       "    }\n",
       "</style>\n",
       "<table border=\"1\" class=\"dataframe\">\n",
       "  <thead>\n",
       "    <tr style=\"text-align: right;\">\n",
       "      <th></th>\n",
       "      <th>주간날짜</th>\n",
       "      <th>total</th>\n",
       "    </tr>\n",
       "  </thead>\n",
       "  <tbody>\n",
       "    <tr>\n",
       "      <th>0</th>\n",
       "      <td>2013-01-06</td>\n",
       "      <td>28623</td>\n",
       "    </tr>\n",
       "    <tr>\n",
       "      <th>1</th>\n",
       "      <td>2013-01-13</td>\n",
       "      <td>28623</td>\n",
       "    </tr>\n",
       "  </tbody>\n",
       "</table>\n",
       "</div>"
      ],
      "text/plain": [
       "        주간날짜  total\n",
       "0 2013-01-06  28623\n",
       "1 2013-01-13  28623"
      ]
     },
     "execution_count": 18,
     "metadata": {},
     "output_type": "execute_result"
    }
   ],
   "source": [
    "# 필요한 칼럼 \n",
    "columns = ['주간날짜','total']\n",
    "\n",
    "import_df = import_df[columns]\n",
    "import_df.head(2)"
   ]
  },
  {
   "cell_type": "code",
   "execution_count": 19,
   "metadata": {},
   "outputs": [
    {
     "data": {
      "text/html": [
       "<div>\n",
       "<style scoped>\n",
       "    .dataframe tbody tr th:only-of-type {\n",
       "        vertical-align: middle;\n",
       "    }\n",
       "\n",
       "    .dataframe tbody tr th {\n",
       "        vertical-align: top;\n",
       "    }\n",
       "\n",
       "    .dataframe thead th {\n",
       "        text-align: right;\n",
       "    }\n",
       "</style>\n",
       "<table border=\"1\" class=\"dataframe\">\n",
       "  <thead>\n",
       "    <tr style=\"text-align: right;\">\n",
       "      <th></th>\n",
       "      <th>주간날짜</th>\n",
       "      <th>수입소고기_총량</th>\n",
       "    </tr>\n",
       "  </thead>\n",
       "  <tbody>\n",
       "    <tr>\n",
       "      <th>0</th>\n",
       "      <td>2013-01-06</td>\n",
       "      <td>28623</td>\n",
       "    </tr>\n",
       "    <tr>\n",
       "      <th>1</th>\n",
       "      <td>2013-01-13</td>\n",
       "      <td>28623</td>\n",
       "    </tr>\n",
       "  </tbody>\n",
       "</table>\n",
       "</div>"
      ],
      "text/plain": [
       "        주간날짜  수입소고기_총량\n",
       "0 2013-01-06     28623\n",
       "1 2013-01-13     28623"
      ]
     },
     "execution_count": 19,
     "metadata": {},
     "output_type": "execute_result"
    }
   ],
   "source": [
    "# total 칼럼명 바꾸기\n",
    "import_df = import_df.rename(columns={'total':'수입소고기_총량'})\n",
    "import_df.head(2)"
   ]
  },
  {
   "cell_type": "markdown",
   "metadata": {},
   "source": [
    "---"
   ]
  },
  {
   "cell_type": "markdown",
   "metadata": {},
   "source": [
    "### weather(날씨 관측 데이터) - EDA 더 필요!?"
   ]
  },
  {
   "cell_type": "code",
   "execution_count": 20,
   "metadata": {},
   "outputs": [
    {
     "data": {
      "text/html": [
       "<div>\n",
       "<style scoped>\n",
       "    .dataframe tbody tr th:only-of-type {\n",
       "        vertical-align: middle;\n",
       "    }\n",
       "\n",
       "    .dataframe tbody tr th {\n",
       "        vertical-align: top;\n",
       "    }\n",
       "\n",
       "    .dataframe thead th {\n",
       "        text-align: right;\n",
       "    }\n",
       "</style>\n",
       "<table border=\"1\" class=\"dataframe\">\n",
       "  <thead>\n",
       "    <tr style=\"text-align: right;\">\n",
       "      <th></th>\n",
       "      <th>주간날짜</th>\n",
       "      <th>한우 평균경매 금액_주간평균</th>\n",
       "      <th>돼지 탕박 경매 금액_주간평균</th>\n",
       "      <th>평균기온</th>\n",
       "      <th>최저기온</th>\n",
       "      <th>최고기온</th>\n",
       "      <th>평균지면온도</th>\n",
       "      <th>최소상대습도(%)</th>\n",
       "      <th>평균상대습도(%)</th>\n",
       "    </tr>\n",
       "  </thead>\n",
       "  <tbody>\n",
       "    <tr>\n",
       "      <th>0</th>\n",
       "      <td>2013-01-06</td>\n",
       "      <td>13875.600000</td>\n",
       "      <td>3044.8</td>\n",
       "      <td>-0.3</td>\n",
       "      <td>-4.6</td>\n",
       "      <td>5.4</td>\n",
       "      <td>-2.5</td>\n",
       "      <td>16.0</td>\n",
       "      <td>29.6</td>\n",
       "    </tr>\n",
       "    <tr>\n",
       "      <th>1</th>\n",
       "      <td>2013-01-13</td>\n",
       "      <td>13213.333333</td>\n",
       "      <td>2984.0</td>\n",
       "      <td>1.4</td>\n",
       "      <td>-2.2</td>\n",
       "      <td>6.1</td>\n",
       "      <td>0.0</td>\n",
       "      <td>30.0</td>\n",
       "      <td>49.6</td>\n",
       "    </tr>\n",
       "  </tbody>\n",
       "</table>\n",
       "</div>"
      ],
      "text/plain": [
       "        주간날짜  한우 평균경매 금액_주간평균  돼지 탕박 경매 금액_주간평균  평균기온  최저기온  최고기온  평균지면온도  \\\n",
       "0 2013-01-06     13875.600000            3044.8  -0.3  -4.6   5.4    -2.5   \n",
       "1 2013-01-13     13213.333333            2984.0   1.4  -2.2   6.1     0.0   \n",
       "\n",
       "   최소상대습도(%)  평균상대습도(%)  \n",
       "0       16.0       29.6  \n",
       "1       30.0       49.6  "
      ]
     },
     "execution_count": 20,
     "metadata": {},
     "output_type": "execute_result"
    }
   ],
   "source": [
    "# year, month 칼럼제거\n",
    "weather_df = weather.drop(['year','month'], axis=1)\n",
    "weather_df.head(2)"
   ]
  },
  {
   "cell_type": "code",
   "execution_count": 21,
   "metadata": {},
   "outputs": [
    {
     "data": {
      "text/html": [
       "<div>\n",
       "<style scoped>\n",
       "    .dataframe tbody tr th:only-of-type {\n",
       "        vertical-align: middle;\n",
       "    }\n",
       "\n",
       "    .dataframe tbody tr th {\n",
       "        vertical-align: top;\n",
       "    }\n",
       "\n",
       "    .dataframe thead th {\n",
       "        text-align: right;\n",
       "    }\n",
       "</style>\n",
       "<table border=\"1\" class=\"dataframe\">\n",
       "  <thead>\n",
       "    <tr style=\"text-align: right;\">\n",
       "      <th></th>\n",
       "      <th>주간날짜</th>\n",
       "      <th>평균기온</th>\n",
       "      <th>최저기온</th>\n",
       "      <th>최고기온</th>\n",
       "      <th>평균지면온도</th>\n",
       "      <th>최소상대습도(%)</th>\n",
       "      <th>평균상대습도(%)</th>\n",
       "    </tr>\n",
       "  </thead>\n",
       "  <tbody>\n",
       "    <tr>\n",
       "      <th>0</th>\n",
       "      <td>2013-01-06</td>\n",
       "      <td>-0.3</td>\n",
       "      <td>-4.6</td>\n",
       "      <td>5.4</td>\n",
       "      <td>-2.5</td>\n",
       "      <td>16.0</td>\n",
       "      <td>29.6</td>\n",
       "    </tr>\n",
       "    <tr>\n",
       "      <th>1</th>\n",
       "      <td>2013-01-13</td>\n",
       "      <td>1.4</td>\n",
       "      <td>-2.2</td>\n",
       "      <td>6.1</td>\n",
       "      <td>0.0</td>\n",
       "      <td>30.0</td>\n",
       "      <td>49.6</td>\n",
       "    </tr>\n",
       "  </tbody>\n",
       "</table>\n",
       "</div>"
      ],
      "text/plain": [
       "        주간날짜  평균기온  최저기온  최고기온  평균지면온도  최소상대습도(%)  평균상대습도(%)\n",
       "0 2013-01-06  -0.3  -4.6   5.4    -2.5       16.0       29.6\n",
       "1 2013-01-13   1.4  -2.2   6.1     0.0       30.0       49.6"
      ]
     },
     "execution_count": 21,
     "metadata": {},
     "output_type": "execute_result"
    }
   ],
   "source": [
    "weather_df = weather_df.drop(['한우 평균경매 금액_주간평균', '돼지 탕박 경매 금액_주간평균'],axis=1)\n",
    "weather_df.head(2)"
   ]
  },
  {
   "cell_type": "markdown",
   "metadata": {},
   "source": [
    "날씨 데이터가 폐사의 여부를 알기 위해 사용하고자 수집한 데이터이지만 가축관리에 날씨는 영향을 미치기 때문에 해당 값 자체를 변수로 사용하여 모델링에 적용해보고자함."
   ]
  },
  {
   "cell_type": "markdown",
   "metadata": {},
   "source": [
    "---"
   ]
  },
  {
   "cell_type": "markdown",
   "metadata": {},
   "source": [
    "## 데이터 병합\n",
    "\n",
    "- 우선 더 EDA가 진행되지 않은 관측데이터(weather_df변수)인 상태에서 병합해봄\n",
    "- 향후 관측데아터의 추가적인 EDA 실시 후 feature selection 필요"
   ]
  },
  {
   "cell_type": "code",
   "execution_count": 22,
   "metadata": {},
   "outputs": [],
   "source": [
    "from functools import reduce"
   ]
  },
  {
   "cell_type": "code",
   "execution_count": 23,
   "metadata": {},
   "outputs": [],
   "source": [
    "dfs = [usbeef_df, livestock_df, economic_df, import_df,weather_df]\n",
    "\n",
    "df_final = reduce(lambda left, right: pd.merge(left, right, on='주간날짜'), dfs)"
   ]
  },
  {
   "cell_type": "code",
   "execution_count": 24,
   "metadata": {},
   "outputs": [
    {
     "data": {
      "text/html": [
       "<div>\n",
       "<style scoped>\n",
       "    .dataframe tbody tr th:only-of-type {\n",
       "        vertical-align: middle;\n",
       "    }\n",
       "\n",
       "    .dataframe tbody tr th {\n",
       "        vertical-align: top;\n",
       "    }\n",
       "\n",
       "    .dataframe thead th {\n",
       "        text-align: right;\n",
       "    }\n",
       "</style>\n",
       "<table border=\"1\" class=\"dataframe\">\n",
       "  <thead>\n",
       "    <tr style=\"text-align: right;\">\n",
       "      <th></th>\n",
       "      <th>주간날짜</th>\n",
       "      <th>미국소_생산량(가격화한값)</th>\n",
       "      <th>번식우 아닌 소 중 1세 미만(암,수) 제외</th>\n",
       "      <th>1~2세(모든 소)</th>\n",
       "      <th>한우 평균경매 금액_주간평균</th>\n",
       "      <th>돼지 탕박 경매 금액_주간평균</th>\n",
       "      <th>수출 (100만달러)</th>\n",
       "      <th>수입 (100만달러)</th>\n",
       "      <th>소비자물가지수 (2010=100)</th>\n",
       "      <th>수입소고기_총량</th>\n",
       "      <th>평균기온</th>\n",
       "      <th>최저기온</th>\n",
       "      <th>최고기온</th>\n",
       "      <th>평균지면온도</th>\n",
       "      <th>최소상대습도(%)</th>\n",
       "      <th>평균상대습도(%)</th>\n",
       "    </tr>\n",
       "  </thead>\n",
       "  <tbody>\n",
       "    <tr>\n",
       "      <th>0</th>\n",
       "      <td>2013-01-06</td>\n",
       "      <td>226130.0</td>\n",
       "      <td>520</td>\n",
       "      <td>888</td>\n",
       "      <td>13875.60</td>\n",
       "      <td>3044.80</td>\n",
       "      <td>559632</td>\n",
       "      <td>515586</td>\n",
       "      <td>98</td>\n",
       "      <td>28623</td>\n",
       "      <td>-0.3</td>\n",
       "      <td>-4.6</td>\n",
       "      <td>5.4</td>\n",
       "      <td>-2.5</td>\n",
       "      <td>16.0</td>\n",
       "      <td>29.6</td>\n",
       "    </tr>\n",
       "    <tr>\n",
       "      <th>1</th>\n",
       "      <td>2013-01-13</td>\n",
       "      <td>226130.0</td>\n",
       "      <td>520</td>\n",
       "      <td>888</td>\n",
       "      <td>13213.33</td>\n",
       "      <td>2984.00</td>\n",
       "      <td>559632</td>\n",
       "      <td>515586</td>\n",
       "      <td>98</td>\n",
       "      <td>28623</td>\n",
       "      <td>1.4</td>\n",
       "      <td>-2.2</td>\n",
       "      <td>6.1</td>\n",
       "      <td>0.0</td>\n",
       "      <td>30.0</td>\n",
       "      <td>49.6</td>\n",
       "    </tr>\n",
       "    <tr>\n",
       "      <th>2</th>\n",
       "      <td>2013-01-20</td>\n",
       "      <td>226130.0</td>\n",
       "      <td>520</td>\n",
       "      <td>888</td>\n",
       "      <td>12588.83</td>\n",
       "      <td>2904.00</td>\n",
       "      <td>559632</td>\n",
       "      <td>515586</td>\n",
       "      <td>98</td>\n",
       "      <td>28623</td>\n",
       "      <td>1.5</td>\n",
       "      <td>-2.2</td>\n",
       "      <td>2.7</td>\n",
       "      <td>0.1</td>\n",
       "      <td>40.0</td>\n",
       "      <td>64.9</td>\n",
       "    </tr>\n",
       "    <tr>\n",
       "      <th>3</th>\n",
       "      <td>2013-01-27</td>\n",
       "      <td>226130.0</td>\n",
       "      <td>520</td>\n",
       "      <td>888</td>\n",
       "      <td>12323.83</td>\n",
       "      <td>2959.67</td>\n",
       "      <td>559632</td>\n",
       "      <td>515586</td>\n",
       "      <td>98</td>\n",
       "      <td>28623</td>\n",
       "      <td>3.8</td>\n",
       "      <td>-0.9</td>\n",
       "      <td>9.3</td>\n",
       "      <td>0.4</td>\n",
       "      <td>40.0</td>\n",
       "      <td>63.0</td>\n",
       "    </tr>\n",
       "    <tr>\n",
       "      <th>4</th>\n",
       "      <td>2013-02-03</td>\n",
       "      <td>187340.0</td>\n",
       "      <td>520</td>\n",
       "      <td>888</td>\n",
       "      <td>12325.17</td>\n",
       "      <td>2862.83</td>\n",
       "      <td>559632</td>\n",
       "      <td>515586</td>\n",
       "      <td>98</td>\n",
       "      <td>18241</td>\n",
       "      <td>1.5</td>\n",
       "      <td>-1.9</td>\n",
       "      <td>4.5</td>\n",
       "      <td>0.8</td>\n",
       "      <td>22.0</td>\n",
       "      <td>48.4</td>\n",
       "    </tr>\n",
       "  </tbody>\n",
       "</table>\n",
       "</div>"
      ],
      "text/plain": [
       "        주간날짜  미국소_생산량(가격화한값)  번식우 아닌 소 중 1세 미만(암,수) 제외  1~2세(모든 소)  \\\n",
       "0 2013-01-06        226130.0                       520         888   \n",
       "1 2013-01-13        226130.0                       520         888   \n",
       "2 2013-01-20        226130.0                       520         888   \n",
       "3 2013-01-27        226130.0                       520         888   \n",
       "4 2013-02-03        187340.0                       520         888   \n",
       "\n",
       "   한우 평균경매 금액_주간평균  돼지 탕박 경매 금액_주간평균  수출 (100만달러)  수입 (100만달러)  \\\n",
       "0         13875.60           3044.80       559632       515586   \n",
       "1         13213.33           2984.00       559632       515586   \n",
       "2         12588.83           2904.00       559632       515586   \n",
       "3         12323.83           2959.67       559632       515586   \n",
       "4         12325.17           2862.83       559632       515586   \n",
       "\n",
       "   소비자물가지수 (2010=100)  수입소고기_총량  평균기온  최저기온  최고기온  평균지면온도  최소상대습도(%)  \\\n",
       "0                  98     28623  -0.3  -4.6   5.4    -2.5       16.0   \n",
       "1                  98     28623   1.4  -2.2   6.1     0.0       30.0   \n",
       "2                  98     28623   1.5  -2.2   2.7     0.1       40.0   \n",
       "3                  98     28623   3.8  -0.9   9.3     0.4       40.0   \n",
       "4                  98     18241   1.5  -1.9   4.5     0.8       22.0   \n",
       "\n",
       "   평균상대습도(%)  \n",
       "0       29.6  \n",
       "1       49.6  \n",
       "2       64.9  \n",
       "3       63.0  \n",
       "4       48.4  "
      ]
     },
     "execution_count": 24,
     "metadata": {},
     "output_type": "execute_result"
    }
   ],
   "source": [
    "df_final.head()"
   ]
  },
  {
   "cell_type": "markdown",
   "metadata": {},
   "source": [
    "# 상관관계"
   ]
  },
  {
   "cell_type": "code",
   "execution_count": 25,
   "metadata": {},
   "outputs": [
    {
     "name": "stderr",
     "output_type": "stream",
     "text": [
      "C:\\Users\\a0105\\anaconda3\\lib\\site-packages\\matplotlib\\backends\\backend_agg.py:211: RuntimeWarning: Glyph 8722 missing from current font.\n",
      "  font.set_text(s, 0.0, flags=flags)\n",
      "C:\\Users\\a0105\\anaconda3\\lib\\site-packages\\matplotlib\\backends\\backend_agg.py:180: RuntimeWarning: Glyph 8722 missing from current font.\n",
      "  font.set_text(s, 0, flags=flags)\n"
     ]
    },
    {
     "data": {
      "text/plain": [
       "<matplotlib.axes._subplots.AxesSubplot at 0x209a8bab388>"
      ]
     },
     "execution_count": 25,
     "metadata": {},
     "output_type": "execute_result"
    },
    {
     "data": {
      "image/png": "[encoded data removed]",
      "text/plain": [
       "<Figure size 504x360 with 2 Axes>"
      ]
     },
     "metadata": {
      "needs_background": "light"
     },
     "output_type": "display_data"
    }
   ],
   "source": [
    "\n",
    "import matplotlib.pyplot as plt\n",
    "import seaborn as sns\n",
    "\n",
    "from matplotlib import font_manager, rc\n",
    "font_name = font_manager.FontProperties(fname=\"c:/Windows/Fonts/malgun.ttf\").get_name()\n",
    "rc('font', family=font_name)\n",
    "\n",
    "corr_data = df_final.drop([\"주간날짜\"], axis=1)\n",
    "corr = corr_data.corr()\n",
    "\n",
    "plt.figure(figsize=(7,5))\n",
    "\n",
    "sns.heatmap(data = corr, annot=True, fmt = '.2f', linewidths=.2, cmap='Blues')"
   ]
  },
  {
   "cell_type": "markdown",
   "metadata": {},
   "source": [
    "* '번식우 아닌 소 중 1세 미만(암, 수)제외' & '1~2세(모든 소)' 변수는 각각 -0.53으로 음의 상관관계를 보이고 있음\n",
    "* '미국소_생산량(가격화한값)' 변수는 0.15로 약한 양의 상관관계를 보이고 있음.\n",
    "* '돼지 탕박 경매 금액_주간평균' 0.46으로 양의 상관관계를 보이고 있음.\n",
    "* '수입(100만달러)' 변수는 -0.53으로 음의 상관관계를 보이고 있지만 수입소고기_총량은 0.64로 양의 상관관계를 보이고 있음.\n",
    "* 기온 관련 변수 모두 매우 약한 상관관계를 보이고 있고 최소상대습도가 0.11로 그나마 높음. "
   ]
  },
  {
   "cell_type": "code",
   "execution_count": 26,
   "metadata": {},
   "outputs": [],
   "source": [
    "y = df_final['한우 평균경매 금액_주간평균']"
   ]
  },
  {
   "cell_type": "code",
   "execution_count": 27,
   "metadata": {},
   "outputs": [],
   "source": [
    "x = df_final.drop(['주간날짜','한우 평균경매 금액_주간평균'],axis=1)"
   ]
  },
  {
   "cell_type": "code",
   "execution_count": 28,
   "metadata": {},
   "outputs": [
    {
     "data": {
      "text/plain": [
       "미국소_생산량(가격화한값)              float64\n",
       "번식우 아닌 소 중 1세 미만(암,수) 제외      int32\n",
       "1~2세(모든 소)                    int32\n",
       "돼지 탕박 경매 금액_주간평균            float64\n",
       "수출 (100만달러)                   int32\n",
       "수입 (100만달러)                   int32\n",
       "소비자물가지수 (2010=100)            int32\n",
       "수입소고기_총량                      int64\n",
       "평균기온                        float64\n",
       "최저기온                        float64\n",
       "최고기온                        float64\n",
       "평균지면온도                      float64\n",
       "최소상대습도(%)                   float64\n",
       "평균상대습도(%)                   float64\n",
       "dtype: object"
      ]
     },
     "execution_count": 28,
     "metadata": {},
     "output_type": "execute_result"
    }
   ],
   "source": [
    "x.dtypes"
   ]
  },
  {
   "cell_type": "code",
   "execution_count": 29,
   "metadata": {},
   "outputs": [],
   "source": [
    "df_final['미국소_생산량(가격화한값)'] = df_final['미국소_생산량(가격화한값)'].astype('int32') "
   ]
  },
  {
   "cell_type": "code",
   "execution_count": 30,
   "metadata": {},
   "outputs": [
    {
     "data": {
      "text/plain": [
       "주간날짜                        datetime64[ns]\n",
       "미국소_생산량(가격화한값)                       int32\n",
       "번식우 아닌 소 중 1세 미만(암,수) 제외             int32\n",
       "1~2세(모든 소)                           int32\n",
       "한우 평균경매 금액_주간평균                    float64\n",
       "돼지 탕박 경매 금액_주간평균                   float64\n",
       "수출 (100만달러)                          int32\n",
       "수입 (100만달러)                          int32\n",
       "소비자물가지수 (2010=100)                   int32\n",
       "수입소고기_총량                             int64\n",
       "평균기온                               float64\n",
       "최저기온                               float64\n",
       "최고기온                               float64\n",
       "평균지면온도                             float64\n",
       "최소상대습도(%)                          float64\n",
       "평균상대습도(%)                          float64\n",
       "dtype: object"
      ]
     },
     "execution_count": 30,
     "metadata": {},
     "output_type": "execute_result"
    }
   ],
   "source": [
    "df_final.dtypes"
   ]
  },
  {
   "cell_type": "code",
   "execution_count": 31,
   "metadata": {},
   "outputs": [],
   "source": [
    "del df_final['주간날짜']"
   ]
  },
  {
   "cell_type": "code",
   "execution_count": 32,
   "metadata": {},
   "outputs": [],
   "source": [
    "from sklearn import preprocessing\n",
    "\n",
    "features = ['미국소_생산량(가격화한값)', '번식우 아닌 소 중 1세 미만(암,수) 제외', '1~2세(모든 소)','돼지 탕박 경매 금액_주간평균', '수출 (100만달러)', '수입 (100만달러)', '소비자물가지수 (2010=100)','수입소고기_총량','평균기온','최소상대습도(%)']\n",
    "\n",
    "# 이상치에 민감하지 않은 robustsclaer적용 (돼지탕박경매금액_주간평균에 이상치가 포함되어 있었기 때문)\n",
    "robust_scaler = preprocessing.RobustScaler()\n",
    "np_scaled_data = robust_scaler.fit_transform(df_final[features])\n",
    "scaled_data = df_final.copy()\n"
   ]
  },
  {
   "cell_type": "code",
   "execution_count": 33,
   "metadata": {},
   "outputs": [
    {
     "data": {
      "text/html": [
       "<div>\n",
       "<style scoped>\n",
       "    .dataframe tbody tr th:only-of-type {\n",
       "        vertical-align: middle;\n",
       "    }\n",
       "\n",
       "    .dataframe tbody tr th {\n",
       "        vertical-align: top;\n",
       "    }\n",
       "\n",
       "    .dataframe thead th {\n",
       "        text-align: right;\n",
       "    }\n",
       "</style>\n",
       "<table border=\"1\" class=\"dataframe\">\n",
       "  <thead>\n",
       "    <tr style=\"text-align: right;\">\n",
       "      <th></th>\n",
       "      <th>미국소_생산량(가격화한값)</th>\n",
       "      <th>번식우 아닌 소 중 1세 미만(암,수) 제외</th>\n",
       "      <th>1~2세(모든 소)</th>\n",
       "      <th>한우 평균경매 금액_주간평균</th>\n",
       "      <th>돼지 탕박 경매 금액_주간평균</th>\n",
       "      <th>수출 (100만달러)</th>\n",
       "      <th>수입 (100만달러)</th>\n",
       "      <th>소비자물가지수 (2010=100)</th>\n",
       "      <th>수입소고기_총량</th>\n",
       "      <th>평균기온</th>\n",
       "      <th>최저기온</th>\n",
       "      <th>최고기온</th>\n",
       "      <th>평균지면온도</th>\n",
       "      <th>최소상대습도(%)</th>\n",
       "      <th>평균상대습도(%)</th>\n",
       "    </tr>\n",
       "  </thead>\n",
       "  <tbody>\n",
       "    <tr>\n",
       "      <th>0</th>\n",
       "      <td>226130</td>\n",
       "      <td>520</td>\n",
       "      <td>888</td>\n",
       "      <td>13875.60</td>\n",
       "      <td>3044.80</td>\n",
       "      <td>559632</td>\n",
       "      <td>515586</td>\n",
       "      <td>98</td>\n",
       "      <td>28623</td>\n",
       "      <td>-0.3</td>\n",
       "      <td>-4.6</td>\n",
       "      <td>5.4</td>\n",
       "      <td>-2.5</td>\n",
       "      <td>16.0</td>\n",
       "      <td>29.6</td>\n",
       "    </tr>\n",
       "    <tr>\n",
       "      <th>1</th>\n",
       "      <td>226130</td>\n",
       "      <td>520</td>\n",
       "      <td>888</td>\n",
       "      <td>13213.33</td>\n",
       "      <td>2984.00</td>\n",
       "      <td>559632</td>\n",
       "      <td>515586</td>\n",
       "      <td>98</td>\n",
       "      <td>28623</td>\n",
       "      <td>1.4</td>\n",
       "      <td>-2.2</td>\n",
       "      <td>6.1</td>\n",
       "      <td>0.0</td>\n",
       "      <td>30.0</td>\n",
       "      <td>49.6</td>\n",
       "    </tr>\n",
       "    <tr>\n",
       "      <th>2</th>\n",
       "      <td>226130</td>\n",
       "      <td>520</td>\n",
       "      <td>888</td>\n",
       "      <td>12588.83</td>\n",
       "      <td>2904.00</td>\n",
       "      <td>559632</td>\n",
       "      <td>515586</td>\n",
       "      <td>98</td>\n",
       "      <td>28623</td>\n",
       "      <td>1.5</td>\n",
       "      <td>-2.2</td>\n",
       "      <td>2.7</td>\n",
       "      <td>0.1</td>\n",
       "      <td>40.0</td>\n",
       "      <td>64.9</td>\n",
       "    </tr>\n",
       "    <tr>\n",
       "      <th>3</th>\n",
       "      <td>226130</td>\n",
       "      <td>520</td>\n",
       "      <td>888</td>\n",
       "      <td>12323.83</td>\n",
       "      <td>2959.67</td>\n",
       "      <td>559632</td>\n",
       "      <td>515586</td>\n",
       "      <td>98</td>\n",
       "      <td>28623</td>\n",
       "      <td>3.8</td>\n",
       "      <td>-0.9</td>\n",
       "      <td>9.3</td>\n",
       "      <td>0.4</td>\n",
       "      <td>40.0</td>\n",
       "      <td>63.0</td>\n",
       "    </tr>\n",
       "    <tr>\n",
       "      <th>4</th>\n",
       "      <td>187340</td>\n",
       "      <td>520</td>\n",
       "      <td>888</td>\n",
       "      <td>12325.17</td>\n",
       "      <td>2862.83</td>\n",
       "      <td>559632</td>\n",
       "      <td>515586</td>\n",
       "      <td>98</td>\n",
       "      <td>18241</td>\n",
       "      <td>1.5</td>\n",
       "      <td>-1.9</td>\n",
       "      <td>4.5</td>\n",
       "      <td>0.8</td>\n",
       "      <td>22.0</td>\n",
       "      <td>48.4</td>\n",
       "    </tr>\n",
       "    <tr>\n",
       "      <th>...</th>\n",
       "      <td>...</td>\n",
       "      <td>...</td>\n",
       "      <td>...</td>\n",
       "      <td>...</td>\n",
       "      <td>...</td>\n",
       "      <td>...</td>\n",
       "      <td>...</td>\n",
       "      <td>...</td>\n",
       "      <td>...</td>\n",
       "      <td>...</td>\n",
       "      <td>...</td>\n",
       "      <td>...</td>\n",
       "      <td>...</td>\n",
       "      <td>...</td>\n",
       "      <td>...</td>\n",
       "    </tr>\n",
       "    <tr>\n",
       "      <th>293</th>\n",
       "      <td>242960</td>\n",
       "      <td>486</td>\n",
       "      <td>887</td>\n",
       "      <td>16835.00</td>\n",
       "      <td>5305.00</td>\n",
       "      <td>604860</td>\n",
       "      <td>535202</td>\n",
       "      <td>104</td>\n",
       "      <td>42590</td>\n",
       "      <td>25.1</td>\n",
       "      <td>21.3</td>\n",
       "      <td>27.9</td>\n",
       "      <td>26.2</td>\n",
       "      <td>54.0</td>\n",
       "      <td>72.4</td>\n",
       "    </tr>\n",
       "    <tr>\n",
       "      <th>294</th>\n",
       "      <td>242960</td>\n",
       "      <td>486</td>\n",
       "      <td>887</td>\n",
       "      <td>17555.00</td>\n",
       "      <td>5207.50</td>\n",
       "      <td>604860</td>\n",
       "      <td>535202</td>\n",
       "      <td>104</td>\n",
       "      <td>42590</td>\n",
       "      <td>23.2</td>\n",
       "      <td>20.9</td>\n",
       "      <td>27.2</td>\n",
       "      <td>24.5</td>\n",
       "      <td>54.0</td>\n",
       "      <td>77.4</td>\n",
       "    </tr>\n",
       "    <tr>\n",
       "      <th>295</th>\n",
       "      <td>215750</td>\n",
       "      <td>486</td>\n",
       "      <td>887</td>\n",
       "      <td>18369.00</td>\n",
       "      <td>5548.00</td>\n",
       "      <td>604860</td>\n",
       "      <td>535202</td>\n",
       "      <td>104</td>\n",
       "      <td>34151</td>\n",
       "      <td>22.4</td>\n",
       "      <td>19.6</td>\n",
       "      <td>25.9</td>\n",
       "      <td>24.4</td>\n",
       "      <td>40.0</td>\n",
       "      <td>60.1</td>\n",
       "    </tr>\n",
       "    <tr>\n",
       "      <th>296</th>\n",
       "      <td>215750</td>\n",
       "      <td>486</td>\n",
       "      <td>887</td>\n",
       "      <td>18757.00</td>\n",
       "      <td>5754.00</td>\n",
       "      <td>604860</td>\n",
       "      <td>535202</td>\n",
       "      <td>104</td>\n",
       "      <td>34151</td>\n",
       "      <td>19.4</td>\n",
       "      <td>16.0</td>\n",
       "      <td>23.3</td>\n",
       "      <td>22.1</td>\n",
       "      <td>62.0</td>\n",
       "      <td>77.3</td>\n",
       "    </tr>\n",
       "    <tr>\n",
       "      <th>297</th>\n",
       "      <td>215750</td>\n",
       "      <td>486</td>\n",
       "      <td>887</td>\n",
       "      <td>18757.00</td>\n",
       "      <td>5754.00</td>\n",
       "      <td>604860</td>\n",
       "      <td>535202</td>\n",
       "      <td>104</td>\n",
       "      <td>34151</td>\n",
       "      <td>21.1</td>\n",
       "      <td>17.2</td>\n",
       "      <td>24.8</td>\n",
       "      <td>22.4</td>\n",
       "      <td>58.0</td>\n",
       "      <td>78.5</td>\n",
       "    </tr>\n",
       "  </tbody>\n",
       "</table>\n",
       "<p>298 rows × 15 columns</p>\n",
       "</div>"
      ],
      "text/plain": [
       "     미국소_생산량(가격화한값)  번식우 아닌 소 중 1세 미만(암,수) 제외  1~2세(모든 소)  한우 평균경매 금액_주간평균  \\\n",
       "0            226130                       520         888         13875.60   \n",
       "1            226130                       520         888         13213.33   \n",
       "2            226130                       520         888         12588.83   \n",
       "3            226130                       520         888         12323.83   \n",
       "4            187340                       520         888         12325.17   \n",
       "..              ...                       ...         ...              ...   \n",
       "293          242960                       486         887         16835.00   \n",
       "294          242960                       486         887         17555.00   \n",
       "295          215750                       486         887         18369.00   \n",
       "296          215750                       486         887         18757.00   \n",
       "297          215750                       486         887         18757.00   \n",
       "\n",
       "     돼지 탕박 경매 금액_주간평균  수출 (100만달러)  수입 (100만달러)  소비자물가지수 (2010=100)  수입소고기_총량  \\\n",
       "0             3044.80       559632       515586                  98     28623   \n",
       "1             2984.00       559632       515586                  98     28623   \n",
       "2             2904.00       559632       515586                  98     28623   \n",
       "3             2959.67       559632       515586                  98     28623   \n",
       "4             2862.83       559632       515586                  98     18241   \n",
       "..                ...          ...          ...                 ...       ...   \n",
       "293           5305.00       604860       535202                 104     42590   \n",
       "294           5207.50       604860       535202                 104     42590   \n",
       "295           5548.00       604860       535202                 104     34151   \n",
       "296           5754.00       604860       535202                 104     34151   \n",
       "297           5754.00       604860       535202                 104     34151   \n",
       "\n",
       "     평균기온  최저기온  최고기온  평균지면온도  최소상대습도(%)  평균상대습도(%)  \n",
       "0    -0.3  -4.6   5.4    -2.5       16.0       29.6  \n",
       "1     1.4  -2.2   6.1     0.0       30.0       49.6  \n",
       "2     1.5  -2.2   2.7     0.1       40.0       64.9  \n",
       "3     3.8  -0.9   9.3     0.4       40.0       63.0  \n",
       "4     1.5  -1.9   4.5     0.8       22.0       48.4  \n",
       "..    ...   ...   ...     ...        ...        ...  \n",
       "293  25.1  21.3  27.9    26.2       54.0       72.4  \n",
       "294  23.2  20.9  27.2    24.5       54.0       77.4  \n",
       "295  22.4  19.6  25.9    24.4       40.0       60.1  \n",
       "296  19.4  16.0  23.3    22.1       62.0       77.3  \n",
       "297  21.1  17.2  24.8    22.4       58.0       78.5  \n",
       "\n",
       "[298 rows x 15 columns]"
      ]
     },
     "execution_count": 33,
     "metadata": {},
     "output_type": "execute_result"
    }
   ],
   "source": [
    "scaled_data"
   ]
  },
  {
   "cell_type": "code",
   "execution_count": 34,
   "metadata": {},
   "outputs": [],
   "source": [
    "scaled_data[features] = np_scaled_data "
   ]
  },
  {
   "cell_type": "code",
   "execution_count": 35,
   "metadata": {},
   "outputs": [
    {
     "name": "stdout",
     "output_type": "stream",
     "text": [
      "<class 'sklearn.model_selection._split.KFold'>\n",
      "mean_accuracy = 0.9352177912639865\n",
      "mean_accuracy = 0.8946414180468029\n",
      "mean_accuracy = 0.8972843435437371\n",
      "mean_accuracy = 0.8601980676396863\n",
      "mean_accuracy = 0.8747081710084605\n"
     ]
    }
   ],
   "source": [
    "from sklearn.model_selection import KFold\n",
    "import xgboost\n",
    "\n",
    "kf = KFold(n_splits=5,shuffle=True)\n",
    "print(type(kf))\n",
    "\n",
    "fold_idx = 1\n",
    "\n",
    "for train_idx, test_idx in kf.split(scaled_data):\n",
    "    \n",
    "    train_d, test_d = scaled_data.iloc[train_idx], scaled_data.iloc[test_idx]\n",
    "    \n",
    "    train_y = train_d['한우 평균경매 금액_주간평균']\n",
    "    train_x = train_d[features]\n",
    "    \n",
    "    test_y = test_d['한우 평균경매 금액_주간평균']\n",
    "    test_x = test_d[features]\n",
    "    \n",
    "    xgb =xgboost.XGBRegressor(n_estimators = 200, learning_rate = 0.1, max_depth = 5)\n",
    "    xgb.fit(train_x,train_y)\n",
    "    \n",
    "    mean_accuracy = xgb.score(test_x,test_y)\n",
    "    print('mean_accuracy = {}'.format(mean_accuracy))"
   ]
  },
  {
   "cell_type": "code",
   "execution_count": 36,
   "metadata": {},
   "outputs": [
    {
     "name": "stdout",
     "output_type": "stream",
     "text": [
      "<class 'sklearn.model_selection._split.KFold'>\n",
      "mean_accuracy = 0.9400130274106722\n",
      "mean_accuracy = 0.9105997219396385\n",
      "mean_accuracy = 0.8932477808743404\n",
      "mean_accuracy = 0.9521768543938797\n",
      "mean_accuracy = 0.8195355572684174\n"
     ]
    }
   ],
   "source": [
    "from sklearn.ensemble import RandomForestRegressor\n",
    "kf = KFold(n_splits=5,shuffle=True)\n",
    "print(type(kf))\n",
    "\n",
    "fold_idx = 1\n",
    "\n",
    "for train_idx, test_idx in kf.split(scaled_data):\n",
    "    \n",
    "    train_d, test_d = scaled_data.iloc[train_idx], scaled_data.iloc[test_idx]\n",
    "    \n",
    "    train_y = train_d['한우 평균경매 금액_주간평균']\n",
    "    train_x = train_d[features]\n",
    "    \n",
    "    test_y = test_d['한우 평균경매 금액_주간평균']\n",
    "    test_x = test_d[features]\n",
    "    \n",
    "    rf =RandomForestRegressor(oob_score=True,n_estimators=130, max_features='sqrt')\n",
    "    rf.fit(train_x,train_y)\n",
    "    \n",
    "    mean_accuracy = rf.score(test_x,test_y)\n",
    "    print('mean_accuracy = {}'.format(mean_accuracy))"
   ]
  },
  {
   "cell_type": "code",
   "execution_count": 37,
   "metadata": {},
   "outputs": [
    {
     "name": "stdout",
     "output_type": "stream",
     "text": [
      "Root mean squared error:  242.00444762099272\n",
      "R2 score:  0.9888123670300936\n",
      "Mean absolute error:  106.27004303495757\n",
      "accuracy:  0.9888123670300936\n"
     ]
    }
   ],
   "source": [
    "from sklearn.metrics import mean_squared_error, r2_score, mean_absolute_error\n",
    "\n",
    "xgb_pred = xgb.predict(test_x)\n",
    "mse = mean_squared_error(test_y, xgb_pred)\n",
    "r2 = r2_score(test_y, xgb_pred)\n",
    "mae = mean_absolute_error(test_y, xgb_pred)\n",
    "mean_accuracy = xgb.score(test_x,test_y)\n",
    "\n",
    "print('Root mean squared error: ', np.sqrt(mse))\n",
    "print('R2 score: ', r2)\n",
    "print('Mean absolute error: ', mae)\n",
    "print('accuracy: ', mean_accuracy)"
   ]
  },
  {
   "cell_type": "code",
   "execution_count": 38,
   "metadata": {},
   "outputs": [
    {
     "name": "stdout",
     "output_type": "stream",
     "text": [
      "Root mean squared error:  398.0499272625018\n",
      "Mean absolute error:  152.76959777065898\n",
      "accuracy:  0.9692452165789095\n"
     ]
    }
   ],
   "source": [
    "xgb_pred = xgb.predict(train_x)\n",
    "mse = mean_squared_error(train_y, xgb_pred)\n",
    "mae = mean_absolute_error(train_y, xgb_pred)\n",
    "mean_accuracy = xgb.score(train_x,train_y)\n",
    "\n",
    "print('Root mean squared error: ', np.sqrt(mse))\n",
    "print('Mean absolute error: ', mae)\n",
    "print('accuracy: ', mean_accuracy)"
   ]
  },
  {
   "cell_type": "markdown",
   "metadata": {},
   "source": [
    "* train set에 적용된 모델의 정확도는 0.984 test set에 적용된 모델의 정확도는 0.980, R2은  0.980으로 정확도와 설명력이 높음 "
   ]
  },
  {
   "cell_type": "code",
   "execution_count": 39,
   "metadata": {},
   "outputs": [
    {
     "name": "stdout",
     "output_type": "stream",
     "text": [
      "Root mean squared error:  971.9637432949612\n",
      "R2 score:  0.8195355572684174\n",
      "Mean absolute error:  577.37436375489\n",
      "accuracy:  0.8195355572684174\n"
     ]
    }
   ],
   "source": [
    "rf_pred = rf.predict(test_x)\n",
    "mse = mean_squared_error(test_y, rf_pred)\n",
    "r2 = r2_score(test_y, rf_pred)\n",
    "mae = mean_absolute_error(test_y, rf_pred)\n",
    "mean_accuracy = rf.score(test_x,test_y)\n",
    "\n",
    "print('Root mean squared error: ', np.sqrt(mse))\n",
    "print('R2 score: ', r2)\n",
    "print('Mean absolute error: ', mae)\n",
    "print('accuracy: ', mean_accuracy)"
   ]
  },
  {
   "cell_type": "markdown",
   "metadata": {},
   "source": [
    "* 정확도, r2 socre, mse,m mae를 비교하였을 때 xgboostm의 성능이 더 좋음"
   ]
  },
  {
   "cell_type": "markdown",
   "metadata": {},
   "source": [
    "## 중요변수 도출 "
   ]
  },
  {
   "cell_type": "code",
   "execution_count": 40,
   "metadata": {},
   "outputs": [
    {
     "data": {
      "image/png": "[encoded data removed]",
      "text/plain": [
       "<Figure size 432x288 with 1 Axes>"
      ]
     },
     "metadata": {
      "needs_background": "light"
     },
     "output_type": "display_data"
    }
   ],
   "source": [
    "xgboost.plot_importance(xgb)\n",
    "plt.title(\"xgboost.plot_importance(model)\")\n",
    "plt.show()"
   ]
  },
  {
   "cell_type": "code",
   "execution_count": 41,
   "metadata": {},
   "outputs": [],
   "source": [
    "# xgboost.plot_importance(xgb, importance_type=\"cover\")\n",
    "# plt.title('xgboost.plot_importance(model, importance_type=\"cover\")')\n",
    "# plt.show()\n",
    "\n",
    "# xgboost.plot_importance(xgb, importance_type=\"gain\")\n",
    "# plt.title('xgboost.plot_importance(model, importance_type=\"gain\")')\n",
    "# plt.show()"
   ]
  },
  {
   "cell_type": "code",
   "execution_count": 42,
   "metadata": {},
   "outputs": [],
   "source": [
    "features.remove('돼지 탕박 경매 금액_주간평균')"
   ]
  },
  {
   "cell_type": "code",
   "execution_count": 43,
   "metadata": {},
   "outputs": [
    {
     "name": "stdout",
     "output_type": "stream",
     "text": [
      "<class 'sklearn.model_selection._split.KFold'>\n",
      "mean_accuracy = 0.8401139779160498\n",
      "mean_accuracy = 0.8995087753898255\n",
      "mean_accuracy = 0.8263113908782695\n",
      "mean_accuracy = 0.8908819195954916\n",
      "mean_accuracy = 0.9174316874693657\n"
     ]
    }
   ],
   "source": [
    "from sklearn.model_selection import KFold\n",
    "import xgboost\n",
    "\n",
    "kf = KFold(n_splits=5,shuffle=True)\n",
    "print(type(kf))\n",
    "\n",
    "fold_idx = 1\n",
    "\n",
    "for train_idx, test_idx in kf.split(scaled_data):\n",
    "    \n",
    "    train_d, test_d = scaled_data.iloc[train_idx], scaled_data.iloc[test_idx]\n",
    "    \n",
    "    train_y = train_d['한우 평균경매 금액_주간평균']\n",
    "    train_x = train_d[features]\n",
    "    \n",
    "    test_y = test_d['한우 평균경매 금액_주간평균']\n",
    "    test_x = test_d[features]\n",
    "    \n",
    "    xgb =xgboost.XGBRegressor(n_estimators = 200, learning_rate = 0.1, max_depth = 5)\n",
    "    xgb.fit(train_x,train_y)\n",
    "    \n",
    "    mean_accuracy = xgb.score(test_x,test_y)\n",
    "    print('mean_accuracy = {}'.format(mean_accuracy))"
   ]
  },
  {
   "cell_type": "code",
   "execution_count": 44,
   "metadata": {},
   "outputs": [
    {
     "name": "stdout",
     "output_type": "stream",
     "text": [
      "Root mean squared error:  656.2910548883647\n",
      "R2 score:  0.9174316874693657\n",
      "Mean absolute error:  471.95762976694914\n",
      "accuracy:  0.9174316874693657\n"
     ]
    }
   ],
   "source": [
    "from sklearn.metrics import mean_squared_error, r2_score, mean_absolute_error\n",
    "\n",
    "xgb_pred = xgb.predict(test_x)\n",
    "mse = mean_squared_error(test_y, xgb_pred)\n",
    "r2 = r2_score(test_y, xgb_pred)\n",
    "mae = mean_absolute_error(test_y, xgb_pred)\n",
    "mean_accuracy = xgb.score(test_x,test_y)\n",
    "\n",
    "print('Root mean squared error: ', np.sqrt(mse))\n",
    "print('R2 score: ', r2)\n",
    "print('Mean absolute error: ', mae)\n",
    "print('accuracy: ', mean_accuracy)"
   ]
  },
  {
   "cell_type": "code",
   "execution_count": 45,
   "metadata": {},
   "outputs": [
    {
     "name": "stdout",
     "output_type": "stream",
     "text": [
      "Root mean squared error:  85.8889139246746\n",
      "R2 score:  0.9985693567022491\n",
      "Mean absolute error:  59.691229896705\n",
      "accuracy:  0.9985693567022491\n"
     ]
    }
   ],
   "source": [
    "xgb_pred = xgb.predict(train_x)\n",
    "mse = mean_squared_error(train_y, xgb_pred)\n",
    "r2 = r2_score(train_y, xgb_pred)\n",
    "mae = mean_absolute_error(train_y, xgb_pred)\n",
    "mean_accuracy = xgb.score(train_x,train_y)\n",
    "\n",
    "print('Root mean squared error: ', np.sqrt(mse))\n",
    "print('R2 score: ', r2)\n",
    "print('Mean absolute error: ', mae)\n",
    "print('accuracy: ', mean_accuracy)"
   ]
  },
  {
   "cell_type": "markdown",
   "metadata": {},
   "source": [
    "* 돼지탕박경매금액을 빼고한 것 성능이 낮진 않으나 오버피팅되고 있음. 튜닝필요"
   ]
  },
  {
   "cell_type": "code",
   "execution_count": 46,
   "metadata": {},
   "outputs": [
    {
     "data": {
      "image/png": "[encoded data removed]",
      "text/plain": [
       "<Figure size 432x288 with 1 Axes>"
      ]
     },
     "metadata": {
      "needs_background": "light"
     },
     "output_type": "display_data"
    }
   ],
   "source": [
    "xgboost.plot_importance(xgb)\n",
    "plt.title(\"xgboost.plot_importance(model)\")\n",
    "plt.show()"
   ]
  },
  {
   "cell_type": "code",
   "execution_count": 47,
   "metadata": {},
   "outputs": [],
   "source": [
    "# xgboost.plot_importance(xgb, importance_type=\"cover\")\n",
    "# plt.title('xgboost.plot_importance(model, importance_type=\"cover\")')\n",
    "# plt.show()"
   ]
  }
 ],
 "metadata": {
  "kernelspec": {
   "display_name": "Python 3",
   "language": "python",
   "name": "python3"
  },
  "language_info": {
   "codemirror_mode": {
    "name": "ipython",
    "version": 3
   },
   "file_extension": ".py",
   "mimetype": "text/x-python",
   "name": "python",
   "nbconvert_exporter": "python",
   "pygments_lexer": "ipython3",
   "version": "3.7.3"
  },
  "toc": {
   "base_numbering": 1,
   "nav_menu": {},
   "number_sections": true,
   "sideBar": true,
   "skip_h1_title": false,
   "title_cell": "Table of Contents",
   "title_sidebar": "Contents",
   "toc_cell": false,
   "toc_position": {},
   "toc_section_display": true,
   "toc_window_display": false
  },
  "varInspector": {
   "cols": {
    "lenName": 16,
    "lenType": 16,
    "lenVar": 40
   },
   "kernels_config": {
    "python": {
     "delete_cmd_postfix": "",
     "delete_cmd_prefix": "del ",
     "library": "var_list.py",
     "varRefreshCmd": "print(var_dic_list())"
    },
    "r": {
     "delete_cmd_postfix": ") ",
     "delete_cmd_prefix": "rm(",
     "library": "var_list.r",
     "varRefreshCmd": "cat(var_dic_list()) "
    }
   },
   "types_to_exclude": [
    "module",
    "function",
    "builtin_function_or_method",
    "instance",
    "_Feature"
   ],
   "window_display": false
  }
 },
 "nbformat": 4,
 "nbformat_minor": 4
}
